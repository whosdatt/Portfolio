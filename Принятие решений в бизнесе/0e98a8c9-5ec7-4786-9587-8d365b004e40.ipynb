{
 "cells": [
  {
   "cell_type": "markdown",
   "metadata": {},
   "source": [
    "<div class=\"alert alert-success\">\n",
    "<b>Комментарий ревьюера v 2.0 ✔️:</b> Отлично, Резеда! Ты здорово поработала над комментариями и теперь твой проект принят.\n",
    "    \n",
    "Спасибо за работу и успехов в следующих проектах!)"
   ]
  },
  {
   "cell_type": "markdown",
   "metadata": {},
   "source": [
    "<div style=\"border:solid green 2px; padding: 20px\">\n",
    "<b>Резеда, привет!</b>\n",
    "\n",
    "Меня зовут Михаленко Дмитрий, и я буду проверять твой проект. Предлагаю общаться на «ты» :) Но если это не удобно - дай знать, и мы перейдем на \"вы\". \n",
    "\n",
    "Моя основная цель — не указать на совершенные тобою ошибки, а поделиться своим опытом и помочь тебе стать аналитиком данных. Ты уже проделала большую работу над проектом, но давай сделаем его еще лучше. Ниже ты найдешь мои комментарии - **пожалуйста, не перемещай, не изменяй и не удаляй их**. Увидев у тебя ошибку, в первый раз я лишь укажу на ее наличие и дам тебе возможность самой найти и исправить ее. На реальной работе твой начальник будет поступать так же, а я пытаюсь подготовить тебя именно к работе аналитиком. Но если ты пока не справишься с такой задачей - при следующей проверке я дам более точную подсказку. Я буду использовать цветовую разметку:\n",
    "\n",
    "<div class=\"alert alert-danger\">\n",
    "<b>Комментарий ревьюера ❌:</b> Так выделены самые важные замечания. Без их отработки проект не будет принят. </div>\n",
    "\n",
    "<div class=\"alert alert-warning\">\n",
    "<b>Комментарий ревьюера ⚠️:</b> Так выделены небольшие замечания. Я надеюсь, что их ты тоже учтешь - твой проект от этого станет только лучше. Но настаивать на их отработке не буду.\n",
    "\n",
    "</div>\n",
    "\n",
    "<div class=\"alert alert-success\">\n",
    "<b>Комментарий ревьюера ✔️:</b> Так я выделяю все остальные комментарии.</div>\n",
    "\n",
    "Давай работать над проектом в диалоге: **если ты что-то меняешь в проекте или отвечаешь на мои комментарии — пиши об этом.** Мне будет легче отследить изменения, если ты выделишь свои комментарии:\n",
    "<div class=\"alert alert-info\"> <b>Комментарий студента:</b> Например, вот так.</div>\n",
    "\n",
    "Всё это поможет выполнить повторную проверку твоего проекта оперативнее. "
   ]
  },
  {
   "cell_type": "markdown",
   "metadata": {},
   "source": [
    "# Принятие решений в бизнесе"
   ]
  },
  {
   "cell_type": "markdown",
   "metadata": {},
   "source": [
    "**Объект исследования** -  крупный интернет-магазин\n",
    "\n",
    "**Цель исследования** - приоритизировать гипотезы, запустить A/B-тест и проанализировать результаты.\n",
    "\n",
    "План исследования:\n",
    "- Загрузка данных\n",
    "- Предобработка данных:\n",
    "    - проверка на пропуски\n",
    "    - проверка на дубликаты\n",
    "    - проверка на нужный тип данных\n",
    "- Приотиризация гипотез\n",
    "    - применим метод ICE\n",
    "    - применим метод RICE\n",
    "- А/В тест\n",
    "    - построим график кумулятивной выручки по группам\n",
    "    - построим график кумулятивного среднего чека по группам\n",
    "    - визулизируем отношение чеков группы А к группе В\n",
    "    - построим график кумулятивного среднего количества заказов на посетителя по группам\n",
    "    - построим график относительного изменения кумулятивного среднего количества заказов на посетителя группы B к группе A\n",
    "    - точечный график количества заказов на пользователя\n",
    "    - Точечный график количества заказов \n",
    "    - найдем границы для определения аномальных заказов\n",
    "    - вычислим 95-й и 99-й прецентели\n",
    "    - найдем статистическую значимость\n",
    "    - проведем проверку гипотез\n",
    "- Общий вывод"
   ]
  },
  {
   "cell_type": "markdown",
   "metadata": {},
   "source": [
    "<div class=\"alert alert-success\">\n",
    "<b>Комментарий ревьюера ✔️:</b> Коротко обозначила основную цель и план проекта </div>"
   ]
  },
  {
   "cell_type": "markdown",
   "metadata": {},
   "source": [
    "**ЗАГРУЗКА ДАННЫХ**"
   ]
  },
  {
   "cell_type": "code",
   "execution_count": 1,
   "metadata": {},
   "outputs": [],
   "source": [
    "import pandas as pd\n",
    "import datetime as dt\n",
    "import numpy as np\n",
    "import matplotlib.pyplot as plt\n",
    "import seaborn as sns\n",
    "import scipy.stats as stats\n",
    "from pandas.plotting import register_matplotlib_converters\n",
    "import warnings"
   ]
  },
  {
   "cell_type": "code",
   "execution_count": 2,
   "metadata": {},
   "outputs": [],
   "source": [
    "data = pd.read_csv('/datasets/hypothesis.csv', sep=',')\n",
    "orders = pd.read_csv('/datasets/orders.csv', sep=',')\n",
    "visitors = pd.read_csv('/datasets/visitors.csv', sep=',')"
   ]
  },
  {
   "cell_type": "code",
   "execution_count": 3,
   "metadata": {},
   "outputs": [
    {
     "data": {
      "text/html": [
       "<div>\n",
       "<style scoped>\n",
       "    .dataframe tbody tr th:only-of-type {\n",
       "        vertical-align: middle;\n",
       "    }\n",
       "\n",
       "    .dataframe tbody tr th {\n",
       "        vertical-align: top;\n",
       "    }\n",
       "\n",
       "    .dataframe thead th {\n",
       "        text-align: right;\n",
       "    }\n",
       "</style>\n",
       "<table border=\"1\" class=\"dataframe\">\n",
       "  <thead>\n",
       "    <tr style=\"text-align: right;\">\n",
       "      <th></th>\n",
       "      <th>Hypothesis</th>\n",
       "      <th>Reach</th>\n",
       "      <th>Impact</th>\n",
       "      <th>Confidence</th>\n",
       "      <th>Efforts</th>\n",
       "    </tr>\n",
       "  </thead>\n",
       "  <tbody>\n",
       "    <tr>\n",
       "      <th>0</th>\n",
       "      <td>Добавить два новых канала привлечения трафика,...</td>\n",
       "      <td>3</td>\n",
       "      <td>10</td>\n",
       "      <td>8</td>\n",
       "      <td>6</td>\n",
       "    </tr>\n",
       "    <tr>\n",
       "      <th>1</th>\n",
       "      <td>Запустить собственную службу доставки, что сок...</td>\n",
       "      <td>2</td>\n",
       "      <td>5</td>\n",
       "      <td>4</td>\n",
       "      <td>10</td>\n",
       "    </tr>\n",
       "    <tr>\n",
       "      <th>2</th>\n",
       "      <td>Добавить блоки рекомендаций товаров на сайт ин...</td>\n",
       "      <td>8</td>\n",
       "      <td>3</td>\n",
       "      <td>7</td>\n",
       "      <td>3</td>\n",
       "    </tr>\n",
       "    <tr>\n",
       "      <th>3</th>\n",
       "      <td>Изменить структура категорий, что увеличит кон...</td>\n",
       "      <td>8</td>\n",
       "      <td>3</td>\n",
       "      <td>3</td>\n",
       "      <td>8</td>\n",
       "    </tr>\n",
       "    <tr>\n",
       "      <th>4</th>\n",
       "      <td>Изменить цвет фона главной страницы, чтобы уве...</td>\n",
       "      <td>3</td>\n",
       "      <td>1</td>\n",
       "      <td>1</td>\n",
       "      <td>1</td>\n",
       "    </tr>\n",
       "    <tr>\n",
       "      <th>5</th>\n",
       "      <td>Добавить страницу отзывов клиентов о магазине,...</td>\n",
       "      <td>3</td>\n",
       "      <td>2</td>\n",
       "      <td>2</td>\n",
       "      <td>3</td>\n",
       "    </tr>\n",
       "    <tr>\n",
       "      <th>6</th>\n",
       "      <td>Показать на главной странице баннеры с актуаль...</td>\n",
       "      <td>5</td>\n",
       "      <td>3</td>\n",
       "      <td>8</td>\n",
       "      <td>3</td>\n",
       "    </tr>\n",
       "    <tr>\n",
       "      <th>7</th>\n",
       "      <td>Добавить форму подписки на все основные страни...</td>\n",
       "      <td>10</td>\n",
       "      <td>7</td>\n",
       "      <td>8</td>\n",
       "      <td>5</td>\n",
       "    </tr>\n",
       "    <tr>\n",
       "      <th>8</th>\n",
       "      <td>Запустить акцию, дающую скидку на товар в день...</td>\n",
       "      <td>1</td>\n",
       "      <td>9</td>\n",
       "      <td>9</td>\n",
       "      <td>5</td>\n",
       "    </tr>\n",
       "  </tbody>\n",
       "</table>\n",
       "</div>"
      ],
      "text/plain": [
       "                                          Hypothesis  Reach  Impact  \\\n",
       "0  Добавить два новых канала привлечения трафика,...      3      10   \n",
       "1  Запустить собственную службу доставки, что сок...      2       5   \n",
       "2  Добавить блоки рекомендаций товаров на сайт ин...      8       3   \n",
       "3  Изменить структура категорий, что увеличит кон...      8       3   \n",
       "4  Изменить цвет фона главной страницы, чтобы уве...      3       1   \n",
       "5  Добавить страницу отзывов клиентов о магазине,...      3       2   \n",
       "6  Показать на главной странице баннеры с актуаль...      5       3   \n",
       "7  Добавить форму подписки на все основные страни...     10       7   \n",
       "8  Запустить акцию, дающую скидку на товар в день...      1       9   \n",
       "\n",
       "   Confidence  Efforts  \n",
       "0           8        6  \n",
       "1           4       10  \n",
       "2           7        3  \n",
       "3           3        8  \n",
       "4           1        1  \n",
       "5           2        3  \n",
       "6           8        3  \n",
       "7           8        5  \n",
       "8           9        5  "
      ]
     },
     "metadata": {},
     "output_type": "display_data"
    },
    {
     "data": {
      "text/html": [
       "<div>\n",
       "<style scoped>\n",
       "    .dataframe tbody tr th:only-of-type {\n",
       "        vertical-align: middle;\n",
       "    }\n",
       "\n",
       "    .dataframe tbody tr th {\n",
       "        vertical-align: top;\n",
       "    }\n",
       "\n",
       "    .dataframe thead th {\n",
       "        text-align: right;\n",
       "    }\n",
       "</style>\n",
       "<table border=\"1\" class=\"dataframe\">\n",
       "  <thead>\n",
       "    <tr style=\"text-align: right;\">\n",
       "      <th></th>\n",
       "      <th>transactionId</th>\n",
       "      <th>visitorId</th>\n",
       "      <th>date</th>\n",
       "      <th>revenue</th>\n",
       "      <th>group</th>\n",
       "    </tr>\n",
       "  </thead>\n",
       "  <tbody>\n",
       "    <tr>\n",
       "      <th>0</th>\n",
       "      <td>3667963787</td>\n",
       "      <td>3312258926</td>\n",
       "      <td>2019-08-15</td>\n",
       "      <td>1650</td>\n",
       "      <td>B</td>\n",
       "    </tr>\n",
       "    <tr>\n",
       "      <th>1</th>\n",
       "      <td>2804400009</td>\n",
       "      <td>3642806036</td>\n",
       "      <td>2019-08-15</td>\n",
       "      <td>730</td>\n",
       "      <td>B</td>\n",
       "    </tr>\n",
       "    <tr>\n",
       "      <th>2</th>\n",
       "      <td>2961555356</td>\n",
       "      <td>4069496402</td>\n",
       "      <td>2019-08-15</td>\n",
       "      <td>400</td>\n",
       "      <td>A</td>\n",
       "    </tr>\n",
       "    <tr>\n",
       "      <th>3</th>\n",
       "      <td>3797467345</td>\n",
       "      <td>1196621759</td>\n",
       "      <td>2019-08-15</td>\n",
       "      <td>9759</td>\n",
       "      <td>B</td>\n",
       "    </tr>\n",
       "    <tr>\n",
       "      <th>4</th>\n",
       "      <td>2282983706</td>\n",
       "      <td>2322279887</td>\n",
       "      <td>2019-08-15</td>\n",
       "      <td>2308</td>\n",
       "      <td>B</td>\n",
       "    </tr>\n",
       "    <tr>\n",
       "      <th>5</th>\n",
       "      <td>182168103</td>\n",
       "      <td>935554773</td>\n",
       "      <td>2019-08-15</td>\n",
       "      <td>2210</td>\n",
       "      <td>B</td>\n",
       "    </tr>\n",
       "    <tr>\n",
       "      <th>6</th>\n",
       "      <td>398296753</td>\n",
       "      <td>2900797465</td>\n",
       "      <td>2019-08-15</td>\n",
       "      <td>1860</td>\n",
       "      <td>B</td>\n",
       "    </tr>\n",
       "    <tr>\n",
       "      <th>7</th>\n",
       "      <td>2626614568</td>\n",
       "      <td>78758296</td>\n",
       "      <td>2019-08-15</td>\n",
       "      <td>1044</td>\n",
       "      <td>A</td>\n",
       "    </tr>\n",
       "    <tr>\n",
       "      <th>8</th>\n",
       "      <td>1576988021</td>\n",
       "      <td>295230930</td>\n",
       "      <td>2019-08-15</td>\n",
       "      <td>13710</td>\n",
       "      <td>A</td>\n",
       "    </tr>\n",
       "    <tr>\n",
       "      <th>9</th>\n",
       "      <td>1506739906</td>\n",
       "      <td>1882260405</td>\n",
       "      <td>2019-08-15</td>\n",
       "      <td>1855</td>\n",
       "      <td>B</td>\n",
       "    </tr>\n",
       "  </tbody>\n",
       "</table>\n",
       "</div>"
      ],
      "text/plain": [
       "   transactionId   visitorId        date  revenue group\n",
       "0     3667963787  3312258926  2019-08-15     1650     B\n",
       "1     2804400009  3642806036  2019-08-15      730     B\n",
       "2     2961555356  4069496402  2019-08-15      400     A\n",
       "3     3797467345  1196621759  2019-08-15     9759     B\n",
       "4     2282983706  2322279887  2019-08-15     2308     B\n",
       "5      182168103   935554773  2019-08-15     2210     B\n",
       "6      398296753  2900797465  2019-08-15     1860     B\n",
       "7     2626614568    78758296  2019-08-15     1044     A\n",
       "8     1576988021   295230930  2019-08-15    13710     A\n",
       "9     1506739906  1882260405  2019-08-15     1855     B"
      ]
     },
     "metadata": {},
     "output_type": "display_data"
    },
    {
     "data": {
      "text/html": [
       "<div>\n",
       "<style scoped>\n",
       "    .dataframe tbody tr th:only-of-type {\n",
       "        vertical-align: middle;\n",
       "    }\n",
       "\n",
       "    .dataframe tbody tr th {\n",
       "        vertical-align: top;\n",
       "    }\n",
       "\n",
       "    .dataframe thead th {\n",
       "        text-align: right;\n",
       "    }\n",
       "</style>\n",
       "<table border=\"1\" class=\"dataframe\">\n",
       "  <thead>\n",
       "    <tr style=\"text-align: right;\">\n",
       "      <th></th>\n",
       "      <th>date</th>\n",
       "      <th>group</th>\n",
       "      <th>visitors</th>\n",
       "    </tr>\n",
       "  </thead>\n",
       "  <tbody>\n",
       "    <tr>\n",
       "      <th>0</th>\n",
       "      <td>2019-08-01</td>\n",
       "      <td>A</td>\n",
       "      <td>719</td>\n",
       "    </tr>\n",
       "    <tr>\n",
       "      <th>1</th>\n",
       "      <td>2019-08-02</td>\n",
       "      <td>A</td>\n",
       "      <td>619</td>\n",
       "    </tr>\n",
       "    <tr>\n",
       "      <th>2</th>\n",
       "      <td>2019-08-03</td>\n",
       "      <td>A</td>\n",
       "      <td>507</td>\n",
       "    </tr>\n",
       "    <tr>\n",
       "      <th>3</th>\n",
       "      <td>2019-08-04</td>\n",
       "      <td>A</td>\n",
       "      <td>717</td>\n",
       "    </tr>\n",
       "    <tr>\n",
       "      <th>4</th>\n",
       "      <td>2019-08-05</td>\n",
       "      <td>A</td>\n",
       "      <td>756</td>\n",
       "    </tr>\n",
       "    <tr>\n",
       "      <th>5</th>\n",
       "      <td>2019-08-06</td>\n",
       "      <td>A</td>\n",
       "      <td>667</td>\n",
       "    </tr>\n",
       "    <tr>\n",
       "      <th>6</th>\n",
       "      <td>2019-08-07</td>\n",
       "      <td>A</td>\n",
       "      <td>644</td>\n",
       "    </tr>\n",
       "    <tr>\n",
       "      <th>7</th>\n",
       "      <td>2019-08-08</td>\n",
       "      <td>A</td>\n",
       "      <td>610</td>\n",
       "    </tr>\n",
       "    <tr>\n",
       "      <th>8</th>\n",
       "      <td>2019-08-09</td>\n",
       "      <td>A</td>\n",
       "      <td>617</td>\n",
       "    </tr>\n",
       "    <tr>\n",
       "      <th>9</th>\n",
       "      <td>2019-08-10</td>\n",
       "      <td>A</td>\n",
       "      <td>406</td>\n",
       "    </tr>\n",
       "  </tbody>\n",
       "</table>\n",
       "</div>"
      ],
      "text/plain": [
       "         date group  visitors\n",
       "0  2019-08-01     A       719\n",
       "1  2019-08-02     A       619\n",
       "2  2019-08-03     A       507\n",
       "3  2019-08-04     A       717\n",
       "4  2019-08-05     A       756\n",
       "5  2019-08-06     A       667\n",
       "6  2019-08-07     A       644\n",
       "7  2019-08-08     A       610\n",
       "8  2019-08-09     A       617\n",
       "9  2019-08-10     A       406"
      ]
     },
     "metadata": {},
     "output_type": "display_data"
    }
   ],
   "source": [
    "display(data.head(10))\n",
    "display(orders.head(10))\n",
    "display(visitors.head(10))"
   ]
  },
  {
   "cell_type": "markdown",
   "metadata": {},
   "source": [
    "    По выведенным таблицам сразу можем заметить, что нименования столбцоы некорректные. Далее приведем их к нижнему регистру и добавим нижнее подчеркивание в столбцах с id."
   ]
  },
  {
   "cell_type": "code",
   "execution_count": 4,
   "metadata": {},
   "outputs": [],
   "source": [
    "#приводим наименования столбцов к нижнему регистру\n",
    "data.columns = data.columns.str.lower()"
   ]
  },
  {
   "cell_type": "code",
   "execution_count": 5,
   "metadata": {
    "scrolled": true
   },
   "outputs": [
    {
     "data": {
      "text/plain": [
       "['hypothesis', 'reach', 'impact', 'confidence', 'efforts']"
      ]
     },
     "execution_count": 5,
     "metadata": {},
     "output_type": "execute_result"
    }
   ],
   "source": [
    "list(data)"
   ]
  },
  {
   "cell_type": "code",
   "execution_count": 6,
   "metadata": {},
   "outputs": [],
   "source": [
    "#переименовываем столбцы в таблице orders\n",
    "orders.rename(columns = {'transactionId':'transaction_id', 'visitorId':'visitor_id'}, inplace = True )"
   ]
  },
  {
   "cell_type": "markdown",
   "metadata": {},
   "source": [
    "<div class=\"alert alert-success\">\n",
    "<b>Комментарий ревьюера ✔️:</b> Не забываем про змеиный стиль </div>"
   ]
  },
  {
   "cell_type": "code",
   "execution_count": 7,
   "metadata": {},
   "outputs": [
    {
     "data": {
      "text/plain": [
       "['transaction_id', 'visitor_id', 'date', 'revenue', 'group']"
      ]
     },
     "execution_count": 7,
     "metadata": {},
     "output_type": "execute_result"
    }
   ],
   "source": [
    "list(orders)"
   ]
  },
  {
   "cell_type": "code",
   "execution_count": 8,
   "metadata": {},
   "outputs": [
    {
     "name": "stdout",
     "output_type": "stream",
     "text": [
      "<class 'pandas.core.frame.DataFrame'>\n",
      "RangeIndex: 9 entries, 0 to 8\n",
      "Data columns (total 5 columns):\n",
      " #   Column      Non-Null Count  Dtype \n",
      "---  ------      --------------  ----- \n",
      " 0   hypothesis  9 non-null      object\n",
      " 1   reach       9 non-null      int64 \n",
      " 2   impact      9 non-null      int64 \n",
      " 3   confidence  9 non-null      int64 \n",
      " 4   efforts     9 non-null      int64 \n",
      "dtypes: int64(4), object(1)\n",
      "memory usage: 488.0+ bytes\n"
     ]
    }
   ],
   "source": [
    "data.info()"
   ]
  },
  {
   "cell_type": "code",
   "execution_count": 9,
   "metadata": {},
   "outputs": [
    {
     "name": "stdout",
     "output_type": "stream",
     "text": [
      "<class 'pandas.core.frame.DataFrame'>\n",
      "RangeIndex: 1197 entries, 0 to 1196\n",
      "Data columns (total 5 columns):\n",
      " #   Column          Non-Null Count  Dtype \n",
      "---  ------          --------------  ----- \n",
      " 0   transaction_id  1197 non-null   int64 \n",
      " 1   visitor_id      1197 non-null   int64 \n",
      " 2   date            1197 non-null   object\n",
      " 3   revenue         1197 non-null   int64 \n",
      " 4   group           1197 non-null   object\n",
      "dtypes: int64(3), object(2)\n",
      "memory usage: 46.9+ KB\n"
     ]
    }
   ],
   "source": [
    "orders.info()"
   ]
  },
  {
   "cell_type": "code",
   "execution_count": 10,
   "metadata": {},
   "outputs": [
    {
     "name": "stdout",
     "output_type": "stream",
     "text": [
      "<class 'pandas.core.frame.DataFrame'>\n",
      "RangeIndex: 62 entries, 0 to 61\n",
      "Data columns (total 3 columns):\n",
      " #   Column    Non-Null Count  Dtype \n",
      "---  ------    --------------  ----- \n",
      " 0   date      62 non-null     object\n",
      " 1   group     62 non-null     object\n",
      " 2   visitors  62 non-null     int64 \n",
      "dtypes: int64(1), object(2)\n",
      "memory usage: 1.6+ KB\n"
     ]
    }
   ],
   "source": [
    "visitors.info()"
   ]
  },
  {
   "cell_type": "markdown",
   "metadata": {},
   "source": [
    "    Столбцы с датами приведем к типу datetime, остальные столбцы имеют подходящий тип данных"
   ]
  },
  {
   "cell_type": "code",
   "execution_count": 11,
   "metadata": {},
   "outputs": [],
   "source": [
    "#приводим столбцы к типу datetime\n",
    "orders['date'] = pd.to_datetime(orders['date'])\n",
    "visitors['date'] = pd.to_datetime(visitors['date'])"
   ]
  },
  {
   "cell_type": "markdown",
   "metadata": {},
   "source": [
    "<div class=\"alert alert-success\">\n",
    "<b>Комментарий ревьюера ✔️:</b> И приводим даты к подходящему формату данных </div>"
   ]
  },
  {
   "cell_type": "code",
   "execution_count": 12,
   "metadata": {},
   "outputs": [
    {
     "data": {
      "text/plain": [
       "hypothesis    0\n",
       "reach         0\n",
       "impact        0\n",
       "confidence    0\n",
       "efforts       0\n",
       "dtype: int64"
      ]
     },
     "metadata": {},
     "output_type": "display_data"
    },
    {
     "data": {
      "text/plain": [
       "transaction_id    0\n",
       "visitor_id        0\n",
       "date              0\n",
       "revenue           0\n",
       "group             0\n",
       "dtype: int64"
      ]
     },
     "metadata": {},
     "output_type": "display_data"
    },
    {
     "data": {
      "text/plain": [
       "date        0\n",
       "group       0\n",
       "visitors    0\n",
       "dtype: int64"
      ]
     },
     "metadata": {},
     "output_type": "display_data"
    }
   ],
   "source": [
    "display(data.isna().sum())\n",
    "display(orders.isna().sum())\n",
    "display(visitors.isna().sum())"
   ]
  },
  {
   "cell_type": "code",
   "execution_count": 13,
   "metadata": {},
   "outputs": [
    {
     "data": {
      "text/plain": [
       "0"
      ]
     },
     "metadata": {},
     "output_type": "display_data"
    },
    {
     "data": {
      "text/plain": [
       "0"
      ]
     },
     "metadata": {},
     "output_type": "display_data"
    },
    {
     "data": {
      "text/plain": [
       "0"
      ]
     },
     "metadata": {},
     "output_type": "display_data"
    }
   ],
   "source": [
    "display(data.duplicated().sum())\n",
    "display(orders.duplicated().sum())\n",
    "display(visitors.duplicated().sum())"
   ]
  },
  {
   "cell_type": "markdown",
   "metadata": {},
   "source": [
    "<div class=\"alert alert-success\">\n",
    "<b>Комментарий ревьюера ✔️:</b> Пропуски и дубликаты также проверены </div>"
   ]
  },
  {
   "cell_type": "markdown",
   "metadata": {},
   "source": [
    "    Проверили данные на пропуски, дубликаты и типы данных. Пропуски и дубликаты отсутствуют, поэтому ничего менять не нужно. В таблицах с постетителями и заказами привели столбце с датой к типу datetime. Наименование столбцов привели к нижнему    регистру, в таблице с заказами переимновали столбцы."
   ]
  },
  {
   "cell_type": "markdown",
   "metadata": {},
   "source": [
    "**ПРИОРИТИЗАЦИЯ ГИПОТЕЗ**"
   ]
  },
  {
   "cell_type": "markdown",
   "metadata": {},
   "source": [
    "<div class=\"alert alert-warning\">\n",
    "<b>Комментарий ревьюера ⚠️:</b> Здесь хорошо было бы отобразить названия гипотез целиком, например так: pd.options.display.max_colwidth = 100"
   ]
  },
  {
   "cell_type": "markdown",
   "metadata": {},
   "source": [
    "<div class=\"alert alert-success\">\n",
    "<b>Комментарий ревьюера v 2.0 ✔️:</b> Отлично!"
   ]
  },
  {
   "cell_type": "code",
   "execution_count": 14,
   "metadata": {},
   "outputs": [],
   "source": [
    "pd.options.display.max_colwidth = 100"
   ]
  },
  {
   "cell_type": "code",
   "execution_count": 15,
   "metadata": {},
   "outputs": [
    {
     "name": "stdout",
     "output_type": "stream",
     "text": [
      "                                                                                            hypothesis  \\\n",
      "8                                              Запустить акцию, дающую скидку на товар в день рождения   \n",
      "0   Добавить два новых канала привлечения трафика, что позволит привлекать на 30% больше пользователей   \n",
      "7     Добавить форму подписки на все основные страницы, чтобы собрать базу клиентов для email-рассылок   \n",
      "6  Показать на главной странице баннеры с актуальными акциями и распродажами, чтобы увеличить конве...   \n",
      "2  Добавить блоки рекомендаций товаров на сайт интернет магазина, чтобы повысить конверсию и средни...   \n",
      "1                            Запустить собственную службу доставки, что сократит срок доставки заказов   \n",
      "5             Добавить страницу отзывов клиентов о магазине, что позволит увеличить количество заказов   \n",
      "3  Изменить структура категорий, что увеличит конверсию, т.к. пользователи быстрее найдут нужный товар   \n",
      "4                     Изменить цвет фона главной страницы, чтобы увеличить вовлеченность пользователей   \n",
      "\n",
      "         ICE  \n",
      "8  16.200000  \n",
      "0  13.333333  \n",
      "7  11.200000  \n",
      "6   8.000000  \n",
      "2   7.000000  \n",
      "1   2.000000  \n",
      "5   1.333333  \n",
      "3   1.125000  \n",
      "4   1.000000  \n"
     ]
    }
   ],
   "source": [
    "#метод ICE\n",
    "data['ICE'] = data['impact'] * data['confidence'] / data['efforts']\n",
    "print(data[['hypothesis', 'ICE']].sort_values(by='ICE', ascending=False))"
   ]
  },
  {
   "cell_type": "markdown",
   "metadata": {},
   "source": [
    "    По методу ICE в первую тройку гипотез попадают:\n",
    "    -Запустить акцию, дающую скидку на товар в день рождения\n",
    "    -Добавить два новых канала привлечения трафика, что позволит привлекать на 30% больше пользователей\n",
    "    -Добавить форму подписки на все основные страницы, чтобы собрать базу клиентов для email-рассылок"
   ]
  },
  {
   "cell_type": "markdown",
   "metadata": {},
   "source": [
    "<div class=\"alert alert-warning\">\n",
    "<b>Комментарий ревьюера ⚠️:</b> В целом верно, но тут значения в ICE вполне можно округлить до второго знака и написать сами названия гипотез, а не их индексы"
   ]
  },
  {
   "cell_type": "markdown",
   "metadata": {},
   "source": [
    "<div class=\"alert alert-success\">\n",
    "<b>Комментарий ревьюера v 2.0 ✔️:</b> В выводах указали гипотезы"
   ]
  },
  {
   "cell_type": "code",
   "execution_count": 16,
   "metadata": {},
   "outputs": [
    {
     "name": "stdout",
     "output_type": "stream",
     "text": [
      "                                                                                            hypothesis  \\\n",
      "7     Добавить форму подписки на все основные страницы, чтобы собрать базу клиентов для email-рассылок   \n",
      "2  Добавить блоки рекомендаций товаров на сайт интернет магазина, чтобы повысить конверсию и средни...   \n",
      "0   Добавить два новых канала привлечения трафика, что позволит привлекать на 30% больше пользователей   \n",
      "6  Показать на главной странице баннеры с актуальными акциями и распродажами, чтобы увеличить конве...   \n",
      "8                                              Запустить акцию, дающую скидку на товар в день рождения   \n",
      "3  Изменить структура категорий, что увеличит конверсию, т.к. пользователи быстрее найдут нужный товар   \n",
      "1                            Запустить собственную службу доставки, что сократит срок доставки заказов   \n",
      "5             Добавить страницу отзывов клиентов о магазине, что позволит увеличить количество заказов   \n",
      "4                     Изменить цвет фона главной страницы, чтобы увеличить вовлеченность пользователей   \n",
      "\n",
      "    RICE  \n",
      "7  112.0  \n",
      "2   56.0  \n",
      "0   40.0  \n",
      "6   40.0  \n",
      "8   16.2  \n",
      "3    9.0  \n",
      "1    4.0  \n",
      "5    4.0  \n",
      "4    3.0  \n"
     ]
    },
    {
     "data": {
      "text/html": [
       "<div>\n",
       "<style scoped>\n",
       "    .dataframe tbody tr th:only-of-type {\n",
       "        vertical-align: middle;\n",
       "    }\n",
       "\n",
       "    .dataframe tbody tr th {\n",
       "        vertical-align: top;\n",
       "    }\n",
       "\n",
       "    .dataframe thead th {\n",
       "        text-align: right;\n",
       "    }\n",
       "</style>\n",
       "<table border=\"1\" class=\"dataframe\">\n",
       "  <thead>\n",
       "    <tr style=\"text-align: right;\">\n",
       "      <th></th>\n",
       "      <th>hypothesis</th>\n",
       "      <th>reach</th>\n",
       "      <th>impact</th>\n",
       "      <th>confidence</th>\n",
       "      <th>efforts</th>\n",
       "      <th>ICE</th>\n",
       "      <th>RICE</th>\n",
       "    </tr>\n",
       "  </thead>\n",
       "  <tbody>\n",
       "    <tr>\n",
       "      <th>0</th>\n",
       "      <td>Добавить два новых канала привлечения трафика, что позволит привлекать на 30% больше пользователей</td>\n",
       "      <td>3</td>\n",
       "      <td>10</td>\n",
       "      <td>8</td>\n",
       "      <td>6</td>\n",
       "      <td>13.333333</td>\n",
       "      <td>40.0</td>\n",
       "    </tr>\n",
       "    <tr>\n",
       "      <th>1</th>\n",
       "      <td>Запустить собственную службу доставки, что сократит срок доставки заказов</td>\n",
       "      <td>2</td>\n",
       "      <td>5</td>\n",
       "      <td>4</td>\n",
       "      <td>10</td>\n",
       "      <td>2.000000</td>\n",
       "      <td>4.0</td>\n",
       "    </tr>\n",
       "    <tr>\n",
       "      <th>2</th>\n",
       "      <td>Добавить блоки рекомендаций товаров на сайт интернет магазина, чтобы повысить конверсию и средни...</td>\n",
       "      <td>8</td>\n",
       "      <td>3</td>\n",
       "      <td>7</td>\n",
       "      <td>3</td>\n",
       "      <td>7.000000</td>\n",
       "      <td>56.0</td>\n",
       "    </tr>\n",
       "    <tr>\n",
       "      <th>3</th>\n",
       "      <td>Изменить структура категорий, что увеличит конверсию, т.к. пользователи быстрее найдут нужный товар</td>\n",
       "      <td>8</td>\n",
       "      <td>3</td>\n",
       "      <td>3</td>\n",
       "      <td>8</td>\n",
       "      <td>1.125000</td>\n",
       "      <td>9.0</td>\n",
       "    </tr>\n",
       "    <tr>\n",
       "      <th>4</th>\n",
       "      <td>Изменить цвет фона главной страницы, чтобы увеличить вовлеченность пользователей</td>\n",
       "      <td>3</td>\n",
       "      <td>1</td>\n",
       "      <td>1</td>\n",
       "      <td>1</td>\n",
       "      <td>1.000000</td>\n",
       "      <td>3.0</td>\n",
       "    </tr>\n",
       "    <tr>\n",
       "      <th>5</th>\n",
       "      <td>Добавить страницу отзывов клиентов о магазине, что позволит увеличить количество заказов</td>\n",
       "      <td>3</td>\n",
       "      <td>2</td>\n",
       "      <td>2</td>\n",
       "      <td>3</td>\n",
       "      <td>1.333333</td>\n",
       "      <td>4.0</td>\n",
       "    </tr>\n",
       "    <tr>\n",
       "      <th>6</th>\n",
       "      <td>Показать на главной странице баннеры с актуальными акциями и распродажами, чтобы увеличить конве...</td>\n",
       "      <td>5</td>\n",
       "      <td>3</td>\n",
       "      <td>8</td>\n",
       "      <td>3</td>\n",
       "      <td>8.000000</td>\n",
       "      <td>40.0</td>\n",
       "    </tr>\n",
       "    <tr>\n",
       "      <th>7</th>\n",
       "      <td>Добавить форму подписки на все основные страницы, чтобы собрать базу клиентов для email-рассылок</td>\n",
       "      <td>10</td>\n",
       "      <td>7</td>\n",
       "      <td>8</td>\n",
       "      <td>5</td>\n",
       "      <td>11.200000</td>\n",
       "      <td>112.0</td>\n",
       "    </tr>\n",
       "    <tr>\n",
       "      <th>8</th>\n",
       "      <td>Запустить акцию, дающую скидку на товар в день рождения</td>\n",
       "      <td>1</td>\n",
       "      <td>9</td>\n",
       "      <td>9</td>\n",
       "      <td>5</td>\n",
       "      <td>16.200000</td>\n",
       "      <td>16.2</td>\n",
       "    </tr>\n",
       "  </tbody>\n",
       "</table>\n",
       "</div>"
      ],
      "text/plain": [
       "                                                                                            hypothesis  \\\n",
       "0   Добавить два новых канала привлечения трафика, что позволит привлекать на 30% больше пользователей   \n",
       "1                            Запустить собственную службу доставки, что сократит срок доставки заказов   \n",
       "2  Добавить блоки рекомендаций товаров на сайт интернет магазина, чтобы повысить конверсию и средни...   \n",
       "3  Изменить структура категорий, что увеличит конверсию, т.к. пользователи быстрее найдут нужный товар   \n",
       "4                     Изменить цвет фона главной страницы, чтобы увеличить вовлеченность пользователей   \n",
       "5             Добавить страницу отзывов клиентов о магазине, что позволит увеличить количество заказов   \n",
       "6  Показать на главной странице баннеры с актуальными акциями и распродажами, чтобы увеличить конве...   \n",
       "7     Добавить форму подписки на все основные страницы, чтобы собрать базу клиентов для email-рассылок   \n",
       "8                                              Запустить акцию, дающую скидку на товар в день рождения   \n",
       "\n",
       "   reach  impact  confidence  efforts        ICE   RICE  \n",
       "0      3      10           8        6  13.333333   40.0  \n",
       "1      2       5           4       10   2.000000    4.0  \n",
       "2      8       3           7        3   7.000000   56.0  \n",
       "3      8       3           3        8   1.125000    9.0  \n",
       "4      3       1           1        1   1.000000    3.0  \n",
       "5      3       2           2        3   1.333333    4.0  \n",
       "6      5       3           8        3   8.000000   40.0  \n",
       "7     10       7           8        5  11.200000  112.0  \n",
       "8      1       9           9        5  16.200000   16.2  "
      ]
     },
     "execution_count": 16,
     "metadata": {},
     "output_type": "execute_result"
    }
   ],
   "source": [
    "#метод RICE\n",
    "data['RICE'] = data['reach'] * data['impact'] * data['confidence'] / data['efforts']\n",
    "print(data[['hypothesis', 'RICE']].sort_values(by='RICE', ascending=False))\n",
    "data"
   ]
  },
  {
   "cell_type": "markdown",
   "metadata": {},
   "source": [
    "        Лидеры по методу RICE:\n",
    "        -Добавить форму подписки на все основные страницы, чтобы собрать базу клиентов для email-рассылок \n",
    "        -Добавить блоки рекомендаций товаров на сайт интернет магазина, чтобы повысить конверсию\n",
    "        -Добавить два новых канала привлечения трафика, что позволит привлекать на 30% больше пользователей\n",
    "        \n",
    "        \n",
    "        Приоритет гипотез немного сменился, гипотеза \"Запустить акцию, дающую скидку на товар в день рождения\" опустилась   ниже, скорее в силу своего охвата, который равняется одному, у гипотез, которые попали в тройку при методе RICE охваты   выше."
   ]
  },
  {
   "cell_type": "markdown",
   "metadata": {},
   "source": [
    "<div class=\"alert alert-warning\">\n",
    "<b>Комментарий ревьюера ⚠️:</b>  Тут также лучше например вместо гипотезы 7 - вывести ее название. Поскольку 7 - это не номер гипотезы - это ее индекс. У \"коллег\", все может быть иначе, например список в Ноушен с другой сортировкой, поэтому аналитик должен дать универсальный вывод.\n"
   ]
  },
  {
   "cell_type": "markdown",
   "metadata": {},
   "source": [
    "<div class=\"alert alert-info\"> <b>Комментарий студента:</b> спасибо за полезную опцию! \n",
    "Индексы гипотез заменила на сами гипотезы) </div>"
   ]
  },
  {
   "cell_type": "markdown",
   "metadata": {},
   "source": [
    "<div class=\"alert alert-success\">\n",
    "<b>Комментарий ревьюера v 2.0 ✔️:</b> Рад помочь)"
   ]
  },
  {
   "cell_type": "markdown",
   "metadata": {},
   "source": [
    "<div class=\"alert alert-success\">\n",
    "<b>Комментарий ревьюера ✔️:</b> По самим же расчетам и описанию все абсолютно верно, молодец что указала Reach (охват) как основную причину отличия фремворков </div>"
   ]
  },
  {
   "cell_type": "markdown",
   "metadata": {},
   "source": [
    "**АНАЛИЗ А/В ТЕСТА**"
   ]
  },
  {
   "cell_type": "markdown",
   "metadata": {},
   "source": [
    "- Построим график кумулятивной выручки по группам."
   ]
  },
  {
   "cell_type": "code",
   "execution_count": 17,
   "metadata": {},
   "outputs": [],
   "source": [
    "#создадим массив уникальных пар\n",
    "datesGroups = orders[['date','group']].drop_duplicates() "
   ]
  },
  {
   "cell_type": "code",
   "execution_count": 18,
   "metadata": {},
   "outputs": [],
   "source": [
    "#создаем аггрегирующую таблицу с заказами\n",
    "ordersAggregated = datesGroups.apply(\n",
    "    lambda x: orders[\n",
    "        np.logical_and(\n",
    "            orders['date'] <= x['date'], orders['group'] == x['group']\n",
    "        )\n",
    "    ].agg(\n",
    "        {\n",
    "            'date': 'max',\n",
    "            'group': 'max',\n",
    "            'transaction_id': 'nunique',\n",
    "            'visitor_id': 'nunique',\n",
    "            'revenue': 'sum',\n",
    "        }\n",
    "    ),\n",
    "    axis=1,\n",
    ").sort_values(by=['date', 'group'])"
   ]
  },
  {
   "cell_type": "code",
   "execution_count": 19,
   "metadata": {},
   "outputs": [
    {
     "data": {
      "text/html": [
       "<div>\n",
       "<style scoped>\n",
       "    .dataframe tbody tr th:only-of-type {\n",
       "        vertical-align: middle;\n",
       "    }\n",
       "\n",
       "    .dataframe tbody tr th {\n",
       "        vertical-align: top;\n",
       "    }\n",
       "\n",
       "    .dataframe thead th {\n",
       "        text-align: right;\n",
       "    }\n",
       "</style>\n",
       "<table border=\"1\" class=\"dataframe\">\n",
       "  <thead>\n",
       "    <tr style=\"text-align: right;\">\n",
       "      <th></th>\n",
       "      <th>date</th>\n",
       "      <th>group</th>\n",
       "      <th>transaction_id</th>\n",
       "      <th>visitor_id</th>\n",
       "      <th>revenue</th>\n",
       "    </tr>\n",
       "  </thead>\n",
       "  <tbody>\n",
       "    <tr>\n",
       "      <th>55</th>\n",
       "      <td>2019-08-01</td>\n",
       "      <td>A</td>\n",
       "      <td>24</td>\n",
       "      <td>20</td>\n",
       "      <td>148579</td>\n",
       "    </tr>\n",
       "    <tr>\n",
       "      <th>66</th>\n",
       "      <td>2019-08-01</td>\n",
       "      <td>B</td>\n",
       "      <td>21</td>\n",
       "      <td>20</td>\n",
       "      <td>101217</td>\n",
       "    </tr>\n",
       "    <tr>\n",
       "      <th>175</th>\n",
       "      <td>2019-08-02</td>\n",
       "      <td>A</td>\n",
       "      <td>44</td>\n",
       "      <td>38</td>\n",
       "      <td>242401</td>\n",
       "    </tr>\n",
       "    <tr>\n",
       "      <th>173</th>\n",
       "      <td>2019-08-02</td>\n",
       "      <td>B</td>\n",
       "      <td>45</td>\n",
       "      <td>43</td>\n",
       "      <td>266748</td>\n",
       "    </tr>\n",
       "    <tr>\n",
       "      <th>291</th>\n",
       "      <td>2019-08-03</td>\n",
       "      <td>A</td>\n",
       "      <td>68</td>\n",
       "      <td>62</td>\n",
       "      <td>354874</td>\n",
       "    </tr>\n",
       "    <tr>\n",
       "      <th>...</th>\n",
       "      <td>...</td>\n",
       "      <td>...</td>\n",
       "      <td>...</td>\n",
       "      <td>...</td>\n",
       "      <td>...</td>\n",
       "    </tr>\n",
       "    <tr>\n",
       "      <th>496</th>\n",
       "      <td>2019-08-29</td>\n",
       "      <td>B</td>\n",
       "      <td>596</td>\n",
       "      <td>544</td>\n",
       "      <td>5559398</td>\n",
       "    </tr>\n",
       "    <tr>\n",
       "      <th>730</th>\n",
       "      <td>2019-08-30</td>\n",
       "      <td>A</td>\n",
       "      <td>545</td>\n",
       "      <td>493</td>\n",
       "      <td>4022970</td>\n",
       "    </tr>\n",
       "    <tr>\n",
       "      <th>690</th>\n",
       "      <td>2019-08-30</td>\n",
       "      <td>B</td>\n",
       "      <td>620</td>\n",
       "      <td>567</td>\n",
       "      <td>5774631</td>\n",
       "    </tr>\n",
       "    <tr>\n",
       "      <th>958</th>\n",
       "      <td>2019-08-31</td>\n",
       "      <td>A</td>\n",
       "      <td>557</td>\n",
       "      <td>503</td>\n",
       "      <td>4084803</td>\n",
       "    </tr>\n",
       "    <tr>\n",
       "      <th>930</th>\n",
       "      <td>2019-08-31</td>\n",
       "      <td>B</td>\n",
       "      <td>640</td>\n",
       "      <td>586</td>\n",
       "      <td>5907760</td>\n",
       "    </tr>\n",
       "  </tbody>\n",
       "</table>\n",
       "<p>62 rows × 5 columns</p>\n",
       "</div>"
      ],
      "text/plain": [
       "          date group  transaction_id  visitor_id  revenue\n",
       "55  2019-08-01     A              24          20   148579\n",
       "66  2019-08-01     B              21          20   101217\n",
       "175 2019-08-02     A              44          38   242401\n",
       "173 2019-08-02     B              45          43   266748\n",
       "291 2019-08-03     A              68          62   354874\n",
       "..         ...   ...             ...         ...      ...\n",
       "496 2019-08-29     B             596         544  5559398\n",
       "730 2019-08-30     A             545         493  4022970\n",
       "690 2019-08-30     B             620         567  5774631\n",
       "958 2019-08-31     A             557         503  4084803\n",
       "930 2019-08-31     B             640         586  5907760\n",
       "\n",
       "[62 rows x 5 columns]"
      ]
     },
     "execution_count": 19,
     "metadata": {},
     "output_type": "execute_result"
    }
   ],
   "source": [
    "ordersAggregated "
   ]
  },
  {
   "cell_type": "code",
   "execution_count": 20,
   "metadata": {},
   "outputs": [],
   "source": [
    "#создаем агрегирующую таблицу с посетителями\n",
    "visitorsAggregated = datesGroups.apply(\n",
    "    lambda x:visitors[\n",
    "        np.logical_and(\n",
    "        visitors['date'] <= x['date'], visitors['group'] == x['group'])\n",
    "    ].agg(\n",
    "    {\n",
    "        'date': 'max',\n",
    "        'group': 'max',\n",
    "        'visitors': 'sum'\n",
    "    }),\n",
    "axis=1).sort_values(by=['date', 'group'])"
   ]
  },
  {
   "cell_type": "code",
   "execution_count": 21,
   "metadata": {},
   "outputs": [
    {
     "data": {
      "text/html": [
       "<div>\n",
       "<style scoped>\n",
       "    .dataframe tbody tr th:only-of-type {\n",
       "        vertical-align: middle;\n",
       "    }\n",
       "\n",
       "    .dataframe tbody tr th {\n",
       "        vertical-align: top;\n",
       "    }\n",
       "\n",
       "    .dataframe thead th {\n",
       "        text-align: right;\n",
       "    }\n",
       "</style>\n",
       "<table border=\"1\" class=\"dataframe\">\n",
       "  <thead>\n",
       "    <tr style=\"text-align: right;\">\n",
       "      <th></th>\n",
       "      <th>date</th>\n",
       "      <th>group</th>\n",
       "      <th>visitors</th>\n",
       "    </tr>\n",
       "  </thead>\n",
       "  <tbody>\n",
       "    <tr>\n",
       "      <th>55</th>\n",
       "      <td>2019-08-01</td>\n",
       "      <td>A</td>\n",
       "      <td>719</td>\n",
       "    </tr>\n",
       "    <tr>\n",
       "      <th>66</th>\n",
       "      <td>2019-08-01</td>\n",
       "      <td>B</td>\n",
       "      <td>713</td>\n",
       "    </tr>\n",
       "    <tr>\n",
       "      <th>175</th>\n",
       "      <td>2019-08-02</td>\n",
       "      <td>A</td>\n",
       "      <td>1338</td>\n",
       "    </tr>\n",
       "    <tr>\n",
       "      <th>173</th>\n",
       "      <td>2019-08-02</td>\n",
       "      <td>B</td>\n",
       "      <td>1294</td>\n",
       "    </tr>\n",
       "    <tr>\n",
       "      <th>291</th>\n",
       "      <td>2019-08-03</td>\n",
       "      <td>A</td>\n",
       "      <td>1845</td>\n",
       "    </tr>\n",
       "    <tr>\n",
       "      <th>...</th>\n",
       "      <td>...</td>\n",
       "      <td>...</td>\n",
       "      <td>...</td>\n",
       "    </tr>\n",
       "    <tr>\n",
       "      <th>496</th>\n",
       "      <td>2019-08-29</td>\n",
       "      <td>B</td>\n",
       "      <td>17708</td>\n",
       "    </tr>\n",
       "    <tr>\n",
       "      <th>730</th>\n",
       "      <td>2019-08-30</td>\n",
       "      <td>A</td>\n",
       "      <td>18037</td>\n",
       "    </tr>\n",
       "    <tr>\n",
       "      <th>690</th>\n",
       "      <td>2019-08-30</td>\n",
       "      <td>B</td>\n",
       "      <td>18198</td>\n",
       "    </tr>\n",
       "    <tr>\n",
       "      <th>958</th>\n",
       "      <td>2019-08-31</td>\n",
       "      <td>A</td>\n",
       "      <td>18736</td>\n",
       "    </tr>\n",
       "    <tr>\n",
       "      <th>930</th>\n",
       "      <td>2019-08-31</td>\n",
       "      <td>B</td>\n",
       "      <td>18916</td>\n",
       "    </tr>\n",
       "  </tbody>\n",
       "</table>\n",
       "<p>62 rows × 3 columns</p>\n",
       "</div>"
      ],
      "text/plain": [
       "          date group  visitors\n",
       "55  2019-08-01     A       719\n",
       "66  2019-08-01     B       713\n",
       "175 2019-08-02     A      1338\n",
       "173 2019-08-02     B      1294\n",
       "291 2019-08-03     A      1845\n",
       "..         ...   ...       ...\n",
       "496 2019-08-29     B     17708\n",
       "730 2019-08-30     A     18037\n",
       "690 2019-08-30     B     18198\n",
       "958 2019-08-31     A     18736\n",
       "930 2019-08-31     B     18916\n",
       "\n",
       "[62 rows x 3 columns]"
      ]
     },
     "execution_count": 21,
     "metadata": {},
     "output_type": "execute_result"
    }
   ],
   "source": [
    "visitorsAggregated"
   ]
  },
  {
   "cell_type": "code",
   "execution_count": 22,
   "metadata": {},
   "outputs": [],
   "source": [
    "# создаем переменную с покупателями, которые попали в обе группы\n",
    "visits = orders.loc[orders['visitor_id']\n",
    "                    .isin(orders[orders['group']=='A']['visitor_id'])& orders['visitor_id']\n",
    "                    .isin(orders[orders['group']=='B']['visitor_id']),'visitor_id'].unique()"
   ]
  },
  {
   "cell_type": "code",
   "execution_count": 23,
   "metadata": {},
   "outputs": [
    {
     "data": {
      "text/plain": [
       "1031"
      ]
     },
     "execution_count": 23,
     "metadata": {},
     "output_type": "execute_result"
    }
   ],
   "source": [
    "#проверяем сколько покупателей было изначально\n",
    "(orders.groupby('visitor_id')['group'].nunique()).count()"
   ]
  },
  {
   "cell_type": "code",
   "execution_count": 24,
   "metadata": {},
   "outputs": [
    {
     "data": {
      "text/plain": [
       "973"
      ]
     },
     "execution_count": 24,
     "metadata": {},
     "output_type": "execute_result"
    }
   ],
   "source": [
    "# смотрим, сколько покупателей без тех, кто попал в обе группы\n",
    "orders = orders.loc[~orders['visitor_id'].isin(visits)]\n",
    "(orders.groupby('visitor_id')['group'].nunique()).count()"
   ]
  },
  {
   "cell_type": "markdown",
   "metadata": {},
   "source": [
    "    Проверили, были ли пользователи, попавшие в обе группы, убедились, что такие имеются и их число равно 58 \n",
    "    Сохранили данные, без этого числа пользователей."
   ]
  },
  {
   "cell_type": "markdown",
   "metadata": {},
   "source": [
    "<div class=\"alert alert-success\">\n",
    "<b>Комментарий ревьюера ✔️:</b> Уникальные пары сформированы, получены агрегированные данные, молодец!</div>"
   ]
  },
  {
   "cell_type": "markdown",
   "metadata": {},
   "source": [
    "<div class=\"alert alert-danger\">\n",
    "<b>Комментарий ревьюера ❌:</b> Но также здесь необходимо проверить и описать, не попадают ли какие-то пользователи в обе группы - по таблице с заказами. Мы здесь можем проверить только пересечния именно по покупателям, поскольку данные с визитами уже представлены агрегированными </div>"
   ]
  },
  {
   "cell_type": "markdown",
   "metadata": {},
   "source": [
    "<div class=\"alert alert-info\"> <b>Комментарий студента:</b> Исправила! Проверила, есть ли пользователи попавшие в обе группы </div>"
   ]
  },
  {
   "cell_type": "markdown",
   "metadata": {},
   "source": [
    "<div class=\"alert alert-success\">\n",
    "<b>Комментарий ревьюера v 2.0 ✔️:</b> Проверка выполнена корректно. На самом деле чаще всего при проведении A/B тестов при таких довольно небольших пересечения принимают решение оставить этих пользователей как есть, но впрочем их удаление тоже не ошибка"
   ]
  },
  {
   "cell_type": "code",
   "execution_count": 25,
   "metadata": {},
   "outputs": [
    {
     "data": {
      "text/html": [
       "<div>\n",
       "<style scoped>\n",
       "    .dataframe tbody tr th:only-of-type {\n",
       "        vertical-align: middle;\n",
       "    }\n",
       "\n",
       "    .dataframe tbody tr th {\n",
       "        vertical-align: top;\n",
       "    }\n",
       "\n",
       "    .dataframe thead th {\n",
       "        text-align: right;\n",
       "    }\n",
       "</style>\n",
       "<table border=\"1\" class=\"dataframe\">\n",
       "  <thead>\n",
       "    <tr style=\"text-align: right;\">\n",
       "      <th></th>\n",
       "      <th>date</th>\n",
       "      <th>group</th>\n",
       "      <th>orders</th>\n",
       "      <th>buyers</th>\n",
       "      <th>revenue</th>\n",
       "      <th>visitors</th>\n",
       "    </tr>\n",
       "  </thead>\n",
       "  <tbody>\n",
       "    <tr>\n",
       "      <th>0</th>\n",
       "      <td>2019-08-01</td>\n",
       "      <td>A</td>\n",
       "      <td>24</td>\n",
       "      <td>20</td>\n",
       "      <td>148579</td>\n",
       "      <td>719</td>\n",
       "    </tr>\n",
       "    <tr>\n",
       "      <th>1</th>\n",
       "      <td>2019-08-01</td>\n",
       "      <td>B</td>\n",
       "      <td>21</td>\n",
       "      <td>20</td>\n",
       "      <td>101217</td>\n",
       "      <td>713</td>\n",
       "    </tr>\n",
       "    <tr>\n",
       "      <th>2</th>\n",
       "      <td>2019-08-02</td>\n",
       "      <td>A</td>\n",
       "      <td>44</td>\n",
       "      <td>38</td>\n",
       "      <td>242401</td>\n",
       "      <td>1338</td>\n",
       "    </tr>\n",
       "    <tr>\n",
       "      <th>3</th>\n",
       "      <td>2019-08-02</td>\n",
       "      <td>B</td>\n",
       "      <td>45</td>\n",
       "      <td>43</td>\n",
       "      <td>266748</td>\n",
       "      <td>1294</td>\n",
       "    </tr>\n",
       "    <tr>\n",
       "      <th>4</th>\n",
       "      <td>2019-08-03</td>\n",
       "      <td>A</td>\n",
       "      <td>68</td>\n",
       "      <td>62</td>\n",
       "      <td>354874</td>\n",
       "      <td>1845</td>\n",
       "    </tr>\n",
       "    <tr>\n",
       "      <th>5</th>\n",
       "      <td>2019-08-03</td>\n",
       "      <td>B</td>\n",
       "      <td>61</td>\n",
       "      <td>59</td>\n",
       "      <td>380996</td>\n",
       "      <td>1803</td>\n",
       "    </tr>\n",
       "    <tr>\n",
       "      <th>6</th>\n",
       "      <td>2019-08-04</td>\n",
       "      <td>A</td>\n",
       "      <td>84</td>\n",
       "      <td>77</td>\n",
       "      <td>425699</td>\n",
       "      <td>2562</td>\n",
       "    </tr>\n",
       "    <tr>\n",
       "      <th>7</th>\n",
       "      <td>2019-08-04</td>\n",
       "      <td>B</td>\n",
       "      <td>78</td>\n",
       "      <td>75</td>\n",
       "      <td>489567</td>\n",
       "      <td>2573</td>\n",
       "    </tr>\n",
       "    <tr>\n",
       "      <th>8</th>\n",
       "      <td>2019-08-05</td>\n",
       "      <td>A</td>\n",
       "      <td>109</td>\n",
       "      <td>100</td>\n",
       "      <td>549917</td>\n",
       "      <td>3318</td>\n",
       "    </tr>\n",
       "    <tr>\n",
       "      <th>9</th>\n",
       "      <td>2019-08-05</td>\n",
       "      <td>B</td>\n",
       "      <td>101</td>\n",
       "      <td>98</td>\n",
       "      <td>581995</td>\n",
       "      <td>3280</td>\n",
       "    </tr>\n",
       "  </tbody>\n",
       "</table>\n",
       "</div>"
      ],
      "text/plain": [
       "        date group  orders  buyers  revenue  visitors\n",
       "0 2019-08-01     A      24      20   148579       719\n",
       "1 2019-08-01     B      21      20   101217       713\n",
       "2 2019-08-02     A      44      38   242401      1338\n",
       "3 2019-08-02     B      45      43   266748      1294\n",
       "4 2019-08-03     A      68      62   354874      1845\n",
       "5 2019-08-03     B      61      59   380996      1803\n",
       "6 2019-08-04     A      84      77   425699      2562\n",
       "7 2019-08-04     B      78      75   489567      2573\n",
       "8 2019-08-05     A     109     100   549917      3318\n",
       "9 2019-08-05     B     101      98   581995      3280"
      ]
     },
     "execution_count": 25,
     "metadata": {},
     "output_type": "execute_result"
    }
   ],
   "source": [
    "#объединим две таблицы и переименуем столбцы\n",
    "cumulative = ordersAggregated.merge(visitorsAggregated, left_on = ['date', 'group'], right_on = ['date', 'group'])\n",
    "cumulative.columns = [\n",
    "    'date',\n",
    "    'group',\n",
    "    'orders',\n",
    "    'buyers',\n",
    "    'revenue',\n",
    "    'visitors',\n",
    "]\n",
    "cumulative.head(10)"
   ]
  },
  {
   "cell_type": "code",
   "execution_count": 26,
   "metadata": {},
   "outputs": [],
   "source": [
    "#добавим столбец с конверсией\n",
    "cumulative['conversion'] = (\n",
    "    cumulative['orders'] / cumulative['visitors']\n",
    ")\n",
    "\n",
    "cumulativeA = cumulative[cumulative['group']=='A']\n",
    "cumulativeB = cumulative[cumulative['group']=='B']"
   ]
  },
  {
   "cell_type": "code",
   "execution_count": 27,
   "metadata": {},
   "outputs": [],
   "source": [
    "# датафрейм с кумулятивным количеством заказов и кумулятивной выручкой по дням в группе А\n",
    "cumulativeRevenueA = cumulative[cumulative['group']=='A'][['date','revenue', 'orders','visitors']]\n",
    "\n",
    "# датафрейм с кумулятивным количеством заказов и кумулятивной выручкой по дням в группе B\n",
    "cumulativeRevenueB = cumulative[cumulative['group']=='B'][['date','revenue', 'orders','visitors']]"
   ]
  },
  {
   "cell_type": "code",
   "execution_count": 28,
   "metadata": {},
   "outputs": [
    {
     "data": {
      "image/png": "[encoded data removed]",
      "text/plain": [
       "<Figure size 936x504 with 1 Axes>"
      ]
     },
     "metadata": {
      "needs_background": "light"
     },
     "output_type": "display_data"
    }
   ],
   "source": [
    "# строим график выручки группы А\n",
    "plt.subplots(figsize=(13, 7))\n",
    "plt.plot(cumulativeRevenueA['date'], cumulativeRevenueA['revenue'], label='A')\n",
    "\n",
    "# строим график выручки группы B\n",
    "plt.plot(cumulativeRevenueB['date'], cumulativeRevenueB['revenue'], label='B')\n",
    "plt.title('График выручки по группам')\n",
    "plt.legend();"
   ]
  },
  {
   "cell_type": "markdown",
   "metadata": {},
   "source": [
    "    Выручка группы В стабильно выше и после 17 августа группа В сильно уходит в отрыв, стремясь вверх. У группы А выручки     растут более плавно. "
   ]
  },
  {
   "cell_type": "markdown",
   "metadata": {},
   "source": [
    "<div class=\"alert alert-success\">\n",
    "<b>Комментарий ревьюера ✔️:</b> Аномалия хорошо зафиксирована, только можно еще сразу указать ее возможную причину</div>"
   ]
  },
  {
   "cell_type": "code",
   "execution_count": 29,
   "metadata": {},
   "outputs": [
    {
     "data": {
      "image/png": "[encoded data removed]",
      "text/plain": [
       "<Figure size 936x504 with 1 Axes>"
      ]
     },
     "metadata": {
      "needs_background": "light"
     },
     "output_type": "display_data"
    }
   ],
   "source": [
    "#строим график кумулятивного среднего чека по группам\n",
    "plt.subplots(figsize=(13, 7))\n",
    "plt.plot(cumulativeRevenueA['date'], cumulativeRevenueA['revenue']/cumulativeRevenueA['orders'], label='A')\n",
    "plt.plot(cumulativeRevenueB['date'], cumulativeRevenueB['revenue']/cumulativeRevenueB['orders'], label='B')\n",
    "plt.title('График кумулятивного среднего чека по группам')\n",
    "plt.legend();"
   ]
  },
  {
   "cell_type": "markdown",
   "metadata": {},
   "source": [
    "    У группы В наблюдаются сильно резкий скачет ввверх между 17.08 и 21.08, скорее там присутствуют аномальные значение в   виде крупного заказа. У группы А так же наблюдаются скачки, но не такие значительные."
   ]
  },
  {
   "cell_type": "markdown",
   "metadata": {},
   "source": [
    "<div class=\"alert alert-success\">\n",
    "<b>Комментарий ревьюера ✔️:</b> Вполне логично. Очевидно, здесь есть влияние выбросов</div>"
   ]
  },
  {
   "cell_type": "code",
   "execution_count": 30,
   "metadata": {},
   "outputs": [
    {
     "data": {
      "image/png": "[encoded data removed]",
      "text/plain": [
       "<Figure size 936x504 with 1 Axes>"
      ]
     },
     "metadata": {
      "needs_background": "light"
     },
     "output_type": "display_data"
    }
   ],
   "source": [
    "# собираем данные в одном датафрейме\n",
    "mergedCumulativeRevenue = cumulativeRevenueA.merge(cumulativeRevenueB, left_on='date', right_on='date', \\\n",
    "                                                   how='left', suffixes=['A', 'B'])\n",
    "\n",
    "# cтроим отношение средних чеков\n",
    "plt.subplots(figsize=(13, 7))\n",
    "plt.title('Отношение средних чеков')\n",
    "plt.plot(mergedCumulativeRevenue['date'], \n",
    "(mergedCumulativeRevenue['revenueB']/mergedCumulativeRevenue['ordersB'])\n",
    "         /(mergedCumulativeRevenue['revenueA']/mergedCumulativeRevenue['ordersA'])-1)\n",
    "\n",
    "# добавляем ось X\n",
    "plt.axhline(y=0, color='green', linestyle='--');"
   ]
  },
  {
   "cell_type": "markdown",
   "metadata": {},
   "source": [
    "    График резко скачет, что может указывать на наличие выбросов и крупных заказов, рассмотрим это детальнее."
   ]
  },
  {
   "cell_type": "markdown",
   "metadata": {},
   "source": [
    "<div class=\"alert alert-success\">\n",
    "<b>Комментарий ревьюера ✔️:</b> Отлично, отдельно отмечу отображение оси X, она повышает наглядность</div>"
   ]
  },
  {
   "cell_type": "code",
   "execution_count": 31,
   "metadata": {},
   "outputs": [
    {
     "data": {
      "image/png": "[encoded data removed]",
      "text/plain": [
       "<Figure size 936x504 with 1 Axes>"
      ]
     },
     "metadata": {
      "needs_background": "light"
     },
     "output_type": "display_data"
    }
   ],
   "source": [
    "#график кумулятивного среднего количества заказов на посетителя по группам\n",
    "plt.subplots(figsize=(13, 7))\n",
    "plt.plot(cumulativeA['date'], cumulativeA['conversion'], label='A')\n",
    "plt.plot(cumulativeB['date'], cumulativeB['conversion'], label='B')\n",
    "plt.title('Кумулятивное среднее количества заказов на посетителя по группам')\n",
    "plt.legend();"
   ]
  },
  {
   "cell_type": "markdown",
   "metadata": {},
   "source": [
    "    У каждой группы получились очень ломкие графики, в начале теста у них слуился резкий скачет и тут же спад, что скорее всего там был крупный заказ у каждрй их групп. Далее группа В лидиурет на протяжении всего теста."
   ]
  },
  {
   "cell_type": "markdown",
   "metadata": {},
   "source": [
    "<div class=\"alert alert-success\">\n",
    "<b>Комментарий ревьюера ✔️:</b> Согласен, В почти все время была выше</div>"
   ]
  },
  {
   "cell_type": "code",
   "execution_count": 32,
   "metadata": {},
   "outputs": [],
   "source": [
    "mergedCumulativeConversions = cumulativeA[['date','conversion']].merge(cumulativeB[['date','conversion']], \\\n",
    "left_on='date', right_on='date', how='left', suffixes=['A', 'B'])"
   ]
  },
  {
   "cell_type": "code",
   "execution_count": 33,
   "metadata": {},
   "outputs": [
    {
     "data": {
      "image/png": "[encoded data removed]",
      "text/plain": [
       "<Figure size 936x504 with 1 Axes>"
      ]
     },
     "metadata": {
      "needs_background": "light"
     },
     "output_type": "display_data"
    }
   ],
   "source": [
    "#график относительного изменения кумулятивного среднего количества заказов на посетителя группы B к группе A\n",
    "plt.subplots(figsize=(13, 7))\n",
    "plt.plot(mergedCumulativeConversions['date'],\n",
    "mergedCumulativeConversions['conversionB']/mergedCumulativeConversions['conversionA']-1) \n",
    "plt.title('Относительный прирост конверсии группы B относительно группы A')\n",
    "plt.axis(xmin=mergedCumulativeConversions['date'].min(), xmax=mergedCumulativeConversions['date'].max(), ymin=-0.30, ymax=0.3)\n",
    "plt.axhline(y=0, color='black', linestyle='--')\n",
    "plt.axhline(y=-0.15, color='grey', linestyle='--');"
   ]
  },
  {
   "cell_type": "markdown",
   "metadata": {},
   "source": [
    "    Исходя из графика можем заметить, что группа В сейчас существенно обгоняет группу А, разница практически в 20%."
   ]
  },
  {
   "cell_type": "markdown",
   "metadata": {},
   "source": [
    "<div class=\"alert alert-success\">\n",
    "<b>Комментарий ревьюера ✔️:</b> Здорово, также удобные для восприятия горизонтальные линии</div>"
   ]
  },
  {
   "cell_type": "markdown",
   "metadata": {},
   "source": [
    "<div class=\"alert alert-success\">\n",
    "<b>Комментарий ревьюера ✔️:</b> В этой части ты здорово разобралась с кумулятивными метриками - их расчетом и интерпретацией; действительно, нам нужно проверить данные на аномальные значения (кстати, в реальных проектах рекомендую проверять аномалии на стадии знакомства с данными - это позволит избежать невынужденных ошибок при их изучении).</div>"
   ]
  },
  {
   "cell_type": "code",
   "execution_count": 34,
   "metadata": {},
   "outputs": [],
   "source": [
    "#создадим таблицу с количеством заказов по пользователям\n",
    "users_orders = (orders.groupby('visitor_id')['revenue'].count()\n",
    "                   .reset_index())"
   ]
  },
  {
   "cell_type": "code",
   "execution_count": 35,
   "metadata": {
    "scrolled": false
   },
   "outputs": [
    {
     "data": {
      "image/png": "[encoded data removed]",
      "text/plain": [
       "<Figure size 936x504 with 1 Axes>"
      ]
     },
     "metadata": {
      "needs_background": "light"
     },
     "output_type": "display_data"
    }
   ],
   "source": [
    "#строим точечный график по этой таблице\n",
    "x_values = pd.Series(range(0,len(users_orders['revenue']))) \n",
    "plt.figure(figsize=(13, 7))\n",
    "plt.scatter(data=users_orders, x=x_values, y='revenue') \n",
    "plt.grid()\n",
    "plt.title('Точечный график количества заказов на пользователя');"
   ]
  },
  {
   "cell_type": "markdown",
   "metadata": {},
   "source": [
    "    Исходя из графика, можем сделать вывод, что больше двух заказов на одного пользователя - много. Уберем таких    \n",
    "    пользователей."
   ]
  },
  {
   "cell_type": "markdown",
   "metadata": {},
   "source": [
    "<div class=\"alert alert-success\">\n",
    "<b>Комментарий ревьюера ✔️:</b> Совершенно верно, и перцентили тут помогут для более точного расчета</div>"
   ]
  },
  {
   "cell_type": "code",
   "execution_count": 36,
   "metadata": {},
   "outputs": [
    {
     "name": "stdout",
     "output_type": "stream",
     "text": [
      "[1. 2.]\n"
     ]
    }
   ],
   "source": [
    "# вычисляем 95 и 99 перцентили\n",
    "print(np.percentile(users_orders['revenue'], [95, 99]))"
   ]
  },
  {
   "cell_type": "markdown",
   "metadata": {},
   "source": [
    "    5% пользователей совершили два заказа и не более 1% совершили больше, удалим тех, кто совершил 4 и более заказов."
   ]
  },
  {
   "cell_type": "markdown",
   "metadata": {},
   "source": [
    "<div class=\"alert alert-success\">\n",
    "<b>Комментарий ревьюера ✔️:</b> Корректная интерпретация, остановимся на 4 заказах</div>"
   ]
  },
  {
   "cell_type": "code",
   "execution_count": 37,
   "metadata": {},
   "outputs": [],
   "source": [
    "per99 = np.percentile(users_orders['revenue'],[99])[0]\n",
    "users_orders99 = users_orders.query('revenue <= @per99')"
   ]
  },
  {
   "cell_type": "code",
   "execution_count": 38,
   "metadata": {},
   "outputs": [
    {
     "data": {
      "image/png": "[encoded data removed]",
      "text/plain": [
       "<Figure size 936x504 with 1 Axes>"
      ]
     },
     "metadata": {
      "needs_background": "light"
     },
     "output_type": "display_data"
    }
   ],
   "source": [
    "x_values = pd.Series(range(0,len(orders['revenue'])))\n",
    "plt.figure(figsize=(13, 7))\n",
    "sns.scatterplot(x=x_values, y=\"revenue\", hue=\"group\", data=orders)\n",
    "plt.grid()\n",
    "plt.title('Точечный график количества заказов'); "
   ]
  },
  {
   "cell_type": "markdown",
   "metadata": {},
   "source": [
    "    У группы В имеются аномально крупные заказы, они и влияют на увеличение среднего чека этой группы. Удалим их."
   ]
  },
  {
   "cell_type": "markdown",
   "metadata": {},
   "source": [
    "<div class=\"alert alert-success\">\n",
    "<b>Комментарий ревьюера ✔️:</b> Да, тут есть аномалии</div>"
   ]
  },
  {
   "cell_type": "code",
   "execution_count": 39,
   "metadata": {},
   "outputs": [
    {
     "name": "stdout",
     "output_type": "stream",
     "text": [
      "[26785. 53904.]\n"
     ]
    }
   ],
   "source": [
    "print(np.percentile(orders['revenue'], [95, 99]))"
   ]
  },
  {
   "cell_type": "markdown",
   "metadata": {},
   "source": [
    "    Границей для аномальных значений выберем все, что больше 28000, соответсвенно удалим 99 прецентиль."
   ]
  },
  {
   "cell_type": "markdown",
   "metadata": {},
   "source": [
    "<div class=\"alert alert-success\">\n",
    "<b>Комментарий ревьюера ✔️:</b> Вполне оправданно, тоже остановимся на 99 перцентиле</div>"
   ]
  },
  {
   "cell_type": "code",
   "execution_count": 40,
   "metadata": {},
   "outputs": [],
   "source": [
    "per_orders99 = np.percentile(orders['revenue'],[99])[0]\n",
    "orders99 = orders.query('revenue <= @per_orders99')"
   ]
  },
  {
   "cell_type": "code",
   "execution_count": 41,
   "metadata": {},
   "outputs": [
    {
     "data": {
      "text/html": [
       "<div>\n",
       "<style scoped>\n",
       "    .dataframe tbody tr th:only-of-type {\n",
       "        vertical-align: middle;\n",
       "    }\n",
       "\n",
       "    .dataframe tbody tr th {\n",
       "        vertical-align: top;\n",
       "    }\n",
       "\n",
       "    .dataframe thead th {\n",
       "        text-align: right;\n",
       "    }\n",
       "</style>\n",
       "<table border=\"1\" class=\"dataframe\">\n",
       "  <thead>\n",
       "    <tr style=\"text-align: right;\">\n",
       "      <th></th>\n",
       "      <th>transaction_id</th>\n",
       "      <th>visitor_id</th>\n",
       "      <th>date</th>\n",
       "      <th>revenue</th>\n",
       "      <th>group</th>\n",
       "    </tr>\n",
       "  </thead>\n",
       "  <tbody>\n",
       "    <tr>\n",
       "      <th>0</th>\n",
       "      <td>3667963787</td>\n",
       "      <td>3312258926</td>\n",
       "      <td>2019-08-15</td>\n",
       "      <td>1650</td>\n",
       "      <td>B</td>\n",
       "    </tr>\n",
       "    <tr>\n",
       "      <th>1</th>\n",
       "      <td>2804400009</td>\n",
       "      <td>3642806036</td>\n",
       "      <td>2019-08-15</td>\n",
       "      <td>730</td>\n",
       "      <td>B</td>\n",
       "    </tr>\n",
       "    <tr>\n",
       "      <th>3</th>\n",
       "      <td>3797467345</td>\n",
       "      <td>1196621759</td>\n",
       "      <td>2019-08-15</td>\n",
       "      <td>9759</td>\n",
       "      <td>B</td>\n",
       "    </tr>\n",
       "    <tr>\n",
       "      <th>4</th>\n",
       "      <td>2282983706</td>\n",
       "      <td>2322279887</td>\n",
       "      <td>2019-08-15</td>\n",
       "      <td>2308</td>\n",
       "      <td>B</td>\n",
       "    </tr>\n",
       "    <tr>\n",
       "      <th>5</th>\n",
       "      <td>182168103</td>\n",
       "      <td>935554773</td>\n",
       "      <td>2019-08-15</td>\n",
       "      <td>2210</td>\n",
       "      <td>B</td>\n",
       "    </tr>\n",
       "    <tr>\n",
       "      <th>...</th>\n",
       "      <td>...</td>\n",
       "      <td>...</td>\n",
       "      <td>...</td>\n",
       "      <td>...</td>\n",
       "      <td>...</td>\n",
       "    </tr>\n",
       "    <tr>\n",
       "      <th>1190</th>\n",
       "      <td>38478481</td>\n",
       "      <td>1197745035</td>\n",
       "      <td>2019-08-14</td>\n",
       "      <td>8600</td>\n",
       "      <td>B</td>\n",
       "    </tr>\n",
       "    <tr>\n",
       "      <th>1191</th>\n",
       "      <td>3592955527</td>\n",
       "      <td>608641596</td>\n",
       "      <td>2019-08-14</td>\n",
       "      <td>16490</td>\n",
       "      <td>B</td>\n",
       "    </tr>\n",
       "    <tr>\n",
       "      <th>1192</th>\n",
       "      <td>2662137336</td>\n",
       "      <td>3733762160</td>\n",
       "      <td>2019-08-14</td>\n",
       "      <td>6490</td>\n",
       "      <td>B</td>\n",
       "    </tr>\n",
       "    <tr>\n",
       "      <th>1193</th>\n",
       "      <td>2203539145</td>\n",
       "      <td>370388673</td>\n",
       "      <td>2019-08-14</td>\n",
       "      <td>3190</td>\n",
       "      <td>A</td>\n",
       "    </tr>\n",
       "    <tr>\n",
       "      <th>1194</th>\n",
       "      <td>1807773912</td>\n",
       "      <td>573423106</td>\n",
       "      <td>2019-08-14</td>\n",
       "      <td>10550</td>\n",
       "      <td>A</td>\n",
       "    </tr>\n",
       "  </tbody>\n",
       "</table>\n",
       "<p>986 rows × 5 columns</p>\n",
       "</div>"
      ],
      "text/plain": [
       "      transaction_id  visitor_id       date  revenue group\n",
       "0         3667963787  3312258926 2019-08-15     1650     B\n",
       "1         2804400009  3642806036 2019-08-15      730     B\n",
       "3         3797467345  1196621759 2019-08-15     9759     B\n",
       "4         2282983706  2322279887 2019-08-15     2308     B\n",
       "5          182168103   935554773 2019-08-15     2210     B\n",
       "...              ...         ...        ...      ...   ...\n",
       "1190        38478481  1197745035 2019-08-14     8600     B\n",
       "1191      3592955527   608641596 2019-08-14    16490     B\n",
       "1192      2662137336  3733762160 2019-08-14     6490     B\n",
       "1193      2203539145   370388673 2019-08-14     3190     A\n",
       "1194      1807773912   573423106 2019-08-14    10550     A\n",
       "\n",
       "[986 rows x 5 columns]"
      ]
     },
     "execution_count": 41,
     "metadata": {},
     "output_type": "execute_result"
    }
   ],
   "source": [
    "#Создадим очищенную таблицу,без аномальных значений\n",
    "data_clean = orders99.loc[orders99['visitor_id'].isin(users_orders99['visitor_id'])]\n",
    "data_clean"
   ]
  },
  {
   "cell_type": "markdown",
   "metadata": {},
   "source": [
    "**СТАТИСТИЧЕСКАЯ ЗНАЧИМОСТЬ**"
   ]
  },
  {
   "cell_type": "markdown",
   "metadata": {},
   "source": [
    "    Для проверки гипотез будем использовать непараметрический тест Уилкоксона-Манна-Уитни.\n",
    "    Сначала подготовим наши данные к тесту, определим уровень стат. значимости - 0.05.\n",
    "    \n",
    "  "
   ]
  },
  {
   "cell_type": "code",
   "execution_count": 42,
   "metadata": {},
   "outputs": [],
   "source": [
    "visitorsADaily = visitors[visitors['group'] == 'A'][['date', 'visitors']]\n",
    "visitorsADaily.columns = ['date', 'visitorsPerDateA']\n",
    "\n",
    "visitorsACummulative = visitorsADaily.apply(\n",
    "    lambda x: visitorsADaily[visitorsADaily['date'] <= x['date']].agg(\n",
    "        {'date': 'max', 'visitorsPerDateA': 'sum'}\n",
    "    ),\n",
    "    axis=1,\n",
    ")\n",
    "visitorsACummulative.columns = ['date', 'visitorsCummulativeA']\n",
    "\n",
    "visitorsBDaily = visitors[visitors['group'] == 'B'][['date', 'visitors']]\n",
    "visitorsBDaily.columns = ['date', 'visitorsPerDateB']\n",
    "\n",
    "visitorsBCummulative = visitorsBDaily.apply(\n",
    "    lambda x: visitorsBDaily[visitorsBDaily['date'] <= x['date']].agg(\n",
    "        {'date': 'max', 'visitorsPerDateB': 'sum'}\n",
    "    ),\n",
    "    axis=1,\n",
    ")\n",
    "visitorsBCummulative.columns = ['date', 'visitorsCummulativeB']\n",
    "\n",
    "ordersADaily = (\n",
    "    orders[orders['group'] == 'A'][['date', 'transaction_id', 'visitor_id', 'revenue']]\n",
    "    .groupby('date', as_index=False)\n",
    "    .agg({'transaction_id': pd.Series.nunique, 'revenue': 'sum'})\n",
    ")\n",
    "ordersADaily.columns = ['date', 'ordersPerDateA', 'revenuePerDateA']\n",
    "\n",
    "ordersACummulative = ordersADaily.apply(\n",
    "    lambda x: ordersADaily[ordersADaily['date'] <= x['date']].agg(\n",
    "        {'date': 'max', 'ordersPerDateA': 'sum', 'revenuePerDateA': 'sum'}\n",
    "    ),\n",
    "    axis=1,\n",
    ").sort_values(by=['date'])\n",
    "ordersACummulative.columns = [\n",
    "    'date',\n",
    "    'ordersCummulativeA',\n",
    "    'revenueCummulativeA',\n",
    "]\n",
    "\n",
    "ordersBDaily = (\n",
    "    orders[orders['group'] == 'B'][['date', 'transaction_id', 'visitor_id', 'revenue']]\n",
    "    .groupby('date', as_index=False)\n",
    "    .agg({'transaction_id': pd.Series.nunique, 'revenue': 'sum'})\n",
    ")\n",
    "ordersBDaily.columns = ['date', 'ordersPerDateB', 'revenuePerDateB']\n",
    "\n",
    "ordersBCummulative = ordersBDaily.apply(\n",
    "    lambda x: ordersBDaily[ordersBDaily['date'] <= x['date']].agg(\n",
    "        {'date': 'max', 'ordersPerDateB': 'sum', 'revenuePerDateB': 'sum'}\n",
    "    ),\n",
    "    axis=1,\n",
    ").sort_values(by=['date'])\n",
    "ordersBCummulative.columns = [\n",
    "    'date',\n",
    "    'ordersCummulativeB',\n",
    "    'revenueCummulativeB',\n",
    "]\n",
    "\n",
    "data = (\n",
    "    ordersADaily.merge(\n",
    "        ordersBDaily, left_on='date', right_on='date', how='left'\n",
    "    )\n",
    "    .merge(ordersACummulative, left_on='date', right_on='date', how='left')\n",
    "    .merge(ordersBCummulative, left_on='date', right_on='date', how='left')\n",
    "    .merge(visitorsADaily, left_on='date', right_on='date', how='left')\n",
    "    .merge(visitorsBDaily, left_on='date', right_on='date', how='left')\n",
    "    .merge(visitorsACummulative, left_on='date', right_on='date', how='left')\n",
    "    .merge(visitorsBCummulative, left_on='date', right_on='date', how='left')\n",
    ")\n"
   ]
  },
  {
   "cell_type": "code",
   "execution_count": 43,
   "metadata": {},
   "outputs": [],
   "source": [
    "#объявим переменные с заказами по каждой группе\n",
    "ordersByUsersA = (\n",
    "    orders[orders['group'] == 'A']\n",
    "    .groupby('visitor_id', as_index=False)\n",
    "    .agg({'transaction_id': pd.Series.nunique})\n",
    ")\n",
    "ordersByUsersA.columns = ['user_id', 'orders']\n",
    "\n",
    "ordersByUsersB = (\n",
    "    orders[orders['group'] == 'B']\n",
    "    .groupby('visitor_id', as_index=False)\n",
    "    .agg({'transaction_id': pd.Series.nunique})\n",
    ")\n",
    "ordersByUsersB.columns = ['user_id', 'orders'] "
   ]
  },
  {
   "cell_type": "markdown",
   "metadata": {},
   "source": [
    "    ПРОВЕРКА ГИПОТЕЗ ПО \"СЫРЫМ\" ДАННЫМ"
   ]
  },
  {
   "cell_type": "markdown",
   "metadata": {},
   "source": [
    "**H0**: статистически значимых различий в среднем числе заказов между группами нет\n",
    "\n",
    "**H1**: статистически значимые различия в среднем числе заказов между группами есть"
   ]
  },
  {
   "cell_type": "markdown",
   "metadata": {},
   "source": [
    "<div class=\"alert alert-success\">\n",
    "<b>Комментарий ревьюера ✔️:</b> Гипотезы для проверки сформулированы.\n",
    "</div>"
   ]
  },
  {
   "cell_type": "code",
   "execution_count": 44,
   "metadata": {},
   "outputs": [],
   "source": [
    "#объявим пременные, в которых пользователям из разных групп будет соответствовать количество заказов\n",
    "sampleA = pd.concat(\n",
    "    [ordersByUsersA['orders'],pd.Series(0, index=np.arange(data['visitorsPerDateA']\n",
    "    .sum() - len(ordersByUsersA['orders'])), name='orders')],axis=0)\n",
    "\n",
    "sampleB = pd.concat(\n",
    "    [ordersByUsersB['orders'],pd.Series(0, index=np.arange(data['visitorsPerDateB']\n",
    "    .sum() - len(ordersByUsersB['orders'])), name='orders')],axis=0)"
   ]
  },
  {
   "cell_type": "code",
   "execution_count": 45,
   "metadata": {},
   "outputs": [
    {
     "name": "stdout",
     "output_type": "stream",
     "text": [
      "P-value: 0.011\n",
      "Отвергаем нулевую гипотезу: между группами есть разница\n",
      "Относительный прирост В к А: 15.980%\n"
     ]
    }
   ],
   "source": [
    "alpha = 0.05\n",
    "p_value = stats.mannwhitneyu(sampleA, sampleB)[1]\n",
    "print(\"P-value: {0:.3f}\".format(p_value))\n",
    "if (p_value < alpha):\n",
    "    print(\"Отвергаем нулевую гипотезу: между группами есть разница\")\n",
    "else:\n",
    "    print(\"Не получилось отвергнуть нулевую гипотезу, нет оснований считать группы разными\")\n",
    "    \n",
    "print(\"Относительный прирост В к А: {0:.3%}\".format(sampleB.mean() / sampleA.mean()-1))"
   ]
  },
  {
   "cell_type": "markdown",
   "metadata": {},
   "source": [
    "<div class=\"alert alert-success\">\n",
    "<b>Комментарий ревьюера ✔️:</b> И данные на выходе расчетво тоже подписываешь</div>"
   ]
  },
  {
   "cell_type": "code",
   "execution_count": 46,
   "metadata": {},
   "outputs": [
    {
     "name": "stdout",
     "output_type": "stream",
     "text": [
      "Среднее количество заказов (сырой) группы А: 0.025\n",
      "Среднее количество заказов (сырой) группы B: 0.029\n"
     ]
    }
   ],
   "source": [
    "print('Среднее количество заказов (сырой) группы А: {:.3f}'.format(sampleA.mean()))\n",
    "print('Среднее количество заказов (сырой) группы B: {:.3f}'.format(sampleB.mean()))"
   ]
  },
  {
   "cell_type": "markdown",
   "metadata": {},
   "source": [
    "    По проведенному тесту, отвергаем нулевую гипотезу об отсутствии различий в среднем числе заказов между группами."
   ]
  },
  {
   "cell_type": "markdown",
   "metadata": {},
   "source": [
    "<div class=\"alert alert-success\">\n",
    "<b>Комментарий ревьюера ✔️:</b> Сам тест проводишь как надо, хорошо</div>"
   ]
  },
  {
   "cell_type": "markdown",
   "metadata": {},
   "source": [
    "**H0**: различий в среднем чеке между группами нет. \n",
    "\n",
    "**H1**: различия в среднем чеке между группами есть. "
   ]
  },
  {
   "cell_type": "markdown",
   "metadata": {},
   "source": [
    "<div class=\"alert alert-success\">\n",
    "<b>Комментарий ревьюера ✔️:</b> И гипотезы при начале проверки подписаны</div>"
   ]
  },
  {
   "cell_type": "code",
   "execution_count": 47,
   "metadata": {},
   "outputs": [
    {
     "name": "stdout",
     "output_type": "stream",
     "text": [
      "P-value: 0.829\n",
      "Не получилось отвергнуть нулевую гипотезу, нет оснований считать группы разными\n",
      "Относительный прирост В к А: 28.660%\n"
     ]
    }
   ],
   "source": [
    "alpha = 0.05\n",
    "p_value = stats.mannwhitneyu(orders[orders['group']=='A']['revenue'], orders[orders['group']=='B']['revenue'])[1]\n",
    "print(\"P-value: {0:.3f}\".format(p_value))\n",
    "if (p_value < alpha):\n",
    "    print(\"Отвергаем нулевую гипотезу: между группами есть разница\")\n",
    "else:\n",
    "    print(\"Не получилось отвергнуть нулевую гипотезу, нет оснований считать группы разными\")\n",
    "    \n",
    "print(\"Относительный прирост В к А: {0:.3%}\".format(orders[orders['group']=='B']['revenue']\n",
    ".mean()/orders[orders['group']=='A']['revenue'].mean()-1))"
   ]
  },
  {
   "cell_type": "code",
   "execution_count": 48,
   "metadata": {},
   "outputs": [
    {
     "name": "stdout",
     "output_type": "stream",
     "text": [
      "Средний чек (сырой) группы А: 7189.44\n",
      "Средний чек (сырой) группы B: 9249.95\n"
     ]
    }
   ],
   "source": [
    "print('Средний чек (сырой) группы А: {:.2f}'.format(orders[orders['group']=='A']['revenue'].mean()))\n",
    "print('Средний чек (сырой) группы B: {:.2f}'.format(orders[orders['group']=='B']['revenue'].mean()))"
   ]
  },
  {
   "cell_type": "markdown",
   "metadata": {},
   "source": [
    "    P-value больше 0.05, значит мы не можем отвергать нулевую гипотезу о равенстве средних чеков между группами.\n",
    "    Несмотря на то, что разница в средних чеках равна двум тысячам, тест не отвергает нулевую гипотезу. Скорее всего эта    разница статистически не значима."
   ]
  },
  {
   "cell_type": "markdown",
   "metadata": {},
   "source": [
    "<div class=\"alert alert-block alert-danger\">\n",
    "    \n",
    "<b>Комментарий ревьюера ❌:</b> Резеда, обрати, пожалуйста, внимание на выводы: `P-value значительно больше 0.05. Значит, мы не можем отвергать нулевую гипотезу о равенстве средних чеков между         группами` - тут вывод верный, но мы не знаем, значительно больше p-value или нет, оно просто больше, т.е. корректнее писать `P-value 0.729 больше 0.05, значит...`. Мы ведь фактически не можем сказать с какого момента настало это \"значительно\"\n",
    "    \n",
    "    \n",
    "</div>"
   ]
  },
  {
   "cell_type": "markdown",
   "metadata": {},
   "source": [
    "<div class=\"alert alert-info\"> <b>Комментарий студента:</b> Спасибо, поняла! Вывод подкорректировала. </div>"
   ]
  },
  {
   "cell_type": "markdown",
   "metadata": {},
   "source": [
    "<div class=\"alert alert-success\">\n",
    "<b>Комментарий ревьюера v 2.0 ✔️:</b> Формулировку вывода поправили"
   ]
  },
  {
   "cell_type": "markdown",
   "metadata": {},
   "source": [
    "\n",
    "\n",
    "    ПРОВЕРКА ГИПОТЕЗ ПО \"ОЧИЩЕННЫМ\" ДАННЫМ\n",
    "    Используем аналогичный код, что и для таблиц с сырыми данными."
   ]
  },
  {
   "cell_type": "code",
   "execution_count": 49,
   "metadata": {},
   "outputs": [],
   "source": [
    "#объявим переменные с заказами по каждой группе\n",
    "clean_ordersByUsersA = (\n",
    "    data_clean[data_clean['group'] == 'A']\n",
    "    .groupby('visitor_id', as_index=False)\n",
    "    .agg({'transaction_id': pd.Series.nunique})\n",
    ")\n",
    "clean_ordersByUsersA.columns = ['user_id', 'orders']\n",
    "\n",
    "clean_ordersByUsersB = (\n",
    "    data_clean[data_clean['group'] == 'B']\n",
    "    .groupby('visitor_id', as_index=False)\n",
    "    .agg({'transaction_id': pd.Series.nunique})\n",
    ")\n",
    "clean_ordersByUsersB.columns = ['user_id', 'orders'] "
   ]
  },
  {
   "cell_type": "code",
   "execution_count": 50,
   "metadata": {},
   "outputs": [],
   "source": [
    "#объявим пременные, в которых пользователям из разных групп будет соответствовать количество заказов\n",
    "clean_sampleA = pd.concat(\n",
    "    [clean_ordersByUsersA['orders'],pd.Series(0, index=np.arange(visitors[visitors['group']=='A']['visitors']\n",
    ".sum() - len(clean_ordersByUsersA['orders'])), name='orders')],axis=0)\n",
    "     \n",
    "clean_sampleB = pd.concat(\n",
    "    [clean_ordersByUsersB['orders'],pd.Series(0, index=np.arange(visitors[visitors['group']=='B']['visitors']\n",
    ".sum() - len(clean_ordersByUsersB['orders'])), name='orders')],axis=0)"
   ]
  },
  {
   "cell_type": "markdown",
   "metadata": {},
   "source": [
    "<div class=\"alert alert-success\">\n",
    "<b>Комментарий ревьюера ✔️:</b> Отлично установлены фильтры, молодец</div>"
   ]
  },
  {
   "cell_type": "markdown",
   "metadata": {},
   "source": [
    "**H0**: статистически значимых различий в среднем числе заказов между группами нет\n",
    "\n",
    "**H1**: статистически значимые различия в среднем числе заказов между группами есть"
   ]
  },
  {
   "cell_type": "markdown",
   "metadata": {},
   "source": [
    "<div class=\"alert alert-success\">\n",
    "<b>Комментарий ревьюера ✔️:</b> И гипотезы также указаны</div>"
   ]
  },
  {
   "cell_type": "code",
   "execution_count": 51,
   "metadata": {},
   "outputs": [
    {
     "name": "stdout",
     "output_type": "stream",
     "text": [
      "P-value: 0.007\n",
      "Отвергаем нулевую гипотезу: между группами есть разница\n",
      "Относительный прирост В к А: 18.947%\n"
     ]
    }
   ],
   "source": [
    "alpha = 0.05\n",
    "p_value = stats.mannwhitneyu(clean_sampleA, clean_sampleB)[1]\n",
    "print(\"P-value: {0:.3f}\".format(p_value))\n",
    "if (p_value < alpha):\n",
    "    print(\"Отвергаем нулевую гипотезу: между группами есть разница\")\n",
    "else:\n",
    "    print(\"Не получилось отвергнуть нулевую гипотезу, нет оснований считать группы разными\")\n",
    "    \n",
    "print(\"Относительный прирост В к А: {0:.3%}\".format(clean_sampleB.mean() / clean_sampleA.mean()-1))"
   ]
  },
  {
   "cell_type": "code",
   "execution_count": 52,
   "metadata": {},
   "outputs": [
    {
     "name": "stdout",
     "output_type": "stream",
     "text": [
      "Среднее количество заказов (очищенной) группы А: 0.024\n",
      "Среднее количество заказов (очищенной) группы B: 0.028\n"
     ]
    }
   ],
   "source": [
    "print('Среднее количество заказов (очищенной) группы А: {:.3f}'.format(clean_sampleA.mean()))\n",
    "print('Среднее количество заказов (очищенной) группы B: {:.3f}'.format(clean_sampleB.mean()))"
   ]
  },
  {
   "cell_type": "markdown",
   "metadata": {},
   "source": [
    "    Даже с очищенными данными ситуация практически такая же. p-value больше уровня значимости, значит мы отверагем нулевую  гипотезу, что группы равны."
   ]
  },
  {
   "cell_type": "markdown",
   "metadata": {},
   "source": [
    "<div class=\"alert alert-success\">\n",
    "<b>Комментарий ревьюера ✔️:</b> По выводу также все абсолютно корректно</div>"
   ]
  },
  {
   "cell_type": "markdown",
   "metadata": {},
   "source": [
    "**H0**: различий в среднем чеке между группами нет. \n",
    "\n",
    "**H1**: различия в среднем чеке между группами есть. "
   ]
  },
  {
   "cell_type": "markdown",
   "metadata": {},
   "source": [
    "<div class=\"alert alert-success\">\n",
    "<b>Комментарий ревьюера ✔️:</b> В 4й раз гипотезы сформулированы</div>"
   ]
  },
  {
   "cell_type": "code",
   "execution_count": 53,
   "metadata": {},
   "outputs": [
    {
     "name": "stdout",
     "output_type": "stream",
     "text": [
      "P-value: 0.788\n",
      "Не получилось отвергнуть нулевую гипотезу, нет оснований считать группы разными\n",
      "Относительный прирост В к А: -3.234%\n"
     ]
    }
   ],
   "source": [
    "alpha = 0.05\n",
    "p_value = stats.mannwhitneyu(data_clean[data_clean['group']=='A']['revenue'], data_clean[data_clean['group']=='B']['revenue'])[1]\n",
    "print(\"P-value: {0:.3f}\".format(p_value))\n",
    "if (p_value < alpha):\n",
    "    print(\"Отвергаем нулевую гипотезу: между группами есть разница\")\n",
    "else:\n",
    "    print(\"Не получилось отвергнуть нулевую гипотезу, нет оснований считать группы разными\")\n",
    "    \n",
    "print(\"Относительный прирост В к А: {0:.3%}\".format(data_clean[data_clean['group']=='B']['revenue']\n",
    ".mean()/data_clean[data_clean['group']=='A']['revenue'].mean()-1))"
   ]
  },
  {
   "cell_type": "code",
   "execution_count": 54,
   "metadata": {},
   "outputs": [
    {
     "name": "stdout",
     "output_type": "stream",
     "text": [
      "Средний чек (очищенный) группы А: 6487.02\n",
      "Средний чек (очищенный) группы B: 6277.27\n"
     ]
    }
   ],
   "source": [
    "print('Средний чек (очищенный) группы А: {:.2f}'.format(data_clean[data_clean['group']=='A']['revenue'].mean()))\n",
    "print('Средний чек (очищенный) группы B: {:.2f}'.format(data_clean[data_clean['group']=='B']['revenue'].mean()))"
   ]
  },
  {
   "cell_type": "markdown",
   "metadata": {},
   "source": [
    "    На очищенных данных средние чеки практически сравнялись, тест так же не отвергает нулевую гипотезу о равенстве данных   групп"
   ]
  },
  {
   "cell_type": "markdown",
   "metadata": {},
   "source": [
    "<div class=\"alert alert-success\">\n",
    "<b>Комментарий ревьюера ✔️:</b> И здесь по выводу также никаких замечаний</div>"
   ]
  },
  {
   "cell_type": "markdown",
   "metadata": {},
   "source": [
    "    Вывод по проделанному тесту:\n",
    "    - Отвергнули гипотезу о равенстве среднего количества заказов между группами, тесты с \"сырыми\" и \"очищенными\" данными   показали практический одинаковый результат\n",
    "    - Ни в одном из тестов не получилось отвергнуть гипотезу о равенстве средних чеков между группами"
   ]
  },
  {
   "cell_type": "markdown",
   "metadata": {},
   "source": [
    "# Общий вывод"
   ]
  },
  {
   "cell_type": "markdown",
   "metadata": {},
   "source": [
    "В ходе исследования интернет-магазина, была проведена приоритизация гипотез, так же провели А/В тест.\n",
    "Исходя из исследования, можем сделать следующие выводы, так же дать некоторые рекомендации.\n",
    "\n",
    "**Приоритизация гипотез**\n",
    "\n",
    "    В первую очередь стоит обратить внимание на следующие гипотезы:\n",
    "    - Запустить акцию, дающую скидку на товар в день рождения\n",
    "    - Добавить два новых канала привлечения трафика, что позволит привлекать на 30% больше пользователей\n",
    "    - Добавить форму подписки на все основные страницы, чтобы собрать базу клиентов для email-рассылок\n",
    "    \n",
    "    Если необходимо учитывать охват пользователей, то рекомендуется расположить гипотеза таким образом:\n",
    "    - Добавить форму подписки на все основные страницы, чтобы собрать базу клиентов для email-рассылок\n",
    "    - Добавить блоки рекомендаций товаров на сайт интернет магазина, чтобы повысить конверсию и средний чек заказа\n",
    "    - Добавить два новых канала привлечения трафика, что позволит привлекать на 30% больше пользователей\n",
    "    \n",
    "**Анализ А/В теста**\n",
    "\n",
    "Тесты по \"сырым\" и \"очищенным\" данным показали, что:\n",
    "\n",
    "    - относительный прирост среднего числа заказов группы В к группе А равен 15-25%\n",
    "    - отвергнули гипотезу о равнестве среднего числа заказов между группами\n",
    "    - оба теста не отвергли гипотезу о равенстве средних чеков\n",
    "    \n",
    "Конверсия группы В больше, чем у группы А, но так же они имеют практически одинаковый средний чек.\n",
    "\n",
    "Принимаем решение остановить тест и признать победу группы В, так как ее показатели лучше группы А."
   ]
  },
  {
   "cell_type": "markdown",
   "metadata": {},
   "source": [
    "<div class=\"alert alert-success\">\n",
    "<b>Комментарий ревьюера ✔️:</b> Общий вывод сформулирован классно. Все по пунктам и есть решение по самому результату проведения</div>"
   ]
  },
  {
   "cell_type": "markdown",
   "metadata": {},
   "source": [
    "<div class=\"alert alert-success\">\n",
    "<b>Комментарий ревьюера ✔️:</b> Резеда, проект отличный! У тебя сильные аналитические навыки, владение инструментами для проведения исследования, понимание статистики и навыки продуктовой аналитики. Но всё же в проекте есть несколько замечаний и я попрошу тебя исправить их, чтобы проект стал еще лучше! </div>"
   ]
  }
 ],
 "metadata": {
  "ExecuteTimeLog": [
   {
    "duration": 847,
    "start_time": "2023-09-10T07:28:57.342Z"
   },
   {
    "duration": 74,
    "start_time": "2023-09-10T07:29:36.173Z"
   },
   {
    "duration": 11,
    "start_time": "2023-09-10T07:29:49.368Z"
   },
   {
    "duration": 6,
    "start_time": "2023-09-10T07:30:12.588Z"
   },
   {
    "duration": 83,
    "start_time": "2023-09-10T07:30:22.610Z"
   },
   {
    "duration": 7,
    "start_time": "2023-09-10T07:30:27.278Z"
   },
   {
    "duration": 12,
    "start_time": "2023-09-10T07:30:36.257Z"
   },
   {
    "duration": 7,
    "start_time": "2023-09-10T07:30:40.316Z"
   },
   {
    "duration": 10,
    "start_time": "2023-09-10T07:35:20.606Z"
   },
   {
    "duration": 3,
    "start_time": "2023-09-10T07:35:34.245Z"
   },
   {
    "duration": 11,
    "start_time": "2023-09-10T07:35:49.768Z"
   },
   {
    "duration": 4,
    "start_time": "2023-09-10T07:37:48.017Z"
   },
   {
    "duration": 8,
    "start_time": "2023-09-10T07:37:48.520Z"
   },
   {
    "duration": 27,
    "start_time": "2023-09-10T08:00:09.271Z"
   },
   {
    "duration": 7,
    "start_time": "2023-09-10T08:00:55.470Z"
   },
   {
    "duration": 3,
    "start_time": "2023-09-10T09:58:48.298Z"
   },
   {
    "duration": 164,
    "start_time": "2023-09-10T09:58:56.266Z"
   },
   {
    "duration": 885,
    "start_time": "2023-09-10T09:59:07.720Z"
   },
   {
    "duration": 76,
    "start_time": "2023-09-10T09:59:09.217Z"
   },
   {
    "duration": 15,
    "start_time": "2023-09-10T09:59:15.996Z"
   },
   {
    "duration": 16,
    "start_time": "2023-09-10T09:59:40.896Z"
   },
   {
    "duration": 4,
    "start_time": "2023-09-10T09:59:49.207Z"
   },
   {
    "duration": 8,
    "start_time": "2023-09-10T09:59:50.792Z"
   },
   {
    "duration": 4,
    "start_time": "2023-09-10T10:02:12.504Z"
   },
   {
    "duration": 124,
    "start_time": "2023-09-10T10:02:26.199Z"
   },
   {
    "duration": 6,
    "start_time": "2023-09-10T10:02:59.703Z"
   },
   {
    "duration": 4,
    "start_time": "2023-09-10T10:03:07.412Z"
   },
   {
    "duration": 4,
    "start_time": "2023-09-10T10:03:08.661Z"
   },
   {
    "duration": 7,
    "start_time": "2023-09-10T10:03:23.232Z"
   },
   {
    "duration": 3,
    "start_time": "2023-09-10T10:06:01.211Z"
   },
   {
    "duration": 8,
    "start_time": "2023-09-10T10:06:02.648Z"
   },
   {
    "duration": 12,
    "start_time": "2023-09-10T10:06:42.975Z"
   },
   {
    "duration": 10,
    "start_time": "2023-09-10T10:06:43.565Z"
   },
   {
    "duration": 5,
    "start_time": "2023-09-10T10:06:52.166Z"
   },
   {
    "duration": 12,
    "start_time": "2023-09-10T10:06:52.964Z"
   },
   {
    "duration": 786,
    "start_time": "2023-09-10T10:06:59.301Z"
   },
   {
    "duration": 78,
    "start_time": "2023-09-10T10:07:00.089Z"
   },
   {
    "duration": 25,
    "start_time": "2023-09-10T10:07:01.416Z"
   },
   {
    "duration": 3,
    "start_time": "2023-09-10T10:07:05.078Z"
   },
   {
    "duration": 867,
    "start_time": "2023-09-10T10:08:15.939Z"
   },
   {
    "duration": 78,
    "start_time": "2023-09-10T10:08:17.311Z"
   },
   {
    "duration": 22,
    "start_time": "2023-09-10T10:08:19.502Z"
   },
   {
    "duration": 3,
    "start_time": "2023-09-10T10:08:23.340Z"
   },
   {
    "duration": 8,
    "start_time": "2023-09-10T10:08:23.921Z"
   },
   {
    "duration": 3,
    "start_time": "2023-09-10T10:08:31.338Z"
   },
   {
    "duration": 8,
    "start_time": "2023-09-10T10:08:32.197Z"
   },
   {
    "duration": 3,
    "start_time": "2023-09-10T10:08:59.865Z"
   },
   {
    "duration": 8,
    "start_time": "2023-09-10T10:09:00.350Z"
   },
   {
    "duration": 3,
    "start_time": "2023-09-10T10:09:07.419Z"
   },
   {
    "duration": 8,
    "start_time": "2023-09-10T10:09:07.868Z"
   },
   {
    "duration": 10,
    "start_time": "2023-09-10T10:10:21.620Z"
   },
   {
    "duration": 4,
    "start_time": "2023-09-10T10:11:54.692Z"
   },
   {
    "duration": 9,
    "start_time": "2023-09-10T10:11:57.610Z"
   },
   {
    "duration": 5,
    "start_time": "2023-09-10T10:12:11.878Z"
   },
   {
    "duration": 10,
    "start_time": "2023-09-10T10:12:13.667Z"
   },
   {
    "duration": 4,
    "start_time": "2023-09-10T10:12:22.337Z"
   },
   {
    "duration": 10,
    "start_time": "2023-09-10T10:12:23.912Z"
   },
   {
    "duration": 9,
    "start_time": "2023-09-10T10:12:36.187Z"
   },
   {
    "duration": 6,
    "start_time": "2023-09-10T10:13:38.586Z"
   },
   {
    "duration": 11,
    "start_time": "2023-09-10T10:14:10.597Z"
   },
   {
    "duration": 10,
    "start_time": "2023-09-10T10:14:49.464Z"
   },
   {
    "duration": 4,
    "start_time": "2023-09-10T10:15:14.290Z"
   },
   {
    "duration": 3,
    "start_time": "2023-09-10T10:15:25.808Z"
   },
   {
    "duration": 867,
    "start_time": "2023-09-10T10:15:33.465Z"
   },
   {
    "duration": 77,
    "start_time": "2023-09-10T10:15:34.334Z"
   },
   {
    "duration": 25,
    "start_time": "2023-09-10T10:15:37.028Z"
   },
   {
    "duration": 3,
    "start_time": "2023-09-10T10:15:40.644Z"
   },
   {
    "duration": 4,
    "start_time": "2023-09-10T10:15:41.116Z"
   },
   {
    "duration": 3,
    "start_time": "2023-09-10T10:15:42.054Z"
   },
   {
    "duration": 4,
    "start_time": "2023-09-10T10:15:42.971Z"
   },
   {
    "duration": 11,
    "start_time": "2023-09-10T10:15:44.283Z"
   },
   {
    "duration": 11,
    "start_time": "2023-09-10T10:15:47.567Z"
   },
   {
    "duration": 10,
    "start_time": "2023-09-10T10:15:48.083Z"
   },
   {
    "duration": 6,
    "start_time": "2023-09-10T10:18:36.637Z"
   },
   {
    "duration": 12,
    "start_time": "2023-09-10T10:18:40.917Z"
   },
   {
    "duration": 10,
    "start_time": "2023-09-10T10:18:43.674Z"
   },
   {
    "duration": 11,
    "start_time": "2023-09-10T10:20:38.781Z"
   },
   {
    "duration": 8,
    "start_time": "2023-09-10T10:20:39.838Z"
   },
   {
    "duration": 973,
    "start_time": "2023-09-11T08:23:48.218Z"
   },
   {
    "duration": 240,
    "start_time": "2023-09-11T08:24:05.148Z"
   },
   {
    "duration": 28,
    "start_time": "2023-09-11T08:24:07.601Z"
   },
   {
    "duration": 4,
    "start_time": "2023-09-11T08:24:14.947Z"
   },
   {
    "duration": 5,
    "start_time": "2023-09-11T08:24:16.219Z"
   },
   {
    "duration": 4,
    "start_time": "2023-09-11T08:24:17.180Z"
   },
   {
    "duration": 4,
    "start_time": "2023-09-11T08:24:17.717Z"
   },
   {
    "duration": 13,
    "start_time": "2023-09-11T08:24:18.686Z"
   },
   {
    "duration": 13,
    "start_time": "2023-09-11T08:24:20.820Z"
   },
   {
    "duration": 23,
    "start_time": "2023-09-11T08:24:21.421Z"
   },
   {
    "duration": 7,
    "start_time": "2023-09-11T08:24:24.394Z"
   },
   {
    "duration": 21,
    "start_time": "2023-09-11T08:24:24.931Z"
   },
   {
    "duration": 17,
    "start_time": "2023-09-11T08:24:27.293Z"
   },
   {
    "duration": 14,
    "start_time": "2023-09-11T08:24:30.020Z"
   },
   {
    "duration": 11,
    "start_time": "2023-09-11T08:24:31.965Z"
   },
   {
    "duration": 504,
    "start_time": "2023-09-11T08:25:36.006Z"
   },
   {
    "duration": 922,
    "start_time": "2023-09-11T08:25:53.571Z"
   },
   {
    "duration": 76,
    "start_time": "2023-09-11T08:25:54.496Z"
   },
   {
    "duration": 23,
    "start_time": "2023-09-11T08:25:56.381Z"
   },
   {
    "duration": 4,
    "start_time": "2023-09-11T08:25:57.563Z"
   },
   {
    "duration": 6,
    "start_time": "2023-09-11T08:25:58.350Z"
   },
   {
    "duration": 5,
    "start_time": "2023-09-11T08:25:58.845Z"
   },
   {
    "duration": 4,
    "start_time": "2023-09-11T08:25:59.400Z"
   },
   {
    "duration": 15,
    "start_time": "2023-09-11T08:25:59.870Z"
   },
   {
    "duration": 520,
    "start_time": "2023-09-11T08:26:04.446Z"
   },
   {
    "duration": 353,
    "start_time": "2023-09-11T08:26:29.431Z"
   },
   {
    "duration": 444,
    "start_time": "2023-09-11T08:27:59.665Z"
   },
   {
    "duration": 6,
    "start_time": "2023-09-11T08:30:00.275Z"
   },
   {
    "duration": 6,
    "start_time": "2023-09-11T08:31:40.814Z"
   },
   {
    "duration": 185,
    "start_time": "2023-09-11T08:32:59.792Z"
   },
   {
    "duration": 13,
    "start_time": "2023-09-11T08:33:07.281Z"
   },
   {
    "duration": 26,
    "start_time": "2023-09-11T08:39:40.307Z"
   },
   {
    "duration": 149,
    "start_time": "2023-09-11T08:39:55.225Z"
   },
   {
    "duration": 12,
    "start_time": "2023-09-11T08:40:01.981Z"
   },
   {
    "duration": 14,
    "start_time": "2023-09-11T08:41:48.587Z"
   },
   {
    "duration": 13,
    "start_time": "2023-09-11T08:45:27.065Z"
   },
   {
    "duration": 14,
    "start_time": "2023-09-11T08:45:33.215Z"
   },
   {
    "duration": 6,
    "start_time": "2023-09-11T08:45:53.064Z"
   },
   {
    "duration": 6,
    "start_time": "2023-09-11T08:46:17.512Z"
   },
   {
    "duration": 10,
    "start_time": "2023-09-11T08:48:21.686Z"
   },
   {
    "duration": 12,
    "start_time": "2023-09-11T08:48:37.130Z"
   },
   {
    "duration": 11,
    "start_time": "2023-09-11T08:48:50.267Z"
   },
   {
    "duration": 97,
    "start_time": "2023-09-11T08:49:19.069Z"
   },
   {
    "duration": 10,
    "start_time": "2023-09-11T08:49:22.601Z"
   },
   {
    "duration": 370,
    "start_time": "2023-09-11T08:50:04.299Z"
   },
   {
    "duration": 276,
    "start_time": "2023-09-11T08:50:08.731Z"
   },
   {
    "duration": 213,
    "start_time": "2023-09-11T08:51:13.039Z"
   },
   {
    "duration": 222,
    "start_time": "2023-09-11T08:56:19.998Z"
   },
   {
    "duration": 201,
    "start_time": "2023-09-11T08:56:26.694Z"
   },
   {
    "duration": 207,
    "start_time": "2023-09-11T08:56:33.386Z"
   },
   {
    "duration": 199,
    "start_time": "2023-09-11T08:56:42.554Z"
   },
   {
    "duration": 193,
    "start_time": "2023-09-11T08:56:51.104Z"
   },
   {
    "duration": 217,
    "start_time": "2023-09-11T08:56:56.809Z"
   },
   {
    "duration": 298,
    "start_time": "2023-09-11T08:57:03.484Z"
   },
   {
    "duration": 302,
    "start_time": "2023-09-11T09:12:08.792Z"
   },
   {
    "duration": 219,
    "start_time": "2023-09-11T09:12:20.684Z"
   },
   {
    "duration": 238,
    "start_time": "2023-09-11T09:12:30.903Z"
   },
   {
    "duration": 344,
    "start_time": "2023-09-11T09:17:05.215Z"
   },
   {
    "duration": 299,
    "start_time": "2023-09-11T09:17:25.072Z"
   },
   {
    "duration": 267,
    "start_time": "2023-09-11T09:43:38.477Z"
   },
   {
    "duration": 303,
    "start_time": "2023-09-11T09:44:16.009Z"
   },
   {
    "duration": 9,
    "start_time": "2023-09-11T09:50:11.706Z"
   },
   {
    "duration": 226,
    "start_time": "2023-09-11T09:50:13.060Z"
   },
   {
    "duration": 216,
    "start_time": "2023-09-11T09:51:03.482Z"
   },
   {
    "duration": 1200,
    "start_time": "2023-09-11T09:54:16.178Z"
   },
   {
    "duration": 138,
    "start_time": "2023-09-11T09:54:25.342Z"
   },
   {
    "duration": 8,
    "start_time": "2023-09-11T09:54:29.985Z"
   },
   {
    "duration": 153,
    "start_time": "2023-09-11T09:55:16.285Z"
   },
   {
    "duration": 204,
    "start_time": "2023-09-11T09:55:26.577Z"
   },
   {
    "duration": 237,
    "start_time": "2023-09-11T09:55:32.085Z"
   },
   {
    "duration": 1967,
    "start_time": "2023-09-11T09:59:33.140Z"
   },
   {
    "duration": 233,
    "start_time": "2023-09-11T10:00:03.165Z"
   },
   {
    "duration": 145,
    "start_time": "2023-09-11T10:03:43.202Z"
   },
   {
    "duration": 163,
    "start_time": "2023-09-11T10:04:40.277Z"
   },
   {
    "duration": 1444,
    "start_time": "2023-09-12T08:01:19.564Z"
   },
   {
    "duration": 275,
    "start_time": "2023-09-12T08:01:21.765Z"
   },
   {
    "duration": 23,
    "start_time": "2023-09-12T08:01:24.176Z"
   },
   {
    "duration": 4,
    "start_time": "2023-09-12T08:01:27.766Z"
   },
   {
    "duration": 5,
    "start_time": "2023-09-12T08:01:28.257Z"
   },
   {
    "duration": 4,
    "start_time": "2023-09-12T08:01:29.290Z"
   },
   {
    "duration": 4,
    "start_time": "2023-09-12T08:01:29.841Z"
   },
   {
    "duration": 13,
    "start_time": "2023-09-12T08:01:30.331Z"
   },
   {
    "duration": 12,
    "start_time": "2023-09-12T08:01:31.026Z"
   },
   {
    "duration": 11,
    "start_time": "2023-09-12T08:01:33.425Z"
   },
   {
    "duration": 6,
    "start_time": "2023-09-12T08:01:33.962Z"
   },
   {
    "duration": 12,
    "start_time": "2023-09-12T08:01:34.306Z"
   },
   {
    "duration": 12,
    "start_time": "2023-09-12T08:01:36.409Z"
   },
   {
    "duration": 9,
    "start_time": "2023-09-12T08:01:40.430Z"
   },
   {
    "duration": 9,
    "start_time": "2023-09-12T08:01:42.187Z"
   },
   {
    "duration": 7,
    "start_time": "2023-09-12T08:01:44.764Z"
   },
   {
    "duration": 185,
    "start_time": "2023-09-12T08:01:45.229Z"
   },
   {
    "duration": 16,
    "start_time": "2023-09-12T08:01:45.863Z"
   },
   {
    "duration": 144,
    "start_time": "2023-09-12T08:01:47.921Z"
   },
   {
    "duration": 12,
    "start_time": "2023-09-12T08:01:48.557Z"
   },
   {
    "duration": 14,
    "start_time": "2023-09-12T08:01:50.893Z"
   },
   {
    "duration": 5,
    "start_time": "2023-09-12T08:01:53.077Z"
   },
   {
    "duration": 7,
    "start_time": "2023-09-12T08:01:53.481Z"
   },
   {
    "duration": 330,
    "start_time": "2023-09-12T08:01:53.905Z"
   },
   {
    "duration": 216,
    "start_time": "2023-09-12T08:01:57.105Z"
   },
   {
    "duration": 394,
    "start_time": "2023-09-12T08:02:00.714Z"
   },
   {
    "duration": 254,
    "start_time": "2023-09-12T08:02:03.908Z"
   },
   {
    "duration": 144,
    "start_time": "2023-09-12T08:02:23.365Z"
   },
   {
    "duration": 143,
    "start_time": "2023-09-12T08:03:45.291Z"
   },
   {
    "duration": 1811,
    "start_time": "2023-09-12T08:03:50.881Z"
   },
   {
    "duration": 153,
    "start_time": "2023-09-12T08:04:18.073Z"
   },
   {
    "duration": 10,
    "start_time": "2023-09-12T08:05:09.916Z"
   },
   {
    "duration": 260,
    "start_time": "2023-09-12T08:06:56.506Z"
   },
   {
    "duration": 288,
    "start_time": "2023-09-12T08:08:10.066Z"
   },
   {
    "duration": 2147,
    "start_time": "2023-09-12T08:11:08.142Z"
   },
   {
    "duration": 8,
    "start_time": "2023-09-12T08:11:39.760Z"
   },
   {
    "duration": 214,
    "start_time": "2023-09-12T08:11:41.600Z"
   },
   {
    "duration": 242,
    "start_time": "2023-09-12T08:11:49.145Z"
   },
   {
    "duration": 10,
    "start_time": "2023-09-12T08:12:32.624Z"
   },
   {
    "duration": 13,
    "start_time": "2023-09-12T08:12:47.880Z"
   },
   {
    "duration": 7,
    "start_time": "2023-09-12T08:17:10.956Z"
   },
   {
    "duration": 8,
    "start_time": "2023-09-12T08:17:46.719Z"
   },
   {
    "duration": 215,
    "start_time": "2023-09-12T08:17:54.327Z"
   },
   {
    "duration": 238,
    "start_time": "2023-09-12T08:19:13.775Z"
   },
   {
    "duration": 227,
    "start_time": "2023-09-12T08:19:33.769Z"
   },
   {
    "duration": 10,
    "start_time": "2023-09-12T08:22:35.823Z"
   },
   {
    "duration": 137,
    "start_time": "2023-09-12T08:22:57.267Z"
   },
   {
    "duration": 162,
    "start_time": "2023-09-12T08:23:25.922Z"
   },
   {
    "duration": 175,
    "start_time": "2023-09-12T08:23:48.715Z"
   },
   {
    "duration": 13,
    "start_time": "2023-09-12T08:24:29.358Z"
   },
   {
    "duration": 142,
    "start_time": "2023-09-12T08:25:25.651Z"
   },
   {
    "duration": 281,
    "start_time": "2023-09-12T08:25:29.784Z"
   },
   {
    "duration": 6,
    "start_time": "2023-09-12T08:42:27.787Z"
   },
   {
    "duration": 4,
    "start_time": "2023-09-12T08:42:38.944Z"
   },
   {
    "duration": 15,
    "start_time": "2023-09-12T08:47:47.171Z"
   },
   {
    "duration": 9,
    "start_time": "2023-09-12T08:48:46.273Z"
   },
   {
    "duration": 10,
    "start_time": "2023-09-12T08:51:15.478Z"
   },
   {
    "duration": 10,
    "start_time": "2023-09-12T08:53:17.665Z"
   },
   {
    "duration": 20,
    "start_time": "2023-09-12T08:56:35.947Z"
   },
   {
    "duration": 8,
    "start_time": "2023-09-12T08:56:46.799Z"
   },
   {
    "duration": 7,
    "start_time": "2023-09-12T08:57:06.175Z"
   },
   {
    "duration": 2421,
    "start_time": "2023-09-12T08:57:15.666Z"
   },
   {
    "duration": 142,
    "start_time": "2023-09-12T08:57:57.604Z"
   },
   {
    "duration": 161,
    "start_time": "2023-09-12T08:58:18.275Z"
   },
   {
    "duration": 6,
    "start_time": "2023-09-12T09:00:04.462Z"
   },
   {
    "duration": 16,
    "start_time": "2023-09-12T09:04:07.913Z"
   },
   {
    "duration": 367,
    "start_time": "2023-09-12T09:29:14.114Z"
   },
   {
    "duration": 344,
    "start_time": "2023-09-12T09:29:48.373Z"
   },
   {
    "duration": 325,
    "start_time": "2023-09-12T09:30:22.973Z"
   },
   {
    "duration": 364,
    "start_time": "2023-09-12T09:30:34.554Z"
   },
   {
    "duration": 363,
    "start_time": "2023-09-12T09:30:55.725Z"
   },
   {
    "duration": 197,
    "start_time": "2023-09-12T09:31:44.622Z"
   },
   {
    "duration": 198,
    "start_time": "2023-09-12T09:32:08.280Z"
   },
   {
    "duration": 270,
    "start_time": "2023-09-12T09:32:23.780Z"
   },
   {
    "duration": 250,
    "start_time": "2023-09-12T09:32:58.965Z"
   },
   {
    "duration": 177,
    "start_time": "2023-09-12T09:34:21.042Z"
   },
   {
    "duration": 329,
    "start_time": "2023-09-12T09:36:25.677Z"
   },
   {
    "duration": 395,
    "start_time": "2023-09-12T09:36:46.636Z"
   },
   {
    "duration": 350,
    "start_time": "2023-09-12T09:36:55.638Z"
   },
   {
    "duration": 27,
    "start_time": "2023-09-12T09:51:15.437Z"
   },
   {
    "duration": 7,
    "start_time": "2023-09-12T09:51:55.414Z"
   },
   {
    "duration": 1484,
    "start_time": "2023-09-12T09:52:11.812Z"
   },
   {
    "duration": 75,
    "start_time": "2023-09-12T09:52:22.814Z"
   },
   {
    "duration": 23,
    "start_time": "2023-09-12T09:52:24.653Z"
   },
   {
    "duration": 3,
    "start_time": "2023-09-12T09:52:28.279Z"
   },
   {
    "duration": 4,
    "start_time": "2023-09-12T09:52:28.877Z"
   },
   {
    "duration": 3,
    "start_time": "2023-09-12T09:52:29.944Z"
   },
   {
    "duration": 4,
    "start_time": "2023-09-12T09:52:30.577Z"
   },
   {
    "duration": 12,
    "start_time": "2023-09-12T09:52:31.035Z"
   },
   {
    "duration": 11,
    "start_time": "2023-09-12T09:52:31.596Z"
   },
   {
    "duration": 15,
    "start_time": "2023-09-12T09:52:35.333Z"
   },
   {
    "duration": 7,
    "start_time": "2023-09-12T09:52:39.879Z"
   },
   {
    "duration": 13,
    "start_time": "2023-09-12T09:52:40.814Z"
   },
   {
    "duration": 13,
    "start_time": "2023-09-12T09:52:43.546Z"
   },
   {
    "duration": 9,
    "start_time": "2023-09-12T09:52:46.234Z"
   },
   {
    "duration": 18,
    "start_time": "2023-09-12T09:52:49.025Z"
   },
   {
    "duration": 7,
    "start_time": "2023-09-12T09:53:02.383Z"
   },
   {
    "duration": 201,
    "start_time": "2023-09-12T09:53:36.631Z"
   },
   {
    "duration": 12,
    "start_time": "2023-09-12T09:53:38.697Z"
   },
   {
    "duration": 139,
    "start_time": "2023-09-12T09:54:14.312Z"
   },
   {
    "duration": 12,
    "start_time": "2023-09-12T09:54:14.820Z"
   },
   {
    "duration": 15,
    "start_time": "2023-09-12T09:54:18.466Z"
   },
   {
    "duration": 7,
    "start_time": "2023-09-12T09:54:20.692Z"
   },
   {
    "duration": 7,
    "start_time": "2023-09-12T09:54:22.358Z"
   },
   {
    "duration": 313,
    "start_time": "2023-09-12T09:54:23.718Z"
   },
   {
    "duration": 221,
    "start_time": "2023-09-12T09:54:27.625Z"
   },
   {
    "duration": 321,
    "start_time": "2023-09-12T09:54:38.704Z"
   },
   {
    "duration": 226,
    "start_time": "2023-09-12T09:54:43.679Z"
   },
   {
    "duration": 8,
    "start_time": "2023-09-12T09:54:47.275Z"
   },
   {
    "duration": 288,
    "start_time": "2023-09-12T09:54:48.907Z"
   },
   {
    "duration": 6,
    "start_time": "2023-09-12T09:54:54.543Z"
   },
   {
    "duration": 159,
    "start_time": "2023-09-12T09:54:56.218Z"
   },
   {
    "duration": 4,
    "start_time": "2023-09-12T09:54:58.869Z"
   },
   {
    "duration": 7,
    "start_time": "2023-09-12T09:55:00.202Z"
   },
   {
    "duration": 296,
    "start_time": "2023-09-12T09:55:02.089Z"
   },
   {
    "duration": 331,
    "start_time": "2023-09-12T09:57:09.015Z"
   },
   {
    "duration": 273,
    "start_time": "2023-09-12T09:57:22.043Z"
   },
   {
    "duration": 8,
    "start_time": "2023-09-12T10:00:18.535Z"
   },
   {
    "duration": 6,
    "start_time": "2023-09-12T10:00:34.598Z"
   },
   {
    "duration": 129,
    "start_time": "2023-09-12T10:02:42.024Z"
   },
   {
    "duration": 6,
    "start_time": "2023-09-12T10:02:47.327Z"
   },
   {
    "duration": 11,
    "start_time": "2023-09-12T10:02:47.893Z"
   },
   {
    "duration": 6,
    "start_time": "2023-09-12T10:02:54.828Z"
   },
   {
    "duration": 6,
    "start_time": "2023-09-12T10:02:55.332Z"
   },
   {
    "duration": 8,
    "start_time": "2023-09-12T10:03:03.201Z"
   },
   {
    "duration": 4,
    "start_time": "2023-09-12T10:03:25.212Z"
   },
   {
    "duration": 7,
    "start_time": "2023-09-12T10:03:25.729Z"
   },
   {
    "duration": 288,
    "start_time": "2023-09-12T10:08:35.282Z"
   },
   {
    "duration": 322,
    "start_time": "2023-09-12T10:09:12.867Z"
   },
   {
    "duration": 274,
    "start_time": "2023-09-12T10:09:41.905Z"
   },
   {
    "duration": 249,
    "start_time": "2023-09-12T10:10:08.741Z"
   },
   {
    "duration": 1183,
    "start_time": "2023-09-13T15:53:54.089Z"
   },
   {
    "duration": 210,
    "start_time": "2023-09-13T15:53:56.202Z"
   },
   {
    "duration": 19,
    "start_time": "2023-09-13T15:53:59.377Z"
   },
   {
    "duration": 3,
    "start_time": "2023-09-13T15:54:02.633Z"
   },
   {
    "duration": 4,
    "start_time": "2023-09-13T15:54:03.158Z"
   },
   {
    "duration": 4,
    "start_time": "2023-09-13T15:54:03.657Z"
   },
   {
    "duration": 4,
    "start_time": "2023-09-13T15:54:04.127Z"
   },
   {
    "duration": 10,
    "start_time": "2023-09-13T15:54:04.523Z"
   },
   {
    "duration": 7,
    "start_time": "2023-09-13T15:54:08.066Z"
   },
   {
    "duration": 11,
    "start_time": "2023-09-13T15:54:08.653Z"
   },
   {
    "duration": 10,
    "start_time": "2023-09-13T15:54:11.107Z"
   },
   {
    "duration": 8,
    "start_time": "2023-09-13T15:54:17.579Z"
   },
   {
    "duration": 14,
    "start_time": "2023-09-13T15:54:21.070Z"
   },
   {
    "duration": 6,
    "start_time": "2023-09-13T15:54:24.698Z"
   },
   {
    "duration": 146,
    "start_time": "2023-09-13T15:54:25.177Z"
   },
   {
    "duration": 10,
    "start_time": "2023-09-13T15:54:26.480Z"
   },
   {
    "duration": 115,
    "start_time": "2023-09-13T15:54:26.946Z"
   },
   {
    "duration": 9,
    "start_time": "2023-09-13T15:54:28.757Z"
   },
   {
    "duration": 11,
    "start_time": "2023-09-13T15:54:29.316Z"
   },
   {
    "duration": 6,
    "start_time": "2023-09-13T15:54:31.163Z"
   },
   {
    "duration": 5,
    "start_time": "2023-09-13T15:54:31.558Z"
   },
   {
    "duration": 253,
    "start_time": "2023-09-13T15:54:31.934Z"
   },
   {
    "duration": 178,
    "start_time": "2023-09-13T15:54:34.917Z"
   },
   {
    "duration": 302,
    "start_time": "2023-09-13T15:54:37.698Z"
   },
   {
    "duration": 197,
    "start_time": "2023-09-13T15:54:39.959Z"
   },
   {
    "duration": 7,
    "start_time": "2023-09-13T15:54:49.780Z"
   },
   {
    "duration": 262,
    "start_time": "2023-09-13T15:54:50.522Z"
   },
   {
    "duration": 5,
    "start_time": "2023-09-13T15:54:52.241Z"
   },
   {
    "duration": 124,
    "start_time": "2023-09-13T15:54:52.913Z"
   },
   {
    "duration": 4,
    "start_time": "2023-09-13T15:54:56.194Z"
   },
   {
    "duration": 6,
    "start_time": "2023-09-13T15:55:01.017Z"
   },
   {
    "duration": 218,
    "start_time": "2023-09-13T15:55:01.828Z"
   },
   {
    "duration": 4,
    "start_time": "2023-09-13T15:55:15.604Z"
   },
   {
    "duration": 5,
    "start_time": "2023-09-13T15:55:18.446Z"
   },
   {
    "duration": 135,
    "start_time": "2023-09-13T18:30:00.961Z"
   },
   {
    "duration": 9,
    "start_time": "2023-09-13T18:30:15.835Z"
   },
   {
    "duration": 1570,
    "start_time": "2023-09-13T18:31:06.531Z"
   },
   {
    "duration": 91,
    "start_time": "2023-09-13T18:39:12.086Z"
   },
   {
    "duration": 178,
    "start_time": "2023-09-13T18:43:59.927Z"
   },
   {
    "duration": 203,
    "start_time": "2023-09-13T18:46:11.989Z"
   },
   {
    "duration": 133,
    "start_time": "2023-09-13T18:46:47.272Z"
   },
   {
    "duration": 7,
    "start_time": "2023-09-13T18:47:00.399Z"
   },
   {
    "duration": 8,
    "start_time": "2023-09-13T18:47:44.141Z"
   },
   {
    "duration": 3,
    "start_time": "2023-09-13T18:48:08.972Z"
   },
   {
    "duration": 24,
    "start_time": "2023-09-13T18:48:14.264Z"
   },
   {
    "duration": 6,
    "start_time": "2023-09-13T18:49:27.203Z"
   },
   {
    "duration": 21,
    "start_time": "2023-09-13T18:49:28.615Z"
   },
   {
    "duration": 224,
    "start_time": "2023-09-13T18:50:29.566Z"
   },
   {
    "duration": 10,
    "start_time": "2023-09-13T19:11:55.170Z"
   },
   {
    "duration": 73,
    "start_time": "2023-09-13T19:18:20.846Z"
   },
   {
    "duration": 94,
    "start_time": "2023-09-13T19:18:33.239Z"
   },
   {
    "duration": 24,
    "start_time": "2023-09-13T19:19:08.022Z"
   },
   {
    "duration": 30,
    "start_time": "2023-09-13T19:19:28.321Z"
   },
   {
    "duration": 88,
    "start_time": "2023-09-13T19:21:57.561Z"
   },
   {
    "duration": 95,
    "start_time": "2023-09-13T19:22:22.535Z"
   },
   {
    "duration": 13,
    "start_time": "2023-09-13T19:22:32.116Z"
   },
   {
    "duration": 1317,
    "start_time": "2023-09-14T04:37:56.420Z"
   },
   {
    "duration": 208,
    "start_time": "2023-09-14T04:38:01.278Z"
   },
   {
    "duration": 20,
    "start_time": "2023-09-14T04:38:04.141Z"
   },
   {
    "duration": 3,
    "start_time": "2023-09-14T04:38:09.510Z"
   },
   {
    "duration": 4,
    "start_time": "2023-09-14T04:38:10.093Z"
   },
   {
    "duration": 3,
    "start_time": "2023-09-14T04:38:10.609Z"
   },
   {
    "duration": 6,
    "start_time": "2023-09-14T04:38:16.141Z"
   },
   {
    "duration": 13,
    "start_time": "2023-09-14T04:38:16.752Z"
   },
   {
    "duration": 11,
    "start_time": "2023-09-14T04:38:18.798Z"
   },
   {
    "duration": 9,
    "start_time": "2023-09-14T04:38:22.332Z"
   },
   {
    "duration": 14,
    "start_time": "2023-09-14T04:38:23.725Z"
   },
   {
    "duration": 6,
    "start_time": "2023-09-14T04:38:30.066Z"
   },
   {
    "duration": 280,
    "start_time": "2023-09-14T04:38:30.073Z"
   },
   {
    "duration": 119,
    "start_time": "2023-09-14T04:38:34.735Z"
   },
   {
    "duration": 65,
    "start_time": "2023-09-14T04:38:34.855Z"
   },
   {
    "duration": 7,
    "start_time": "2023-09-14T04:38:37.364Z"
   },
   {
    "duration": 6,
    "start_time": "2023-09-14T04:38:37.772Z"
   },
   {
    "duration": 256,
    "start_time": "2023-09-14T04:38:38.408Z"
   },
   {
    "duration": 182,
    "start_time": "2023-09-14T04:38:41.124Z"
   },
   {
    "duration": 307,
    "start_time": "2023-09-14T04:38:43.772Z"
   },
   {
    "duration": 213,
    "start_time": "2023-09-14T04:38:46.052Z"
   },
   {
    "duration": 7,
    "start_time": "2023-09-14T04:38:50.252Z"
   },
   {
    "duration": 266,
    "start_time": "2023-09-14T04:38:50.865Z"
   },
   {
    "duration": 6,
    "start_time": "2023-09-14T04:38:54.358Z"
   },
   {
    "duration": 132,
    "start_time": "2023-09-14T04:38:54.898Z"
   },
   {
    "duration": 4,
    "start_time": "2023-09-14T04:38:58.720Z"
   },
   {
    "duration": 6,
    "start_time": "2023-09-14T04:38:59.818Z"
   },
   {
    "duration": 275,
    "start_time": "2023-09-14T04:39:00.659Z"
   },
   {
    "duration": 4,
    "start_time": "2023-09-14T04:39:04.163Z"
   },
   {
    "duration": 6,
    "start_time": "2023-09-14T04:39:07.144Z"
   },
   {
    "duration": 281,
    "start_time": "2023-09-14T04:39:10.068Z"
   },
   {
    "duration": 137,
    "start_time": "2023-09-14T04:39:12.435Z"
   },
   {
    "duration": 9,
    "start_time": "2023-09-14T04:39:14.139Z"
   },
   {
    "duration": 34,
    "start_time": "2023-09-14T04:39:16.261Z"
   },
   {
    "duration": 14,
    "start_time": "2023-09-14T04:39:17.684Z"
   },
   {
    "duration": 8,
    "start_time": "2023-09-14T04:40:34.319Z"
   },
   {
    "duration": 6,
    "start_time": "2023-09-14T04:40:53.866Z"
   },
   {
    "duration": 47,
    "start_time": "2023-09-14T04:41:14.725Z"
   },
   {
    "duration": 5,
    "start_time": "2023-09-14T04:41:24.850Z"
   },
   {
    "duration": 90,
    "start_time": "2023-09-14T04:41:29.913Z"
   },
   {
    "duration": 11,
    "start_time": "2023-09-14T04:41:42.350Z"
   },
   {
    "duration": 6,
    "start_time": "2023-09-14T04:41:47.657Z"
   },
   {
    "duration": 11,
    "start_time": "2023-09-14T04:41:50.524Z"
   },
   {
    "duration": 13,
    "start_time": "2023-09-14T04:42:01.511Z"
   },
   {
    "duration": 10,
    "start_time": "2023-09-14T04:42:34.347Z"
   },
   {
    "duration": 8,
    "start_time": "2023-09-14T04:44:45.113Z"
   },
   {
    "duration": 5,
    "start_time": "2023-09-14T04:44:55.709Z"
   },
   {
    "duration": 12,
    "start_time": "2023-09-14T04:45:02.800Z"
   },
   {
    "duration": 15,
    "start_time": "2023-09-14T04:46:04.210Z"
   },
   {
    "duration": 9,
    "start_time": "2023-09-14T04:46:34.867Z"
   },
   {
    "duration": 13,
    "start_time": "2023-09-14T04:47:35.171Z"
   },
   {
    "duration": 15,
    "start_time": "2023-09-14T04:47:49.757Z"
   },
   {
    "duration": 16,
    "start_time": "2023-09-14T04:47:58.198Z"
   },
   {
    "duration": 6,
    "start_time": "2023-09-14T04:48:14.275Z"
   },
   {
    "duration": 11,
    "start_time": "2023-09-14T04:52:23.332Z"
   },
   {
    "duration": 141,
    "start_time": "2023-09-14T04:52:54.815Z"
   },
   {
    "duration": 8,
    "start_time": "2023-09-14T04:53:03.647Z"
   },
   {
    "duration": 84,
    "start_time": "2023-09-14T04:58:07.329Z"
   },
   {
    "duration": 82,
    "start_time": "2023-09-14T04:58:27.778Z"
   },
   {
    "duration": 109,
    "start_time": "2023-09-14T04:59:28.772Z"
   },
   {
    "duration": 72,
    "start_time": "2023-09-14T04:59:35.784Z"
   },
   {
    "duration": 132,
    "start_time": "2023-09-14T05:00:07.463Z"
   },
   {
    "duration": 114,
    "start_time": "2023-09-14T05:00:44.399Z"
   },
   {
    "duration": 142,
    "start_time": "2023-09-14T05:01:32.001Z"
   },
   {
    "duration": 7,
    "start_time": "2023-09-14T05:02:01.706Z"
   },
   {
    "duration": 23,
    "start_time": "2023-09-14T05:03:00.578Z"
   },
   {
    "duration": 11,
    "start_time": "2023-09-14T05:07:20.554Z"
   },
   {
    "duration": 11,
    "start_time": "2023-09-14T05:07:34.489Z"
   },
   {
    "duration": 5,
    "start_time": "2023-09-14T05:09:42.193Z"
   },
   {
    "duration": 1307,
    "start_time": "2023-09-16T08:28:23.038Z"
   },
   {
    "duration": 206,
    "start_time": "2023-09-16T08:28:24.347Z"
   },
   {
    "duration": 22,
    "start_time": "2023-09-16T08:28:26.434Z"
   },
   {
    "duration": 4,
    "start_time": "2023-09-16T08:28:31.096Z"
   },
   {
    "duration": 5,
    "start_time": "2023-09-16T08:28:33.359Z"
   },
   {
    "duration": 5,
    "start_time": "2023-09-16T08:28:34.376Z"
   },
   {
    "duration": 4,
    "start_time": "2023-09-16T08:28:35.193Z"
   },
   {
    "duration": 13,
    "start_time": "2023-09-16T08:28:35.744Z"
   },
   {
    "duration": 10,
    "start_time": "2023-09-16T08:28:36.705Z"
   },
   {
    "duration": 7,
    "start_time": "2023-09-16T08:28:40.224Z"
   },
   {
    "duration": 12,
    "start_time": "2023-09-16T08:28:40.734Z"
   },
   {
    "duration": 10,
    "start_time": "2023-09-16T08:28:44.147Z"
   },
   {
    "duration": 16,
    "start_time": "2023-09-16T08:28:46.292Z"
   },
   {
    "duration": 6,
    "start_time": "2023-09-16T08:28:50.350Z"
   },
   {
    "duration": 170,
    "start_time": "2023-09-16T08:28:50.739Z"
   },
   {
    "duration": 12,
    "start_time": "2023-09-16T08:28:51.800Z"
   },
   {
    "duration": 143,
    "start_time": "2023-09-16T08:28:52.249Z"
   },
   {
    "duration": 11,
    "start_time": "2023-09-16T08:28:52.669Z"
   },
   {
    "duration": 15,
    "start_time": "2023-09-16T08:28:53.020Z"
   },
   {
    "duration": 7,
    "start_time": "2023-09-16T08:28:53.339Z"
   },
   {
    "duration": 6,
    "start_time": "2023-09-16T08:28:53.533Z"
   },
   {
    "duration": 316,
    "start_time": "2023-09-16T08:28:53.706Z"
   },
   {
    "duration": 224,
    "start_time": "2023-09-16T08:28:54.085Z"
   },
   {
    "duration": 390,
    "start_time": "2023-09-16T08:28:54.483Z"
   },
   {
    "duration": 268,
    "start_time": "2023-09-16T08:28:54.875Z"
   },
   {
    "duration": 8,
    "start_time": "2023-09-16T08:28:55.454Z"
   },
   {
    "duration": 287,
    "start_time": "2023-09-16T08:28:55.670Z"
   },
   {
    "duration": 5,
    "start_time": "2023-09-16T08:28:56.084Z"
   },
   {
    "duration": 154,
    "start_time": "2023-09-16T08:28:56.300Z"
   },
   {
    "duration": 5,
    "start_time": "2023-09-16T08:28:58.284Z"
   },
   {
    "duration": 11,
    "start_time": "2023-09-16T08:28:59.722Z"
   },
   {
    "duration": 295,
    "start_time": "2023-09-16T08:29:01.405Z"
   },
   {
    "duration": 6,
    "start_time": "2023-09-16T08:29:03.529Z"
   },
   {
    "duration": 8,
    "start_time": "2023-09-16T08:29:05.506Z"
   },
   {
    "duration": 17,
    "start_time": "2023-09-16T08:29:06.070Z"
   },
   {
    "duration": 328,
    "start_time": "2023-09-16T08:29:09.808Z"
   },
   {
    "duration": 144,
    "start_time": "2023-09-16T08:29:10.687Z"
   },
   {
    "duration": 7,
    "start_time": "2023-09-16T08:29:12.728Z"
   },
   {
    "duration": 31,
    "start_time": "2023-09-16T08:29:13.471Z"
   },
   {
    "duration": 12,
    "start_time": "2023-09-16T08:29:16.740Z"
   },
   {
    "duration": 145,
    "start_time": "2023-09-16T08:29:19.519Z"
   },
   {
    "duration": 9,
    "start_time": "2023-09-16T08:29:21.825Z"
   },
   {
    "duration": 29,
    "start_time": "2023-09-16T08:29:22.279Z"
   },
   {
    "duration": 18,
    "start_time": "2023-09-16T08:29:25.339Z"
   },
   {
    "duration": 7,
    "start_time": "2023-09-16T08:29:29.540Z"
   },
   {
    "duration": 343,
    "start_time": "2023-09-16T08:54:33.314Z"
   },
   {
    "duration": 5,
    "start_time": "2023-09-16T09:36:56.697Z"
   },
   {
    "duration": 6,
    "start_time": "2023-09-16T09:37:04.486Z"
   },
   {
    "duration": 7,
    "start_time": "2023-09-16T09:41:56.342Z"
   },
   {
    "duration": 8,
    "start_time": "2023-09-16T09:42:03.376Z"
   },
   {
    "duration": 5,
    "start_time": "2023-09-16T10:01:57.088Z"
   },
   {
    "duration": 5,
    "start_time": "2023-09-16T10:02:04.341Z"
   },
   {
    "duration": 4,
    "start_time": "2023-09-16T10:04:26.108Z"
   },
   {
    "duration": 5,
    "start_time": "2023-09-16T10:04:49.840Z"
   },
   {
    "duration": 4,
    "start_time": "2023-09-16T10:06:58.211Z"
   },
   {
    "duration": 124,
    "start_time": "2023-09-16T10:19:18.853Z"
   },
   {
    "duration": 70,
    "start_time": "2023-09-16T20:40:41.598Z"
   },
   {
    "duration": 1464,
    "start_time": "2023-09-16T20:40:50.254Z"
   },
   {
    "duration": 215,
    "start_time": "2023-09-16T20:40:51.724Z"
   },
   {
    "duration": 20,
    "start_time": "2023-09-16T20:40:51.941Z"
   },
   {
    "duration": 22,
    "start_time": "2023-09-16T20:40:51.963Z"
   },
   {
    "duration": 29,
    "start_time": "2023-09-16T20:40:51.987Z"
   },
   {
    "duration": 23,
    "start_time": "2023-09-16T20:40:52.017Z"
   },
   {
    "duration": 22,
    "start_time": "2023-09-16T20:40:52.042Z"
   },
   {
    "duration": 23,
    "start_time": "2023-09-16T20:40:52.066Z"
   },
   {
    "duration": 36,
    "start_time": "2023-09-16T20:40:52.092Z"
   },
   {
    "duration": 22,
    "start_time": "2023-09-16T20:40:52.130Z"
   },
   {
    "duration": 27,
    "start_time": "2023-09-16T20:40:52.153Z"
   },
   {
    "duration": 31,
    "start_time": "2023-09-16T20:40:52.182Z"
   },
   {
    "duration": 18,
    "start_time": "2023-09-16T20:40:52.216Z"
   },
   {
    "duration": 12,
    "start_time": "2023-09-16T20:40:52.236Z"
   },
   {
    "duration": 26,
    "start_time": "2023-09-16T20:40:52.250Z"
   },
   {
    "duration": 23,
    "start_time": "2023-09-16T20:40:52.277Z"
   },
   {
    "duration": 174,
    "start_time": "2023-09-16T20:40:52.314Z"
   },
   {
    "duration": 24,
    "start_time": "2023-09-16T20:40:52.490Z"
   },
   {
    "duration": 137,
    "start_time": "2023-09-16T20:40:52.516Z"
   },
   {
    "duration": 10,
    "start_time": "2023-09-16T20:40:52.654Z"
   },
   {
    "duration": 74,
    "start_time": "2023-09-16T20:40:52.665Z"
   },
   {
    "duration": 25,
    "start_time": "2023-09-16T20:40:52.741Z"
   },
   {
    "duration": 46,
    "start_time": "2023-09-16T20:40:52.768Z"
   },
   {
    "duration": 332,
    "start_time": "2023-09-16T20:40:52.815Z"
   },
   {
    "duration": 228,
    "start_time": "2023-09-16T20:40:53.149Z"
   },
   {
    "duration": 371,
    "start_time": "2023-09-16T20:40:53.379Z"
   },
   {
    "duration": 248,
    "start_time": "2023-09-16T20:40:53.753Z"
   },
   {
    "duration": 15,
    "start_time": "2023-09-16T20:40:54.003Z"
   },
   {
    "duration": 333,
    "start_time": "2023-09-16T20:40:54.020Z"
   },
   {
    "duration": 6,
    "start_time": "2023-09-16T20:40:54.355Z"
   },
   {
    "duration": 192,
    "start_time": "2023-09-16T20:40:54.362Z"
   },
   {
    "duration": 6,
    "start_time": "2023-09-16T20:40:54.556Z"
   },
   {
    "duration": 26,
    "start_time": "2023-09-16T20:40:54.564Z"
   },
   {
    "duration": 325,
    "start_time": "2023-09-16T20:40:54.592Z"
   },
   {
    "duration": 4,
    "start_time": "2023-09-16T20:40:54.918Z"
   },
   {
    "duration": 19,
    "start_time": "2023-09-16T20:40:54.924Z"
   },
   {
    "duration": 52,
    "start_time": "2023-09-16T20:40:54.944Z"
   },
   {
    "duration": 330,
    "start_time": "2023-09-16T20:40:54.998Z"
   },
   {
    "duration": 154,
    "start_time": "2023-09-16T20:40:55.330Z"
   },
   {
    "duration": 16,
    "start_time": "2023-09-16T20:40:55.486Z"
   },
   {
    "duration": 34,
    "start_time": "2023-09-16T20:40:55.508Z"
   },
   {
    "duration": 6,
    "start_time": "2023-09-16T20:40:55.544Z"
   },
   {
    "duration": 38,
    "start_time": "2023-09-16T20:40:55.552Z"
   },
   {
    "duration": 15,
    "start_time": "2023-09-16T20:40:55.591Z"
   },
   {
    "duration": 177,
    "start_time": "2023-09-16T20:40:55.610Z"
   },
   {
    "duration": 67,
    "start_time": "2023-09-16T20:40:55.788Z"
   },
   {
    "duration": 58,
    "start_time": "2023-09-16T20:40:55.856Z"
   },
   {
    "duration": 5,
    "start_time": "2023-09-16T20:40:55.915Z"
   },
   {
    "duration": 24,
    "start_time": "2023-09-16T20:40:55.921Z"
   },
   {
    "duration": 40,
    "start_time": "2023-09-16T20:40:55.946Z"
   },
   {
    "duration": 3,
    "start_time": "2023-09-16T20:41:25.917Z"
   },
   {
    "duration": 145,
    "start_time": "2023-09-16T20:44:56.514Z"
   },
   {
    "duration": 1596,
    "start_time": "2023-09-16T20:45:41.020Z"
   },
   {
    "duration": 1434,
    "start_time": "2023-09-16T20:46:49.890Z"
   },
   {
    "duration": 4,
    "start_time": "2023-09-16T20:48:59.059Z"
   },
   {
    "duration": 1155,
    "start_time": "2023-09-16T20:49:05.276Z"
   },
   {
    "duration": 85,
    "start_time": "2023-09-16T20:49:06.433Z"
   },
   {
    "duration": 26,
    "start_time": "2023-09-16T20:49:06.520Z"
   },
   {
    "duration": 3,
    "start_time": "2023-09-16T20:49:06.550Z"
   },
   {
    "duration": 27,
    "start_time": "2023-09-16T20:49:06.555Z"
   },
   {
    "duration": 31,
    "start_time": "2023-09-16T20:49:06.584Z"
   },
   {
    "duration": 15,
    "start_time": "2023-09-16T20:49:06.617Z"
   },
   {
    "duration": 30,
    "start_time": "2023-09-16T20:49:06.634Z"
   },
   {
    "duration": 17,
    "start_time": "2023-09-16T20:49:06.666Z"
   },
   {
    "duration": 27,
    "start_time": "2023-09-16T20:49:06.686Z"
   },
   {
    "duration": 19,
    "start_time": "2023-09-16T20:49:06.715Z"
   },
   {
    "duration": 31,
    "start_time": "2023-09-16T20:49:06.736Z"
   },
   {
    "duration": 19,
    "start_time": "2023-09-16T20:49:06.769Z"
   },
   {
    "duration": 26,
    "start_time": "2023-09-16T20:49:06.790Z"
   },
   {
    "duration": 27,
    "start_time": "2023-09-16T20:49:06.817Z"
   },
   {
    "duration": 21,
    "start_time": "2023-09-16T20:49:06.845Z"
   },
   {
    "duration": 23,
    "start_time": "2023-09-16T20:49:06.867Z"
   },
   {
    "duration": 179,
    "start_time": "2023-09-16T20:49:06.891Z"
   },
   {
    "duration": 11,
    "start_time": "2023-09-16T20:49:07.072Z"
   },
   {
    "duration": 140,
    "start_time": "2023-09-16T20:49:07.085Z"
   },
   {
    "duration": 11,
    "start_time": "2023-09-16T20:49:07.226Z"
   },
   {
    "duration": 17,
    "start_time": "2023-09-16T20:49:07.239Z"
   },
   {
    "duration": 17,
    "start_time": "2023-09-16T20:49:07.257Z"
   },
   {
    "duration": 21,
    "start_time": "2023-09-16T20:49:07.276Z"
   },
   {
    "duration": 335,
    "start_time": "2023-09-16T20:49:07.298Z"
   },
   {
    "duration": 231,
    "start_time": "2023-09-16T20:49:07.635Z"
   },
   {
    "duration": 359,
    "start_time": "2023-09-16T20:49:07.868Z"
   },
   {
    "duration": 243,
    "start_time": "2023-09-16T20:49:08.230Z"
   },
   {
    "duration": 8,
    "start_time": "2023-09-16T20:49:08.475Z"
   },
   {
    "duration": 344,
    "start_time": "2023-09-16T20:49:08.484Z"
   },
   {
    "duration": 6,
    "start_time": "2023-09-16T20:49:08.831Z"
   },
   {
    "duration": 214,
    "start_time": "2023-09-16T20:49:08.839Z"
   },
   {
    "duration": 4,
    "start_time": "2023-09-16T20:49:09.055Z"
   },
   {
    "duration": 13,
    "start_time": "2023-09-16T20:49:09.061Z"
   },
   {
    "duration": 281,
    "start_time": "2023-09-16T20:49:09.076Z"
   },
   {
    "duration": 5,
    "start_time": "2023-09-16T20:49:09.359Z"
   },
   {
    "duration": 9,
    "start_time": "2023-09-16T20:49:09.366Z"
   },
   {
    "duration": 39,
    "start_time": "2023-09-16T20:49:09.377Z"
   },
   {
    "duration": 304,
    "start_time": "2023-09-16T20:49:09.418Z"
   },
   {
    "duration": 158,
    "start_time": "2023-09-16T20:49:09.723Z"
   },
   {
    "duration": 7,
    "start_time": "2023-09-16T20:49:09.883Z"
   },
   {
    "duration": 47,
    "start_time": "2023-09-16T20:49:09.891Z"
   },
   {
    "duration": 28,
    "start_time": "2023-09-16T20:49:09.940Z"
   },
   {
    "duration": 45,
    "start_time": "2023-09-16T20:49:09.971Z"
   },
   {
    "duration": 31,
    "start_time": "2023-09-16T20:49:10.018Z"
   },
   {
    "duration": 188,
    "start_time": "2023-09-16T20:49:10.051Z"
   },
   {
    "duration": 9,
    "start_time": "2023-09-16T20:49:10.241Z"
   },
   {
    "duration": 38,
    "start_time": "2023-09-16T20:49:10.252Z"
   },
   {
    "duration": 22,
    "start_time": "2023-09-16T20:49:10.291Z"
   },
   {
    "duration": 45,
    "start_time": "2023-09-16T20:49:10.314Z"
   },
   {
    "duration": 33,
    "start_time": "2023-09-16T20:49:10.361Z"
   },
   {
    "duration": 6,
    "start_time": "2023-09-16T20:49:13.304Z"
   },
   {
    "duration": 80,
    "start_time": "2023-09-16T20:49:15.062Z"
   },
   {
    "duration": 23,
    "start_time": "2023-09-16T20:49:16.289Z"
   },
   {
    "duration": 3,
    "start_time": "2023-09-16T20:49:21.723Z"
   },
   {
    "duration": 4,
    "start_time": "2023-09-16T20:49:22.678Z"
   },
   {
    "duration": 7,
    "start_time": "2023-09-16T20:49:28.447Z"
   },
   {
    "duration": 91,
    "start_time": "2023-09-16T20:49:41.335Z"
   },
   {
    "duration": 9,
    "start_time": "2023-09-16T20:49:54.025Z"
   },
   {
    "duration": 2,
    "start_time": "2023-09-16T20:50:09.935Z"
   },
   {
    "duration": 8,
    "start_time": "2023-09-16T20:50:11.695Z"
   },
   {
    "duration": 16,
    "start_time": "2023-09-16T20:50:20.310Z"
   },
   {
    "duration": 3,
    "start_time": "2023-09-16T20:50:29.438Z"
   },
   {
    "duration": 8,
    "start_time": "2023-09-16T20:50:30.044Z"
   },
   {
    "duration": 17,
    "start_time": "2023-09-16T20:50:34.549Z"
   },
   {
    "duration": 3,
    "start_time": "2023-09-16T20:50:45.667Z"
   },
   {
    "duration": 10,
    "start_time": "2023-09-16T20:50:47.752Z"
   },
   {
    "duration": 15,
    "start_time": "2023-09-16T20:52:07.857Z"
   },
   {
    "duration": 1469,
    "start_time": "2023-09-17T05:41:54.485Z"
   },
   {
    "duration": 210,
    "start_time": "2023-09-17T05:41:57.813Z"
   },
   {
    "duration": 26,
    "start_time": "2023-09-17T05:41:58.655Z"
   },
   {
    "duration": 4,
    "start_time": "2023-09-17T05:42:03.531Z"
   },
   {
    "duration": 14,
    "start_time": "2023-09-17T05:42:06.899Z"
   },
   {
    "duration": 9,
    "start_time": "2023-09-17T05:42:12.701Z"
   },
   {
    "duration": 3,
    "start_time": "2023-09-17T05:42:17.979Z"
   },
   {
    "duration": 10,
    "start_time": "2023-09-17T05:42:18.524Z"
   },
   {
    "duration": 18,
    "start_time": "2023-09-17T05:42:22.067Z"
   },
   {
    "duration": 6,
    "start_time": "2023-09-17T05:42:28.191Z"
   },
   {
    "duration": 178,
    "start_time": "2023-09-17T05:42:31.197Z"
   },
   {
    "duration": 15,
    "start_time": "2023-09-17T05:42:32.268Z"
   },
   {
    "duration": 132,
    "start_time": "2023-09-17T05:42:33.292Z"
   },
   {
    "duration": 13,
    "start_time": "2023-09-17T05:42:34.678Z"
   },
   {
    "duration": 1447,
    "start_time": "2023-09-17T05:48:20.213Z"
   },
   {
    "duration": 7,
    "start_time": "2023-09-17T05:48:31.628Z"
   },
   {
    "duration": 4,
    "start_time": "2023-09-17T05:48:41.593Z"
   },
   {
    "duration": 8,
    "start_time": "2023-09-17T05:48:51.033Z"
   },
   {
    "duration": 4,
    "start_time": "2023-09-17T05:49:04.815Z"
   },
   {
    "duration": 8,
    "start_time": "2023-09-17T05:51:40.587Z"
   },
   {
    "duration": 4,
    "start_time": "2023-09-17T05:51:53.287Z"
   },
   {
    "duration": 9,
    "start_time": "2023-09-17T05:51:58.483Z"
   },
   {
    "duration": 9,
    "start_time": "2023-09-17T05:53:09.083Z"
   },
   {
    "duration": 9,
    "start_time": "2023-09-17T05:53:47.023Z"
   },
   {
    "duration": 9,
    "start_time": "2023-09-17T05:53:59.778Z"
   },
   {
    "duration": 9,
    "start_time": "2023-09-17T05:54:11.713Z"
   },
   {
    "duration": 9,
    "start_time": "2023-09-17T05:54:26.462Z"
   },
   {
    "duration": 4,
    "start_time": "2023-09-17T05:54:34.025Z"
   },
   {
    "duration": 6,
    "start_time": "2023-09-17T05:55:14.984Z"
   },
   {
    "duration": 361,
    "start_time": "2023-09-17T05:55:57.734Z"
   },
   {
    "duration": 7,
    "start_time": "2023-09-17T05:56:27.709Z"
   },
   {
    "duration": 1212,
    "start_time": "2023-09-17T05:56:55.532Z"
   },
   {
    "duration": 10,
    "start_time": "2023-09-17T05:57:04.007Z"
   },
   {
    "duration": 8,
    "start_time": "2023-09-17T05:57:38.301Z"
   },
   {
    "duration": 6,
    "start_time": "2023-09-17T05:57:59.416Z"
   },
   {
    "duration": 6,
    "start_time": "2023-09-17T05:58:06.156Z"
   },
   {
    "duration": 6,
    "start_time": "2023-09-17T05:58:06.621Z"
   },
   {
    "duration": 7,
    "start_time": "2023-09-17T05:58:07.486Z"
   },
   {
    "duration": 1253,
    "start_time": "2023-09-17T05:58:14.561Z"
   },
   {
    "duration": 77,
    "start_time": "2023-09-17T05:58:15.816Z"
   },
   {
    "duration": 22,
    "start_time": "2023-09-17T05:58:15.895Z"
   },
   {
    "duration": 28,
    "start_time": "2023-09-17T05:58:15.919Z"
   },
   {
    "duration": 20,
    "start_time": "2023-09-17T05:58:15.948Z"
   },
   {
    "duration": 30,
    "start_time": "2023-09-17T05:58:15.970Z"
   },
   {
    "duration": 100,
    "start_time": "2023-09-17T05:58:16.002Z"
   },
   {
    "duration": 82,
    "start_time": "2023-09-17T05:58:16.104Z"
   },
   {
    "duration": 22,
    "start_time": "2023-09-17T05:58:16.187Z"
   },
   {
    "duration": 15,
    "start_time": "2023-09-17T05:58:16.212Z"
   },
   {
    "duration": 27,
    "start_time": "2023-09-17T05:58:16.229Z"
   },
   {
    "duration": 38,
    "start_time": "2023-09-17T05:58:16.258Z"
   },
   {
    "duration": 12,
    "start_time": "2023-09-17T05:58:16.297Z"
   },
   {
    "duration": 9,
    "start_time": "2023-09-17T05:58:16.311Z"
   },
   {
    "duration": 13,
    "start_time": "2023-09-17T05:58:16.322Z"
   },
   {
    "duration": 46,
    "start_time": "2023-09-17T05:58:16.337Z"
   },
   {
    "duration": 26,
    "start_time": "2023-09-17T05:58:16.385Z"
   },
   {
    "duration": 174,
    "start_time": "2023-09-17T05:58:16.412Z"
   },
   {
    "duration": 20,
    "start_time": "2023-09-17T05:58:16.588Z"
   },
   {
    "duration": 143,
    "start_time": "2023-09-17T05:58:16.609Z"
   },
   {
    "duration": 11,
    "start_time": "2023-09-17T05:58:16.754Z"
   },
   {
    "duration": 10,
    "start_time": "2023-09-17T05:58:16.767Z"
   },
   {
    "duration": 25,
    "start_time": "2023-09-17T05:58:16.778Z"
   },
   {
    "duration": 22,
    "start_time": "2023-09-17T05:58:16.804Z"
   },
   {
    "duration": 17,
    "start_time": "2023-09-17T05:58:16.828Z"
   },
   {
    "duration": 14,
    "start_time": "2023-09-17T05:58:16.847Z"
   },
   {
    "duration": 18,
    "start_time": "2023-09-17T05:58:16.863Z"
   },
   {
    "duration": 294,
    "start_time": "2023-09-17T05:58:16.885Z"
   },
   {
    "duration": 222,
    "start_time": "2023-09-17T05:58:17.181Z"
   },
   {
    "duration": 333,
    "start_time": "2023-09-17T05:58:17.405Z"
   },
   {
    "duration": 225,
    "start_time": "2023-09-17T05:58:17.740Z"
   },
   {
    "duration": 8,
    "start_time": "2023-09-17T05:58:17.967Z"
   },
   {
    "duration": 342,
    "start_time": "2023-09-17T05:58:17.976Z"
   },
   {
    "duration": 6,
    "start_time": "2023-09-17T05:58:18.320Z"
   },
   {
    "duration": 330,
    "start_time": "2023-09-17T05:58:18.327Z"
   },
   {
    "duration": 5,
    "start_time": "2023-09-17T05:58:18.658Z"
   },
   {
    "duration": 14,
    "start_time": "2023-09-17T05:58:18.664Z"
   },
   {
    "duration": 252,
    "start_time": "2023-09-17T05:58:18.681Z"
   },
   {
    "duration": 5,
    "start_time": "2023-09-17T05:58:18.935Z"
   },
   {
    "duration": 29,
    "start_time": "2023-09-17T05:58:18.943Z"
   },
   {
    "duration": 26,
    "start_time": "2023-09-17T05:58:18.974Z"
   },
   {
    "duration": 303,
    "start_time": "2023-09-17T05:58:19.002Z"
   },
   {
    "duration": 124,
    "start_time": "2023-09-17T05:58:19.307Z"
   },
   {
    "duration": 6,
    "start_time": "2023-09-17T05:58:19.433Z"
   },
   {
    "duration": 29,
    "start_time": "2023-09-17T05:58:19.440Z"
   },
   {
    "duration": 4,
    "start_time": "2023-09-17T05:58:19.470Z"
   },
   {
    "duration": 36,
    "start_time": "2023-09-17T05:58:19.475Z"
   },
   {
    "duration": 5,
    "start_time": "2023-09-17T05:58:19.513Z"
   },
   {
    "duration": 131,
    "start_time": "2023-09-17T05:58:19.520Z"
   },
   {
    "duration": 7,
    "start_time": "2023-09-17T05:58:19.653Z"
   },
   {
    "duration": 25,
    "start_time": "2023-09-17T05:58:19.662Z"
   },
   {
    "duration": 4,
    "start_time": "2023-09-17T05:58:19.702Z"
   },
   {
    "duration": 13,
    "start_time": "2023-09-17T05:58:19.708Z"
   },
   {
    "duration": 14,
    "start_time": "2023-09-17T05:58:19.723Z"
   },
   {
    "duration": 15,
    "start_time": "2023-09-17T06:15:37.077Z"
   },
   {
    "duration": 8,
    "start_time": "2023-09-17T06:15:40.383Z"
   },
   {
    "duration": 7,
    "start_time": "2023-09-17T06:15:40.739Z"
   },
   {
    "duration": 216,
    "start_time": "2023-09-17T06:15:41.291Z"
   },
   {
    "duration": 1181,
    "start_time": "2023-09-17T06:15:50.541Z"
   },
   {
    "duration": 76,
    "start_time": "2023-09-17T06:15:51.725Z"
   },
   {
    "duration": 23,
    "start_time": "2023-09-17T06:15:51.803Z"
   },
   {
    "duration": 66,
    "start_time": "2023-09-17T06:15:51.828Z"
   },
   {
    "duration": 23,
    "start_time": "2023-09-17T06:15:51.896Z"
   },
   {
    "duration": 32,
    "start_time": "2023-09-17T06:15:51.921Z"
   },
   {
    "duration": 23,
    "start_time": "2023-09-17T06:15:51.955Z"
   },
   {
    "duration": 159,
    "start_time": "2023-09-17T06:15:51.979Z"
   },
   {
    "duration": 32,
    "start_time": "2023-09-17T06:15:52.141Z"
   },
   {
    "duration": 32,
    "start_time": "2023-09-17T06:15:52.175Z"
   },
   {
    "duration": 29,
    "start_time": "2023-09-17T06:15:52.209Z"
   },
   {
    "duration": 33,
    "start_time": "2023-09-17T06:15:52.239Z"
   },
   {
    "duration": 129,
    "start_time": "2023-09-17T06:15:52.273Z"
   },
   {
    "duration": 222,
    "start_time": "2023-09-17T06:15:52.405Z"
   },
   {
    "duration": 198,
    "start_time": "2023-09-17T06:15:52.628Z"
   },
   {
    "duration": 73,
    "start_time": "2023-09-17T06:15:52.827Z"
   },
   {
    "duration": 50,
    "start_time": "2023-09-17T06:15:52.902Z"
   },
   {
    "duration": 250,
    "start_time": "2023-09-17T06:15:52.953Z"
   },
   {
    "duration": 12,
    "start_time": "2023-09-17T06:15:53.204Z"
   },
   {
    "duration": 134,
    "start_time": "2023-09-17T06:15:53.217Z"
   },
   {
    "duration": 11,
    "start_time": "2023-09-17T06:15:53.353Z"
   },
   {
    "duration": 177,
    "start_time": "2023-09-17T06:15:53.366Z"
   },
   {
    "duration": 27,
    "start_time": "2023-09-17T06:15:53.545Z"
   },
   {
    "duration": 58,
    "start_time": "2023-09-17T06:15:53.574Z"
   },
   {
    "duration": 56,
    "start_time": "2023-09-17T06:15:53.633Z"
   },
   {
    "duration": 8,
    "start_time": "2023-09-17T06:15:53.691Z"
   },
   {
    "duration": 107,
    "start_time": "2023-09-17T06:15:53.700Z"
   },
   {
    "duration": 316,
    "start_time": "2023-09-17T06:15:53.808Z"
   },
   {
    "duration": 227,
    "start_time": "2023-09-17T06:15:54.126Z"
   },
   {
    "duration": 329,
    "start_time": "2023-09-17T06:15:54.355Z"
   },
   {
    "duration": 256,
    "start_time": "2023-09-17T06:15:54.686Z"
   },
   {
    "duration": 8,
    "start_time": "2023-09-17T06:15:54.944Z"
   },
   {
    "duration": 288,
    "start_time": "2023-09-17T06:15:54.954Z"
   },
   {
    "duration": 6,
    "start_time": "2023-09-17T06:15:55.244Z"
   },
   {
    "duration": 172,
    "start_time": "2023-09-17T06:15:55.252Z"
   },
   {
    "duration": 5,
    "start_time": "2023-09-17T06:15:55.427Z"
   },
   {
    "duration": 23,
    "start_time": "2023-09-17T06:15:55.434Z"
   },
   {
    "duration": 244,
    "start_time": "2023-09-17T06:15:55.459Z"
   },
   {
    "duration": 4,
    "start_time": "2023-09-17T06:15:55.705Z"
   },
   {
    "duration": 19,
    "start_time": "2023-09-17T06:15:55.711Z"
   },
   {
    "duration": 36,
    "start_time": "2023-09-17T06:15:55.733Z"
   },
   {
    "duration": 295,
    "start_time": "2023-09-17T06:15:55.770Z"
   },
   {
    "duration": 124,
    "start_time": "2023-09-17T06:15:56.067Z"
   },
   {
    "duration": 112,
    "start_time": "2023-09-17T06:15:56.193Z"
   },
   {
    "duration": 149,
    "start_time": "2023-09-17T06:15:56.307Z"
   },
   {
    "duration": 4,
    "start_time": "2023-09-17T06:15:56.458Z"
   },
   {
    "duration": 22,
    "start_time": "2023-09-17T06:15:56.463Z"
   },
   {
    "duration": 7,
    "start_time": "2023-09-17T06:15:56.486Z"
   },
   {
    "duration": 118,
    "start_time": "2023-09-17T06:15:56.495Z"
   },
   {
    "duration": 7,
    "start_time": "2023-09-17T06:15:56.615Z"
   },
   {
    "duration": 28,
    "start_time": "2023-09-17T06:15:56.624Z"
   },
   {
    "duration": 4,
    "start_time": "2023-09-17T06:15:56.653Z"
   },
   {
    "duration": 11,
    "start_time": "2023-09-17T06:15:56.659Z"
   },
   {
    "duration": 32,
    "start_time": "2023-09-17T06:15:56.672Z"
   }
  ],
  "kernelspec": {
   "display_name": "Python 3 (ipykernel)",
   "language": "python",
   "name": "python3"
  },
  "language_info": {
   "codemirror_mode": {
    "name": "ipython",
    "version": 3
   },
   "file_extension": ".py",
   "mimetype": "text/x-python",
   "name": "python",
   "nbconvert_exporter": "python",
   "pygments_lexer": "ipython3",
   "version": "3.9.5"
  },
  "toc": {
   "base_numbering": 1,
   "nav_menu": {},
   "number_sections": true,
   "sideBar": true,
   "skip_h1_title": true,
   "title_cell": "Table of Contents",
   "title_sidebar": "Contents",
   "toc_cell": false,
   "toc_position": {},
   "toc_section_display": true,
   "toc_window_display": false
  }
 },
 "nbformat": 4,
 "nbformat_minor": 2
}
