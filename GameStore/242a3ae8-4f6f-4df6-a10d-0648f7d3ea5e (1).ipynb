{
 "cells": [
  {
   "cell_type": "markdown",
   "metadata": {},
   "source": [
    "# Исследование интернет-магазина компьютерных игр \"Стримчик\"\n",
    "\n",
    "Объект исследования - интернет-магазин компьютерных игр \"Стримчик\".\n",
    "\n",
    "**Цель исследования** - выявить определяющие успешность игры закономерности. \n",
    "\n",
    "    1.Провести исследовательский анализ.\n",
    "    2.Составить портрет каждого пользователя.\n",
    "    3.Проверить гипотезы.\n",
    " \n",
    "Ход исследования:\n",
    "\n",
    "Данные о продажах игр, оценки пользователей и экспертов, жанры и платформы я получу из файла /datasets/games.csv. Данные представлены до 2016 года. \n",
    "\n",
    "Для начала проведу предобработку данных, преобразую данные в нужный тип, проверю на наличие пропусков и дубликатов, при необходимости исправлю это. Создам необходимые таблицы / столбцы с расчетами, визуализирую данные с помощью гистограмм."
   ]
  },
  {
   "cell_type": "markdown",
   "metadata": {},
   "source": [
    "**ЗАГРУЗКА ДАННЫХ**\n"
   ]
  },
  {
   "cell_type": "code",
   "execution_count": 1,
   "metadata": {},
   "outputs": [],
   "source": [
    "import pandas as pd\n",
    "import matplotlib.pyplot as plt\n",
    "import numpy as np\n",
    "import seaborn as sns\n",
    "from scipy import stats as st\n",
    "import warnings\n",
    "warnings.filterwarnings('ignore')"
   ]
  },
  {
   "cell_type": "code",
   "execution_count": 2,
   "metadata": {},
   "outputs": [],
   "source": [
    "data = pd.read_csv('/datasets/games.csv')"
   ]
  },
  {
   "cell_type": "code",
   "execution_count": 3,
   "metadata": {},
   "outputs": [
    {
     "data": {
      "text/html": [
       "<div>\n",
       "<style scoped>\n",
       "    .dataframe tbody tr th:only-of-type {\n",
       "        vertical-align: middle;\n",
       "    }\n",
       "\n",
       "    .dataframe tbody tr th {\n",
       "        vertical-align: top;\n",
       "    }\n",
       "\n",
       "    .dataframe thead th {\n",
       "        text-align: right;\n",
       "    }\n",
       "</style>\n",
       "<table border=\"1\" class=\"dataframe\">\n",
       "  <thead>\n",
       "    <tr style=\"text-align: right;\">\n",
       "      <th></th>\n",
       "      <th>Name</th>\n",
       "      <th>Platform</th>\n",
       "      <th>Year_of_Release</th>\n",
       "      <th>Genre</th>\n",
       "      <th>NA_sales</th>\n",
       "      <th>EU_sales</th>\n",
       "      <th>JP_sales</th>\n",
       "      <th>Other_sales</th>\n",
       "      <th>Critic_Score</th>\n",
       "      <th>User_Score</th>\n",
       "      <th>Rating</th>\n",
       "    </tr>\n",
       "  </thead>\n",
       "  <tbody>\n",
       "    <tr>\n",
       "      <th>0</th>\n",
       "      <td>Wii Sports</td>\n",
       "      <td>Wii</td>\n",
       "      <td>2006.0</td>\n",
       "      <td>Sports</td>\n",
       "      <td>41.36</td>\n",
       "      <td>28.96</td>\n",
       "      <td>3.77</td>\n",
       "      <td>8.45</td>\n",
       "      <td>76.0</td>\n",
       "      <td>8</td>\n",
       "      <td>E</td>\n",
       "    </tr>\n",
       "    <tr>\n",
       "      <th>1</th>\n",
       "      <td>Super Mario Bros.</td>\n",
       "      <td>NES</td>\n",
       "      <td>1985.0</td>\n",
       "      <td>Platform</td>\n",
       "      <td>29.08</td>\n",
       "      <td>3.58</td>\n",
       "      <td>6.81</td>\n",
       "      <td>0.77</td>\n",
       "      <td>NaN</td>\n",
       "      <td>NaN</td>\n",
       "      <td>NaN</td>\n",
       "    </tr>\n",
       "    <tr>\n",
       "      <th>2</th>\n",
       "      <td>Mario Kart Wii</td>\n",
       "      <td>Wii</td>\n",
       "      <td>2008.0</td>\n",
       "      <td>Racing</td>\n",
       "      <td>15.68</td>\n",
       "      <td>12.76</td>\n",
       "      <td>3.79</td>\n",
       "      <td>3.29</td>\n",
       "      <td>82.0</td>\n",
       "      <td>8.3</td>\n",
       "      <td>E</td>\n",
       "    </tr>\n",
       "    <tr>\n",
       "      <th>3</th>\n",
       "      <td>Wii Sports Resort</td>\n",
       "      <td>Wii</td>\n",
       "      <td>2009.0</td>\n",
       "      <td>Sports</td>\n",
       "      <td>15.61</td>\n",
       "      <td>10.93</td>\n",
       "      <td>3.28</td>\n",
       "      <td>2.95</td>\n",
       "      <td>80.0</td>\n",
       "      <td>8</td>\n",
       "      <td>E</td>\n",
       "    </tr>\n",
       "    <tr>\n",
       "      <th>4</th>\n",
       "      <td>Pokemon Red/Pokemon Blue</td>\n",
       "      <td>GB</td>\n",
       "      <td>1996.0</td>\n",
       "      <td>Role-Playing</td>\n",
       "      <td>11.27</td>\n",
       "      <td>8.89</td>\n",
       "      <td>10.22</td>\n",
       "      <td>1.00</td>\n",
       "      <td>NaN</td>\n",
       "      <td>NaN</td>\n",
       "      <td>NaN</td>\n",
       "    </tr>\n",
       "    <tr>\n",
       "      <th>5</th>\n",
       "      <td>Tetris</td>\n",
       "      <td>GB</td>\n",
       "      <td>1989.0</td>\n",
       "      <td>Puzzle</td>\n",
       "      <td>23.20</td>\n",
       "      <td>2.26</td>\n",
       "      <td>4.22</td>\n",
       "      <td>0.58</td>\n",
       "      <td>NaN</td>\n",
       "      <td>NaN</td>\n",
       "      <td>NaN</td>\n",
       "    </tr>\n",
       "    <tr>\n",
       "      <th>6</th>\n",
       "      <td>New Super Mario Bros.</td>\n",
       "      <td>DS</td>\n",
       "      <td>2006.0</td>\n",
       "      <td>Platform</td>\n",
       "      <td>11.28</td>\n",
       "      <td>9.14</td>\n",
       "      <td>6.50</td>\n",
       "      <td>2.88</td>\n",
       "      <td>89.0</td>\n",
       "      <td>8.5</td>\n",
       "      <td>E</td>\n",
       "    </tr>\n",
       "    <tr>\n",
       "      <th>7</th>\n",
       "      <td>Wii Play</td>\n",
       "      <td>Wii</td>\n",
       "      <td>2006.0</td>\n",
       "      <td>Misc</td>\n",
       "      <td>13.96</td>\n",
       "      <td>9.18</td>\n",
       "      <td>2.93</td>\n",
       "      <td>2.84</td>\n",
       "      <td>58.0</td>\n",
       "      <td>6.6</td>\n",
       "      <td>E</td>\n",
       "    </tr>\n",
       "    <tr>\n",
       "      <th>8</th>\n",
       "      <td>New Super Mario Bros. Wii</td>\n",
       "      <td>Wii</td>\n",
       "      <td>2009.0</td>\n",
       "      <td>Platform</td>\n",
       "      <td>14.44</td>\n",
       "      <td>6.94</td>\n",
       "      <td>4.70</td>\n",
       "      <td>2.24</td>\n",
       "      <td>87.0</td>\n",
       "      <td>8.4</td>\n",
       "      <td>E</td>\n",
       "    </tr>\n",
       "    <tr>\n",
       "      <th>9</th>\n",
       "      <td>Duck Hunt</td>\n",
       "      <td>NES</td>\n",
       "      <td>1984.0</td>\n",
       "      <td>Shooter</td>\n",
       "      <td>26.93</td>\n",
       "      <td>0.63</td>\n",
       "      <td>0.28</td>\n",
       "      <td>0.47</td>\n",
       "      <td>NaN</td>\n",
       "      <td>NaN</td>\n",
       "      <td>NaN</td>\n",
       "    </tr>\n",
       "  </tbody>\n",
       "</table>\n",
       "</div>"
      ],
      "text/plain": [
       "                        Name Platform  Year_of_Release         Genre  \\\n",
       "0                 Wii Sports      Wii           2006.0        Sports   \n",
       "1          Super Mario Bros.      NES           1985.0      Platform   \n",
       "2             Mario Kart Wii      Wii           2008.0        Racing   \n",
       "3          Wii Sports Resort      Wii           2009.0        Sports   \n",
       "4   Pokemon Red/Pokemon Blue       GB           1996.0  Role-Playing   \n",
       "5                     Tetris       GB           1989.0        Puzzle   \n",
       "6      New Super Mario Bros.       DS           2006.0      Platform   \n",
       "7                   Wii Play      Wii           2006.0          Misc   \n",
       "8  New Super Mario Bros. Wii      Wii           2009.0      Platform   \n",
       "9                  Duck Hunt      NES           1984.0       Shooter   \n",
       "\n",
       "   NA_sales  EU_sales  JP_sales  Other_sales  Critic_Score User_Score Rating  \n",
       "0     41.36     28.96      3.77         8.45          76.0          8      E  \n",
       "1     29.08      3.58      6.81         0.77           NaN        NaN    NaN  \n",
       "2     15.68     12.76      3.79         3.29          82.0        8.3      E  \n",
       "3     15.61     10.93      3.28         2.95          80.0          8      E  \n",
       "4     11.27      8.89     10.22         1.00           NaN        NaN    NaN  \n",
       "5     23.20      2.26      4.22         0.58           NaN        NaN    NaN  \n",
       "6     11.28      9.14      6.50         2.88          89.0        8.5      E  \n",
       "7     13.96      9.18      2.93         2.84          58.0        6.6      E  \n",
       "8     14.44      6.94      4.70         2.24          87.0        8.4      E  \n",
       "9     26.93      0.63      0.28         0.47           NaN        NaN    NaN  "
      ]
     },
     "execution_count": 3,
     "metadata": {},
     "output_type": "execute_result"
    }
   ],
   "source": [
    "data.head(10)"
   ]
  },
  {
   "cell_type": "code",
   "execution_count": 4,
   "metadata": {},
   "outputs": [
    {
     "name": "stdout",
     "output_type": "stream",
     "text": [
      "<class 'pandas.core.frame.DataFrame'>\n",
      "RangeIndex: 16715 entries, 0 to 16714\n",
      "Data columns (total 11 columns):\n",
      " #   Column           Non-Null Count  Dtype  \n",
      "---  ------           --------------  -----  \n",
      " 0   Name             16713 non-null  object \n",
      " 1   Platform         16715 non-null  object \n",
      " 2   Year_of_Release  16446 non-null  float64\n",
      " 3   Genre            16713 non-null  object \n",
      " 4   NA_sales         16715 non-null  float64\n",
      " 5   EU_sales         16715 non-null  float64\n",
      " 6   JP_sales         16715 non-null  float64\n",
      " 7   Other_sales      16715 non-null  float64\n",
      " 8   Critic_Score     8137 non-null   float64\n",
      " 9   User_Score       10014 non-null  object \n",
      " 10  Rating           9949 non-null   object \n",
      "dtypes: float64(6), object(5)\n",
      "memory usage: 1.4+ MB\n"
     ]
    }
   ],
   "source": [
    "data.info()"
   ]
  },
  {
   "cell_type": "markdown",
   "metadata": {},
   "source": [
    "    Поменяем тип данных у года релиза на int, оценки пользователя на float64, в остальных все корректно.\n"
   ]
  },
  {
   "cell_type": "markdown",
   "metadata": {},
   "source": [
    "**ПРЕДОБРАБОТКА ДАННЫХ**"
   ]
  },
  {
   "cell_type": "code",
   "execution_count": 5,
   "metadata": {},
   "outputs": [
    {
     "data": {
      "text/html": [
       "<div>\n",
       "<style scoped>\n",
       "    .dataframe tbody tr th:only-of-type {\n",
       "        vertical-align: middle;\n",
       "    }\n",
       "\n",
       "    .dataframe tbody tr th {\n",
       "        vertical-align: top;\n",
       "    }\n",
       "\n",
       "    .dataframe thead th {\n",
       "        text-align: right;\n",
       "    }\n",
       "</style>\n",
       "<table border=\"1\" class=\"dataframe\">\n",
       "  <thead>\n",
       "    <tr style=\"text-align: right;\">\n",
       "      <th></th>\n",
       "      <th>name</th>\n",
       "      <th>platform</th>\n",
       "      <th>year_of_release</th>\n",
       "      <th>genre</th>\n",
       "      <th>na_sales</th>\n",
       "      <th>eu_sales</th>\n",
       "      <th>jp_sales</th>\n",
       "      <th>other_sales</th>\n",
       "      <th>critic_score</th>\n",
       "      <th>user_score</th>\n",
       "      <th>rating</th>\n",
       "    </tr>\n",
       "  </thead>\n",
       "  <tbody>\n",
       "    <tr>\n",
       "      <th>0</th>\n",
       "      <td>Wii Sports</td>\n",
       "      <td>Wii</td>\n",
       "      <td>2006.0</td>\n",
       "      <td>Sports</td>\n",
       "      <td>41.36</td>\n",
       "      <td>28.96</td>\n",
       "      <td>3.77</td>\n",
       "      <td>8.45</td>\n",
       "      <td>76.0</td>\n",
       "      <td>8</td>\n",
       "      <td>E</td>\n",
       "    </tr>\n",
       "    <tr>\n",
       "      <th>1</th>\n",
       "      <td>Super Mario Bros.</td>\n",
       "      <td>NES</td>\n",
       "      <td>1985.0</td>\n",
       "      <td>Platform</td>\n",
       "      <td>29.08</td>\n",
       "      <td>3.58</td>\n",
       "      <td>6.81</td>\n",
       "      <td>0.77</td>\n",
       "      <td>NaN</td>\n",
       "      <td>NaN</td>\n",
       "      <td>NaN</td>\n",
       "    </tr>\n",
       "    <tr>\n",
       "      <th>2</th>\n",
       "      <td>Mario Kart Wii</td>\n",
       "      <td>Wii</td>\n",
       "      <td>2008.0</td>\n",
       "      <td>Racing</td>\n",
       "      <td>15.68</td>\n",
       "      <td>12.76</td>\n",
       "      <td>3.79</td>\n",
       "      <td>3.29</td>\n",
       "      <td>82.0</td>\n",
       "      <td>8.3</td>\n",
       "      <td>E</td>\n",
       "    </tr>\n",
       "    <tr>\n",
       "      <th>3</th>\n",
       "      <td>Wii Sports Resort</td>\n",
       "      <td>Wii</td>\n",
       "      <td>2009.0</td>\n",
       "      <td>Sports</td>\n",
       "      <td>15.61</td>\n",
       "      <td>10.93</td>\n",
       "      <td>3.28</td>\n",
       "      <td>2.95</td>\n",
       "      <td>80.0</td>\n",
       "      <td>8</td>\n",
       "      <td>E</td>\n",
       "    </tr>\n",
       "    <tr>\n",
       "      <th>4</th>\n",
       "      <td>Pokemon Red/Pokemon Blue</td>\n",
       "      <td>GB</td>\n",
       "      <td>1996.0</td>\n",
       "      <td>Role-Playing</td>\n",
       "      <td>11.27</td>\n",
       "      <td>8.89</td>\n",
       "      <td>10.22</td>\n",
       "      <td>1.00</td>\n",
       "      <td>NaN</td>\n",
       "      <td>NaN</td>\n",
       "      <td>NaN</td>\n",
       "    </tr>\n",
       "    <tr>\n",
       "      <th>5</th>\n",
       "      <td>Tetris</td>\n",
       "      <td>GB</td>\n",
       "      <td>1989.0</td>\n",
       "      <td>Puzzle</td>\n",
       "      <td>23.20</td>\n",
       "      <td>2.26</td>\n",
       "      <td>4.22</td>\n",
       "      <td>0.58</td>\n",
       "      <td>NaN</td>\n",
       "      <td>NaN</td>\n",
       "      <td>NaN</td>\n",
       "    </tr>\n",
       "    <tr>\n",
       "      <th>6</th>\n",
       "      <td>New Super Mario Bros.</td>\n",
       "      <td>DS</td>\n",
       "      <td>2006.0</td>\n",
       "      <td>Platform</td>\n",
       "      <td>11.28</td>\n",
       "      <td>9.14</td>\n",
       "      <td>6.50</td>\n",
       "      <td>2.88</td>\n",
       "      <td>89.0</td>\n",
       "      <td>8.5</td>\n",
       "      <td>E</td>\n",
       "    </tr>\n",
       "    <tr>\n",
       "      <th>7</th>\n",
       "      <td>Wii Play</td>\n",
       "      <td>Wii</td>\n",
       "      <td>2006.0</td>\n",
       "      <td>Misc</td>\n",
       "      <td>13.96</td>\n",
       "      <td>9.18</td>\n",
       "      <td>2.93</td>\n",
       "      <td>2.84</td>\n",
       "      <td>58.0</td>\n",
       "      <td>6.6</td>\n",
       "      <td>E</td>\n",
       "    </tr>\n",
       "    <tr>\n",
       "      <th>8</th>\n",
       "      <td>New Super Mario Bros. Wii</td>\n",
       "      <td>Wii</td>\n",
       "      <td>2009.0</td>\n",
       "      <td>Platform</td>\n",
       "      <td>14.44</td>\n",
       "      <td>6.94</td>\n",
       "      <td>4.70</td>\n",
       "      <td>2.24</td>\n",
       "      <td>87.0</td>\n",
       "      <td>8.4</td>\n",
       "      <td>E</td>\n",
       "    </tr>\n",
       "    <tr>\n",
       "      <th>9</th>\n",
       "      <td>Duck Hunt</td>\n",
       "      <td>NES</td>\n",
       "      <td>1984.0</td>\n",
       "      <td>Shooter</td>\n",
       "      <td>26.93</td>\n",
       "      <td>0.63</td>\n",
       "      <td>0.28</td>\n",
       "      <td>0.47</td>\n",
       "      <td>NaN</td>\n",
       "      <td>NaN</td>\n",
       "      <td>NaN</td>\n",
       "    </tr>\n",
       "  </tbody>\n",
       "</table>\n",
       "</div>"
      ],
      "text/plain": [
       "                        name platform  year_of_release         genre  \\\n",
       "0                 Wii Sports      Wii           2006.0        Sports   \n",
       "1          Super Mario Bros.      NES           1985.0      Platform   \n",
       "2             Mario Kart Wii      Wii           2008.0        Racing   \n",
       "3          Wii Sports Resort      Wii           2009.0        Sports   \n",
       "4   Pokemon Red/Pokemon Blue       GB           1996.0  Role-Playing   \n",
       "5                     Tetris       GB           1989.0        Puzzle   \n",
       "6      New Super Mario Bros.       DS           2006.0      Platform   \n",
       "7                   Wii Play      Wii           2006.0          Misc   \n",
       "8  New Super Mario Bros. Wii      Wii           2009.0      Platform   \n",
       "9                  Duck Hunt      NES           1984.0       Shooter   \n",
       "\n",
       "   na_sales  eu_sales  jp_sales  other_sales  critic_score user_score rating  \n",
       "0     41.36     28.96      3.77         8.45          76.0          8      E  \n",
       "1     29.08      3.58      6.81         0.77           NaN        NaN    NaN  \n",
       "2     15.68     12.76      3.79         3.29          82.0        8.3      E  \n",
       "3     15.61     10.93      3.28         2.95          80.0          8      E  \n",
       "4     11.27      8.89     10.22         1.00           NaN        NaN    NaN  \n",
       "5     23.20      2.26      4.22         0.58           NaN        NaN    NaN  \n",
       "6     11.28      9.14      6.50         2.88          89.0        8.5      E  \n",
       "7     13.96      9.18      2.93         2.84          58.0        6.6      E  \n",
       "8     14.44      6.94      4.70         2.24          87.0        8.4      E  \n",
       "9     26.93      0.63      0.28         0.47           NaN        NaN    NaN  "
      ]
     },
     "execution_count": 5,
     "metadata": {},
     "output_type": "execute_result"
    }
   ],
   "source": [
    "data = data.rename(columns=lambda x: x.lower())\n",
    "data.head(10)"
   ]
  },
  {
   "cell_type": "code",
   "execution_count": 6,
   "metadata": {
    "scrolled": true
   },
   "outputs": [
    {
     "data": {
      "text/plain": [
       "name                  2\n",
       "platform              0\n",
       "year_of_release     269\n",
       "genre                 2\n",
       "na_sales              0\n",
       "eu_sales              0\n",
       "jp_sales              0\n",
       "other_sales           0\n",
       "critic_score       8578\n",
       "user_score         6701\n",
       "rating             6766\n",
       "dtype: int64"
      ]
     },
     "execution_count": 6,
     "metadata": {},
     "output_type": "execute_result"
    }
   ],
   "source": [
    "data.isna().sum()"
   ]
  },
  {
   "cell_type": "markdown",
   "metadata": {},
   "source": [
    "    Одинаковое количество пропусков в наименовании и жанре, скорее всего это одни и те же строки, так что удалим их.\n",
    "    Пропуски в оценках скорее всего из-за того,что этим играм еще не дали оценку, трогать их пока не будем.\n",
    "    Пропуск в категории оставим как есть, так как на дальнейшее исследование это не повлияет.\n",
    "    "
   ]
  },
  {
   "cell_type": "code",
   "execution_count": 7,
   "metadata": {},
   "outputs": [
    {
     "data": {
      "text/html": [
       "<div>\n",
       "<style scoped>\n",
       "    .dataframe tbody tr th:only-of-type {\n",
       "        vertical-align: middle;\n",
       "    }\n",
       "\n",
       "    .dataframe tbody tr th {\n",
       "        vertical-align: top;\n",
       "    }\n",
       "\n",
       "    .dataframe thead th {\n",
       "        text-align: right;\n",
       "    }\n",
       "</style>\n",
       "<table border=\"1\" class=\"dataframe\">\n",
       "  <thead>\n",
       "    <tr style=\"text-align: right;\">\n",
       "      <th></th>\n",
       "      <th>name</th>\n",
       "      <th>platform</th>\n",
       "      <th>year_of_release</th>\n",
       "      <th>genre</th>\n",
       "      <th>na_sales</th>\n",
       "      <th>eu_sales</th>\n",
       "      <th>jp_sales</th>\n",
       "      <th>other_sales</th>\n",
       "      <th>critic_score</th>\n",
       "      <th>user_score</th>\n",
       "      <th>rating</th>\n",
       "    </tr>\n",
       "  </thead>\n",
       "  <tbody>\n",
       "    <tr>\n",
       "      <th>659</th>\n",
       "      <td>NaN</td>\n",
       "      <td>GEN</td>\n",
       "      <td>1993.0</td>\n",
       "      <td>NaN</td>\n",
       "      <td>1.78</td>\n",
       "      <td>0.53</td>\n",
       "      <td>0.00</td>\n",
       "      <td>0.08</td>\n",
       "      <td>NaN</td>\n",
       "      <td>NaN</td>\n",
       "      <td>NaN</td>\n",
       "    </tr>\n",
       "    <tr>\n",
       "      <th>14244</th>\n",
       "      <td>NaN</td>\n",
       "      <td>GEN</td>\n",
       "      <td>1993.0</td>\n",
       "      <td>NaN</td>\n",
       "      <td>0.00</td>\n",
       "      <td>0.00</td>\n",
       "      <td>0.03</td>\n",
       "      <td>0.00</td>\n",
       "      <td>NaN</td>\n",
       "      <td>NaN</td>\n",
       "      <td>NaN</td>\n",
       "    </tr>\n",
       "  </tbody>\n",
       "</table>\n",
       "</div>"
      ],
      "text/plain": [
       "      name platform  year_of_release genre  na_sales  eu_sales  jp_sales  \\\n",
       "659    NaN      GEN           1993.0   NaN      1.78      0.53      0.00   \n",
       "14244  NaN      GEN           1993.0   NaN      0.00      0.00      0.03   \n",
       "\n",
       "       other_sales  critic_score user_score rating  \n",
       "659           0.08           NaN        NaN    NaN  \n",
       "14244         0.00           NaN        NaN    NaN  "
      ]
     },
     "execution_count": 7,
     "metadata": {},
     "output_type": "execute_result"
    }
   ],
   "source": [
    "data[data['name'].isnull()]"
   ]
  },
  {
   "cell_type": "markdown",
   "metadata": {},
   "source": [
    "    Действительно, там где не указано наименивание, так же отсутствует жанр - удаляем."
   ]
  },
  {
   "cell_type": "code",
   "execution_count": 8,
   "metadata": {},
   "outputs": [
    {
     "data": {
      "text/plain": [
       "0"
      ]
     },
     "execution_count": 8,
     "metadata": {},
     "output_type": "execute_result"
    }
   ],
   "source": [
    "#Проверяем наличие дубликатов\n",
    "data.duplicated().sum()"
   ]
  },
  {
   "cell_type": "markdown",
   "metadata": {},
   "source": [
    "    Дублиткатов в таблице нет."
   ]
  },
  {
   "cell_type": "code",
   "execution_count": 9,
   "metadata": {},
   "outputs": [
    {
     "data": {
      "text/html": [
       "<div>\n",
       "<style scoped>\n",
       "    .dataframe tbody tr th:only-of-type {\n",
       "        vertical-align: middle;\n",
       "    }\n",
       "\n",
       "    .dataframe tbody tr th {\n",
       "        vertical-align: top;\n",
       "    }\n",
       "\n",
       "    .dataframe thead th {\n",
       "        text-align: right;\n",
       "    }\n",
       "</style>\n",
       "<table border=\"1\" class=\"dataframe\">\n",
       "  <thead>\n",
       "    <tr style=\"text-align: right;\">\n",
       "      <th></th>\n",
       "      <th>name</th>\n",
       "      <th>platform</th>\n",
       "      <th>year_of_release</th>\n",
       "      <th>genre</th>\n",
       "      <th>na_sales</th>\n",
       "      <th>eu_sales</th>\n",
       "      <th>jp_sales</th>\n",
       "      <th>other_sales</th>\n",
       "      <th>critic_score</th>\n",
       "      <th>user_score</th>\n",
       "      <th>rating</th>\n",
       "    </tr>\n",
       "  </thead>\n",
       "  <tbody>\n",
       "    <tr>\n",
       "      <th>1591</th>\n",
       "      <td>Need for Speed: Most Wanted</td>\n",
       "      <td>X360</td>\n",
       "      <td>2005.0</td>\n",
       "      <td>Racing</td>\n",
       "      <td>1.0</td>\n",
       "      <td>0.13</td>\n",
       "      <td>0.02</td>\n",
       "      <td>0.10</td>\n",
       "      <td>83.0</td>\n",
       "      <td>8.5</td>\n",
       "      <td>T</td>\n",
       "    </tr>\n",
       "    <tr>\n",
       "      <th>4127</th>\n",
       "      <td>Sonic the Hedgehog</td>\n",
       "      <td>PS3</td>\n",
       "      <td>NaN</td>\n",
       "      <td>Platform</td>\n",
       "      <td>0.0</td>\n",
       "      <td>0.48</td>\n",
       "      <td>0.00</td>\n",
       "      <td>0.00</td>\n",
       "      <td>43.0</td>\n",
       "      <td>4.1</td>\n",
       "      <td>E10+</td>\n",
       "    </tr>\n",
       "    <tr>\n",
       "      <th>11715</th>\n",
       "      <td>Need for Speed: Most Wanted</td>\n",
       "      <td>PC</td>\n",
       "      <td>2012.0</td>\n",
       "      <td>Racing</td>\n",
       "      <td>0.0</td>\n",
       "      <td>0.06</td>\n",
       "      <td>0.00</td>\n",
       "      <td>0.02</td>\n",
       "      <td>82.0</td>\n",
       "      <td>8.5</td>\n",
       "      <td>T</td>\n",
       "    </tr>\n",
       "    <tr>\n",
       "      <th>14244</th>\n",
       "      <td>NaN</td>\n",
       "      <td>GEN</td>\n",
       "      <td>1993.0</td>\n",
       "      <td>NaN</td>\n",
       "      <td>0.0</td>\n",
       "      <td>0.00</td>\n",
       "      <td>0.03</td>\n",
       "      <td>0.00</td>\n",
       "      <td>NaN</td>\n",
       "      <td>NaN</td>\n",
       "      <td>NaN</td>\n",
       "    </tr>\n",
       "    <tr>\n",
       "      <th>16230</th>\n",
       "      <td>Madden NFL 13</td>\n",
       "      <td>PS3</td>\n",
       "      <td>2012.0</td>\n",
       "      <td>Sports</td>\n",
       "      <td>0.0</td>\n",
       "      <td>0.01</td>\n",
       "      <td>0.00</td>\n",
       "      <td>0.00</td>\n",
       "      <td>83.0</td>\n",
       "      <td>5.5</td>\n",
       "      <td>E</td>\n",
       "    </tr>\n",
       "  </tbody>\n",
       "</table>\n",
       "</div>"
      ],
      "text/plain": [
       "                              name platform  year_of_release     genre  \\\n",
       "1591   Need for Speed: Most Wanted     X360           2005.0    Racing   \n",
       "4127            Sonic the Hedgehog      PS3              NaN  Platform   \n",
       "11715  Need for Speed: Most Wanted       PC           2012.0    Racing   \n",
       "14244                          NaN      GEN           1993.0       NaN   \n",
       "16230                Madden NFL 13      PS3           2012.0    Sports   \n",
       "\n",
       "       na_sales  eu_sales  jp_sales  other_sales  critic_score user_score  \\\n",
       "1591        1.0      0.13      0.02         0.10          83.0        8.5   \n",
       "4127        0.0      0.48      0.00         0.00          43.0        4.1   \n",
       "11715       0.0      0.06      0.00         0.02          82.0        8.5   \n",
       "14244       0.0      0.00      0.03         0.00           NaN        NaN   \n",
       "16230       0.0      0.01      0.00         0.00          83.0        5.5   \n",
       "\n",
       "      rating  \n",
       "1591       T  \n",
       "4127    E10+  \n",
       "11715      T  \n",
       "14244    NaN  \n",
       "16230      E  "
      ]
     },
     "execution_count": 9,
     "metadata": {},
     "output_type": "execute_result"
    }
   ],
   "source": [
    "data_rows = data[data.duplicated(subset=['name','platform'])]\n",
    "data_rows"
   ]
  },
  {
   "cell_type": "code",
   "execution_count": 10,
   "metadata": {},
   "outputs": [],
   "source": [
    "#Удаляем строки с пропусками, преобразовываем тип данных\n",
    "data.dropna(subset=['name'], inplace=True) \n",
    "data.dropna(subset=['year_of_release'], inplace=True)\n",
    "data['year_of_release'] = data['year_of_release'].astype('int')"
   ]
  },
  {
   "cell_type": "code",
   "execution_count": 11,
   "metadata": {},
   "outputs": [
    {
     "data": {
      "text/plain": [
       "array([8. , nan, 8.3, 8.5, 6.6, 8.4, 8.6, 7.7, 6.3, 7.4, 8.2, 9. , 7.9,\n",
       "       8.1, 8.7, 7.1, 3.4, 5.3, 4.8, 3.2, 8.9, 6.4, 7.8, 7.5, 2.6, 7.2,\n",
       "       9.2, 7. , 7.3, 4.3, 7.6, 5.7, 5. , 9.1, 6.5, 8.8, 6.9, 9.4, 6.8,\n",
       "       6.1, 6.7, 5.4, 4. , 4.9, 4.5, 9.3, 6.2, 4.2, 6. , 3.7, 4.1, 5.8,\n",
       "       5.6, 5.5, 4.4, 4.6, 5.9, 3.9, 3.1, 2.9, 5.2, 3.3, 4.7, 5.1, 3.5,\n",
       "       2.5, 1.9, 3. , 2.7, 2.2, 2. , 9.5, 2.1, 3.6, 2.8, 1.8, 3.8, 0. ,\n",
       "       1.6, 9.6, 2.4, 1.7, 1.1, 0.3, 1.5, 0.7, 1.2, 2.3, 0.5, 1.3, 0.2,\n",
       "       0.6, 1.4, 0.9, 1. , 9.7])"
      ]
     },
     "execution_count": 11,
     "metadata": {},
     "output_type": "execute_result"
    }
   ],
   "source": [
    "#Меняем тип данных и заменяем значение в столбце оценки пользователя\n",
    "data.loc[data['user_score'] == 'tbd'] = np.nan\n",
    "data['user_score'] = data['user_score'].astype('float')\n",
    "data['user_score'].unique()"
   ]
  },
  {
   "cell_type": "markdown",
   "metadata": {},
   "source": [
    "    В столбце оценки пользователя имеется значение 'tbd', заменим его на nan , при этом поменяв тип данных на 'float', чтобы в дальнейшем иметь возможность проводить вычисления с этим столбцом.\n"
   ]
  },
  {
   "cell_type": "code",
   "execution_count": 12,
   "metadata": {},
   "outputs": [
    {
     "data": {
      "text/html": [
       "<div>\n",
       "<style scoped>\n",
       "    .dataframe tbody tr th:only-of-type {\n",
       "        vertical-align: middle;\n",
       "    }\n",
       "\n",
       "    .dataframe tbody tr th {\n",
       "        vertical-align: top;\n",
       "    }\n",
       "\n",
       "    .dataframe thead th {\n",
       "        text-align: right;\n",
       "    }\n",
       "</style>\n",
       "<table border=\"1\" class=\"dataframe\">\n",
       "  <thead>\n",
       "    <tr style=\"text-align: right;\">\n",
       "      <th></th>\n",
       "      <th>name</th>\n",
       "      <th>platform</th>\n",
       "      <th>year_of_release</th>\n",
       "      <th>genre</th>\n",
       "      <th>na_sales</th>\n",
       "      <th>eu_sales</th>\n",
       "      <th>jp_sales</th>\n",
       "      <th>other_sales</th>\n",
       "      <th>critic_score</th>\n",
       "      <th>user_score</th>\n",
       "      <th>rating</th>\n",
       "      <th>sales</th>\n",
       "    </tr>\n",
       "  </thead>\n",
       "  <tbody>\n",
       "    <tr>\n",
       "      <th>0</th>\n",
       "      <td>Wii Sports</td>\n",
       "      <td>Wii</td>\n",
       "      <td>2006.0</td>\n",
       "      <td>Sports</td>\n",
       "      <td>41.36</td>\n",
       "      <td>28.96</td>\n",
       "      <td>3.77</td>\n",
       "      <td>8.45</td>\n",
       "      <td>76.0</td>\n",
       "      <td>8.0</td>\n",
       "      <td>E</td>\n",
       "      <td>82.54</td>\n",
       "    </tr>\n",
       "    <tr>\n",
       "      <th>1</th>\n",
       "      <td>Super Mario Bros.</td>\n",
       "      <td>NES</td>\n",
       "      <td>1985.0</td>\n",
       "      <td>Platform</td>\n",
       "      <td>29.08</td>\n",
       "      <td>3.58</td>\n",
       "      <td>6.81</td>\n",
       "      <td>0.77</td>\n",
       "      <td>NaN</td>\n",
       "      <td>NaN</td>\n",
       "      <td>NaN</td>\n",
       "      <td>40.24</td>\n",
       "    </tr>\n",
       "    <tr>\n",
       "      <th>2</th>\n",
       "      <td>Mario Kart Wii</td>\n",
       "      <td>Wii</td>\n",
       "      <td>2008.0</td>\n",
       "      <td>Racing</td>\n",
       "      <td>15.68</td>\n",
       "      <td>12.76</td>\n",
       "      <td>3.79</td>\n",
       "      <td>3.29</td>\n",
       "      <td>82.0</td>\n",
       "      <td>8.3</td>\n",
       "      <td>E</td>\n",
       "      <td>35.52</td>\n",
       "    </tr>\n",
       "    <tr>\n",
       "      <th>3</th>\n",
       "      <td>Wii Sports Resort</td>\n",
       "      <td>Wii</td>\n",
       "      <td>2009.0</td>\n",
       "      <td>Sports</td>\n",
       "      <td>15.61</td>\n",
       "      <td>10.93</td>\n",
       "      <td>3.28</td>\n",
       "      <td>2.95</td>\n",
       "      <td>80.0</td>\n",
       "      <td>8.0</td>\n",
       "      <td>E</td>\n",
       "      <td>32.77</td>\n",
       "    </tr>\n",
       "    <tr>\n",
       "      <th>4</th>\n",
       "      <td>Pokemon Red/Pokemon Blue</td>\n",
       "      <td>GB</td>\n",
       "      <td>1996.0</td>\n",
       "      <td>Role-Playing</td>\n",
       "      <td>11.27</td>\n",
       "      <td>8.89</td>\n",
       "      <td>10.22</td>\n",
       "      <td>1.00</td>\n",
       "      <td>NaN</td>\n",
       "      <td>NaN</td>\n",
       "      <td>NaN</td>\n",
       "      <td>31.38</td>\n",
       "    </tr>\n",
       "    <tr>\n",
       "      <th>5</th>\n",
       "      <td>Tetris</td>\n",
       "      <td>GB</td>\n",
       "      <td>1989.0</td>\n",
       "      <td>Puzzle</td>\n",
       "      <td>23.20</td>\n",
       "      <td>2.26</td>\n",
       "      <td>4.22</td>\n",
       "      <td>0.58</td>\n",
       "      <td>NaN</td>\n",
       "      <td>NaN</td>\n",
       "      <td>NaN</td>\n",
       "      <td>30.26</td>\n",
       "    </tr>\n",
       "    <tr>\n",
       "      <th>6</th>\n",
       "      <td>New Super Mario Bros.</td>\n",
       "      <td>DS</td>\n",
       "      <td>2006.0</td>\n",
       "      <td>Platform</td>\n",
       "      <td>11.28</td>\n",
       "      <td>9.14</td>\n",
       "      <td>6.50</td>\n",
       "      <td>2.88</td>\n",
       "      <td>89.0</td>\n",
       "      <td>8.5</td>\n",
       "      <td>E</td>\n",
       "      <td>29.80</td>\n",
       "    </tr>\n",
       "    <tr>\n",
       "      <th>7</th>\n",
       "      <td>Wii Play</td>\n",
       "      <td>Wii</td>\n",
       "      <td>2006.0</td>\n",
       "      <td>Misc</td>\n",
       "      <td>13.96</td>\n",
       "      <td>9.18</td>\n",
       "      <td>2.93</td>\n",
       "      <td>2.84</td>\n",
       "      <td>58.0</td>\n",
       "      <td>6.6</td>\n",
       "      <td>E</td>\n",
       "      <td>28.91</td>\n",
       "    </tr>\n",
       "    <tr>\n",
       "      <th>8</th>\n",
       "      <td>New Super Mario Bros. Wii</td>\n",
       "      <td>Wii</td>\n",
       "      <td>2009.0</td>\n",
       "      <td>Platform</td>\n",
       "      <td>14.44</td>\n",
       "      <td>6.94</td>\n",
       "      <td>4.70</td>\n",
       "      <td>2.24</td>\n",
       "      <td>87.0</td>\n",
       "      <td>8.4</td>\n",
       "      <td>E</td>\n",
       "      <td>28.32</td>\n",
       "    </tr>\n",
       "    <tr>\n",
       "      <th>9</th>\n",
       "      <td>Duck Hunt</td>\n",
       "      <td>NES</td>\n",
       "      <td>1984.0</td>\n",
       "      <td>Shooter</td>\n",
       "      <td>26.93</td>\n",
       "      <td>0.63</td>\n",
       "      <td>0.28</td>\n",
       "      <td>0.47</td>\n",
       "      <td>NaN</td>\n",
       "      <td>NaN</td>\n",
       "      <td>NaN</td>\n",
       "      <td>28.31</td>\n",
       "    </tr>\n",
       "  </tbody>\n",
       "</table>\n",
       "</div>"
      ],
      "text/plain": [
       "                        name platform  year_of_release         genre  \\\n",
       "0                 Wii Sports      Wii           2006.0        Sports   \n",
       "1          Super Mario Bros.      NES           1985.0      Platform   \n",
       "2             Mario Kart Wii      Wii           2008.0        Racing   \n",
       "3          Wii Sports Resort      Wii           2009.0        Sports   \n",
       "4   Pokemon Red/Pokemon Blue       GB           1996.0  Role-Playing   \n",
       "5                     Tetris       GB           1989.0        Puzzle   \n",
       "6      New Super Mario Bros.       DS           2006.0      Platform   \n",
       "7                   Wii Play      Wii           2006.0          Misc   \n",
       "8  New Super Mario Bros. Wii      Wii           2009.0      Platform   \n",
       "9                  Duck Hunt      NES           1984.0       Shooter   \n",
       "\n",
       "   na_sales  eu_sales  jp_sales  other_sales  critic_score  user_score rating  \\\n",
       "0     41.36     28.96      3.77         8.45          76.0         8.0      E   \n",
       "1     29.08      3.58      6.81         0.77           NaN         NaN    NaN   \n",
       "2     15.68     12.76      3.79         3.29          82.0         8.3      E   \n",
       "3     15.61     10.93      3.28         2.95          80.0         8.0      E   \n",
       "4     11.27      8.89     10.22         1.00           NaN         NaN    NaN   \n",
       "5     23.20      2.26      4.22         0.58           NaN         NaN    NaN   \n",
       "6     11.28      9.14      6.50         2.88          89.0         8.5      E   \n",
       "7     13.96      9.18      2.93         2.84          58.0         6.6      E   \n",
       "8     14.44      6.94      4.70         2.24          87.0         8.4      E   \n",
       "9     26.93      0.63      0.28         0.47           NaN         NaN    NaN   \n",
       "\n",
       "   sales  \n",
       "0  82.54  \n",
       "1  40.24  \n",
       "2  35.52  \n",
       "3  32.77  \n",
       "4  31.38  \n",
       "5  30.26  \n",
       "6  29.80  \n",
       "7  28.91  \n",
       "8  28.32  \n",
       "9  28.31  "
      ]
     },
     "execution_count": 12,
     "metadata": {},
     "output_type": "execute_result"
    }
   ],
   "source": [
    "#Создаем столбец с общими продажами\n",
    "data['sales'] = data['na_sales'] + data['eu_sales'] + data['jp_sales'] + data['other_sales']\n",
    "data.head(10)"
   ]
  },
  {
   "cell_type": "markdown",
   "metadata": {},
   "source": [
    "**ИССЛЕДОВАТЕЛЬСКИЙ АНАЛИЗ**"
   ]
  },
  {
   "cell_type": "markdown",
   "metadata": {},
   "source": [
    "**Исследуем сколько игр выпускалось в разные года**"
   ]
  },
  {
   "cell_type": "code",
   "execution_count": 13,
   "metadata": {},
   "outputs": [
    {
     "data": {
      "image/png": "[encoded data removed]",
      "text/plain": [
       "<Figure size 1800x720 with 1 Axes>"
      ]
     },
     "metadata": {
      "needs_background": "light"
     },
     "output_type": "display_data"
    },
    {
     "data": {
      "text/plain": [
       "2008.0    1101\n",
       "2009.0    1021\n",
       "2007.0    1005\n",
       "2010.0     924\n",
       "2011.0     919\n",
       "2006.0     882\n",
       "2005.0     818\n",
       "2003.0     680\n",
       "2004.0     655\n",
       "2002.0     637\n",
       "Name: year_of_release, dtype: int64"
      ]
     },
     "execution_count": 13,
     "metadata": {},
     "output_type": "execute_result"
    }
   ],
   "source": [
    "#Строим гистограмму \n",
    "data['year_of_release'].plot(y = 'year_of_release', kind = 'hist', bins = 20, grid = True, \\\n",
    "figsize = (25, 10), color = 'g', alpha = 0.7,  title = 'year_of_release');\n",
    "plt.xlabel(\"Год\", fontsize = 14)\n",
    "plt.ylabel(\"Количество игр\", fontsize = 14)\n",
    "plt.title(r'Количество игр в зависимости от года', fontsize = 20)\n",
    "plt.show()\n",
    "data['year_of_release'].value_counts().head(10)"
   ]
  },
  {
   "cell_type": "markdown",
   "metadata": {},
   "source": [
    "    Большая часть выпуска игр пришлась на 2008 год - 1427 игр. Игры начали выпускаться на платформе в 1980 году, после чего пошел рост выхода игр до 2009 года, далее производство пошло на спад.\n"
   ]
  },
  {
   "cell_type": "markdown",
   "metadata": {},
   "source": [
    "**Исследуем как менялись продажи по платформам**"
   ]
  },
  {
   "cell_type": "code",
   "execution_count": 14,
   "metadata": {},
   "outputs": [
    {
     "data": {
      "image/png": "[encoded data removed]",
      "text/plain": [
       "<Figure size 1800x720 with 1 Axes>"
      ]
     },
     "metadata": {
      "needs_background": "light"
     },
     "output_type": "display_data"
    }
   ],
   "source": [
    "top = data.query('year_of_release > 2000').groupby('platform')['sales'].sum().tail(10).sort_values(ascending = False).index\n",
    "top = data.query('platform in @top').pivot_table(index = 'year_of_release', columns = 'platform', values = 'sales',\\\n",
    "aggfunc = 'sum')\n",
    "top.plot(xlim = (2000, 2017), figsize  = (25, 10), grid = True);\n"
   ]
  },
  {
   "cell_type": "markdown",
   "metadata": {},
   "source": [
    "    С помощью группировки выявила платформы с наибольшими продажами. Применила метод отрезка и сводных таблиц, по году и платформам с наибольшими продажами. \n",
    "    С 2004 по 2006 года появились сразу 4 новые платформы, которые имели наиболее высокие продажи и пользовались большой популярностью примерно 4-6 лет. \n",
    "    С приходом новых платформ в 2013 году , продажи описанных выше платформ пошли на спад, новые платформы начали набирать популярность.\n",
    "    Именно период с 2013 года и будем считать актуальным.\n"
   ]
  },
  {
   "cell_type": "markdown",
   "metadata": {},
   "source": [
    "**Акутальный период**"
   ]
  },
  {
   "cell_type": "markdown",
   "metadata": {},
   "source": [
    "    Выделим актуальный период с 2013 по 2016"
   ]
  },
  {
   "cell_type": "code",
   "execution_count": 15,
   "metadata": {},
   "outputs": [
    {
     "data": {
      "text/html": [
       "<div>\n",
       "<style scoped>\n",
       "    .dataframe tbody tr th:only-of-type {\n",
       "        vertical-align: middle;\n",
       "    }\n",
       "\n",
       "    .dataframe tbody tr th {\n",
       "        vertical-align: top;\n",
       "    }\n",
       "\n",
       "    .dataframe thead th {\n",
       "        text-align: right;\n",
       "    }\n",
       "</style>\n",
       "<table border=\"1\" class=\"dataframe\">\n",
       "  <thead>\n",
       "    <tr style=\"text-align: right;\">\n",
       "      <th></th>\n",
       "      <th>name</th>\n",
       "      <th>platform</th>\n",
       "      <th>year_of_release</th>\n",
       "      <th>genre</th>\n",
       "      <th>na_sales</th>\n",
       "      <th>eu_sales</th>\n",
       "      <th>jp_sales</th>\n",
       "      <th>other_sales</th>\n",
       "      <th>critic_score</th>\n",
       "      <th>user_score</th>\n",
       "      <th>rating</th>\n",
       "      <th>sales</th>\n",
       "    </tr>\n",
       "  </thead>\n",
       "  <tbody>\n",
       "    <tr>\n",
       "      <th>16</th>\n",
       "      <td>Grand Theft Auto V</td>\n",
       "      <td>PS3</td>\n",
       "      <td>2013.0</td>\n",
       "      <td>Action</td>\n",
       "      <td>7.02</td>\n",
       "      <td>9.09</td>\n",
       "      <td>0.98</td>\n",
       "      <td>3.96</td>\n",
       "      <td>97.0</td>\n",
       "      <td>8.2</td>\n",
       "      <td>M</td>\n",
       "      <td>21.05</td>\n",
       "    </tr>\n",
       "    <tr>\n",
       "      <th>23</th>\n",
       "      <td>Grand Theft Auto V</td>\n",
       "      <td>X360</td>\n",
       "      <td>2013.0</td>\n",
       "      <td>Action</td>\n",
       "      <td>9.66</td>\n",
       "      <td>5.14</td>\n",
       "      <td>0.06</td>\n",
       "      <td>1.41</td>\n",
       "      <td>97.0</td>\n",
       "      <td>8.1</td>\n",
       "      <td>M</td>\n",
       "      <td>16.27</td>\n",
       "    </tr>\n",
       "    <tr>\n",
       "      <th>31</th>\n",
       "      <td>Call of Duty: Black Ops 3</td>\n",
       "      <td>PS4</td>\n",
       "      <td>2015.0</td>\n",
       "      <td>Shooter</td>\n",
       "      <td>6.03</td>\n",
       "      <td>5.86</td>\n",
       "      <td>0.36</td>\n",
       "      <td>2.38</td>\n",
       "      <td>NaN</td>\n",
       "      <td>NaN</td>\n",
       "      <td>NaN</td>\n",
       "      <td>14.63</td>\n",
       "    </tr>\n",
       "    <tr>\n",
       "      <th>33</th>\n",
       "      <td>Pokemon X/Pokemon Y</td>\n",
       "      <td>3DS</td>\n",
       "      <td>2013.0</td>\n",
       "      <td>Role-Playing</td>\n",
       "      <td>5.28</td>\n",
       "      <td>4.19</td>\n",
       "      <td>4.35</td>\n",
       "      <td>0.78</td>\n",
       "      <td>NaN</td>\n",
       "      <td>NaN</td>\n",
       "      <td>NaN</td>\n",
       "      <td>14.60</td>\n",
       "    </tr>\n",
       "    <tr>\n",
       "      <th>42</th>\n",
       "      <td>Grand Theft Auto V</td>\n",
       "      <td>PS4</td>\n",
       "      <td>2014.0</td>\n",
       "      <td>Action</td>\n",
       "      <td>3.96</td>\n",
       "      <td>6.31</td>\n",
       "      <td>0.38</td>\n",
       "      <td>1.97</td>\n",
       "      <td>97.0</td>\n",
       "      <td>8.3</td>\n",
       "      <td>M</td>\n",
       "      <td>12.62</td>\n",
       "    </tr>\n",
       "    <tr>\n",
       "      <th>...</th>\n",
       "      <td>...</td>\n",
       "      <td>...</td>\n",
       "      <td>...</td>\n",
       "      <td>...</td>\n",
       "      <td>...</td>\n",
       "      <td>...</td>\n",
       "      <td>...</td>\n",
       "      <td>...</td>\n",
       "      <td>...</td>\n",
       "      <td>...</td>\n",
       "      <td>...</td>\n",
       "      <td>...</td>\n",
       "    </tr>\n",
       "    <tr>\n",
       "      <th>16703</th>\n",
       "      <td>Strawberry Nauts</td>\n",
       "      <td>PSV</td>\n",
       "      <td>2016.0</td>\n",
       "      <td>Adventure</td>\n",
       "      <td>0.00</td>\n",
       "      <td>0.00</td>\n",
       "      <td>0.01</td>\n",
       "      <td>0.00</td>\n",
       "      <td>NaN</td>\n",
       "      <td>NaN</td>\n",
       "      <td>NaN</td>\n",
       "      <td>0.01</td>\n",
       "    </tr>\n",
       "    <tr>\n",
       "      <th>16707</th>\n",
       "      <td>Aiyoku no Eustia</td>\n",
       "      <td>PSV</td>\n",
       "      <td>2014.0</td>\n",
       "      <td>Misc</td>\n",
       "      <td>0.00</td>\n",
       "      <td>0.00</td>\n",
       "      <td>0.01</td>\n",
       "      <td>0.00</td>\n",
       "      <td>NaN</td>\n",
       "      <td>NaN</td>\n",
       "      <td>NaN</td>\n",
       "      <td>0.01</td>\n",
       "    </tr>\n",
       "    <tr>\n",
       "      <th>16710</th>\n",
       "      <td>Samurai Warriors: Sanada Maru</td>\n",
       "      <td>PS3</td>\n",
       "      <td>2016.0</td>\n",
       "      <td>Action</td>\n",
       "      <td>0.00</td>\n",
       "      <td>0.00</td>\n",
       "      <td>0.01</td>\n",
       "      <td>0.00</td>\n",
       "      <td>NaN</td>\n",
       "      <td>NaN</td>\n",
       "      <td>NaN</td>\n",
       "      <td>0.01</td>\n",
       "    </tr>\n",
       "    <tr>\n",
       "      <th>16712</th>\n",
       "      <td>Haitaka no Psychedelica</td>\n",
       "      <td>PSV</td>\n",
       "      <td>2016.0</td>\n",
       "      <td>Adventure</td>\n",
       "      <td>0.00</td>\n",
       "      <td>0.00</td>\n",
       "      <td>0.01</td>\n",
       "      <td>0.00</td>\n",
       "      <td>NaN</td>\n",
       "      <td>NaN</td>\n",
       "      <td>NaN</td>\n",
       "      <td>0.01</td>\n",
       "    </tr>\n",
       "    <tr>\n",
       "      <th>16714</th>\n",
       "      <td>Winning Post 8 2016</td>\n",
       "      <td>PSV</td>\n",
       "      <td>2016.0</td>\n",
       "      <td>Simulation</td>\n",
       "      <td>0.00</td>\n",
       "      <td>0.00</td>\n",
       "      <td>0.01</td>\n",
       "      <td>0.00</td>\n",
       "      <td>NaN</td>\n",
       "      <td>NaN</td>\n",
       "      <td>NaN</td>\n",
       "      <td>0.01</td>\n",
       "    </tr>\n",
       "  </tbody>\n",
       "</table>\n",
       "<p>2125 rows × 12 columns</p>\n",
       "</div>"
      ],
      "text/plain": [
       "                                name platform  year_of_release         genre  \\\n",
       "16                Grand Theft Auto V      PS3           2013.0        Action   \n",
       "23                Grand Theft Auto V     X360           2013.0        Action   \n",
       "31         Call of Duty: Black Ops 3      PS4           2015.0       Shooter   \n",
       "33               Pokemon X/Pokemon Y      3DS           2013.0  Role-Playing   \n",
       "42                Grand Theft Auto V      PS4           2014.0        Action   \n",
       "...                              ...      ...              ...           ...   \n",
       "16703               Strawberry Nauts      PSV           2016.0     Adventure   \n",
       "16707               Aiyoku no Eustia      PSV           2014.0          Misc   \n",
       "16710  Samurai Warriors: Sanada Maru      PS3           2016.0        Action   \n",
       "16712        Haitaka no Psychedelica      PSV           2016.0     Adventure   \n",
       "16714            Winning Post 8 2016      PSV           2016.0    Simulation   \n",
       "\n",
       "       na_sales  eu_sales  jp_sales  other_sales  critic_score  user_score  \\\n",
       "16         7.02      9.09      0.98         3.96          97.0         8.2   \n",
       "23         9.66      5.14      0.06         1.41          97.0         8.1   \n",
       "31         6.03      5.86      0.36         2.38           NaN         NaN   \n",
       "33         5.28      4.19      4.35         0.78           NaN         NaN   \n",
       "42         3.96      6.31      0.38         1.97          97.0         8.3   \n",
       "...         ...       ...       ...          ...           ...         ...   \n",
       "16703      0.00      0.00      0.01         0.00           NaN         NaN   \n",
       "16707      0.00      0.00      0.01         0.00           NaN         NaN   \n",
       "16710      0.00      0.00      0.01         0.00           NaN         NaN   \n",
       "16712      0.00      0.00      0.01         0.00           NaN         NaN   \n",
       "16714      0.00      0.00      0.01         0.00           NaN         NaN   \n",
       "\n",
       "      rating  sales  \n",
       "16         M  21.05  \n",
       "23         M  16.27  \n",
       "31       NaN  14.63  \n",
       "33       NaN  14.60  \n",
       "42         M  12.62  \n",
       "...      ...    ...  \n",
       "16703    NaN   0.01  \n",
       "16707    NaN   0.01  \n",
       "16710    NaN   0.01  \n",
       "16712    NaN   0.01  \n",
       "16714    NaN   0.01  \n",
       "\n",
       "[2125 rows x 12 columns]"
      ]
     },
     "execution_count": 15,
     "metadata": {},
     "output_type": "execute_result"
    }
   ],
   "source": [
    "#Создаем таблицу с данными за актуальный период\n",
    "period = data.query('2013 <= year_of_release <= 2016')\n",
    "period"
   ]
  },
  {
   "cell_type": "markdown",
   "metadata": {},
   "source": [
    "**Исследуем прибыльность платформ за актуальный период**\n",
    "\n",
    "    Выясним какие платформы лидируют по продажам, растут или падают."
   ]
  },
  {
   "cell_type": "code",
   "execution_count": 16,
   "metadata": {},
   "outputs": [
    {
     "data": {
      "text/html": [
       "<div>\n",
       "<style scoped>\n",
       "    .dataframe tbody tr th:only-of-type {\n",
       "        vertical-align: middle;\n",
       "    }\n",
       "\n",
       "    .dataframe tbody tr th {\n",
       "        vertical-align: top;\n",
       "    }\n",
       "\n",
       "    .dataframe thead th {\n",
       "        text-align: right;\n",
       "    }\n",
       "</style>\n",
       "<table border=\"1\" class=\"dataframe\">\n",
       "  <thead>\n",
       "    <tr style=\"text-align: right;\">\n",
       "      <th>platform</th>\n",
       "      <th>3DS</th>\n",
       "      <th>DS</th>\n",
       "      <th>PC</th>\n",
       "      <th>PS3</th>\n",
       "      <th>PS4</th>\n",
       "      <th>PSP</th>\n",
       "      <th>PSV</th>\n",
       "      <th>Wii</th>\n",
       "      <th>WiiU</th>\n",
       "      <th>X360</th>\n",
       "      <th>XOne</th>\n",
       "    </tr>\n",
       "    <tr>\n",
       "      <th>year_of_release</th>\n",
       "      <th></th>\n",
       "      <th></th>\n",
       "      <th></th>\n",
       "      <th></th>\n",
       "      <th></th>\n",
       "      <th></th>\n",
       "      <th></th>\n",
       "      <th></th>\n",
       "      <th></th>\n",
       "      <th></th>\n",
       "      <th></th>\n",
       "    </tr>\n",
       "  </thead>\n",
       "  <tbody>\n",
       "    <tr>\n",
       "      <th>2013.0</th>\n",
       "      <td>56.32</td>\n",
       "      <td>0.97</td>\n",
       "      <td>12.38</td>\n",
       "      <td>113.24</td>\n",
       "      <td>25.99</td>\n",
       "      <td>3.14</td>\n",
       "      <td>10.59</td>\n",
       "      <td>8.11</td>\n",
       "      <td>21.65</td>\n",
       "      <td>88.57</td>\n",
       "      <td>18.96</td>\n",
       "    </tr>\n",
       "    <tr>\n",
       "      <th>2014.0</th>\n",
       "      <td>43.07</td>\n",
       "      <td>NaN</td>\n",
       "      <td>13.25</td>\n",
       "      <td>47.40</td>\n",
       "      <td>100.00</td>\n",
       "      <td>0.24</td>\n",
       "      <td>11.90</td>\n",
       "      <td>2.61</td>\n",
       "      <td>22.01</td>\n",
       "      <td>33.77</td>\n",
       "      <td>54.07</td>\n",
       "    </tr>\n",
       "    <tr>\n",
       "      <th>2015.0</th>\n",
       "      <td>27.21</td>\n",
       "      <td>NaN</td>\n",
       "      <td>8.49</td>\n",
       "      <td>16.30</td>\n",
       "      <td>118.86</td>\n",
       "      <td>0.12</td>\n",
       "      <td>5.95</td>\n",
       "      <td>0.15</td>\n",
       "      <td>16.27</td>\n",
       "      <td>11.87</td>\n",
       "      <td>59.92</td>\n",
       "    </tr>\n",
       "    <tr>\n",
       "      <th>2016.0</th>\n",
       "      <td>15.10</td>\n",
       "      <td>NaN</td>\n",
       "      <td>5.22</td>\n",
       "      <td>3.16</td>\n",
       "      <td>69.15</td>\n",
       "      <td>NaN</td>\n",
       "      <td>4.24</td>\n",
       "      <td>NaN</td>\n",
       "      <td>4.30</td>\n",
       "      <td>1.22</td>\n",
       "      <td>25.82</td>\n",
       "    </tr>\n",
       "  </tbody>\n",
       "</table>\n",
       "</div>"
      ],
      "text/plain": [
       "platform           3DS    DS     PC     PS3     PS4   PSP    PSV   Wii   WiiU  \\\n",
       "year_of_release                                                                 \n",
       "2013.0           56.32  0.97  12.38  113.24   25.99  3.14  10.59  8.11  21.65   \n",
       "2014.0           43.07   NaN  13.25   47.40  100.00  0.24  11.90  2.61  22.01   \n",
       "2015.0           27.21   NaN   8.49   16.30  118.86  0.12   5.95  0.15  16.27   \n",
       "2016.0           15.10   NaN   5.22    3.16   69.15   NaN   4.24   NaN   4.30   \n",
       "\n",
       "platform          X360   XOne  \n",
       "year_of_release                \n",
       "2013.0           88.57  18.96  \n",
       "2014.0           33.77  54.07  \n",
       "2015.0           11.87  59.92  \n",
       "2016.0            1.22  25.82  "
      ]
     },
     "execution_count": 16,
     "metadata": {},
     "output_type": "execute_result"
    }
   ],
   "source": [
    "#Создаем таблицу с продажами по годам каждой платформы\n",
    "period_actual = period.pivot_table(index = 'year_of_release', columns = 'platform', values = 'sales', aggfunc = 'sum')\n",
    "period_actual"
   ]
  },
  {
   "cell_type": "code",
   "execution_count": 17,
   "metadata": {},
   "outputs": [
    {
     "data": {
      "image/png": "[encoded data removed]",
      "text/plain": [
       "<Figure size 1800x720 with 1 Axes>"
      ]
     },
     "metadata": {
      "needs_background": "light"
     },
     "output_type": "display_data"
    }
   ],
   "source": [
    "period_actual.plot(figsize = (25, 10));"
   ]
  },
  {
   "cell_type": "markdown",
   "metadata": {},
   "source": [
    "    По полученному графику можем сказать, что:\n",
    "\n",
    "        -Наиболее прибыльные платформы - PS4, XOne. Пик - 2015 год.\n",
    "    \n",
    "        -Прослеживается сильная корреляция между PS3,X360 и PS4, XOne, так как с приходом нового поколения аналогичных платформ, старые потеряли свою актуальность.\n"
   ]
  },
  {
   "cell_type": "code",
   "execution_count": 18,
   "metadata": {
    "scrolled": false
   },
   "outputs": [
    {
     "data": {
      "text/html": [
       "<div>\n",
       "<style scoped>\n",
       "    .dataframe tbody tr th:only-of-type {\n",
       "        vertical-align: middle;\n",
       "    }\n",
       "\n",
       "    .dataframe tbody tr th {\n",
       "        vertical-align: top;\n",
       "    }\n",
       "\n",
       "    .dataframe thead th {\n",
       "        text-align: right;\n",
       "    }\n",
       "</style>\n",
       "<table border=\"1\" class=\"dataframe\">\n",
       "  <thead>\n",
       "    <tr style=\"text-align: right;\">\n",
       "      <th></th>\n",
       "      <th></th>\n",
       "      <th>sales</th>\n",
       "    </tr>\n",
       "    <tr>\n",
       "      <th>year_of_release</th>\n",
       "      <th>platform</th>\n",
       "      <th></th>\n",
       "    </tr>\n",
       "  </thead>\n",
       "  <tbody>\n",
       "    <tr>\n",
       "      <th rowspan=\"11\" valign=\"top\">2013.0</th>\n",
       "      <th>3DS</th>\n",
       "      <td>56.32</td>\n",
       "    </tr>\n",
       "    <tr>\n",
       "      <th>DS</th>\n",
       "      <td>0.97</td>\n",
       "    </tr>\n",
       "    <tr>\n",
       "      <th>PC</th>\n",
       "      <td>12.38</td>\n",
       "    </tr>\n",
       "    <tr>\n",
       "      <th>PS3</th>\n",
       "      <td>113.24</td>\n",
       "    </tr>\n",
       "    <tr>\n",
       "      <th>PS4</th>\n",
       "      <td>25.99</td>\n",
       "    </tr>\n",
       "    <tr>\n",
       "      <th>PSP</th>\n",
       "      <td>3.14</td>\n",
       "    </tr>\n",
       "    <tr>\n",
       "      <th>PSV</th>\n",
       "      <td>10.59</td>\n",
       "    </tr>\n",
       "    <tr>\n",
       "      <th>Wii</th>\n",
       "      <td>8.11</td>\n",
       "    </tr>\n",
       "    <tr>\n",
       "      <th>WiiU</th>\n",
       "      <td>21.65</td>\n",
       "    </tr>\n",
       "    <tr>\n",
       "      <th>X360</th>\n",
       "      <td>88.57</td>\n",
       "    </tr>\n",
       "    <tr>\n",
       "      <th>XOne</th>\n",
       "      <td>18.96</td>\n",
       "    </tr>\n",
       "    <tr>\n",
       "      <th rowspan=\"10\" valign=\"top\">2014.0</th>\n",
       "      <th>3DS</th>\n",
       "      <td>43.07</td>\n",
       "    </tr>\n",
       "    <tr>\n",
       "      <th>PC</th>\n",
       "      <td>13.25</td>\n",
       "    </tr>\n",
       "    <tr>\n",
       "      <th>PS3</th>\n",
       "      <td>47.40</td>\n",
       "    </tr>\n",
       "    <tr>\n",
       "      <th>PS4</th>\n",
       "      <td>100.00</td>\n",
       "    </tr>\n",
       "    <tr>\n",
       "      <th>PSP</th>\n",
       "      <td>0.24</td>\n",
       "    </tr>\n",
       "    <tr>\n",
       "      <th>PSV</th>\n",
       "      <td>11.90</td>\n",
       "    </tr>\n",
       "    <tr>\n",
       "      <th>Wii</th>\n",
       "      <td>2.61</td>\n",
       "    </tr>\n",
       "    <tr>\n",
       "      <th>WiiU</th>\n",
       "      <td>22.01</td>\n",
       "    </tr>\n",
       "    <tr>\n",
       "      <th>X360</th>\n",
       "      <td>33.77</td>\n",
       "    </tr>\n",
       "    <tr>\n",
       "      <th>XOne</th>\n",
       "      <td>54.07</td>\n",
       "    </tr>\n",
       "    <tr>\n",
       "      <th rowspan=\"10\" valign=\"top\">2015.0</th>\n",
       "      <th>3DS</th>\n",
       "      <td>27.21</td>\n",
       "    </tr>\n",
       "    <tr>\n",
       "      <th>PC</th>\n",
       "      <td>8.49</td>\n",
       "    </tr>\n",
       "    <tr>\n",
       "      <th>PS3</th>\n",
       "      <td>16.30</td>\n",
       "    </tr>\n",
       "    <tr>\n",
       "      <th>PS4</th>\n",
       "      <td>118.86</td>\n",
       "    </tr>\n",
       "    <tr>\n",
       "      <th>PSP</th>\n",
       "      <td>0.12</td>\n",
       "    </tr>\n",
       "    <tr>\n",
       "      <th>PSV</th>\n",
       "      <td>5.95</td>\n",
       "    </tr>\n",
       "    <tr>\n",
       "      <th>Wii</th>\n",
       "      <td>0.15</td>\n",
       "    </tr>\n",
       "    <tr>\n",
       "      <th>WiiU</th>\n",
       "      <td>16.27</td>\n",
       "    </tr>\n",
       "    <tr>\n",
       "      <th>X360</th>\n",
       "      <td>11.87</td>\n",
       "    </tr>\n",
       "    <tr>\n",
       "      <th>XOne</th>\n",
       "      <td>59.92</td>\n",
       "    </tr>\n",
       "    <tr>\n",
       "      <th rowspan=\"8\" valign=\"top\">2016.0</th>\n",
       "      <th>3DS</th>\n",
       "      <td>15.10</td>\n",
       "    </tr>\n",
       "    <tr>\n",
       "      <th>PC</th>\n",
       "      <td>5.22</td>\n",
       "    </tr>\n",
       "    <tr>\n",
       "      <th>PS3</th>\n",
       "      <td>3.16</td>\n",
       "    </tr>\n",
       "    <tr>\n",
       "      <th>PS4</th>\n",
       "      <td>69.15</td>\n",
       "    </tr>\n",
       "    <tr>\n",
       "      <th>PSV</th>\n",
       "      <td>4.24</td>\n",
       "    </tr>\n",
       "    <tr>\n",
       "      <th>WiiU</th>\n",
       "      <td>4.30</td>\n",
       "    </tr>\n",
       "    <tr>\n",
       "      <th>X360</th>\n",
       "      <td>1.22</td>\n",
       "    </tr>\n",
       "    <tr>\n",
       "      <th>XOne</th>\n",
       "      <td>25.82</td>\n",
       "    </tr>\n",
       "  </tbody>\n",
       "</table>\n",
       "</div>"
      ],
      "text/plain": [
       "                           sales\n",
       "year_of_release platform        \n",
       "2013.0          3DS        56.32\n",
       "                DS          0.97\n",
       "                PC         12.38\n",
       "                PS3       113.24\n",
       "                PS4        25.99\n",
       "                PSP         3.14\n",
       "                PSV        10.59\n",
       "                Wii         8.11\n",
       "                WiiU       21.65\n",
       "                X360       88.57\n",
       "                XOne       18.96\n",
       "2014.0          3DS        43.07\n",
       "                PC         13.25\n",
       "                PS3        47.40\n",
       "                PS4       100.00\n",
       "                PSP         0.24\n",
       "                PSV        11.90\n",
       "                Wii         2.61\n",
       "                WiiU       22.01\n",
       "                X360       33.77\n",
       "                XOne       54.07\n",
       "2015.0          3DS        27.21\n",
       "                PC          8.49\n",
       "                PS3        16.30\n",
       "                PS4       118.86\n",
       "                PSP         0.12\n",
       "                PSV         5.95\n",
       "                Wii         0.15\n",
       "                WiiU       16.27\n",
       "                X360       11.87\n",
       "                XOne       59.92\n",
       "2016.0          3DS        15.10\n",
       "                PC          5.22\n",
       "                PS3         3.16\n",
       "                PS4        69.15\n",
       "                PSV         4.24\n",
       "                WiiU        4.30\n",
       "                X360        1.22\n",
       "                XOne       25.82"
      ]
     },
     "execution_count": 18,
     "metadata": {},
     "output_type": "execute_result"
    }
   ],
   "source": [
    "#Создаем таблицу с годом и платформой в индексе, для построения боксплотов\n",
    "actual = period.pivot_table(index = ['year_of_release', 'platform'], values = 'sales', aggfunc = 'sum')\n",
    "actual"
   ]
  },
  {
   "cell_type": "markdown",
   "metadata": {},
   "source": [
    "**Диаграмма размаха**\n",
    "\n",
    "     Построим ящик с усами для каждой платформы за актуальный период."
   ]
  },
  {
   "cell_type": "code",
   "execution_count": 19,
   "metadata": {
    "scrolled": false
   },
   "outputs": [
    {
     "data": {
      "image/png": "[encoded data removed]",
      "text/plain": [
       "<Figure size 720x360 with 1 Axes>"
      ]
     },
     "metadata": {
      "needs_background": "light"
     },
     "output_type": "display_data"
    }
   ],
   "source": [
    "#Постороение боксплотов на одном графике\n",
    "fig, ax = plt.subplots(figsize = (10,5));\n",
    "sns.boxplot(x ='platform', y = 'sales', data = actual.reset_index(), ax=ax);"
   ]
  },
  {
   "cell_type": "markdown",
   "metadata": {},
   "source": [
    "    Больше всего прибыли у PS4, следом идет ее предшественник PS3. Так же большую выручку имеют X360,XOne,3DS.\n",
    "\n",
    "    Наиболее равномерны распределены знаечения у 3DS и XOne."
   ]
  },
  {
   "cell_type": "markdown",
   "metadata": {},
   "source": [
    "**Корреляция отзывов и продаж** \n",
    "\n",
    "    Посмотрим, как влияют на продажи внутри платформы PS4 отзывы пользователей и критиков. Построим диаграмму рассеяния и посчитаем корреляцию между отзывами и продажами."
   ]
  },
  {
   "cell_type": "code",
   "execution_count": 20,
   "metadata": {},
   "outputs": [
    {
     "data": {
      "image/png": "[encoded data removed]",
      "text/plain": [
       "<Figure size 720x432 with 2 Axes>"
      ]
     },
     "metadata": {
      "needs_background": "light"
     },
     "output_type": "display_data"
    },
    {
     "name": "stdout",
     "output_type": "stream",
     "text": [
      "Корреляция между отзывами пользователей и продажами: -0.031957110204556376\n",
      "Корреляция между отзывами критиков и продажами: 0.4064685741971657\n"
     ]
    }
   ],
   "source": [
    "fig, (ax, ax1) = plt.subplots(2,1, figsize=(10, 6))\n",
    "ax.scatter(y= 'critic_score', x = 'sales', data = period.query('platform == \"PS4\"'));\n",
    "ax1.scatter(y= 'user_score', x = 'sales', data = period.query('platform == \"PS4\"'));\n",
    "plt.show()\n",
    "user_score_ps4 = period.query('platform == \"PS4\"')['user_score']\n",
    "critic_score_ps4 = period.query('platform == \"PS4\"')['critic_score']\n",
    "sales_ps4 = period.query('platform == \"PS4\"')['sales']\n",
    "print('Корреляция между отзывами пользователей и продажами:', user_score_ps4.corr(sales_ps4))\n",
    "print('Корреляция между отзывами критиков и продажами:',critic_score_ps4.corr(sales_ps4))"
   ]
  },
  {
   "cell_type": "markdown",
   "metadata": {},
   "source": [
    "    Корреляция между отзывами критиков и продажами сильнее, чем между отзывами пользователей. Можем заметить , что они обратны друг другу, так как корреляция с между отзывами пользователей имеет отрицательное значение.\n",
    "    Можем сделать вывод, что отзывы критиков имеют большее значение на продажи игр."
   ]
  },
  {
   "cell_type": "code",
   "execution_count": 21,
   "metadata": {},
   "outputs": [
    {
     "data": {
      "image/png": "[encoded data removed]",
      "text/plain": [
       "<Figure size 720x432 with 2 Axes>"
      ]
     },
     "metadata": {
      "needs_background": "light"
     },
     "output_type": "display_data"
    },
    {
     "name": "stdout",
     "output_type": "stream",
     "text": [
      "Корреляция между отзывами пользователей и продажами платформы XOne: -0.06892505328279414\n",
      "Корреляция между отзывами критиков и продажами платформы XOne: 0.41215586820316974\n"
     ]
    }
   ],
   "source": [
    "#Проверим корреляцию на примере XOne\n",
    "fig, (ax, ax1) = plt.subplots(2,1, figsize=(10, 6))\n",
    "ax.scatter(y= 'critic_score', x = 'sales', data = period.query('platform == \"XOne\"'));\n",
    "ax1.scatter(y= 'user_score', x = 'sales', data = period.query('platform == \"XOne\"'));\n",
    "plt.show()\n",
    "user_score_xone = period.query('platform == \"XOne\"')['user_score']\n",
    "critic_score_xone = period.query('platform == \"XOne\"')['critic_score']\n",
    "sales_xone = period.query('platform == \"XOne\"')['sales']\n",
    "print('Корреляция между отзывами пользователей и продажами платформы XOne:', user_score_xone.corr(sales_xone))\n",
    "print('Корреляция между отзывами критиков и продажами платформы XOne:',critic_score_xone.corr(sales_xone))"
   ]
  },
  {
   "cell_type": "code",
   "execution_count": 22,
   "metadata": {},
   "outputs": [
    {
     "data": {
      "image/png": "[encoded data removed]",
      "text/plain": [
       "<Figure size 720x432 with 2 Axes>"
      ]
     },
     "metadata": {
      "needs_background": "light"
     },
     "output_type": "display_data"
    },
    {
     "name": "stdout",
     "output_type": "stream",
     "text": [
      "Корреляция между отзывами пользователей и продажами платформы 3DS: 0.24150411773563016\n",
      "Корреляция между отзывами критиков и продажами платформы 3DS: 0.3392349287853147\n"
     ]
    }
   ],
   "source": [
    "#Проверим корреляцию на примере 3DS\n",
    "fig, (ax, ax1) = plt.subplots(2,1, figsize=(10, 6))\n",
    "ax.scatter(y= 'critic_score', x = 'sales', data = period.query('platform == \"3DS\"'));\n",
    "ax1.scatter(y= 'user_score', x = 'sales', data = period.query('platform == \"3DS\"'));\n",
    "plt.show()\n",
    "user_score_3ds = period.query('platform == \"3DS\"')['user_score']\n",
    "critic_score_3ds = period.query('platform == \"3DS\"')['critic_score']\n",
    "sales_3ds = period.query('platform == \"3DS\"')['sales']\n",
    "print('Корреляция между отзывами пользователей и продажами платформы 3DS:', user_score_3ds.corr(sales_3ds))\n",
    "print('Корреляция между отзывами критиков и продажами платформы 3DS:',critic_score_3ds.corr(sales_3ds))"
   ]
  },
  {
   "cell_type": "code",
   "execution_count": 23,
   "metadata": {},
   "outputs": [
    {
     "data": {
      "image/png": "[encoded data removed]",
      "text/plain": [
       "<Figure size 720x432 with 2 Axes>"
      ]
     },
     "metadata": {
      "needs_background": "light"
     },
     "output_type": "display_data"
    },
    {
     "name": "stdout",
     "output_type": "stream",
     "text": [
      "Корреляция между отзывами пользователей и продажами платформы PS3: 0.0023944027357566925\n",
      "Корреляция между отзывами критиков и продажами платформы PS3: 0.33380663565061736\n"
     ]
    }
   ],
   "source": [
    "#Проверим корреляцию на примере PS3\n",
    "fig, (ax, ax1) = plt.subplots(2,1, figsize=(10, 6))\n",
    "ax.scatter(y= 'critic_score', x = 'sales', data = period.query('platform == \"PS3\"'));\n",
    "ax1.scatter(y= 'user_score', x = 'sales', data = period.query('platform == \"PS3\"'));\n",
    "plt.show()\n",
    "user_score_ps3 = period.query('platform == \"PS3\"')['user_score']\n",
    "critic_score_ps3 = period.query('platform == \"PS3\"')['critic_score']\n",
    "sales_ps3 = period.query('platform == \"PS3\"')['sales']\n",
    "print('Корреляция между отзывами пользователей и продажами платформы PS3:', user_score_ps3.corr(sales_ps3))\n",
    "print('Корреляция между отзывами критиков и продажами платформы PS3:',critic_score_ps3.corr(sales_ps3))"
   ]
  },
  {
   "cell_type": "markdown",
   "metadata": {},
   "source": [
    "**Исследуем игры по жанрам**"
   ]
  },
  {
   "cell_type": "code",
   "execution_count": 24,
   "metadata": {},
   "outputs": [
    {
     "data": {
      "image/png": "[encoded data removed]",
      "text/plain": [
       "<Figure size 1080x360 with 1 Axes>"
      ]
     },
     "metadata": {
      "needs_background": "light"
     },
     "output_type": "display_data"
    }
   ],
   "source": [
    "period_genre = period.pivot_table(index = 'genre', values = 'sales', aggfunc = 'median')\\\n",
    ".reset_index().sort_values(by = 'sales', ascending = False)\n",
    "period_genre.plot.bar(x = 'genre', y = 'sales', figsize = (15,5), color = 'g', alpha = 0.7);\n",
    "plt.xlabel(\"Жанр\", fontsize = 14);\n",
    "plt.ylabel(\"Продажи\", fontsize = 14);\n",
    "plt.title(r'Продажи по жанрам', fontsize = 20);"
   ]
  },
  {
   "cell_type": "markdown",
   "metadata": {},
   "source": [
    "    Экшн и шутеры сильно выделяются на фоне остальных жанров, так как имеют самые высокие показатели продаж. Наименее популярные - пазлы, стратегии."
   ]
  },
  {
   "cell_type": "markdown",
   "metadata": {},
   "source": [
    "**ПОРТРЕТ КАЖДОГО ПОЛЬЗОВАТЕЛЯ**"
   ]
  },
  {
   "cell_type": "code",
   "execution_count": 25,
   "metadata": {},
   "outputs": [
    {
     "data": {
      "image/png": "[encoded data removed]",
      "text/plain": [
       "<Figure size 1080x360 with 3 Axes>"
      ]
     },
     "metadata": {},
     "output_type": "display_data"
    }
   ],
   "source": [
    "plt.subplots(figsize=(15, 5))\n",
    "regions = ['na', 'eu', 'jp']\n",
    "plt.suptitle('Самые популярные платформы', fontsize = 16)\n",
    "for i, region in enumerate(regions):\n",
    "    column_name = '{}_sales'.format(region)\n",
    "    current = period.groupby('platform').agg({column_name: 'sum'}).reset_index()\n",
    "    current['rank'] = current[column_name].rank(method = 'dense', ascending = False)\n",
    "    current.loc[current['rank'] > 5, 'platform'] = 'other'\n",
    "    current = current.groupby('platform').agg({column_name: 'sum'})\n",
    "    current.plot(y=column_name, kind = 'pie', autopct='%.1f%%', legend = False, ax = plt.subplot(1, len(regions), i + 1))\n",
    "    plt.title('Популярность платформ в {}'.format(region.upper()))"
   ]
  },
  {
   "cell_type": "markdown",
   "metadata": {},
   "source": [
    "    В Северной Америке и Европе предпочтение отдают PS4, в Японии соверешенно другие показатели, больший процент занимает - 3DS, в то время как в Северной Америке и Европе эта платформа имеет очень малый процент. Можем объяснить это тем, что Япония - страна производитель 3DS, так же возможно эта платформа там более доступна, поэтому скорее всего она и популярна там.\n"
   ]
  },
  {
   "cell_type": "code",
   "execution_count": 26,
   "metadata": {},
   "outputs": [
    {
     "data": {
      "image/png": "[encoded data removed]",
      "text/plain": [
       "<Figure size 1080x360 with 3 Axes>"
      ]
     },
     "metadata": {},
     "output_type": "display_data"
    }
   ],
   "source": [
    "plt.subplots(figsize=(15, 5))\n",
    "regions = ['na', 'eu', 'jp']\n",
    "plt.suptitle('Самые популярные жанры', fontsize = 16)\n",
    "for i, region in enumerate(regions):\n",
    "    column_name = '{}_sales'.format(region)\n",
    "    current = period.groupby('genre').agg({column_name: 'sum'}).reset_index()\n",
    "    current['rank'] = current[column_name].rank(method = 'dense', ascending = False)\n",
    "    current.loc[current['rank'] > 5, 'genre'] = 'other'\n",
    "    current = current.groupby('genre').agg({column_name: 'sum'})\n",
    "    current.plot(y=column_name, kind = 'pie', autopct='%.1f%%', legend = False, ax = plt.subplot(1, len(regions), i + 1))\n",
    "    plt.title('Популярность жанров в {}'.format(region.upper()))"
   ]
  },
  {
   "cell_type": "markdown",
   "metadata": {},
   "source": [
    "    Немного разнятся показатели Северной Америки и Европы с Японией.\n",
    "    В Америке и Европе больше играют в экшн, шутеры и спортивные игры.\n",
    "    В Японии наиболее популярные жанры - ролевые игры и экшн. Шутеры в Японии имеют очень низкий процент."
   ]
  },
  {
   "cell_type": "code",
   "execution_count": 27,
   "metadata": {},
   "outputs": [
    {
     "data": {
      "text/plain": [
       "NaN     964\n",
       "M       365\n",
       "T       316\n",
       "E       262\n",
       "E10+    218\n",
       "Name: rating, dtype: int64"
      ]
     },
     "execution_count": 27,
     "metadata": {},
     "output_type": "execute_result"
    }
   ],
   "source": [
    "period['rating'].value_counts(dropna=False)"
   ]
  },
  {
   "cell_type": "code",
   "execution_count": 28,
   "metadata": {},
   "outputs": [],
   "source": [
    "#Заменим пропуски на 'unknwn'\n",
    "period['rating'] = period['rating'].fillna('unknwn')"
   ]
  },
  {
   "cell_type": "code",
   "execution_count": 29,
   "metadata": {},
   "outputs": [
    {
     "data": {
      "text/html": [
       "<div>\n",
       "<style scoped>\n",
       "    .dataframe tbody tr th:only-of-type {\n",
       "        vertical-align: middle;\n",
       "    }\n",
       "\n",
       "    .dataframe tbody tr th {\n",
       "        vertical-align: top;\n",
       "    }\n",
       "\n",
       "    .dataframe thead th {\n",
       "        text-align: right;\n",
       "    }\n",
       "</style>\n",
       "<table border=\"1\" class=\"dataframe\">\n",
       "  <thead>\n",
       "    <tr style=\"text-align: right;\">\n",
       "      <th></th>\n",
       "      <th>eu_sales</th>\n",
       "      <th>jp_sales</th>\n",
       "      <th>na_sales</th>\n",
       "    </tr>\n",
       "    <tr>\n",
       "      <th>rating</th>\n",
       "      <th></th>\n",
       "      <th></th>\n",
       "      <th></th>\n",
       "    </tr>\n",
       "  </thead>\n",
       "  <tbody>\n",
       "    <tr>\n",
       "      <th>E10+</th>\n",
       "      <td>0.12</td>\n",
       "      <td>0.00</td>\n",
       "      <td>0.16</td>\n",
       "    </tr>\n",
       "    <tr>\n",
       "      <th>M</th>\n",
       "      <td>0.13</td>\n",
       "      <td>0.00</td>\n",
       "      <td>0.14</td>\n",
       "    </tr>\n",
       "    <tr>\n",
       "      <th>E</th>\n",
       "      <td>0.08</td>\n",
       "      <td>0.00</td>\n",
       "      <td>0.08</td>\n",
       "    </tr>\n",
       "    <tr>\n",
       "      <th>T</th>\n",
       "      <td>0.04</td>\n",
       "      <td>0.01</td>\n",
       "      <td>0.05</td>\n",
       "    </tr>\n",
       "    <tr>\n",
       "      <th>unknwn</th>\n",
       "      <td>0.00</td>\n",
       "      <td>0.02</td>\n",
       "      <td>0.00</td>\n",
       "    </tr>\n",
       "  </tbody>\n",
       "</table>\n",
       "</div>"
      ],
      "text/plain": [
       "        eu_sales  jp_sales  na_sales\n",
       "rating                              \n",
       "E10+        0.12      0.00      0.16\n",
       "M           0.13      0.00      0.14\n",
       "E           0.08      0.00      0.08\n",
       "T           0.04      0.01      0.05\n",
       "unknwn      0.00      0.02      0.00"
      ]
     },
     "execution_count": 29,
     "metadata": {},
     "output_type": "execute_result"
    }
   ],
   "source": [
    "#Создаем таблицу с годом и платформой в индексе, для построения боксплотов\n",
    "rating_pivot_table = period.pivot_table(index = 'rating', values = ['na_sales','jp_sales','eu_sales'], aggfunc = 'median')\\\n",
    ".sort_values(by=['na_sales','jp_sales','eu_sales'], ascending=False)\n",
    "rating_pivot_table"
   ]
  },
  {
   "cell_type": "code",
   "execution_count": 30,
   "metadata": {},
   "outputs": [
    {
     "data": {
      "image/png": "[encoded data removed]",
      "text/plain": [
       "<Figure size 1440x720 with 1 Axes>"
      ]
     },
     "metadata": {
      "needs_background": "light"
     },
     "output_type": "display_data"
    }
   ],
   "source": [
    "rating_pivot_table.plot(kind = 'bar', figsize = (20,10));\n",
    "plt.title('Статистика рейтинга по странам', fontsize = 20);\n",
    "plt.ylabel('Медианное число продаж', fontsize = 16);\n",
    "plt.xlabel('Рейтинг', fontsize = 16);\n"
   ]
  },
  {
   "cell_type": "markdown",
   "metadata": {},
   "source": [
    "    Рейтинг ESRB больше всего влияет на продажи в Северной Америке, так же в Европе рейтинг ESRB тоже имееет большое значение. \n",
    "    В Японии рейтинг имеет не такую силу, по боксплотам можем заметить, что в Японии продажи в несколько раз ниже на основе данного рейтинга."
   ]
  },
  {
   "cell_type": "markdown",
   "metadata": {},
   "source": [
    "**ПРОВЕРКА ГИПОТЕЗ**"
   ]
  },
  {
   "cell_type": "markdown",
   "metadata": {},
   "source": [
    "   **Нулевая гипотеза**\n",
    "   \n",
    "        Средние пользовательские рейтинги платформ Xbox One и PC одинаковые\n",
    "\n",
    "   **Альтернативная гипотеза** \n",
    "   \n",
    "        Средние пользовательские рейтинги платформ Xbox One и PC разные"
   ]
  },
  {
   "cell_type": "code",
   "execution_count": 31,
   "metadata": {},
   "outputs": [
    {
     "name": "stdout",
     "output_type": "stream",
     "text": [
      "p-значение: 0.14759594013430463\n",
      "Не получилось отвергнуть нулевую гипотезу\n"
     ]
    }
   ],
   "source": [
    "XOne_mean = period.query('platform == \"XOne\"')['user_score'].dropna()\n",
    "PC_mean = period.query('platform == \"PC\"')['user_score'].dropna()\n",
    "\n",
    "alpha = 0.05\n",
    "results = st.ttest_ind(XOne_mean, PC_mean, equal_var=False)\n",
    "\n",
    "print('p-значение:', results.pvalue)\n",
    "\n",
    "if results.pvalue < alpha:\n",
    "    print('Отвергаем нулевую гипотезу о равенстве рейтинга платформ')\n",
    "else:\n",
    "    print('Не получилось отвергнуть нулевую гипотезу')"
   ]
  },
  {
   "cell_type": "markdown",
   "metadata": {},
   "source": [
    "    Это двусторонняя гипотеза, так как мы проверяем значения в обе стороны, это не зависящие друг от друга выборки, поэтому мы можем применить т-тест st.ttest_ind.\n",
    "    Т-тест показал, что средние пользовательские рейтинги платформ Xbox One и PC равные.\n",
    "    "
   ]
  },
  {
   "cell_type": "markdown",
   "metadata": {},
   "source": [
    "**Нулевая гипотеза** \n",
    "\n",
    "    Средние пользовательские рейтинги жанров Action и Sports равные.\n",
    "\n",
    "**Альтернативная гипотеза**\n",
    "\n",
    "    Средние пользовательские рейтинги жанров Action и Sports разные."
   ]
  },
  {
   "cell_type": "code",
   "execution_count": 32,
   "metadata": {},
   "outputs": [
    {
     "name": "stdout",
     "output_type": "stream",
     "text": [
      "p-значение: 1.4460039700704315e-20\n",
      "Отвергаем нулевую гипотезу о равенстве рейтинга жанров\n"
     ]
    }
   ],
   "source": [
    "action_mean = period.query('genre == \"Action\"')['user_score'].dropna()\n",
    "sports_mean = period.query('genre == \"Sports\"')['user_score'].dropna()\n",
    "\n",
    "alpha = 0.05\n",
    "results = st.ttest_ind(action_mean, sports_mean, equal_var=False)\n",
    "\n",
    "print('p-значение:', results.pvalue)\n",
    "\n",
    "if results.pvalue < alpha:\n",
    "    print('Отвергаем нулевую гипотезу о равенстве рейтинга жанров')\n",
    "else:\n",
    "    print('Не получилось отвергнуть нулевую гипотезу')"
   ]
  },
  {
   "cell_type": "markdown",
   "metadata": {},
   "source": [
    "    Это так же двусторонняя гипотеза двух не зависящих друг от друга выборок, поэтому применяем st.ttest_ind.\n",
    "    Тест показал, что средние пользовательские рейтинги жанров Action и Sports разные."
   ]
  },
  {
   "cell_type": "markdown",
   "metadata": {},
   "source": [
    "# ВЫВОД"
   ]
  },
  {
   "cell_type": "markdown",
   "metadata": {},
   "source": [
    "**Объект исследования** - интернет-магазин компьютерных игр \"Стримчик\".\n",
    "\n",
    "**Ход исследования**\n",
    "\n",
    "    Предобработка данных:\n",
    "    \n",
    "    -Проверила наличие пропусков, удалила две строки, имеющие малое количество данных.\n",
    "    \n",
    "    -Проверила дубликаты - в данной таблице, дубликаты отсутствуют.\n",
    "    \n",
    "    -Добавила в таблицу столбец с общими продажами.\n",
    "    \n",
    "    Исследовательский анализ:\n",
    "    \n",
    "    -Визуализировала количество выпущенных игр по годам.\n",
    "    \n",
    "    -С помощью графика отследила как менялись продажи каждой платформы по годам.\n",
    "    \n",
    "    -Выяивила актуальный период.\n",
    "    \n",
    "    -Построила ящики с усами для каждой платформы за актуальный период.\n",
    "    \n",
    "    -Исследовала корреляцию отзывов и продаж.\n",
    "    \n",
    "    -При помощи гистограммы выявила самые прибыльные жанры.\n",
    "    \n",
    "    -Составила портрет каждого пользователя по жанрам и платформам.\n",
    "    \n",
    "    Проверка гипотез:\n",
    "    \n",
    "    Проверила две гипотезы:\n",
    "    \n",
    "    1.Одинаковые ли средние пользовательские рейтинги платформ Xbox One и PC.\n",
    "        \n",
    "        -Отвергнуть эту гипотезу не получилось, так что можем предположить, что средние действительно равны.\n",
    "    \n",
    "    2.Равны ли средние пользовательские рейтинги жанров Action и Sports.\n",
    "    \n",
    "        -Отвергнули эту гипотезу, тест показал, что средние двух анров разные.\n",
    "    \n",
    "**Вывод**\n",
    "\n",
    "\n",
    "    Из исследования можно сделать следующие выводы:\n",
    "    Количество игр начинало расти с 1990 года по 2008 год, после чего произошел спад разработки игр.Самыми поплуярными платформами за весь период были - PS3, PS4, PSP, PSV, WS, Wii, WiiU, X360, XB, XOne. Около десяти лет живут игровые приставки, после чего поялвяются новые версии, либо приставки теряют свою актуальность. Пик своей популярности сохраняют 4-6    лет. \n",
    "    Выявила актуальный период с 2013 года по 2016, в этот период самые популярные приставки - PS4, XOne. Пик - 2015 год. Очень плавно идет на спад приставка 3DS, имеющая большую поплуярность в Японии.\n",
    "    Отследила корреляцию между отзывами и продажами. Оценки пользователей либо не имеют корреляции с продажами, либо имеют слабую положительную корреляцию.\n",
    "    Оценки критиков имеют слабую положительную корреляцию, это может значить, что пользователи иногда обращают внимание на оценки, но делают это не всегда.\n",
    "    Самый прибыльный жанр - шутер. На втором месте расположились спортивные игры. \n",
    "    Самый неприбыльный жанр - приключения.\n",
    "\n",
    "    Портреты пользователей:\n",
    "\n",
    "    Северная Америка \n",
    "        -Самые популярные жанры - шутер, экшн, спортивные игры\n",
    "        -Самые популярные платформы - PS4, XOne, X360\n",
    "        -Наибольшие продажы имеют игры с рейтингом Е10+, что означает(«Everyone 10 and older») — «Для всех от 10 лет и      старше»\n",
    "    \n",
    "    Европа\n",
    "        -Самые популярные жанры - шутер, экшн, спортивные игры\n",
    "        -Самые популярные платформы - PS4, XOne, X360\n",
    "        -Наибольшие продажы имеют игры с рейтингом М, что означает(«Mature») — «Для взрослых»\n",
    "    \n",
    "    Япония\n",
    "        -Самые популярные жанры - экшн и сетевые игры\n",
    "        -Самые популярные платформы - 3DS, PS3, PS4\n",
    "        -Наибольшие продажы имеют игры без рейтинга ESRB.\n",
    "    \n",
    "    Рынок Японии сильно разнится с рынками Европы и Северной Америки, скорее это из-за того, что Япония больше продвигает   технологии своей страны, что и считается общепринятым для ее населения.\n",
    "\n",
    "    Для прогноза будем брать данные за 2015 - 2016 года, так как за 2016 данные неполные, поэтому захватим и 2015. Более ранние года брать не будем, так как они уже могут потерять свою актульность в будущем году.\n",
    "    Наиболее прибыльными играми будут в жанре шутер и спортивные, для платформы PS4 с рейтингом \"Е10+\". После них по прибыли будут игры для платформы XOne, имеющие рейтинг \"М\"."
   ]
  },
  {
   "cell_type": "code",
   "execution_count": null,
   "metadata": {},
   "outputs": [],
   "source": []
  }
 ],
 "metadata": {
  "ExecuteTimeLog": [
   {
    "duration": 1132,
    "start_time": "2023-07-16T05:38:20.051Z"
   },
   {
    "duration": 89,
    "start_time": "2023-07-16T05:39:06.868Z"
   },
   {
    "duration": 20,
    "start_time": "2023-07-16T05:39:20.121Z"
   },
   {
    "duration": 13,
    "start_time": "2023-07-16T05:39:37.223Z"
   },
   {
    "duration": 102,
    "start_time": "2023-07-16T07:23:50.796Z"
   },
   {
    "duration": 13,
    "start_time": "2023-07-16T07:24:05.655Z"
   },
   {
    "duration": 9,
    "start_time": "2023-07-16T07:27:42.089Z"
   },
   {
    "duration": 2,
    "start_time": "2023-07-16T07:29:03.584Z"
   },
   {
    "duration": 50,
    "start_time": "2023-07-16T07:29:05.659Z"
   },
   {
    "duration": 15,
    "start_time": "2023-07-16T07:29:06.743Z"
   },
   {
    "duration": 13,
    "start_time": "2023-07-16T07:29:08.672Z"
   },
   {
    "duration": 8,
    "start_time": "2023-07-16T07:29:09.497Z"
   },
   {
    "duration": 10,
    "start_time": "2023-07-16T07:29:22.732Z"
   },
   {
    "duration": 9,
    "start_time": "2023-07-16T07:30:50.176Z"
   },
   {
    "duration": 1543,
    "start_time": "2023-07-16T07:32:09.166Z"
   },
   {
    "duration": 4,
    "start_time": "2023-07-16T07:44:41.291Z"
   },
   {
    "duration": 16,
    "start_time": "2023-07-16T07:44:56.581Z"
   },
   {
    "duration": 7,
    "start_time": "2023-07-16T07:45:30.702Z"
   },
   {
    "duration": 8,
    "start_time": "2023-07-16T07:45:48.443Z"
   },
   {
    "duration": 8,
    "start_time": "2023-07-16T08:08:55.612Z"
   },
   {
    "duration": 9,
    "start_time": "2023-07-16T08:09:38.260Z"
   },
   {
    "duration": 1212,
    "start_time": "2023-07-16T09:19:50.945Z"
   },
   {
    "duration": 106,
    "start_time": "2023-07-16T09:19:53.837Z"
   },
   {
    "duration": 21,
    "start_time": "2023-07-16T09:19:54.838Z"
   },
   {
    "duration": 20,
    "start_time": "2023-07-16T09:19:57.465Z"
   },
   {
    "duration": 23,
    "start_time": "2023-07-16T09:19:59.449Z"
   },
   {
    "duration": 10,
    "start_time": "2023-07-16T09:20:02.012Z"
   },
   {
    "duration": 715,
    "start_time": "2023-07-16T09:21:15.065Z"
   },
   {
    "duration": 10,
    "start_time": "2023-07-16T09:22:57.754Z"
   },
   {
    "duration": 14,
    "start_time": "2023-07-16T09:23:16.293Z"
   },
   {
    "duration": 3399,
    "start_time": "2023-07-16T09:33:59.433Z"
   },
   {
    "duration": 3005,
    "start_time": "2023-07-16T09:34:09.167Z"
   },
   {
    "duration": 4,
    "start_time": "2023-07-16T09:34:23.974Z"
   },
   {
    "duration": 20,
    "start_time": "2023-07-16T09:35:10.028Z"
   },
   {
    "duration": 22,
    "start_time": "2023-07-16T09:36:04.471Z"
   },
   {
    "duration": 38,
    "start_time": "2023-07-16T09:36:29.669Z"
   },
   {
    "duration": 16,
    "start_time": "2023-07-16T09:36:41.074Z"
   },
   {
    "duration": 1066,
    "start_time": "2023-07-16T09:37:53.586Z"
   },
   {
    "duration": 55,
    "start_time": "2023-07-16T09:37:55.785Z"
   },
   {
    "duration": 19,
    "start_time": "2023-07-16T09:37:56.595Z"
   },
   {
    "duration": 13,
    "start_time": "2023-07-16T09:37:58.004Z"
   },
   {
    "duration": 16,
    "start_time": "2023-07-16T09:38:01.383Z"
   },
   {
    "duration": 9,
    "start_time": "2023-07-16T09:38:03.936Z"
   },
   {
    "duration": 8,
    "start_time": "2023-07-16T09:38:06.470Z"
   },
   {
    "duration": 524,
    "start_time": "2023-07-16T09:38:44.936Z"
   },
   {
    "duration": 17,
    "start_time": "2023-07-16T09:39:09.896Z"
   },
   {
    "duration": 14,
    "start_time": "2023-07-16T09:39:30.542Z"
   },
   {
    "duration": 16,
    "start_time": "2023-07-16T09:41:36.094Z"
   },
   {
    "duration": 16,
    "start_time": "2023-07-16T09:42:08.420Z"
   },
   {
    "duration": 796,
    "start_time": "2023-07-16T09:42:38.106Z"
   },
   {
    "duration": 11,
    "start_time": "2023-07-16T09:44:45.586Z"
   },
   {
    "duration": 16,
    "start_time": "2023-07-16T09:44:55.383Z"
   },
   {
    "duration": 9,
    "start_time": "2023-07-16T09:47:22.617Z"
   },
   {
    "duration": 8,
    "start_time": "2023-07-16T09:47:46.040Z"
   },
   {
    "duration": 15,
    "start_time": "2023-07-16T09:49:12.288Z"
   },
   {
    "duration": 479,
    "start_time": "2023-07-16T09:49:55.855Z"
   },
   {
    "duration": 584,
    "start_time": "2023-07-16T09:51:06.659Z"
   },
   {
    "duration": 9,
    "start_time": "2023-07-16T09:52:05.045Z"
   },
   {
    "duration": 14,
    "start_time": "2023-07-16T09:52:11.306Z"
   },
   {
    "duration": 7,
    "start_time": "2023-07-16T09:52:36.772Z"
   },
   {
    "duration": 15,
    "start_time": "2023-07-16T09:52:40.896Z"
   },
   {
    "duration": 16,
    "start_time": "2023-07-16T09:53:42.807Z"
   },
   {
    "duration": 8,
    "start_time": "2023-07-16T09:56:43.099Z"
   },
   {
    "duration": 15,
    "start_time": "2023-07-16T09:56:47.989Z"
   },
   {
    "duration": 13,
    "start_time": "2023-07-16T09:56:57.079Z"
   },
   {
    "duration": 16,
    "start_time": "2023-07-16T09:57:04.569Z"
   },
   {
    "duration": 374,
    "start_time": "2023-07-16T09:57:21.396Z"
   },
   {
    "duration": 6,
    "start_time": "2023-07-16T09:59:04.297Z"
   },
   {
    "duration": 4,
    "start_time": "2023-07-16T10:00:57.958Z"
   },
   {
    "duration": 4,
    "start_time": "2023-07-16T10:01:53.687Z"
   },
   {
    "duration": 6,
    "start_time": "2023-07-16T10:04:13.044Z"
   },
   {
    "duration": 4,
    "start_time": "2023-07-16T10:04:27.547Z"
   },
   {
    "duration": 5,
    "start_time": "2023-07-16T10:04:41.174Z"
   },
   {
    "duration": 1284,
    "start_time": "2023-07-16T10:04:50.283Z"
   },
   {
    "duration": 53,
    "start_time": "2023-07-16T10:04:52.144Z"
   },
   {
    "duration": 20,
    "start_time": "2023-07-16T10:04:53.386Z"
   },
   {
    "duration": 14,
    "start_time": "2023-07-16T10:04:54.914Z"
   },
   {
    "duration": 17,
    "start_time": "2023-07-16T10:04:58.668Z"
   },
   {
    "duration": 10,
    "start_time": "2023-07-16T10:05:01.049Z"
   },
   {
    "duration": 9,
    "start_time": "2023-07-16T10:05:04.089Z"
   },
   {
    "duration": 5,
    "start_time": "2023-07-16T10:05:05.670Z"
   },
   {
    "duration": 5,
    "start_time": "2023-07-16T10:05:06.452Z"
   },
   {
    "duration": 6,
    "start_time": "2023-07-16T10:06:06.448Z"
   },
   {
    "duration": 1889,
    "start_time": "2023-07-16T10:12:13.188Z"
   },
   {
    "duration": 1484,
    "start_time": "2023-07-16T10:12:16.060Z"
   },
   {
    "duration": 19,
    "start_time": "2023-07-16T10:12:29.060Z"
   },
   {
    "duration": 14,
    "start_time": "2023-07-16T10:15:57.088Z"
   },
   {
    "duration": 13,
    "start_time": "2023-07-16T10:16:08.686Z"
   },
   {
    "duration": 9,
    "start_time": "2023-07-16T10:16:35.911Z"
   },
   {
    "duration": 190,
    "start_time": "2023-07-16T10:19:18.960Z"
   },
   {
    "duration": 4,
    "start_time": "2023-07-16T10:19:44.808Z"
   },
   {
    "duration": 144,
    "start_time": "2023-07-16T10:19:51.084Z"
   },
   {
    "duration": 92,
    "start_time": "2023-07-16T10:20:24.844Z"
   },
   {
    "duration": 155,
    "start_time": "2023-07-16T10:20:37.614Z"
   },
   {
    "duration": 143,
    "start_time": "2023-07-16T10:20:55.865Z"
   },
   {
    "duration": 172,
    "start_time": "2023-07-16T10:21:35.389Z"
   },
   {
    "duration": 165,
    "start_time": "2023-07-16T10:21:52.364Z"
   },
   {
    "duration": 194,
    "start_time": "2023-07-16T10:22:18.206Z"
   },
   {
    "duration": 173,
    "start_time": "2023-07-16T10:22:40.507Z"
   },
   {
    "duration": 205,
    "start_time": "2023-07-16T10:28:53.358Z"
   },
   {
    "duration": 257,
    "start_time": "2023-07-16T10:29:23.194Z"
   },
   {
    "duration": 187,
    "start_time": "2023-07-16T10:29:31.108Z"
   },
   {
    "duration": 1222,
    "start_time": "2023-07-16T16:58:06.521Z"
   },
   {
    "duration": 228,
    "start_time": "2023-07-16T16:58:08.565Z"
   },
   {
    "duration": 23,
    "start_time": "2023-07-16T16:58:09.255Z"
   },
   {
    "duration": 21,
    "start_time": "2023-07-16T16:58:11.862Z"
   },
   {
    "duration": 21,
    "start_time": "2023-07-16T16:58:15.291Z"
   },
   {
    "duration": 9,
    "start_time": "2023-07-16T16:58:18.397Z"
   },
   {
    "duration": 9,
    "start_time": "2023-07-16T16:58:21.321Z"
   },
   {
    "duration": 115,
    "start_time": "2023-07-16T16:58:23.812Z"
   },
   {
    "duration": 6,
    "start_time": "2023-07-16T16:58:24.397Z"
   },
   {
    "duration": 18,
    "start_time": "2023-07-16T16:58:27.531Z"
   },
   {
    "duration": 246,
    "start_time": "2023-07-16T16:58:33.412Z"
   },
   {
    "duration": 183,
    "start_time": "2023-07-16T16:58:58.087Z"
   },
   {
    "duration": 354,
    "start_time": "2023-07-16T16:59:07.131Z"
   },
   {
    "duration": 245,
    "start_time": "2023-07-16T16:59:14.015Z"
   },
   {
    "duration": 13,
    "start_time": "2023-07-16T17:00:25.397Z"
   },
   {
    "duration": 4,
    "start_time": "2023-07-16T17:00:50.811Z"
   },
   {
    "duration": 182,
    "start_time": "2023-07-16T17:00:55.903Z"
   },
   {
    "duration": 178,
    "start_time": "2023-07-16T17:01:12.281Z"
   },
   {
    "duration": 18,
    "start_time": "2023-07-16T17:05:59.891Z"
   },
   {
    "duration": 90,
    "start_time": "2023-07-16T17:08:47.836Z"
   },
   {
    "duration": 9,
    "start_time": "2023-07-16T17:09:00.791Z"
   },
   {
    "duration": 9,
    "start_time": "2023-07-16T17:09:23.353Z"
   },
   {
    "duration": 9,
    "start_time": "2023-07-16T17:10:59.144Z"
   },
   {
    "duration": 5,
    "start_time": "2023-07-16T17:18:43.365Z"
   },
   {
    "duration": 6,
    "start_time": "2023-07-16T17:18:51.986Z"
   },
   {
    "duration": 257,
    "start_time": "2023-07-16T17:22:55.262Z"
   },
   {
    "duration": 233,
    "start_time": "2023-07-16T17:23:12.340Z"
   },
   {
    "duration": 227,
    "start_time": "2023-07-16T17:23:46.803Z"
   },
   {
    "duration": 275,
    "start_time": "2023-07-16T17:24:11.833Z"
   },
   {
    "duration": 228,
    "start_time": "2023-07-16T17:24:22.793Z"
   },
   {
    "duration": 240,
    "start_time": "2023-07-16T17:25:11.126Z"
   },
   {
    "duration": 271,
    "start_time": "2023-07-16T17:25:16.718Z"
   },
   {
    "duration": 297,
    "start_time": "2023-07-16T17:25:25.088Z"
   },
   {
    "duration": 516,
    "start_time": "2023-07-16T17:26:43.239Z"
   },
   {
    "duration": 291,
    "start_time": "2023-07-16T17:27:03.393Z"
   },
   {
    "duration": 7,
    "start_time": "2023-07-16T17:28:56.949Z"
   },
   {
    "duration": 311,
    "start_time": "2023-07-16T17:29:16.303Z"
   },
   {
    "duration": 24,
    "start_time": "2023-07-16T17:29:46.102Z"
   },
   {
    "duration": 8,
    "start_time": "2023-07-16T17:30:01.799Z"
   },
   {
    "duration": 8,
    "start_time": "2023-07-16T17:30:17.489Z"
   },
   {
    "duration": 8,
    "start_time": "2023-07-16T17:30:43.293Z"
   },
   {
    "duration": 7,
    "start_time": "2023-07-16T17:31:03.366Z"
   },
   {
    "duration": 9,
    "start_time": "2023-07-16T17:31:21.044Z"
   },
   {
    "duration": 8,
    "start_time": "2023-07-16T17:31:29.067Z"
   },
   {
    "duration": 29,
    "start_time": "2023-07-16T17:31:41.019Z"
   },
   {
    "duration": 64,
    "start_time": "2023-07-16T17:32:56.739Z"
   },
   {
    "duration": 77,
    "start_time": "2023-07-16T17:33:27.403Z"
   },
   {
    "duration": 63,
    "start_time": "2023-07-16T17:34:34.458Z"
   },
   {
    "duration": 25,
    "start_time": "2023-07-16T17:34:46.519Z"
   },
   {
    "duration": 77,
    "start_time": "2023-07-16T17:38:42.506Z"
   },
   {
    "duration": 530,
    "start_time": "2023-07-16T17:39:59.103Z"
   },
   {
    "duration": 516,
    "start_time": "2023-07-16T17:40:14.302Z"
   },
   {
    "duration": 19,
    "start_time": "2023-07-16T17:40:45.444Z"
   },
   {
    "duration": 23,
    "start_time": "2023-07-16T17:41:01.901Z"
   },
   {
    "duration": 624,
    "start_time": "2023-07-16T17:41:41.165Z"
   },
   {
    "duration": 21,
    "start_time": "2023-07-16T17:41:52.180Z"
   },
   {
    "duration": 511,
    "start_time": "2023-07-16T17:42:04.889Z"
   },
   {
    "duration": 23,
    "start_time": "2023-07-16T17:44:55.503Z"
   },
   {
    "duration": 22,
    "start_time": "2023-07-16T17:45:22.731Z"
   },
   {
    "duration": 24,
    "start_time": "2023-07-16T17:45:37.251Z"
   },
   {
    "duration": 6,
    "start_time": "2023-07-16T17:46:46.392Z"
   },
   {
    "duration": 13,
    "start_time": "2023-07-16T17:47:48.590Z"
   },
   {
    "duration": 34,
    "start_time": "2023-07-16T17:47:53.934Z"
   },
   {
    "duration": 537,
    "start_time": "2023-07-16T17:49:14.694Z"
   },
   {
    "duration": 58,
    "start_time": "2023-07-16T17:50:09.712Z"
   },
   {
    "duration": 70,
    "start_time": "2023-07-16T17:50:44.344Z"
   },
   {
    "duration": 20,
    "start_time": "2023-07-16T17:50:52.437Z"
   },
   {
    "duration": 23,
    "start_time": "2023-07-16T17:51:05.088Z"
   },
   {
    "duration": 20,
    "start_time": "2023-07-16T17:51:17.626Z"
   },
   {
    "duration": 501,
    "start_time": "2023-07-16T17:51:47.200Z"
   },
   {
    "duration": 576,
    "start_time": "2023-07-16T17:52:11.124Z"
   },
   {
    "duration": 495,
    "start_time": "2023-07-16T17:52:36.391Z"
   },
   {
    "duration": 493,
    "start_time": "2023-07-16T17:54:15.521Z"
   },
   {
    "duration": 495,
    "start_time": "2023-07-16T17:54:24.285Z"
   },
   {
    "duration": 5,
    "start_time": "2023-07-16T17:55:21.419Z"
   },
   {
    "duration": 8,
    "start_time": "2023-07-16T17:55:27.751Z"
   },
   {
    "duration": 25,
    "start_time": "2023-07-16T17:55:52.292Z"
   },
   {
    "duration": 303,
    "start_time": "2023-07-16T17:56:05.468Z"
   },
   {
    "duration": 296,
    "start_time": "2023-07-16T17:57:21.146Z"
   },
   {
    "duration": 332,
    "start_time": "2023-07-16T17:57:33.192Z"
   },
   {
    "duration": 14,
    "start_time": "2023-07-16T18:02:23.056Z"
   },
   {
    "duration": 12,
    "start_time": "2023-07-16T18:02:39.210Z"
   },
   {
    "duration": 436,
    "start_time": "2023-07-16T18:02:46.290Z"
   },
   {
    "duration": 293,
    "start_time": "2023-07-16T18:08:47.753Z"
   },
   {
    "duration": 295,
    "start_time": "2023-07-16T18:11:42.254Z"
   },
   {
    "duration": 318,
    "start_time": "2023-07-16T18:13:52.010Z"
   },
   {
    "duration": 6,
    "start_time": "2023-07-16T18:14:20.954Z"
   },
   {
    "duration": 8,
    "start_time": "2023-07-16T18:14:26.546Z"
   },
   {
    "duration": 7,
    "start_time": "2023-07-16T18:14:47.310Z"
   },
   {
    "duration": 6,
    "start_time": "2023-07-16T18:15:31.127Z"
   },
   {
    "duration": 8,
    "start_time": "2023-07-16T18:15:38.755Z"
   },
   {
    "duration": 8,
    "start_time": "2023-07-16T18:15:48.211Z"
   },
   {
    "duration": 9,
    "start_time": "2023-07-16T18:16:04.330Z"
   },
   {
    "duration": 5,
    "start_time": "2023-07-16T18:16:34.339Z"
   },
   {
    "duration": 310,
    "start_time": "2023-07-16T18:16:38.331Z"
   },
   {
    "duration": 8,
    "start_time": "2023-07-16T18:29:38.232Z"
   },
   {
    "duration": 9,
    "start_time": "2023-07-16T18:30:02.539Z"
   },
   {
    "duration": 9,
    "start_time": "2023-07-16T18:30:16.309Z"
   },
   {
    "duration": 10,
    "start_time": "2023-07-16T18:30:31.407Z"
   },
   {
    "duration": 16,
    "start_time": "2023-07-16T18:31:12.563Z"
   },
   {
    "duration": 15,
    "start_time": "2023-07-16T18:32:27.738Z"
   },
   {
    "duration": 14,
    "start_time": "2023-07-16T18:32:35.931Z"
   },
   {
    "duration": 1479,
    "start_time": "2023-07-17T05:02:37.382Z"
   },
   {
    "duration": 90,
    "start_time": "2023-07-17T05:02:38.863Z"
   },
   {
    "duration": 19,
    "start_time": "2023-07-17T05:02:39.282Z"
   },
   {
    "duration": 14,
    "start_time": "2023-07-17T05:02:40.157Z"
   },
   {
    "duration": 20,
    "start_time": "2023-07-17T05:02:45.199Z"
   },
   {
    "duration": 10,
    "start_time": "2023-07-17T05:02:46.561Z"
   },
   {
    "duration": 11,
    "start_time": "2023-07-17T05:03:06.047Z"
   },
   {
    "duration": 14,
    "start_time": "2023-07-17T05:06:35.006Z"
   },
   {
    "duration": 6,
    "start_time": "2023-07-17T05:06:35.785Z"
   },
   {
    "duration": 18,
    "start_time": "2023-07-17T05:06:39.917Z"
   },
   {
    "duration": 255,
    "start_time": "2023-07-17T05:07:21.198Z"
   },
   {
    "duration": 246,
    "start_time": "2023-07-17T05:07:57.133Z"
   },
   {
    "duration": 248,
    "start_time": "2023-07-17T05:08:46.070Z"
   },
   {
    "duration": 245,
    "start_time": "2023-07-17T05:09:16.461Z"
   },
   {
    "duration": 294,
    "start_time": "2023-07-17T05:09:44.789Z"
   },
   {
    "duration": 198,
    "start_time": "2023-07-17T05:09:55.427Z"
   },
   {
    "duration": 1083,
    "start_time": "2023-07-17T05:10:49.213Z"
   },
   {
    "duration": 51,
    "start_time": "2023-07-17T05:10:50.298Z"
   },
   {
    "duration": 18,
    "start_time": "2023-07-17T05:10:50.381Z"
   },
   {
    "duration": 13,
    "start_time": "2023-07-17T05:10:51.272Z"
   },
   {
    "duration": 16,
    "start_time": "2023-07-17T05:10:55.041Z"
   },
   {
    "duration": 8,
    "start_time": "2023-07-17T05:10:57.422Z"
   },
   {
    "duration": 12,
    "start_time": "2023-07-17T05:11:00.628Z"
   },
   {
    "duration": 13,
    "start_time": "2023-07-17T05:11:03.614Z"
   },
   {
    "duration": 5,
    "start_time": "2023-07-17T05:11:06.067Z"
   },
   {
    "duration": 16,
    "start_time": "2023-07-17T05:11:08.742Z"
   },
   {
    "duration": 15,
    "start_time": "2023-07-17T05:11:12.181Z"
   },
   {
    "duration": 0,
    "start_time": "2023-07-17T05:14:09.352Z"
   },
   {
    "duration": 0,
    "start_time": "2023-07-17T05:14:09.353Z"
   },
   {
    "duration": 0,
    "start_time": "2023-07-17T05:14:09.354Z"
   },
   {
    "duration": 3,
    "start_time": "2023-07-17T05:14:26.812Z"
   },
   {
    "duration": 1106,
    "start_time": "2023-07-17T05:14:34.773Z"
   },
   {
    "duration": 53,
    "start_time": "2023-07-17T05:14:36.472Z"
   },
   {
    "duration": 20,
    "start_time": "2023-07-17T05:14:38.794Z"
   },
   {
    "duration": 14,
    "start_time": "2023-07-17T05:14:40.504Z"
   },
   {
    "duration": 17,
    "start_time": "2023-07-17T05:14:44.588Z"
   },
   {
    "duration": 10,
    "start_time": "2023-07-17T05:14:47.201Z"
   },
   {
    "duration": 13,
    "start_time": "2023-07-17T05:14:50.207Z"
   },
   {
    "duration": 14,
    "start_time": "2023-07-17T05:14:53.437Z"
   },
   {
    "duration": 7,
    "start_time": "2023-07-17T05:14:55.216Z"
   },
   {
    "duration": 16,
    "start_time": "2023-07-17T05:14:56.344Z"
   },
   {
    "duration": 289,
    "start_time": "2023-07-17T05:14:58.040Z"
   },
   {
    "duration": 1062,
    "start_time": "2023-07-17T05:16:44.002Z"
   },
   {
    "duration": 52,
    "start_time": "2023-07-17T05:16:45.756Z"
   },
   {
    "duration": 29,
    "start_time": "2023-07-17T05:16:46.464Z"
   },
   {
    "duration": 13,
    "start_time": "2023-07-17T05:16:48.446Z"
   },
   {
    "duration": 16,
    "start_time": "2023-07-17T05:16:51.618Z"
   },
   {
    "duration": 9,
    "start_time": "2023-07-17T05:16:53.618Z"
   },
   {
    "duration": 13,
    "start_time": "2023-07-17T05:16:56.900Z"
   },
   {
    "duration": 14,
    "start_time": "2023-07-17T05:17:00.521Z"
   },
   {
    "duration": 6,
    "start_time": "2023-07-17T05:17:02.732Z"
   },
   {
    "duration": 17,
    "start_time": "2023-07-17T05:17:04.547Z"
   },
   {
    "duration": 230,
    "start_time": "2023-07-17T05:17:06.846Z"
   },
   {
    "duration": 12,
    "start_time": "2023-07-17T05:17:35.588Z"
   },
   {
    "duration": 239,
    "start_time": "2023-07-17T05:17:41.916Z"
   },
   {
    "duration": 424,
    "start_time": "2023-07-17T05:19:53.751Z"
   },
   {
    "duration": 364,
    "start_time": "2023-07-17T05:20:15.217Z"
   },
   {
    "duration": 332,
    "start_time": "2023-07-17T05:20:29.778Z"
   },
   {
    "duration": 216,
    "start_time": "2023-07-17T05:23:30.171Z"
   },
   {
    "duration": 217,
    "start_time": "2023-07-17T05:23:56.586Z"
   },
   {
    "duration": 213,
    "start_time": "2023-07-17T05:24:03.611Z"
   },
   {
    "duration": 221,
    "start_time": "2023-07-17T05:24:09.188Z"
   },
   {
    "duration": 286,
    "start_time": "2023-07-17T05:24:15.628Z"
   },
   {
    "duration": 212,
    "start_time": "2023-07-17T05:24:23.288Z"
   },
   {
    "duration": 14,
    "start_time": "2023-07-17T05:27:50.660Z"
   },
   {
    "duration": 25,
    "start_time": "2023-07-17T05:28:02.198Z"
   },
   {
    "duration": 11,
    "start_time": "2023-07-17T05:28:29.267Z"
   },
   {
    "duration": 311,
    "start_time": "2023-07-17T05:29:07.719Z"
   },
   {
    "duration": 309,
    "start_time": "2023-07-17T05:29:16.955Z"
   },
   {
    "duration": 1234,
    "start_time": "2023-07-17T17:41:05.049Z"
   },
   {
    "duration": 465,
    "start_time": "2023-07-17T17:41:07.723Z"
   },
   {
    "duration": 26,
    "start_time": "2023-07-17T17:41:08.424Z"
   },
   {
    "duration": 21,
    "start_time": "2023-07-17T17:41:10.696Z"
   },
   {
    "duration": 20,
    "start_time": "2023-07-17T17:41:13.768Z"
   },
   {
    "duration": 10,
    "start_time": "2023-07-17T17:41:16.200Z"
   },
   {
    "duration": 15,
    "start_time": "2023-07-17T17:41:19.768Z"
   },
   {
    "duration": 14,
    "start_time": "2023-07-17T17:41:31.180Z"
   },
   {
    "duration": 6,
    "start_time": "2023-07-17T17:41:35.097Z"
   },
   {
    "duration": 22,
    "start_time": "2023-07-17T17:41:41.208Z"
   },
   {
    "duration": 1165,
    "start_time": "2023-07-17T17:43:12.007Z"
   },
   {
    "duration": 59,
    "start_time": "2023-07-17T17:43:14.807Z"
   },
   {
    "duration": 21,
    "start_time": "2023-07-17T17:43:15.533Z"
   },
   {
    "duration": 15,
    "start_time": "2023-07-17T17:43:16.656Z"
   },
   {
    "duration": 18,
    "start_time": "2023-07-17T17:43:21.692Z"
   },
   {
    "duration": 11,
    "start_time": "2023-07-17T17:43:23.859Z"
   },
   {
    "duration": 24,
    "start_time": "2023-07-17T17:43:26.402Z"
   },
   {
    "duration": 15,
    "start_time": "2023-07-17T17:43:29.179Z"
   },
   {
    "duration": 8,
    "start_time": "2023-07-17T17:43:29.720Z"
   },
   {
    "duration": 19,
    "start_time": "2023-07-17T17:43:30.884Z"
   },
   {
    "duration": 279,
    "start_time": "2023-07-17T17:43:35.480Z"
   },
   {
    "duration": 397,
    "start_time": "2023-07-17T17:46:18.746Z"
   },
   {
    "duration": 122,
    "start_time": "2023-07-17T18:05:08.288Z"
   },
   {
    "duration": 435,
    "start_time": "2023-07-17T18:05:15.488Z"
   },
   {
    "duration": 78,
    "start_time": "2023-07-17T18:05:39.512Z"
   },
   {
    "duration": 131,
    "start_time": "2023-07-17T18:06:13.139Z"
   },
   {
    "duration": 71,
    "start_time": "2023-07-17T18:06:33.119Z"
   },
   {
    "duration": 82,
    "start_time": "2023-07-17T18:07:09.667Z"
   },
   {
    "duration": 63,
    "start_time": "2023-07-17T18:07:23.664Z"
   },
   {
    "duration": 325,
    "start_time": "2023-07-17T18:07:40.975Z"
   },
   {
    "duration": 358,
    "start_time": "2023-07-17T18:08:50.455Z"
   },
   {
    "duration": 388,
    "start_time": "2023-07-17T18:09:24.387Z"
   },
   {
    "duration": 326,
    "start_time": "2023-07-17T18:10:18.459Z"
   },
   {
    "duration": 358,
    "start_time": "2023-07-17T18:25:08.563Z"
   },
   {
    "duration": 412,
    "start_time": "2023-07-17T18:51:55.974Z"
   },
   {
    "duration": 17,
    "start_time": "2023-07-17T19:05:51.457Z"
   },
   {
    "duration": 1730,
    "start_time": "2023-07-17T19:10:33.181Z"
   },
   {
    "duration": 1703,
    "start_time": "2023-07-17T19:11:04.837Z"
   },
   {
    "duration": 1616,
    "start_time": "2023-07-17T19:11:19.892Z"
   },
   {
    "duration": 1660,
    "start_time": "2023-07-17T19:11:56.554Z"
   },
   {
    "duration": 1781,
    "start_time": "2023-07-17T19:13:41.760Z"
   },
   {
    "duration": 215,
    "start_time": "2023-07-17T19:15:47.461Z"
   },
   {
    "duration": 38187,
    "start_time": "2023-07-17T19:15:54.054Z"
   },
   {
    "duration": 413,
    "start_time": "2023-07-17T19:19:19.337Z"
   },
   {
    "duration": 339,
    "start_time": "2023-07-17T19:19:31.062Z"
   },
   {
    "duration": 325,
    "start_time": "2023-07-17T19:19:44.255Z"
   },
   {
    "duration": 344,
    "start_time": "2023-07-17T19:19:54.191Z"
   },
   {
    "duration": 297,
    "start_time": "2023-07-17T19:21:13.911Z"
   },
   {
    "duration": 3,
    "start_time": "2023-07-17T19:28:16.095Z"
   },
   {
    "duration": 1194,
    "start_time": "2023-07-17T19:28:23.386Z"
   },
   {
    "duration": 65,
    "start_time": "2023-07-17T19:28:24.582Z"
   },
   {
    "duration": 27,
    "start_time": "2023-07-17T19:28:24.649Z"
   },
   {
    "duration": 17,
    "start_time": "2023-07-17T19:28:26.604Z"
   },
   {
    "duration": 18,
    "start_time": "2023-07-17T19:28:30.664Z"
   },
   {
    "duration": 15,
    "start_time": "2023-07-17T19:28:33.957Z"
   },
   {
    "duration": 15,
    "start_time": "2023-07-17T19:28:37.055Z"
   },
   {
    "duration": 13,
    "start_time": "2023-07-17T19:28:39.299Z"
   },
   {
    "duration": 6,
    "start_time": "2023-07-17T19:28:40.890Z"
   },
   {
    "duration": 19,
    "start_time": "2023-07-17T19:28:44.660Z"
   },
   {
    "duration": 295,
    "start_time": "2023-07-17T19:28:48.788Z"
   },
   {
    "duration": 427,
    "start_time": "2023-07-17T19:28:52.392Z"
   },
   {
    "duration": 24,
    "start_time": "2023-07-17T19:28:58.468Z"
   },
   {
    "duration": 110,
    "start_time": "2023-07-17T19:32:02.499Z"
   },
   {
    "duration": 75,
    "start_time": "2023-07-17T19:33:12.255Z"
   },
   {
    "duration": 19,
    "start_time": "2023-07-17T19:34:06.864Z"
   },
   {
    "duration": 17,
    "start_time": "2023-07-17T19:49:57.904Z"
   },
   {
    "duration": 30,
    "start_time": "2023-07-17T19:50:09.762Z"
   },
   {
    "duration": 170,
    "start_time": "2023-07-17T19:50:40.151Z"
   },
   {
    "duration": 315,
    "start_time": "2023-07-17T19:51:01.888Z"
   },
   {
    "duration": 35,
    "start_time": "2023-07-17T19:51:48.511Z"
   },
   {
    "duration": 342,
    "start_time": "2023-07-17T19:51:55.146Z"
   },
   {
    "duration": 321,
    "start_time": "2023-07-17T19:52:06.642Z"
   },
   {
    "duration": 324,
    "start_time": "2023-07-17T19:52:14.467Z"
   },
   {
    "duration": 336,
    "start_time": "2023-07-17T19:52:34.358Z"
   },
   {
    "duration": 310,
    "start_time": "2023-07-17T19:52:43.275Z"
   },
   {
    "duration": 409,
    "start_time": "2023-07-17T19:53:06.687Z"
   },
   {
    "duration": 316,
    "start_time": "2023-07-17T19:53:16.304Z"
   },
   {
    "duration": 384,
    "start_time": "2023-07-17T19:53:27.910Z"
   },
   {
    "duration": 336,
    "start_time": "2023-07-17T19:53:36.480Z"
   },
   {
    "duration": 344,
    "start_time": "2023-07-17T19:53:42.776Z"
   },
   {
    "duration": 1479,
    "start_time": "2023-07-18T07:55:56.578Z"
   },
   {
    "duration": 98,
    "start_time": "2023-07-18T07:55:58.060Z"
   },
   {
    "duration": 31,
    "start_time": "2023-07-18T07:55:58.469Z"
   },
   {
    "duration": 20,
    "start_time": "2023-07-18T07:55:59.362Z"
   },
   {
    "duration": 20,
    "start_time": "2023-07-18T07:56:03.475Z"
   },
   {
    "duration": 16,
    "start_time": "2023-07-18T07:56:06.050Z"
   },
   {
    "duration": 16,
    "start_time": "2023-07-18T07:56:07.637Z"
   },
   {
    "duration": 11,
    "start_time": "2023-07-18T07:56:08.266Z"
   },
   {
    "duration": 24,
    "start_time": "2023-07-18T07:56:09.309Z"
   },
   {
    "duration": 285,
    "start_time": "2023-07-18T07:56:27.537Z"
   },
   {
    "duration": 403,
    "start_time": "2023-07-18T07:56:30.608Z"
   },
   {
    "duration": 26,
    "start_time": "2023-07-18T07:56:35.253Z"
   },
   {
    "duration": 27,
    "start_time": "2023-07-18T07:56:38.063Z"
   },
   {
    "duration": 332,
    "start_time": "2023-07-18T07:56:40.011Z"
   },
   {
    "duration": 653,
    "start_time": "2023-07-18T08:02:17.967Z"
   },
   {
    "duration": 136,
    "start_time": "2023-07-18T08:02:37.830Z"
   },
   {
    "duration": 118,
    "start_time": "2023-07-18T08:02:44.231Z"
   },
   {
    "duration": 119,
    "start_time": "2023-07-18T08:04:04.323Z"
   },
   {
    "duration": 121,
    "start_time": "2023-07-18T08:04:31.787Z"
   },
   {
    "duration": 262,
    "start_time": "2023-07-18T08:07:57.218Z"
   },
   {
    "duration": 217,
    "start_time": "2023-07-18T08:09:04.177Z"
   },
   {
    "duration": 131,
    "start_time": "2023-07-18T08:09:18.167Z"
   },
   {
    "duration": 32,
    "start_time": "2023-07-18T08:11:54.003Z"
   },
   {
    "duration": 252,
    "start_time": "2023-07-18T08:12:38.302Z"
   },
   {
    "duration": 254,
    "start_time": "2023-07-18T08:12:53.751Z"
   },
   {
    "duration": 18,
    "start_time": "2023-07-18T08:13:34.081Z"
   },
   {
    "duration": 12,
    "start_time": "2023-07-18T08:15:19.664Z"
   },
   {
    "duration": 13,
    "start_time": "2023-07-18T08:15:34.366Z"
   },
   {
    "duration": 16,
    "start_time": "2023-07-18T08:17:59.056Z"
   },
   {
    "duration": 18,
    "start_time": "2023-07-18T08:18:14.449Z"
   },
   {
    "duration": 14,
    "start_time": "2023-07-18T08:19:23.865Z"
   },
   {
    "duration": 12,
    "start_time": "2023-07-18T08:19:38.041Z"
   },
   {
    "duration": 18,
    "start_time": "2023-07-18T08:20:19.412Z"
   },
   {
    "duration": 16,
    "start_time": "2023-07-18T08:21:23.730Z"
   },
   {
    "duration": 23,
    "start_time": "2023-07-18T08:21:38.351Z"
   },
   {
    "duration": 16,
    "start_time": "2023-07-18T08:22:07.171Z"
   },
   {
    "duration": 19,
    "start_time": "2023-07-18T08:23:42.107Z"
   },
   {
    "duration": 240,
    "start_time": "2023-07-18T08:23:47.994Z"
   },
   {
    "duration": 13,
    "start_time": "2023-07-18T08:24:58.881Z"
   },
   {
    "duration": 30,
    "start_time": "2023-07-18T08:25:09.451Z"
   },
   {
    "duration": 346,
    "start_time": "2023-07-18T08:25:11.930Z"
   },
   {
    "duration": 24,
    "start_time": "2023-07-18T08:25:27.253Z"
   },
   {
    "duration": 3,
    "start_time": "2023-07-18T08:32:29.609Z"
   },
   {
    "duration": 148,
    "start_time": "2023-07-18T08:34:52.585Z"
   },
   {
    "duration": 227,
    "start_time": "2023-07-18T08:35:05.206Z"
   },
   {
    "duration": 3260,
    "start_time": "2023-07-18T08:37:23.759Z"
   },
   {
    "duration": 2841,
    "start_time": "2023-07-18T08:41:07.215Z"
   },
   {
    "duration": 12,
    "start_time": "2023-07-18T08:43:12.050Z"
   },
   {
    "duration": 3441,
    "start_time": "2023-07-18T08:44:12.639Z"
   },
   {
    "duration": 4315,
    "start_time": "2023-07-18T08:44:36.137Z"
   },
   {
    "duration": 6,
    "start_time": "2023-07-18T08:45:43.467Z"
   },
   {
    "duration": 15,
    "start_time": "2023-07-18T08:45:58.850Z"
   },
   {
    "duration": 17,
    "start_time": "2023-07-18T08:46:42.602Z"
   },
   {
    "duration": 146,
    "start_time": "2023-07-18T08:47:04.437Z"
   },
   {
    "duration": 4,
    "start_time": "2023-07-18T08:48:51.419Z"
   },
   {
    "duration": 121,
    "start_time": "2023-07-18T08:48:57.569Z"
   },
   {
    "duration": 12,
    "start_time": "2023-07-18T08:50:35.910Z"
   },
   {
    "duration": 20,
    "start_time": "2023-07-18T08:50:47.097Z"
   },
   {
    "duration": 121,
    "start_time": "2023-07-18T08:51:12.922Z"
   },
   {
    "duration": 26,
    "start_time": "2023-07-18T08:51:51.810Z"
   },
   {
    "duration": 230,
    "start_time": "2023-07-18T08:54:01.569Z"
   },
   {
    "duration": 145,
    "start_time": "2023-07-18T08:55:02.899Z"
   },
   {
    "duration": 139,
    "start_time": "2023-07-18T08:55:14.795Z"
   },
   {
    "duration": 1277,
    "start_time": "2023-07-18T08:55:38.387Z"
   },
   {
    "duration": 57,
    "start_time": "2023-07-18T08:55:41.153Z"
   },
   {
    "duration": 23,
    "start_time": "2023-07-18T08:55:41.853Z"
   },
   {
    "duration": 15,
    "start_time": "2023-07-18T08:55:42.704Z"
   },
   {
    "duration": 27,
    "start_time": "2023-07-18T08:55:47.348Z"
   },
   {
    "duration": 10,
    "start_time": "2023-07-18T08:55:48.227Z"
   },
   {
    "duration": 18,
    "start_time": "2023-07-18T08:55:50.556Z"
   },
   {
    "duration": 15,
    "start_time": "2023-07-18T08:55:54.326Z"
   },
   {
    "duration": 8,
    "start_time": "2023-07-18T08:55:55.419Z"
   },
   {
    "duration": 23,
    "start_time": "2023-07-18T08:55:56.762Z"
   },
   {
    "duration": 291,
    "start_time": "2023-07-18T08:56:01.001Z"
   },
   {
    "duration": 389,
    "start_time": "2023-07-18T08:56:04.598Z"
   },
   {
    "duration": 26,
    "start_time": "2023-07-18T08:56:13.037Z"
   },
   {
    "duration": 32,
    "start_time": "2023-07-18T08:56:17.341Z"
   },
   {
    "duration": 343,
    "start_time": "2023-07-18T08:56:20.367Z"
   },
   {
    "duration": 19,
    "start_time": "2023-07-18T08:56:24.090Z"
   },
   {
    "duration": 238,
    "start_time": "2023-07-18T08:56:26.836Z"
   },
   {
    "duration": 3654,
    "start_time": "2023-07-18T08:58:50.357Z"
   },
   {
    "duration": 3461,
    "start_time": "2023-07-18T08:59:23.270Z"
   },
   {
    "duration": 164,
    "start_time": "2023-07-18T08:59:44.193Z"
   },
   {
    "duration": 113,
    "start_time": "2023-07-18T08:59:52.645Z"
   },
   {
    "duration": 7,
    "start_time": "2023-07-18T09:01:07.668Z"
   },
   {
    "duration": 10,
    "start_time": "2023-07-18T09:01:15.678Z"
   },
   {
    "duration": 96,
    "start_time": "2023-07-18T09:01:26.111Z"
   },
   {
    "duration": 199,
    "start_time": "2023-07-18T09:02:04.121Z"
   },
   {
    "duration": 110,
    "start_time": "2023-07-18T09:03:08.086Z"
   },
   {
    "duration": 135,
    "start_time": "2023-07-18T09:05:32.739Z"
   },
   {
    "duration": 146,
    "start_time": "2023-07-18T09:05:52.583Z"
   },
   {
    "duration": 61,
    "start_time": "2023-07-18T09:09:23.496Z"
   },
   {
    "duration": 142,
    "start_time": "2023-07-18T09:09:28.629Z"
   },
   {
    "duration": 23,
    "start_time": "2023-07-18T09:10:30.209Z"
   },
   {
    "duration": 135,
    "start_time": "2023-07-18T09:10:46.320Z"
   },
   {
    "duration": 143,
    "start_time": "2023-07-18T09:11:45.840Z"
   },
   {
    "duration": 154,
    "start_time": "2023-07-18T09:12:03.418Z"
   },
   {
    "duration": 146,
    "start_time": "2023-07-18T09:12:14.341Z"
   },
   {
    "duration": 113,
    "start_time": "2023-07-18T09:12:34.772Z"
   },
   {
    "duration": 122,
    "start_time": "2023-07-18T09:12:50.742Z"
   },
   {
    "duration": 13,
    "start_time": "2023-07-18T09:17:42.876Z"
   },
   {
    "duration": 11,
    "start_time": "2023-07-18T09:18:48.341Z"
   },
   {
    "duration": 2408,
    "start_time": "2023-07-18T09:18:58.204Z"
   },
   {
    "duration": 4289,
    "start_time": "2023-07-18T09:19:19.554Z"
   },
   {
    "duration": 13,
    "start_time": "2023-07-18T09:19:34.080Z"
   },
   {
    "duration": 18,
    "start_time": "2023-07-18T09:40:37.373Z"
   },
   {
    "duration": 12,
    "start_time": "2023-07-18T09:40:48.684Z"
   },
   {
    "duration": 18,
    "start_time": "2023-07-18T09:41:10.318Z"
   },
   {
    "duration": 16,
    "start_time": "2023-07-18T09:41:28.589Z"
   },
   {
    "duration": 18,
    "start_time": "2023-07-18T09:42:16.935Z"
   },
   {
    "duration": 17,
    "start_time": "2023-07-18T09:42:37.348Z"
   },
   {
    "duration": 224,
    "start_time": "2023-07-18T09:43:40.910Z"
   },
   {
    "duration": 17,
    "start_time": "2023-07-18T09:44:01.564Z"
   },
   {
    "duration": 23,
    "start_time": "2023-07-18T09:44:37.343Z"
   },
   {
    "duration": 16,
    "start_time": "2023-07-18T09:44:48.851Z"
   },
   {
    "duration": 20,
    "start_time": "2023-07-18T09:45:27.391Z"
   },
   {
    "duration": 19,
    "start_time": "2023-07-18T09:46:36.565Z"
   },
   {
    "duration": 106,
    "start_time": "2023-07-18T09:46:55.815Z"
   },
   {
    "duration": 139,
    "start_time": "2023-07-18T09:48:21.660Z"
   },
   {
    "duration": 152,
    "start_time": "2023-07-18T09:48:52.634Z"
   },
   {
    "duration": 153,
    "start_time": "2023-07-18T09:49:11.092Z"
   },
   {
    "duration": 151,
    "start_time": "2023-07-18T09:49:45.016Z"
   },
   {
    "duration": 134,
    "start_time": "2023-07-18T09:50:07.560Z"
   },
   {
    "duration": 143,
    "start_time": "2023-07-18T09:50:56.540Z"
   },
   {
    "duration": 138,
    "start_time": "2023-07-18T09:52:18.080Z"
   },
   {
    "duration": 182,
    "start_time": "2023-07-18T09:53:45.018Z"
   },
   {
    "duration": 197,
    "start_time": "2023-07-18T09:55:20.438Z"
   },
   {
    "duration": 185,
    "start_time": "2023-07-18T09:55:44.767Z"
   },
   {
    "duration": 186,
    "start_time": "2023-07-18T09:56:42.635Z"
   },
   {
    "duration": 186,
    "start_time": "2023-07-18T09:56:56.507Z"
   },
   {
    "duration": 15,
    "start_time": "2023-07-18T09:57:58.040Z"
   },
   {
    "duration": 20,
    "start_time": "2023-07-18T09:58:10.539Z"
   },
   {
    "duration": 11,
    "start_time": "2023-07-18T09:59:34.279Z"
   },
   {
    "duration": 13,
    "start_time": "2023-07-18T09:59:46.447Z"
   },
   {
    "duration": 18,
    "start_time": "2023-07-18T09:59:51.710Z"
   },
   {
    "duration": 188,
    "start_time": "2023-07-18T09:59:56.772Z"
   },
   {
    "duration": 313,
    "start_time": "2023-07-18T10:01:04.452Z"
   },
   {
    "duration": 202,
    "start_time": "2023-07-18T10:01:14.506Z"
   },
   {
    "duration": 247,
    "start_time": "2023-07-18T10:01:21.981Z"
   },
   {
    "duration": 187,
    "start_time": "2023-07-18T10:01:29.538Z"
   },
   {
    "duration": 215,
    "start_time": "2023-07-18T10:01:39.229Z"
   },
   {
    "duration": 173,
    "start_time": "2023-07-18T10:01:57.041Z"
   },
   {
    "duration": 187,
    "start_time": "2023-07-18T10:02:10.891Z"
   },
   {
    "duration": 305,
    "start_time": "2023-07-18T10:04:23.888Z"
   },
   {
    "duration": 313,
    "start_time": "2023-07-18T10:04:33.060Z"
   },
   {
    "duration": 404,
    "start_time": "2023-07-18T10:04:45.563Z"
   },
   {
    "duration": 629,
    "start_time": "2023-07-18T10:06:42.278Z"
   },
   {
    "duration": 598,
    "start_time": "2023-07-18T10:06:57.064Z"
   },
   {
    "duration": 199,
    "start_time": "2023-07-18T10:07:16.985Z"
   },
   {
    "duration": 1347,
    "start_time": "2023-07-18T10:09:19.856Z"
   },
   {
    "duration": 65,
    "start_time": "2023-07-18T10:09:21.476Z"
   },
   {
    "duration": 23,
    "start_time": "2023-07-18T10:09:22.433Z"
   },
   {
    "duration": 15,
    "start_time": "2023-07-18T10:09:24.312Z"
   },
   {
    "duration": 20,
    "start_time": "2023-07-18T10:09:27.646Z"
   },
   {
    "duration": 10,
    "start_time": "2023-07-18T10:09:33.775Z"
   },
   {
    "duration": 16,
    "start_time": "2023-07-18T10:09:35.739Z"
   },
   {
    "duration": 15,
    "start_time": "2023-07-18T10:09:37.278Z"
   },
   {
    "duration": 7,
    "start_time": "2023-07-18T10:09:38.051Z"
   },
   {
    "duration": 21,
    "start_time": "2023-07-18T10:09:39.097Z"
   },
   {
    "duration": 274,
    "start_time": "2023-07-18T10:09:41.967Z"
   },
   {
    "duration": 404,
    "start_time": "2023-07-18T10:09:44.819Z"
   },
   {
    "duration": 38,
    "start_time": "2023-07-18T10:09:47.880Z"
   },
   {
    "duration": 105,
    "start_time": "2023-07-18T10:09:49.650Z"
   },
   {
    "duration": 37,
    "start_time": "2023-07-18T10:09:56.227Z"
   },
   {
    "duration": 381,
    "start_time": "2023-07-18T10:09:58.179Z"
   },
   {
    "duration": 17,
    "start_time": "2023-07-18T10:10:02.874Z"
   },
   {
    "duration": 22,
    "start_time": "2023-07-18T10:10:06.302Z"
   },
   {
    "duration": 196,
    "start_time": "2023-07-18T10:10:23.602Z"
   },
   {
    "duration": 671,
    "start_time": "2023-07-18T10:15:47.254Z"
   },
   {
    "duration": 218,
    "start_time": "2023-07-18T10:16:48.042Z"
   },
   {
    "duration": 136,
    "start_time": "2023-07-18T10:17:00.396Z"
   },
   {
    "duration": 201,
    "start_time": "2023-07-18T10:17:18.041Z"
   },
   {
    "duration": 14,
    "start_time": "2023-07-18T10:24:56.081Z"
   },
   {
    "duration": 17,
    "start_time": "2023-07-18T10:27:40.216Z"
   },
   {
    "duration": 15,
    "start_time": "2023-07-18T10:28:06.750Z"
   },
   {
    "duration": 11,
    "start_time": "2023-07-18T10:29:45.917Z"
   },
   {
    "duration": 16,
    "start_time": "2023-07-18T10:29:59.583Z"
   },
   {
    "duration": 16,
    "start_time": "2023-07-18T10:30:18.550Z"
   },
   {
    "duration": 3,
    "start_time": "2023-07-18T10:54:36.149Z"
   },
   {
    "duration": 13,
    "start_time": "2023-07-18T10:54:44.762Z"
   },
   {
    "duration": 15,
    "start_time": "2023-07-18T10:54:59.406Z"
   },
   {
    "duration": 1364,
    "start_time": "2023-07-18T10:55:57.555Z"
   },
   {
    "duration": 55,
    "start_time": "2023-07-18T10:55:58.922Z"
   },
   {
    "duration": 22,
    "start_time": "2023-07-18T10:55:59.217Z"
   },
   {
    "duration": 21,
    "start_time": "2023-07-18T10:56:00.154Z"
   },
   {
    "duration": 20,
    "start_time": "2023-07-18T10:56:02.789Z"
   },
   {
    "duration": 17,
    "start_time": "2023-07-18T10:56:04.652Z"
   },
   {
    "duration": 19,
    "start_time": "2023-07-18T10:56:05.860Z"
   },
   {
    "duration": 7,
    "start_time": "2023-07-18T10:56:06.396Z"
   },
   {
    "duration": 21,
    "start_time": "2023-07-18T10:56:07.949Z"
   },
   {
    "duration": 279,
    "start_time": "2023-07-18T10:56:09.668Z"
   },
   {
    "duration": 410,
    "start_time": "2023-07-18T10:56:14.053Z"
   },
   {
    "duration": 36,
    "start_time": "2023-07-18T10:56:16.989Z"
   },
   {
    "duration": 127,
    "start_time": "2023-07-18T10:56:18.647Z"
   },
   {
    "duration": 27,
    "start_time": "2023-07-18T10:56:26.107Z"
   },
   {
    "duration": 332,
    "start_time": "2023-07-18T10:56:28.458Z"
   },
   {
    "duration": 23,
    "start_time": "2023-07-18T10:56:30.557Z"
   },
   {
    "duration": 28,
    "start_time": "2023-07-18T10:56:31.963Z"
   },
   {
    "duration": 2327,
    "start_time": "2023-07-18T10:56:52.876Z"
   },
   {
    "duration": 184,
    "start_time": "2023-07-18T10:57:13.276Z"
   },
   {
    "duration": 211,
    "start_time": "2023-07-18T11:33:05.065Z"
   },
   {
    "duration": 346,
    "start_time": "2023-07-18T11:33:13.186Z"
   },
   {
    "duration": 388,
    "start_time": "2023-07-18T11:33:26.770Z"
   },
   {
    "duration": 1376,
    "start_time": "2023-07-18T14:31:19.360Z"
   },
   {
    "duration": 197,
    "start_time": "2023-07-18T14:31:21.579Z"
   },
   {
    "duration": 27,
    "start_time": "2023-07-18T14:31:22.698Z"
   },
   {
    "duration": 16,
    "start_time": "2023-07-18T14:31:24.184Z"
   },
   {
    "duration": 19,
    "start_time": "2023-07-18T14:31:27.862Z"
   },
   {
    "duration": 16,
    "start_time": "2023-07-18T14:31:34.114Z"
   },
   {
    "duration": 14,
    "start_time": "2023-07-18T14:31:45.756Z"
   },
   {
    "duration": 6,
    "start_time": "2023-07-18T14:31:46.446Z"
   },
   {
    "duration": 20,
    "start_time": "2023-07-18T14:31:48.479Z"
   },
   {
    "duration": 284,
    "start_time": "2023-07-18T14:31:51.272Z"
   },
   {
    "duration": 461,
    "start_time": "2023-07-18T14:31:53.722Z"
   },
   {
    "duration": 23,
    "start_time": "2023-07-18T14:31:56.328Z"
   },
   {
    "duration": 102,
    "start_time": "2023-07-18T14:31:58.397Z"
   },
   {
    "duration": 26,
    "start_time": "2023-07-18T14:32:03.380Z"
   },
   {
    "duration": 304,
    "start_time": "2023-07-18T14:32:06.481Z"
   },
   {
    "duration": 17,
    "start_time": "2023-07-18T14:32:09.907Z"
   },
   {
    "duration": 18,
    "start_time": "2023-07-18T14:32:11.026Z"
   },
   {
    "duration": 261,
    "start_time": "2023-07-18T14:32:14.811Z"
   },
   {
    "duration": 1527,
    "start_time": "2023-07-19T07:05:29.606Z"
   },
   {
    "duration": 117,
    "start_time": "2023-07-19T07:05:32.291Z"
   },
   {
    "duration": 21,
    "start_time": "2023-07-19T07:05:32.987Z"
   },
   {
    "duration": 15,
    "start_time": "2023-07-19T07:05:34.058Z"
   },
   {
    "duration": 15,
    "start_time": "2023-07-19T07:05:45.554Z"
   },
   {
    "duration": 24,
    "start_time": "2023-07-19T07:05:51.498Z"
   },
   {
    "duration": 10,
    "start_time": "2023-07-19T07:05:54.169Z"
   },
   {
    "duration": 20,
    "start_time": "2023-07-19T07:05:56.251Z"
   },
   {
    "duration": 13,
    "start_time": "2023-07-19T07:05:57.386Z"
   },
   {
    "duration": 6,
    "start_time": "2023-07-19T07:05:57.911Z"
   },
   {
    "duration": 19,
    "start_time": "2023-07-19T07:06:00.377Z"
   },
   {
    "duration": 234,
    "start_time": "2023-07-19T07:06:03.046Z"
   },
   {
    "duration": 402,
    "start_time": "2023-07-19T07:06:06.111Z"
   },
   {
    "duration": 23,
    "start_time": "2023-07-19T07:06:09.787Z"
   },
   {
    "duration": 33,
    "start_time": "2023-07-19T07:06:12.112Z"
   },
   {
    "duration": 16,
    "start_time": "2023-07-19T07:06:30.060Z"
   },
   {
    "duration": 212,
    "start_time": "2023-07-19T07:06:32.899Z"
   },
   {
    "duration": 98,
    "start_time": "2023-07-19T07:14:33.467Z"
   },
   {
    "duration": 279,
    "start_time": "2023-07-19T07:14:47.411Z"
   },
   {
    "duration": 197,
    "start_time": "2023-07-19T07:15:23.671Z"
   },
   {
    "duration": 182,
    "start_time": "2023-07-19T07:15:48.218Z"
   },
   {
    "duration": 166,
    "start_time": "2023-07-19T07:16:30.552Z"
   },
   {
    "duration": 296,
    "start_time": "2023-07-19T07:17:04.455Z"
   },
   {
    "duration": 186,
    "start_time": "2023-07-19T07:17:31.651Z"
   },
   {
    "duration": 196,
    "start_time": "2023-07-19T07:17:41.975Z"
   },
   {
    "duration": 177,
    "start_time": "2023-07-19T07:18:05.847Z"
   },
   {
    "duration": 176,
    "start_time": "2023-07-19T07:18:28.771Z"
   },
   {
    "duration": 179,
    "start_time": "2023-07-19T07:18:51.971Z"
   },
   {
    "duration": 189,
    "start_time": "2023-07-19T07:19:11.752Z"
   },
   {
    "duration": 215,
    "start_time": "2023-07-19T07:19:31.048Z"
   },
   {
    "duration": 235,
    "start_time": "2023-07-19T07:19:53.647Z"
   },
   {
    "duration": 11,
    "start_time": "2023-07-19T07:20:28.744Z"
   },
   {
    "duration": 116,
    "start_time": "2023-07-19T07:20:46.521Z"
   },
   {
    "duration": 135,
    "start_time": "2023-07-19T07:20:58.886Z"
   },
   {
    "duration": 321,
    "start_time": "2023-07-19T07:32:34.223Z"
   },
   {
    "duration": 231,
    "start_time": "2023-07-19T07:33:08.154Z"
   },
   {
    "duration": 213,
    "start_time": "2023-07-19T07:33:26.074Z"
   },
   {
    "duration": 9,
    "start_time": "2023-07-19T07:35:09.596Z"
   },
   {
    "duration": 5,
    "start_time": "2023-07-19T07:38:16.544Z"
   },
   {
    "duration": 10,
    "start_time": "2023-07-19T07:38:24.645Z"
   },
   {
    "duration": 9,
    "start_time": "2023-07-19T07:38:34.669Z"
   },
   {
    "duration": 4,
    "start_time": "2023-07-19T07:38:42.899Z"
   },
   {
    "duration": 5,
    "start_time": "2023-07-19T07:38:47.022Z"
   },
   {
    "duration": 6,
    "start_time": "2023-07-19T07:38:50.882Z"
   },
   {
    "duration": 6,
    "start_time": "2023-07-19T07:38:57.746Z"
   },
   {
    "duration": 6,
    "start_time": "2023-07-19T07:39:15.465Z"
   },
   {
    "duration": 6,
    "start_time": "2023-07-19T07:39:22.924Z"
   },
   {
    "duration": 7,
    "start_time": "2023-07-19T07:39:41.905Z"
   },
   {
    "duration": 18,
    "start_time": "2023-07-19T07:40:15.422Z"
   },
   {
    "duration": 222,
    "start_time": "2023-07-19T07:40:35.904Z"
   },
   {
    "duration": 19,
    "start_time": "2023-07-19T07:41:02.029Z"
   },
   {
    "duration": 9,
    "start_time": "2023-07-19T07:42:24.753Z"
   },
   {
    "duration": 13,
    "start_time": "2023-07-19T07:42:41.452Z"
   },
   {
    "duration": 14,
    "start_time": "2023-07-19T07:42:52.460Z"
   },
   {
    "duration": 10,
    "start_time": "2023-07-19T07:43:03.494Z"
   },
   {
    "duration": 1393,
    "start_time": "2023-07-19T07:46:09.715Z"
   },
   {
    "duration": 55,
    "start_time": "2023-07-19T07:46:11.110Z"
   },
   {
    "duration": 20,
    "start_time": "2023-07-19T07:46:11.402Z"
   },
   {
    "duration": 14,
    "start_time": "2023-07-19T07:46:12.268Z"
   },
   {
    "duration": 17,
    "start_time": "2023-07-19T07:46:16.156Z"
   },
   {
    "duration": 9,
    "start_time": "2023-07-19T07:46:18.965Z"
   },
   {
    "duration": 13,
    "start_time": "2023-07-19T07:46:22.102Z"
   },
   {
    "duration": 13,
    "start_time": "2023-07-19T07:46:24.941Z"
   },
   {
    "duration": 12,
    "start_time": "2023-07-19T07:46:26.176Z"
   },
   {
    "duration": 19,
    "start_time": "2023-07-19T07:46:35.891Z"
   },
   {
    "duration": 267,
    "start_time": "2023-07-19T07:46:38.743Z"
   },
   {
    "duration": 337,
    "start_time": "2023-07-19T07:46:43.695Z"
   },
   {
    "duration": 23,
    "start_time": "2023-07-19T07:46:50.306Z"
   },
   {
    "duration": 22,
    "start_time": "2023-07-19T07:46:52.768Z"
   },
   {
    "duration": 265,
    "start_time": "2023-07-19T07:46:56.077Z"
   },
   {
    "duration": 13,
    "start_time": "2023-07-19T07:47:02.571Z"
   },
   {
    "duration": 22,
    "start_time": "2023-07-19T07:47:06.406Z"
   },
   {
    "duration": 215,
    "start_time": "2023-07-19T07:47:08.794Z"
   },
   {
    "duration": 196,
    "start_time": "2023-07-19T07:47:13.950Z"
   },
   {
    "duration": 197,
    "start_time": "2023-07-19T07:48:48.379Z"
   },
   {
    "duration": 7,
    "start_time": "2023-07-19T07:51:33.435Z"
   },
   {
    "duration": 5,
    "start_time": "2023-07-19T07:51:49.557Z"
   },
   {
    "duration": 1051,
    "start_time": "2023-07-19T07:54:08.209Z"
   },
   {
    "duration": 176,
    "start_time": "2023-07-19T07:54:25.563Z"
   },
   {
    "duration": 5,
    "start_time": "2023-07-19T07:54:36.430Z"
   },
   {
    "duration": 5,
    "start_time": "2023-07-19T07:54:58.792Z"
   },
   {
    "duration": 202,
    "start_time": "2023-07-19T07:55:21.992Z"
   },
   {
    "duration": 398,
    "start_time": "2023-07-19T07:55:45.118Z"
   },
   {
    "duration": 210,
    "start_time": "2023-07-19T07:55:51.536Z"
   },
   {
    "duration": 224,
    "start_time": "2023-07-19T07:56:06.882Z"
   },
   {
    "duration": 196,
    "start_time": "2023-07-19T07:56:31.536Z"
   },
   {
    "duration": 195,
    "start_time": "2023-07-19T07:56:47.049Z"
   },
   {
    "duration": 270,
    "start_time": "2023-07-19T07:59:37.344Z"
   },
   {
    "duration": 271,
    "start_time": "2023-07-19T08:00:04.487Z"
   },
   {
    "duration": 280,
    "start_time": "2023-07-19T08:04:05.103Z"
   },
   {
    "duration": 25,
    "start_time": "2023-07-19T08:10:16.204Z"
   },
   {
    "duration": 21,
    "start_time": "2023-07-19T08:10:47.190Z"
   },
   {
    "duration": 15,
    "start_time": "2023-07-19T08:11:41.987Z"
   },
   {
    "duration": 138,
    "start_time": "2023-07-19T08:12:11.239Z"
   },
   {
    "duration": 13,
    "start_time": "2023-07-19T08:12:21.135Z"
   },
   {
    "duration": 146,
    "start_time": "2023-07-19T08:12:32.748Z"
   },
   {
    "duration": 206,
    "start_time": "2023-07-19T08:14:11.168Z"
   },
   {
    "duration": 272,
    "start_time": "2023-07-19T08:14:20.847Z"
   },
   {
    "duration": 173,
    "start_time": "2023-07-19T08:14:26.298Z"
   },
   {
    "duration": 135,
    "start_time": "2023-07-19T08:15:15.672Z"
   },
   {
    "duration": 173,
    "start_time": "2023-07-19T08:15:30.096Z"
   },
   {
    "duration": 22,
    "start_time": "2023-07-19T08:16:17.797Z"
   },
   {
    "duration": 3530,
    "start_time": "2023-07-19T08:16:30.816Z"
   },
   {
    "duration": 4268,
    "start_time": "2023-07-19T08:17:38.517Z"
   },
   {
    "duration": 2884,
    "start_time": "2023-07-19T08:18:28.432Z"
   },
   {
    "duration": 2324,
    "start_time": "2023-07-19T08:19:28.454Z"
   },
   {
    "duration": 220,
    "start_time": "2023-07-19T08:19:41.386Z"
   },
   {
    "duration": 16,
    "start_time": "2023-07-19T08:20:08.845Z"
   },
   {
    "duration": 228,
    "start_time": "2023-07-19T08:20:34.391Z"
   },
   {
    "duration": 244,
    "start_time": "2023-07-19T08:20:54.788Z"
   },
   {
    "duration": 3,
    "start_time": "2023-07-19T10:00:15.998Z"
   },
   {
    "duration": 1401,
    "start_time": "2023-07-19T10:00:27.212Z"
   },
   {
    "duration": 78,
    "start_time": "2023-07-19T10:00:28.615Z"
   },
   {
    "duration": 20,
    "start_time": "2023-07-19T10:00:31.781Z"
   },
   {
    "duration": 14,
    "start_time": "2023-07-19T10:00:32.989Z"
   },
   {
    "duration": 21,
    "start_time": "2023-07-19T10:00:36.270Z"
   },
   {
    "duration": 14,
    "start_time": "2023-07-19T10:00:41.188Z"
   },
   {
    "duration": 17,
    "start_time": "2023-07-19T10:00:42.551Z"
   },
   {
    "duration": 16,
    "start_time": "2023-07-19T10:00:43.589Z"
   },
   {
    "duration": 20,
    "start_time": "2023-07-19T10:00:48.284Z"
   },
   {
    "duration": 355,
    "start_time": "2023-07-19T10:00:52.034Z"
   },
   {
    "duration": 463,
    "start_time": "2023-07-19T10:00:56.229Z"
   },
   {
    "duration": 35,
    "start_time": "2023-07-19T10:01:00.151Z"
   },
   {
    "duration": 27,
    "start_time": "2023-07-19T10:01:02.602Z"
   },
   {
    "duration": 341,
    "start_time": "2023-07-19T10:01:05.745Z"
   },
   {
    "duration": 22,
    "start_time": "2023-07-19T10:01:09.667Z"
   },
   {
    "duration": 268,
    "start_time": "2023-07-19T10:01:12.683Z"
   },
   {
    "duration": 268,
    "start_time": "2023-07-19T10:01:15.831Z"
   },
   {
    "duration": 233,
    "start_time": "2023-07-19T10:01:18.928Z"
   },
   {
    "duration": 6,
    "start_time": "2023-07-19T10:02:39.498Z"
   },
   {
    "duration": 9,
    "start_time": "2023-07-19T10:04:30.595Z"
   },
   {
    "duration": 342,
    "start_time": "2023-07-19T10:25:00.958Z"
   },
   {
    "duration": 105,
    "start_time": "2023-07-19T10:25:20.228Z"
   },
   {
    "duration": 286,
    "start_time": "2023-07-19T10:25:34.592Z"
   },
   {
    "duration": 200,
    "start_time": "2023-07-19T10:26:05.690Z"
   },
   {
    "duration": 126,
    "start_time": "2023-07-19T10:26:13.414Z"
   },
   {
    "duration": 3531,
    "start_time": "2023-07-19T10:26:24.493Z"
   },
   {
    "duration": 606,
    "start_time": "2023-07-19T10:26:46.264Z"
   },
   {
    "duration": 409,
    "start_time": "2023-07-19T10:28:14.379Z"
   },
   {
    "duration": 520,
    "start_time": "2023-07-19T10:28:45.642Z"
   },
   {
    "duration": 519,
    "start_time": "2023-07-19T10:30:34.943Z"
   },
   {
    "duration": 630,
    "start_time": "2023-07-19T10:34:30.534Z"
   },
   {
    "duration": 539,
    "start_time": "2023-07-19T10:34:43.079Z"
   },
   {
    "duration": 555,
    "start_time": "2023-07-19T10:34:46.536Z"
   },
   {
    "duration": 555,
    "start_time": "2023-07-19T10:36:51.529Z"
   },
   {
    "duration": 563,
    "start_time": "2023-07-19T10:37:05.220Z"
   },
   {
    "duration": 674,
    "start_time": "2023-07-19T10:37:47.238Z"
   },
   {
    "duration": 564,
    "start_time": "2023-07-19T10:38:04.099Z"
   },
   {
    "duration": 581,
    "start_time": "2023-07-19T10:38:23.707Z"
   },
   {
    "duration": 372,
    "start_time": "2023-07-19T10:39:21.813Z"
   },
   {
    "duration": 606,
    "start_time": "2023-07-19T10:39:32.954Z"
   },
   {
    "duration": 555,
    "start_time": "2023-07-19T10:40:22.002Z"
   },
   {
    "duration": 390,
    "start_time": "2023-07-19T10:41:14.744Z"
   },
   {
    "duration": 406,
    "start_time": "2023-07-19T10:41:23.596Z"
   },
   {
    "duration": 316,
    "start_time": "2023-07-19T10:43:08.376Z"
   },
   {
    "duration": 311,
    "start_time": "2023-07-19T10:43:18.891Z"
   },
   {
    "duration": 8,
    "start_time": "2023-07-19T11:04:05.667Z"
   },
   {
    "duration": 14,
    "start_time": "2023-07-19T11:05:36.231Z"
   },
   {
    "duration": 16,
    "start_time": "2023-07-19T11:05:47.064Z"
   },
   {
    "duration": 128,
    "start_time": "2023-07-19T11:11:20.644Z"
   },
   {
    "duration": 148,
    "start_time": "2023-07-19T11:12:02.119Z"
   },
   {
    "duration": 124,
    "start_time": "2023-07-19T11:13:15.805Z"
   },
   {
    "duration": 277,
    "start_time": "2023-07-19T11:13:28.722Z"
   },
   {
    "duration": 384,
    "start_time": "2023-07-19T11:13:49.982Z"
   },
   {
    "duration": 300,
    "start_time": "2023-07-19T11:13:56.811Z"
   },
   {
    "duration": 327,
    "start_time": "2023-07-19T11:14:04.799Z"
   },
   {
    "duration": 288,
    "start_time": "2023-07-19T11:14:10.022Z"
   },
   {
    "duration": 127,
    "start_time": "2023-07-19T11:16:16.043Z"
   },
   {
    "duration": 127,
    "start_time": "2023-07-19T11:26:39.682Z"
   },
   {
    "duration": 131,
    "start_time": "2023-07-19T11:26:53.643Z"
   },
   {
    "duration": 18,
    "start_time": "2023-07-19T11:27:28.991Z"
   },
   {
    "duration": 202,
    "start_time": "2023-07-19T11:29:06.224Z"
   },
   {
    "duration": 110,
    "start_time": "2023-07-19T11:29:27.700Z"
   },
   {
    "duration": 16,
    "start_time": "2023-07-19T11:29:46.153Z"
   },
   {
    "duration": 102,
    "start_time": "2023-07-19T11:29:51.823Z"
   },
   {
    "duration": 10,
    "start_time": "2023-07-19T11:30:06.344Z"
   },
   {
    "duration": 15,
    "start_time": "2023-07-19T11:30:19.644Z"
   },
   {
    "duration": 9,
    "start_time": "2023-07-19T11:30:50.312Z"
   },
   {
    "duration": 126,
    "start_time": "2023-07-19T11:31:00.758Z"
   },
   {
    "duration": 116,
    "start_time": "2023-07-19T11:31:16.000Z"
   },
   {
    "duration": 128,
    "start_time": "2023-07-19T11:32:00.162Z"
   },
   {
    "duration": 7,
    "start_time": "2023-07-19T11:55:32.207Z"
   },
   {
    "duration": 9,
    "start_time": "2023-07-19T11:58:06.941Z"
   },
   {
    "duration": 6,
    "start_time": "2023-07-19T12:03:28.534Z"
   },
   {
    "duration": 11,
    "start_time": "2023-07-19T12:05:03.592Z"
   },
   {
    "duration": 1341,
    "start_time": "2023-07-19T18:16:35.379Z"
   },
   {
    "duration": 196,
    "start_time": "2023-07-19T18:16:37.669Z"
   },
   {
    "duration": 19,
    "start_time": "2023-07-19T18:16:38.672Z"
   },
   {
    "duration": 14,
    "start_time": "2023-07-19T18:16:44.059Z"
   },
   {
    "duration": 19,
    "start_time": "2023-07-19T18:16:48.772Z"
   },
   {
    "duration": 9,
    "start_time": "2023-07-19T18:16:51.518Z"
   },
   {
    "duration": 15,
    "start_time": "2023-07-19T18:16:55.614Z"
   },
   {
    "duration": 43,
    "start_time": "2023-07-19T18:17:01.476Z"
   },
   {
    "duration": 15,
    "start_time": "2023-07-19T18:17:02.374Z"
   },
   {
    "duration": 10,
    "start_time": "2023-07-19T18:28:18.079Z"
   },
   {
    "duration": 31,
    "start_time": "2023-07-19T18:28:21.610Z"
   },
   {
    "duration": 10,
    "start_time": "2023-07-19T18:28:36.477Z"
   },
   {
    "duration": 18,
    "start_time": "2023-07-19T18:28:38.976Z"
   },
   {
    "duration": 281,
    "start_time": "2023-07-19T18:28:41.749Z"
   },
   {
    "duration": 436,
    "start_time": "2023-07-19T18:28:51.627Z"
   },
   {
    "duration": 395,
    "start_time": "2023-07-19T18:35:29.782Z"
   },
   {
    "duration": 44,
    "start_time": "2023-07-19T18:35:33.888Z"
   },
   {
    "duration": 24,
    "start_time": "2023-07-19T18:35:37.155Z"
   },
   {
    "duration": 379,
    "start_time": "2023-07-19T18:35:39.665Z"
   },
   {
    "duration": 18,
    "start_time": "2023-07-19T18:35:42.786Z"
   },
   {
    "duration": 242,
    "start_time": "2023-07-19T18:35:45.946Z"
   },
   {
    "duration": 224,
    "start_time": "2023-07-19T18:35:49.997Z"
   },
   {
    "duration": 214,
    "start_time": "2023-07-19T18:35:53.635Z"
   },
   {
    "duration": 476,
    "start_time": "2023-07-19T18:35:56.712Z"
   },
   {
    "duration": 379,
    "start_time": "2023-07-19T18:36:00.181Z"
   },
   {
    "duration": 16,
    "start_time": "2023-07-19T18:36:03.229Z"
   },
   {
    "duration": 163,
    "start_time": "2023-07-19T18:36:07.583Z"
   },
   {
    "duration": 14,
    "start_time": "2023-07-19T18:39:37.096Z"
   },
   {
    "duration": 7,
    "start_time": "2023-07-19T18:40:11.886Z"
   },
   {
    "duration": 105,
    "start_time": "2023-07-19T18:40:26.860Z"
   },
   {
    "duration": 8,
    "start_time": "2023-07-19T18:40:54.091Z"
   },
   {
    "duration": 11,
    "start_time": "2023-07-19T18:40:55.896Z"
   },
   {
    "duration": 8,
    "start_time": "2023-07-19T18:43:55.498Z"
   },
   {
    "duration": 10,
    "start_time": "2023-07-19T18:43:57.435Z"
   },
   {
    "duration": 14,
    "start_time": "2023-07-19T18:45:05.724Z"
   },
   {
    "duration": 12,
    "start_time": "2023-07-19T18:45:23.344Z"
   },
   {
    "duration": 9,
    "start_time": "2023-07-19T18:45:33.130Z"
   },
   {
    "duration": 11,
    "start_time": "2023-07-19T18:45:35.192Z"
   },
   {
    "duration": 11,
    "start_time": "2023-07-19T18:46:45.476Z"
   },
   {
    "duration": 17,
    "start_time": "2023-07-19T18:46:47.110Z"
   },
   {
    "duration": 12,
    "start_time": "2023-07-19T18:46:53.930Z"
   },
   {
    "duration": 10,
    "start_time": "2023-07-19T18:46:55.428Z"
   },
   {
    "duration": 5,
    "start_time": "2023-07-19T18:47:02.461Z"
   },
   {
    "duration": 11,
    "start_time": "2023-07-19T18:47:27.239Z"
   },
   {
    "duration": 19,
    "start_time": "2023-07-19T18:47:50.211Z"
   },
   {
    "duration": 8,
    "start_time": "2023-07-19T18:48:03.542Z"
   },
   {
    "duration": 7,
    "start_time": "2023-07-19T18:48:05.331Z"
   },
   {
    "duration": 18,
    "start_time": "2023-07-19T18:49:19.303Z"
   },
   {
    "duration": 9,
    "start_time": "2023-07-19T18:49:23.632Z"
   },
   {
    "duration": 7,
    "start_time": "2023-07-19T18:50:52.830Z"
   },
   {
    "duration": 8,
    "start_time": "2023-07-19T18:51:10.036Z"
   },
   {
    "duration": 10,
    "start_time": "2023-07-19T18:51:14.460Z"
   },
   {
    "duration": 6,
    "start_time": "2023-07-19T18:51:16.742Z"
   },
   {
    "duration": 5,
    "start_time": "2023-07-19T18:51:35.573Z"
   },
   {
    "duration": 8,
    "start_time": "2023-07-19T18:51:44.170Z"
   },
   {
    "duration": 6,
    "start_time": "2023-07-19T18:51:44.990Z"
   },
   {
    "duration": 8,
    "start_time": "2023-07-19T18:51:53.549Z"
   },
   {
    "duration": 9,
    "start_time": "2023-07-19T18:52:09.143Z"
   },
   {
    "duration": 5,
    "start_time": "2023-07-19T18:52:11.156Z"
   },
   {
    "duration": 11,
    "start_time": "2023-07-19T18:52:35.640Z"
   },
   {
    "duration": 5,
    "start_time": "2023-07-19T18:52:39.027Z"
   },
   {
    "duration": 10,
    "start_time": "2023-07-19T18:53:15.048Z"
   },
   {
    "duration": 13,
    "start_time": "2023-07-19T18:53:21.841Z"
   },
   {
    "duration": 8,
    "start_time": "2023-07-19T18:53:42.346Z"
   },
   {
    "duration": 6,
    "start_time": "2023-07-19T18:55:02.124Z"
   },
   {
    "duration": 7,
    "start_time": "2023-07-19T18:57:01.104Z"
   },
   {
    "duration": 8,
    "start_time": "2023-07-19T18:57:08.203Z"
   },
   {
    "duration": 5,
    "start_time": "2023-07-19T18:57:08.806Z"
   },
   {
    "duration": 6,
    "start_time": "2023-07-19T18:58:22.052Z"
   },
   {
    "duration": 130,
    "start_time": "2023-07-19T19:10:14.904Z"
   },
   {
    "duration": 13,
    "start_time": "2023-07-19T19:10:22.312Z"
   },
   {
    "duration": 11,
    "start_time": "2023-07-19T19:20:34.423Z"
   },
   {
    "duration": 17,
    "start_time": "2023-07-19T19:21:07.141Z"
   },
   {
    "duration": 13,
    "start_time": "2023-07-19T19:22:15.625Z"
   },
   {
    "duration": 10,
    "start_time": "2023-07-19T19:23:43.024Z"
   },
   {
    "duration": 13,
    "start_time": "2023-07-19T19:23:51.918Z"
   },
   {
    "duration": 10,
    "start_time": "2023-07-19T19:23:56.561Z"
   },
   {
    "duration": 10,
    "start_time": "2023-07-19T19:25:30.637Z"
   },
   {
    "duration": 22,
    "start_time": "2023-07-19T19:25:35.909Z"
   },
   {
    "duration": 15,
    "start_time": "2023-07-19T19:25:46.731Z"
   },
   {
    "duration": 1543,
    "start_time": "2023-07-20T07:19:20.414Z"
   },
   {
    "duration": 96,
    "start_time": "2023-07-20T07:19:21.982Z"
   },
   {
    "duration": 19,
    "start_time": "2023-07-20T07:19:22.871Z"
   },
   {
    "duration": 20,
    "start_time": "2023-07-20T07:19:25.250Z"
   },
   {
    "duration": 19,
    "start_time": "2023-07-20T07:19:30.366Z"
   },
   {
    "duration": 15,
    "start_time": "2023-07-20T07:19:33.165Z"
   },
   {
    "duration": 16,
    "start_time": "2023-07-20T07:19:34.247Z"
   },
   {
    "duration": 12,
    "start_time": "2023-07-20T07:19:35.785Z"
   },
   {
    "duration": 24,
    "start_time": "2023-07-20T07:19:37.323Z"
   },
   {
    "duration": 270,
    "start_time": "2023-07-20T07:19:39.626Z"
   },
   {
    "duration": 375,
    "start_time": "2023-07-20T07:19:43.056Z"
   },
   {
    "duration": 27,
    "start_time": "2023-07-20T07:19:52.706Z"
   },
   {
    "duration": 18,
    "start_time": "2023-07-20T07:19:56.025Z"
   },
   {
    "duration": 258,
    "start_time": "2023-07-20T07:19:59.044Z"
   },
   {
    "duration": 325,
    "start_time": "2023-07-20T07:20:04.811Z"
   },
   {
    "duration": 30,
    "start_time": "2023-07-20T07:20:08.209Z"
   },
   {
    "duration": 24,
    "start_time": "2023-07-20T07:20:09.847Z"
   },
   {
    "duration": 18,
    "start_time": "2023-07-20T07:20:13.122Z"
   },
   {
    "duration": 235,
    "start_time": "2023-07-20T07:20:15.686Z"
   },
   {
    "duration": 214,
    "start_time": "2023-07-20T07:20:17.952Z"
   },
   {
    "duration": 191,
    "start_time": "2023-07-20T07:20:19.657Z"
   },
   {
    "duration": 431,
    "start_time": "2023-07-20T07:20:21.951Z"
   },
   {
    "duration": 326,
    "start_time": "2023-07-20T07:20:29.800Z"
   },
   {
    "duration": 16,
    "start_time": "2023-07-20T07:20:33.447Z"
   },
   {
    "duration": 142,
    "start_time": "2023-07-20T07:20:35.655Z"
   },
   {
    "duration": 11,
    "start_time": "2023-07-20T07:29:22.675Z"
   },
   {
    "duration": 7,
    "start_time": "2023-07-20T07:29:27.387Z"
   },
   {
    "duration": 14,
    "start_time": "2023-07-20T07:29:29.335Z"
   },
   {
    "duration": 10,
    "start_time": "2023-07-20T07:29:31.830Z"
   },
   {
    "duration": 6,
    "start_time": "2023-07-20T07:29:34.328Z"
   },
   {
    "duration": 9,
    "start_time": "2023-07-20T07:29:36.402Z"
   },
   {
    "duration": 11,
    "start_time": "2023-07-20T07:29:50.313Z"
   },
   {
    "duration": 5,
    "start_time": "2023-07-20T07:30:04.772Z"
   },
   {
    "duration": 12,
    "start_time": "2023-07-20T07:30:08.941Z"
   },
   {
    "duration": 6,
    "start_time": "2023-07-20T07:30:12.946Z"
   },
   {
    "duration": 10,
    "start_time": "2023-07-20T07:30:15.281Z"
   },
   {
    "duration": 10,
    "start_time": "2023-07-20T07:30:32.056Z"
   },
   {
    "duration": 10,
    "start_time": "2023-07-20T07:30:36.831Z"
   },
   {
    "duration": 11,
    "start_time": "2023-07-20T07:30:49.168Z"
   },
   {
    "duration": 11,
    "start_time": "2023-07-20T07:35:23.595Z"
   },
   {
    "duration": 20,
    "start_time": "2023-07-20T07:35:50.790Z"
   },
   {
    "duration": 26,
    "start_time": "2023-07-20T07:36:44.813Z"
   },
   {
    "duration": 25,
    "start_time": "2023-07-20T07:37:46.648Z"
   },
   {
    "duration": 19,
    "start_time": "2023-07-20T07:39:45.601Z"
   },
   {
    "duration": 28,
    "start_time": "2023-07-20T07:42:00.747Z"
   },
   {
    "duration": 105,
    "start_time": "2023-07-20T07:42:16.281Z"
   },
   {
    "duration": 103,
    "start_time": "2023-07-20T07:42:42.740Z"
   },
   {
    "duration": 16,
    "start_time": "2023-07-20T07:42:50.796Z"
   },
   {
    "duration": 17,
    "start_time": "2023-07-20T07:43:05.011Z"
   },
   {
    "duration": 152,
    "start_time": "2023-07-20T07:43:08.751Z"
   },
   {
    "duration": 44,
    "start_time": "2023-07-20T07:54:41.678Z"
   },
   {
    "duration": 12,
    "start_time": "2023-07-20T07:54:59.476Z"
   },
   {
    "duration": 24,
    "start_time": "2023-07-20T07:55:05.366Z"
   },
   {
    "duration": 15,
    "start_time": "2023-07-20T07:55:18.578Z"
   },
   {
    "duration": 16,
    "start_time": "2023-07-20T07:56:03.272Z"
   },
   {
    "duration": 326,
    "start_time": "2023-07-20T08:00:32.108Z"
   },
   {
    "duration": 221,
    "start_time": "2023-07-20T08:00:53.307Z"
   },
   {
    "duration": 201,
    "start_time": "2023-07-20T08:01:14.720Z"
   },
   {
    "duration": 305,
    "start_time": "2023-07-20T08:01:29.873Z"
   },
   {
    "duration": 213,
    "start_time": "2023-07-20T08:01:49.048Z"
   },
   {
    "duration": 248,
    "start_time": "2023-07-20T08:02:54.886Z"
   },
   {
    "duration": 279,
    "start_time": "2023-07-20T08:03:10.290Z"
   },
   {
    "duration": 281,
    "start_time": "2023-07-20T08:03:17.169Z"
   },
   {
    "duration": 214,
    "start_time": "2023-07-20T08:03:52.862Z"
   },
   {
    "duration": 201,
    "start_time": "2023-07-20T08:04:03.685Z"
   },
   {
    "duration": 1313,
    "start_time": "2023-07-20T08:27:14.295Z"
   },
   {
    "duration": 55,
    "start_time": "2023-07-20T08:27:15.610Z"
   },
   {
    "duration": 21,
    "start_time": "2023-07-20T08:27:15.667Z"
   },
   {
    "duration": 28,
    "start_time": "2023-07-20T08:27:15.690Z"
   },
   {
    "duration": 42,
    "start_time": "2023-07-20T08:27:15.720Z"
   },
   {
    "duration": 24,
    "start_time": "2023-07-20T08:27:15.765Z"
   },
   {
    "duration": 19,
    "start_time": "2023-07-20T08:27:15.791Z"
   },
   {
    "duration": 26,
    "start_time": "2023-07-20T08:27:15.812Z"
   },
   {
    "duration": 20,
    "start_time": "2023-07-20T08:27:15.840Z"
   },
   {
    "duration": 15,
    "start_time": "2023-07-20T08:27:15.863Z"
   },
   {
    "duration": 48,
    "start_time": "2023-07-20T08:27:15.880Z"
   },
   {
    "duration": 315,
    "start_time": "2023-07-20T08:27:15.930Z"
   },
   {
    "duration": 408,
    "start_time": "2023-07-20T08:27:16.247Z"
   },
   {
    "duration": 26,
    "start_time": "2023-07-20T08:27:16.657Z"
   },
   {
    "duration": 43,
    "start_time": "2023-07-20T08:27:16.685Z"
   },
   {
    "duration": 311,
    "start_time": "2023-07-20T08:27:16.731Z"
   },
   {
    "duration": 24,
    "start_time": "2023-07-20T08:27:17.044Z"
   },
   {
    "duration": 282,
    "start_time": "2023-07-20T08:27:17.070Z"
   },
   {
    "duration": 252,
    "start_time": "2023-07-20T08:27:17.354Z"
   },
   {
    "duration": 254,
    "start_time": "2023-07-20T08:27:17.609Z"
   },
   {
    "duration": 514,
    "start_time": "2023-07-20T08:27:17.866Z"
   },
   {
    "duration": 417,
    "start_time": "2023-07-20T08:27:18.382Z"
   },
   {
    "duration": 18,
    "start_time": "2023-07-20T08:27:18.801Z"
   },
   {
    "duration": 173,
    "start_time": "2023-07-20T08:27:18.821Z"
   },
   {
    "duration": 10,
    "start_time": "2023-07-20T08:27:18.996Z"
   },
   {
    "duration": 16,
    "start_time": "2023-07-20T08:27:19.008Z"
   },
   {
    "duration": 111,
    "start_time": "2023-07-21T04:47:18.992Z"
   },
   {
    "duration": 44,
    "start_time": "2023-07-21T05:17:04.306Z"
   },
   {
    "duration": 1434,
    "start_time": "2023-07-21T05:17:11.229Z"
   },
   {
    "duration": 97,
    "start_time": "2023-07-21T05:17:13.408Z"
   },
   {
    "duration": 20,
    "start_time": "2023-07-21T05:17:14.474Z"
   },
   {
    "duration": 19,
    "start_time": "2023-07-21T05:17:15.428Z"
   },
   {
    "duration": 21,
    "start_time": "2023-07-21T05:17:19.089Z"
   },
   {
    "duration": 9,
    "start_time": "2023-07-21T05:17:22.002Z"
   },
   {
    "duration": 16,
    "start_time": "2023-07-21T05:17:26.265Z"
   },
   {
    "duration": 19,
    "start_time": "2023-07-21T05:17:29.003Z"
   },
   {
    "duration": 8,
    "start_time": "2023-07-21T05:17:31.239Z"
   },
   {
    "duration": 5,
    "start_time": "2023-07-21T05:18:25.352Z"
   },
   {
    "duration": 14,
    "start_time": "2023-07-21T05:28:12.173Z"
   },
   {
    "duration": 10,
    "start_time": "2023-07-21T05:29:26.207Z"
   },
   {
    "duration": 70,
    "start_time": "2023-07-21T05:29:53.788Z"
   },
   {
    "duration": 10,
    "start_time": "2023-07-21T05:34:18.288Z"
   },
   {
    "duration": 1481,
    "start_time": "2023-07-21T17:08:55.857Z"
   },
   {
    "duration": 206,
    "start_time": "2023-07-21T17:08:58.255Z"
   },
   {
    "duration": 30,
    "start_time": "2023-07-21T17:08:59.226Z"
   },
   {
    "duration": 23,
    "start_time": "2023-07-21T17:09:00.107Z"
   },
   {
    "duration": 25,
    "start_time": "2023-07-21T17:09:06.183Z"
   },
   {
    "duration": 13,
    "start_time": "2023-07-21T17:09:12.252Z"
   },
   {
    "duration": 15,
    "start_time": "2023-07-21T17:09:16.682Z"
   },
   {
    "duration": 17,
    "start_time": "2023-07-21T17:09:19.987Z"
   },
   {
    "duration": 21,
    "start_time": "2023-07-21T17:10:03.003Z"
   },
   {
    "duration": 24,
    "start_time": "2023-07-21T17:11:32.609Z"
   },
   {
    "duration": 34,
    "start_time": "2023-07-21T17:11:37.956Z"
   },
   {
    "duration": 128,
    "start_time": "2023-07-21T17:16:00.257Z"
   },
   {
    "duration": 15,
    "start_time": "2023-07-21T17:17:14.456Z"
   },
   {
    "duration": 19,
    "start_time": "2023-07-21T17:17:17.666Z"
   },
   {
    "duration": 31,
    "start_time": "2023-07-21T17:17:23.144Z"
   },
   {
    "duration": 279,
    "start_time": "2023-07-21T17:17:26.405Z"
   },
   {
    "duration": 380,
    "start_time": "2023-07-21T17:17:33.564Z"
   },
   {
    "duration": 31,
    "start_time": "2023-07-21T17:17:38.088Z"
   },
   {
    "duration": 26,
    "start_time": "2023-07-21T17:17:44.628Z"
   },
   {
    "duration": 12,
    "start_time": "2023-07-21T17:17:59.031Z"
   },
   {
    "duration": 266,
    "start_time": "2023-07-21T17:18:04.418Z"
   },
   {
    "duration": 442,
    "start_time": "2023-07-21T17:18:09.263Z"
   },
   {
    "duration": 26,
    "start_time": "2023-07-21T17:18:19.266Z"
   },
   {
    "duration": 34,
    "start_time": "2023-07-21T17:18:23.995Z"
   },
   {
    "duration": 320,
    "start_time": "2023-07-21T17:18:28.359Z"
   },
   {
    "duration": 321,
    "start_time": "2023-07-21T17:18:38.019Z"
   },
   {
    "duration": 408,
    "start_time": "2023-07-21T17:18:50.652Z"
   },
   {
    "duration": 354,
    "start_time": "2023-07-21T17:18:56.609Z"
   },
   {
    "duration": 489,
    "start_time": "2023-07-21T17:20:13.991Z"
   },
   {
    "duration": 335,
    "start_time": "2023-07-21T17:20:21.086Z"
   },
   {
    "duration": 119,
    "start_time": "2023-07-21T17:21:18.524Z"
   },
   {
    "duration": 408,
    "start_time": "2023-07-21T17:24:34.449Z"
   },
   {
    "duration": 335,
    "start_time": "2023-07-21T17:25:06.153Z"
   },
   {
    "duration": 323,
    "start_time": "2023-07-21T17:25:34.293Z"
   },
   {
    "duration": 343,
    "start_time": "2023-07-21T18:04:03.132Z"
   },
   {
    "duration": 195,
    "start_time": "2023-07-21T18:06:01.954Z"
   },
   {
    "duration": 195,
    "start_time": "2023-07-21T18:06:45.482Z"
   },
   {
    "duration": 217,
    "start_time": "2023-07-21T18:06:59.819Z"
   },
   {
    "duration": 270,
    "start_time": "2023-07-21T18:07:29.869Z"
   },
   {
    "duration": 197,
    "start_time": "2023-07-21T18:09:29.809Z"
   },
   {
    "duration": 352,
    "start_time": "2023-07-21T18:10:49.483Z"
   },
   {
    "duration": 213,
    "start_time": "2023-07-21T18:11:10.149Z"
   },
   {
    "duration": 261,
    "start_time": "2023-07-21T18:11:36.920Z"
   },
   {
    "duration": 323,
    "start_time": "2023-07-21T18:11:48.546Z"
   },
   {
    "duration": 252,
    "start_time": "2023-07-21T18:12:39.483Z"
   },
   {
    "duration": 234,
    "start_time": "2023-07-21T18:12:50.006Z"
   },
   {
    "duration": 227,
    "start_time": "2023-07-21T18:17:01.914Z"
   },
   {
    "duration": 233,
    "start_time": "2023-07-21T18:24:16.049Z"
   },
   {
    "duration": 140,
    "start_time": "2023-07-21T18:30:53.491Z"
   },
   {
    "duration": 137,
    "start_time": "2023-07-21T18:31:04.463Z"
   },
   {
    "duration": 151,
    "start_time": "2023-07-21T18:31:22.701Z"
   },
   {
    "duration": 260,
    "start_time": "2023-07-21T18:32:00.461Z"
   },
   {
    "duration": 137,
    "start_time": "2023-07-21T18:35:10.879Z"
   },
   {
    "duration": 20,
    "start_time": "2023-07-21T18:35:20.144Z"
   },
   {
    "duration": 14,
    "start_time": "2023-07-21T18:35:57.910Z"
   },
   {
    "duration": 36,
    "start_time": "2023-07-21T18:36:56.844Z"
   },
   {
    "duration": 24,
    "start_time": "2023-07-21T18:37:05.133Z"
   },
   {
    "duration": 10,
    "start_time": "2023-07-21T18:37:13.289Z"
   },
   {
    "duration": 2069,
    "start_time": "2023-07-21T18:37:21.940Z"
   },
   {
    "duration": 14,
    "start_time": "2023-07-21T18:37:47.438Z"
   },
   {
    "duration": 1946,
    "start_time": "2023-07-21T18:38:06.085Z"
   },
   {
    "duration": 2058,
    "start_time": "2023-07-21T18:38:18.555Z"
   },
   {
    "duration": 1575,
    "start_time": "2023-07-21T18:38:41.252Z"
   },
   {
    "duration": 65,
    "start_time": "2023-07-21T18:38:42.829Z"
   },
   {
    "duration": 30,
    "start_time": "2023-07-21T18:38:43.600Z"
   },
   {
    "duration": 18,
    "start_time": "2023-07-21T18:38:45.210Z"
   },
   {
    "duration": 28,
    "start_time": "2023-07-21T18:38:48.962Z"
   },
   {
    "duration": 15,
    "start_time": "2023-07-21T18:38:51.558Z"
   },
   {
    "duration": 16,
    "start_time": "2023-07-21T18:38:56.503Z"
   },
   {
    "duration": 24,
    "start_time": "2023-07-21T18:38:59.542Z"
   },
   {
    "duration": 23,
    "start_time": "2023-07-21T18:39:01.996Z"
   },
   {
    "duration": 17,
    "start_time": "2023-07-21T18:39:06.321Z"
   },
   {
    "duration": 14,
    "start_time": "2023-07-21T18:39:10.824Z"
   },
   {
    "duration": 28,
    "start_time": "2023-07-21T18:39:14.436Z"
   },
   {
    "duration": 344,
    "start_time": "2023-07-21T18:39:32.615Z"
   },
   {
    "duration": 15,
    "start_time": "2023-07-21T18:39:43.951Z"
   },
   {
    "duration": 299,
    "start_time": "2023-07-21T18:39:49.764Z"
   },
   {
    "duration": 330,
    "start_time": "2023-07-21T18:40:03.376Z"
   },
   {
    "duration": 433,
    "start_time": "2023-07-21T18:40:13.699Z"
   },
   {
    "duration": 29,
    "start_time": "2023-07-21T18:40:28.800Z"
   },
   {
    "duration": 24,
    "start_time": "2023-07-21T18:40:31.901Z"
   },
   {
    "duration": 369,
    "start_time": "2023-07-21T18:40:33.652Z"
   },
   {
    "duration": 25,
    "start_time": "2023-07-21T18:40:37.844Z"
   },
   {
    "duration": 307,
    "start_time": "2023-07-21T18:40:41.729Z"
   },
   {
    "duration": 278,
    "start_time": "2023-07-21T18:40:46.009Z"
   },
   {
    "duration": 405,
    "start_time": "2023-07-21T18:40:51.623Z"
   },
   {
    "duration": 318,
    "start_time": "2023-07-21T18:40:56.350Z"
   },
   {
    "duration": 318,
    "start_time": "2023-07-21T18:40:58.595Z"
   },
   {
    "duration": 344,
    "start_time": "2023-07-21T18:41:04.790Z"
   },
   {
    "duration": 383,
    "start_time": "2023-07-21T18:41:09.716Z"
   },
   {
    "duration": 419,
    "start_time": "2023-07-21T18:41:13.052Z"
   },
   {
    "duration": 18,
    "start_time": "2023-07-21T18:41:17.241Z"
   },
   {
    "duration": 2180,
    "start_time": "2023-07-21T18:42:02.448Z"
   },
   {
    "duration": 14,
    "start_time": "2023-07-21T18:42:42.257Z"
   },
   {
    "duration": 13,
    "start_time": "2023-07-21T18:43:48.294Z"
   },
   {
    "duration": 134,
    "start_time": "2023-07-21T18:44:29.646Z"
   },
   {
    "duration": 18,
    "start_time": "2023-07-21T18:51:02.403Z"
   },
   {
    "duration": 19,
    "start_time": "2023-07-21T18:54:43.588Z"
   },
   {
    "duration": 5,
    "start_time": "2023-07-21T18:55:03.425Z"
   },
   {
    "duration": 9,
    "start_time": "2023-07-21T18:55:36.376Z"
   },
   {
    "duration": 8,
    "start_time": "2023-07-21T18:55:47.432Z"
   },
   {
    "duration": 14,
    "start_time": "2023-07-21T18:57:29.556Z"
   },
   {
    "duration": 4,
    "start_time": "2023-07-21T18:57:48.109Z"
   },
   {
    "duration": 3,
    "start_time": "2023-07-21T18:58:01.593Z"
   },
   {
    "duration": 16,
    "start_time": "2023-07-21T18:58:28.854Z"
   },
   {
    "duration": 7,
    "start_time": "2023-07-21T19:00:40.557Z"
   },
   {
    "duration": 7,
    "start_time": "2023-07-21T19:02:34.150Z"
   },
   {
    "duration": 18,
    "start_time": "2023-07-21T19:02:43.850Z"
   },
   {
    "duration": 1198,
    "start_time": "2023-07-21T19:03:09.165Z"
   },
   {
    "duration": 53,
    "start_time": "2023-07-21T19:03:10.365Z"
   },
   {
    "duration": 20,
    "start_time": "2023-07-21T19:03:10.420Z"
   },
   {
    "duration": 19,
    "start_time": "2023-07-21T19:03:11.650Z"
   },
   {
    "duration": 23,
    "start_time": "2023-07-21T19:03:14.841Z"
   },
   {
    "duration": 14,
    "start_time": "2023-07-21T19:03:16.513Z"
   },
   {
    "duration": 14,
    "start_time": "2023-07-21T19:03:18.213Z"
   },
   {
    "duration": 23,
    "start_time": "2023-07-21T19:03:18.810Z"
   },
   {
    "duration": 25,
    "start_time": "2023-07-21T19:03:19.646Z"
   },
   {
    "duration": 18,
    "start_time": "2023-07-21T19:03:20.492Z"
   },
   {
    "duration": 16,
    "start_time": "2023-07-21T19:03:21.264Z"
   },
   {
    "duration": 21,
    "start_time": "2023-07-21T19:03:23.465Z"
   },
   {
    "duration": 303,
    "start_time": "2023-07-21T19:03:26.774Z"
   },
   {
    "duration": 17,
    "start_time": "2023-07-21T19:03:44.369Z"
   },
   {
    "duration": 352,
    "start_time": "2023-07-21T19:03:48.964Z"
   },
   {
    "duration": 436,
    "start_time": "2023-07-21T19:03:55.212Z"
   },
   {
    "duration": 25,
    "start_time": "2023-07-21T19:03:59.020Z"
   },
   {
    "duration": 25,
    "start_time": "2023-07-21T19:04:02.839Z"
   },
   {
    "duration": 339,
    "start_time": "2023-07-21T19:04:05.588Z"
   },
   {
    "duration": 18,
    "start_time": "2023-07-21T19:04:10.800Z"
   },
   {
    "duration": 331,
    "start_time": "2023-07-21T19:04:14.233Z"
   },
   {
    "duration": 223,
    "start_time": "2023-07-21T19:04:17.446Z"
   },
   {
    "duration": 247,
    "start_time": "2023-07-21T19:04:21.724Z"
   },
   {
    "duration": 352,
    "start_time": "2023-07-21T19:04:22.767Z"
   },
   {
    "duration": 256,
    "start_time": "2023-07-21T19:04:23.910Z"
   },
   {
    "duration": 219,
    "start_time": "2023-07-21T19:04:28.990Z"
   },
   {
    "duration": 413,
    "start_time": "2023-07-21T19:04:33.738Z"
   },
   {
    "duration": 386,
    "start_time": "2023-07-21T19:04:37.951Z"
   },
   {
    "duration": 7,
    "start_time": "2023-07-21T19:04:41.662Z"
   },
   {
    "duration": 22,
    "start_time": "2023-07-21T19:04:46.272Z"
   },
   {
    "duration": 23,
    "start_time": "2023-07-21T19:05:16.457Z"
   },
   {
    "duration": 1981,
    "start_time": "2023-07-21T19:06:11.398Z"
   },
   {
    "duration": 16,
    "start_time": "2023-07-21T19:06:26.547Z"
   },
   {
    "duration": 9,
    "start_time": "2023-07-21T19:07:59.488Z"
   },
   {
    "duration": 22,
    "start_time": "2023-07-21T19:08:01.681Z"
   },
   {
    "duration": 4,
    "start_time": "2023-07-21T19:08:16.059Z"
   },
   {
    "duration": 29,
    "start_time": "2023-07-21T19:08:17.968Z"
   },
   {
    "duration": 140,
    "start_time": "2023-07-21T19:08:23.513Z"
   },
   {
    "duration": 21,
    "start_time": "2023-07-21T19:11:34.146Z"
   },
   {
    "duration": 162,
    "start_time": "2023-07-21T19:11:39.642Z"
   },
   {
    "duration": 177,
    "start_time": "2023-07-21T19:13:40.420Z"
   },
   {
    "duration": 128,
    "start_time": "2023-07-21T19:14:01.755Z"
   },
   {
    "duration": 110,
    "start_time": "2023-07-21T19:14:08.358Z"
   },
   {
    "duration": 236,
    "start_time": "2023-07-21T19:14:14.249Z"
   },
   {
    "duration": 364,
    "start_time": "2023-07-21T19:16:37.655Z"
   },
   {
    "duration": 234,
    "start_time": "2023-07-21T19:17:06.022Z"
   },
   {
    "duration": 20,
    "start_time": "2023-07-21T19:19:06.922Z"
   },
   {
    "duration": 247,
    "start_time": "2023-07-21T19:19:10.217Z"
   },
   {
    "duration": 18,
    "start_time": "2023-07-21T19:20:14.248Z"
   },
   {
    "duration": 264,
    "start_time": "2023-07-21T19:20:17.287Z"
   },
   {
    "duration": 18,
    "start_time": "2023-07-21T19:20:30.314Z"
   },
   {
    "duration": 255,
    "start_time": "2023-07-21T19:20:33.356Z"
   },
   {
    "duration": 226,
    "start_time": "2023-07-21T19:21:08.706Z"
   },
   {
    "duration": 329,
    "start_time": "2023-07-21T19:47:11.713Z"
   },
   {
    "duration": 344,
    "start_time": "2023-07-21T19:47:19.318Z"
   },
   {
    "duration": 334,
    "start_time": "2023-07-21T19:47:29.707Z"
   },
   {
    "duration": 113,
    "start_time": "2023-07-21T20:21:58.606Z"
   },
   {
    "duration": 1185,
    "start_time": "2023-07-21T20:25:24.726Z"
   },
   {
    "duration": 52,
    "start_time": "2023-07-21T20:25:25.913Z"
   },
   {
    "duration": 27,
    "start_time": "2023-07-21T20:25:25.967Z"
   },
   {
    "duration": 15,
    "start_time": "2023-07-21T20:25:25.996Z"
   },
   {
    "duration": 18,
    "start_time": "2023-07-21T20:25:26.013Z"
   },
   {
    "duration": 43,
    "start_time": "2023-07-21T20:25:26.033Z"
   },
   {
    "duration": 20,
    "start_time": "2023-07-21T20:25:26.079Z"
   },
   {
    "duration": 18,
    "start_time": "2023-07-21T20:25:26.101Z"
   },
   {
    "duration": 26,
    "start_time": "2023-07-21T20:25:26.121Z"
   },
   {
    "duration": 26,
    "start_time": "2023-07-21T20:25:26.168Z"
   },
   {
    "duration": 12,
    "start_time": "2023-07-21T20:25:26.196Z"
   },
   {
    "duration": 18,
    "start_time": "2023-07-21T20:25:26.210Z"
   },
   {
    "duration": 312,
    "start_time": "2023-07-21T20:25:26.231Z"
   },
   {
    "duration": 408,
    "start_time": "2023-07-21T20:25:26.544Z"
   },
   {
    "duration": 30,
    "start_time": "2023-07-21T20:25:26.953Z"
   },
   {
    "duration": 26,
    "start_time": "2023-07-21T20:25:26.985Z"
   },
   {
    "duration": 351,
    "start_time": "2023-07-21T20:25:27.012Z"
   },
   {
    "duration": 28,
    "start_time": "2023-07-21T20:25:27.365Z"
   },
   {
    "duration": 264,
    "start_time": "2023-07-21T20:25:27.395Z"
   },
   {
    "duration": 254,
    "start_time": "2023-07-21T20:25:27.661Z"
   },
   {
    "duration": 247,
    "start_time": "2023-07-21T20:25:27.917Z"
   },
   {
    "duration": 201,
    "start_time": "2023-07-21T20:25:28.169Z"
   },
   {
    "duration": 304,
    "start_time": "2023-07-21T20:25:28.372Z"
   },
   {
    "duration": 229,
    "start_time": "2023-07-21T20:25:28.678Z"
   },
   {
    "duration": 353,
    "start_time": "2023-07-21T20:25:28.909Z"
   },
   {
    "duration": 357,
    "start_time": "2023-07-21T20:25:29.264Z"
   },
   {
    "duration": 6,
    "start_time": "2023-07-21T20:25:29.623Z"
   },
   {
    "duration": 18,
    "start_time": "2023-07-21T20:25:29.631Z"
   },
   {
    "duration": 26,
    "start_time": "2023-07-21T20:25:29.651Z"
   },
   {
    "duration": 256,
    "start_time": "2023-07-21T20:25:29.679Z"
   },
   {
    "duration": 10,
    "start_time": "2023-07-21T20:25:29.936Z"
   },
   {
    "duration": 23,
    "start_time": "2023-07-21T20:25:29.947Z"
   }
  ],
  "kernelspec": {
   "display_name": "Python 3 (ipykernel)",
   "language": "python",
   "name": "python3"
  },
  "language_info": {
   "codemirror_mode": {
    "name": "ipython",
    "version": 3
   },
   "file_extension": ".py",
   "mimetype": "text/x-python",
   "name": "python",
   "nbconvert_exporter": "python",
   "pygments_lexer": "ipython3",
   "version": "3.10.9"
  },
  "toc": {
   "base_numbering": 1,
   "nav_menu": {},
   "number_sections": true,
   "sideBar": true,
   "skip_h1_title": true,
   "title_cell": "Table of Contents",
   "title_sidebar": "Contents",
   "toc_cell": false,
   "toc_position": {},
   "toc_section_display": true,
   "toc_window_display": true
  }
 },
 "nbformat": 4,
 "nbformat_minor": 2
}
