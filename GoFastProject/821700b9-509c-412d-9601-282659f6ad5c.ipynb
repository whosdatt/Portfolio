{
 "cells": [
  {
   "cell_type": "markdown",
   "id": "dde5aeca",
   "metadata": {},
   "source": [
    "# Исследование аренды сервиса самокатов GoFast\n",
    "\n",
    "Объект исследования - сервис аренды самокатов GoFast.\n",
    "\n",
    "\n",
    "**Цель исследования:** Проанализировать данные и проверить некоторые гипотезы, которые могут помочь бизнесу вырасти. \n",
    "\n",
    "\n",
    "**Ход исследования:**\n",
    "\n",
    "1. Проанализировать данные\n",
    "2. Рассчитать помесячную выручку каждого пользователя\n",
    "3. Проанализировать разницу в использовании аренды самокатов пользователей с подпиской и без нее.\n",
    "4. Проверить гипотезы\n",
    "\n",
    "    -Тратят ли пользователи с подпиской больше времени на поездки?\n",
    "    \n",
    "    -Можно ли сказать, что расстояние, которое проезжают пользователи с подпиской за одну поездку, не превышает 3130 метров?\n",
    "    \n",
    "    -Будет ли помесячная выручка от пользователей с подпиской по месяцам выше, чем выручка от пользователей без подписки.\n",
    "\n",
    "Данные о пользователях, поездках и подписках, получу из файлов '/datasets/users_go.csv', '/datasets/rides_go.csv', '/datasets/subscriptions_go.csv', соотвественно. \n",
    "Зараннее мне известны следующие данные:\n",
    "\n",
    "Чтобы совершать поездки по городу, пользователи сервиса GoFast пользуются мобильным приложением. Сервисом можно пользоваться:\n",
    "\n",
    "     без подписки\n",
    "    -абонентская плата отсутствует;\n",
    "    -стоимость одной минуты поездки — 8 рублей;\n",
    "    -стоимость старта (начала поездки) — 50 рублей;\n",
    "    \n",
    "     с подпиской Ultra\n",
    "    -абонентская плата — 199 рублей в месяц;\n",
    "    -стоимость одной минуты поездки — 6 рублей;\n",
    "    -стоимость старта — бесплатно.\n",
    "    \n",
    "Для начала проведу предобработку данных, проверю на наличие пропусков и дубликатов, при необходимости исправлю это. Создам необходимые таблицы / столбцы с расчетами, визуализирую данные с помощью гистограмм. "
   ]
  },
  {
   "cell_type": "markdown",
   "id": "bedabe01",
   "metadata": {},
   "source": [
    "**ЗАГРУЗКА ДАННЫХ**"
   ]
  },
  {
   "cell_type": "code",
   "execution_count": 1,
   "id": "72576667",
   "metadata": {},
   "outputs": [],
   "source": [
    "import pandas as pd\n",
    "import matplotlib.pyplot as plt\n",
    "import numpy as np\n",
    "from scipy import stats as st"
   ]
  },
  {
   "cell_type": "code",
   "execution_count": 2,
   "id": "eff9f206",
   "metadata": {},
   "outputs": [],
   "source": [
    "users = pd.read_csv('/datasets/user.csv')\n",
    "rides = pd.read_csv('/datasets/ride.csv')\n",
    "subscriptions = pd.read_csv('/datasets/subscription.csv')"
   ]
  },
  {
   "cell_type": "code",
   "execution_count": 3,
   "id": "ed4ecaf7",
   "metadata": {},
   "outputs": [
    {
     "data": {
      "text/html": [
       "<div>\n",
       "<style scoped>\n",
       "    .dataframe tbody tr th:only-of-type {\n",
       "        vertical-align: middle;\n",
       "    }\n",
       "\n",
       "    .dataframe tbody tr th {\n",
       "        vertical-align: top;\n",
       "    }\n",
       "\n",
       "    .dataframe thead th {\n",
       "        text-align: right;\n",
       "    }\n",
       "</style>\n",
       "<table border=\"1\" class=\"dataframe\">\n",
       "  <thead>\n",
       "    <tr style=\"text-align: right;\">\n",
       "      <th></th>\n",
       "      <th>user_id</th>\n",
       "      <th>name</th>\n",
       "      <th>age</th>\n",
       "      <th>city</th>\n",
       "      <th>subscription_type</th>\n",
       "    </tr>\n",
       "  </thead>\n",
       "  <tbody>\n",
       "    <tr>\n",
       "      <th>0</th>\n",
       "      <td>1</td>\n",
       "      <td>Кира</td>\n",
       "      <td>22</td>\n",
       "      <td>Тюмень</td>\n",
       "      <td>ultra</td>\n",
       "    </tr>\n",
       "    <tr>\n",
       "      <th>1</th>\n",
       "      <td>2</td>\n",
       "      <td>Станислав</td>\n",
       "      <td>31</td>\n",
       "      <td>Омск</td>\n",
       "      <td>ultra</td>\n",
       "    </tr>\n",
       "    <tr>\n",
       "      <th>2</th>\n",
       "      <td>3</td>\n",
       "      <td>Алексей</td>\n",
       "      <td>20</td>\n",
       "      <td>Москва</td>\n",
       "      <td>ultra</td>\n",
       "    </tr>\n",
       "    <tr>\n",
       "      <th>3</th>\n",
       "      <td>4</td>\n",
       "      <td>Константин</td>\n",
       "      <td>26</td>\n",
       "      <td>Ростов-на-Дону</td>\n",
       "      <td>ultra</td>\n",
       "    </tr>\n",
       "    <tr>\n",
       "      <th>4</th>\n",
       "      <td>5</td>\n",
       "      <td>Адель</td>\n",
       "      <td>28</td>\n",
       "      <td>Омск</td>\n",
       "      <td>ultra</td>\n",
       "    </tr>\n",
       "    <tr>\n",
       "      <th>5</th>\n",
       "      <td>6</td>\n",
       "      <td>Регина</td>\n",
       "      <td>25</td>\n",
       "      <td>Краснодар</td>\n",
       "      <td>ultra</td>\n",
       "    </tr>\n",
       "    <tr>\n",
       "      <th>6</th>\n",
       "      <td>7</td>\n",
       "      <td>Игорь</td>\n",
       "      <td>23</td>\n",
       "      <td>Омск</td>\n",
       "      <td>ultra</td>\n",
       "    </tr>\n",
       "    <tr>\n",
       "      <th>7</th>\n",
       "      <td>8</td>\n",
       "      <td>Юрий</td>\n",
       "      <td>23</td>\n",
       "      <td>Краснодар</td>\n",
       "      <td>ultra</td>\n",
       "    </tr>\n",
       "    <tr>\n",
       "      <th>8</th>\n",
       "      <td>9</td>\n",
       "      <td>Ян</td>\n",
       "      <td>21</td>\n",
       "      <td>Пятигорск</td>\n",
       "      <td>ultra</td>\n",
       "    </tr>\n",
       "    <tr>\n",
       "      <th>9</th>\n",
       "      <td>10</td>\n",
       "      <td>Валерий</td>\n",
       "      <td>18</td>\n",
       "      <td>Екатеринбург</td>\n",
       "      <td>ultra</td>\n",
       "    </tr>\n",
       "  </tbody>\n",
       "</table>\n",
       "</div>"
      ],
      "text/plain": [
       "   user_id        name  age            city subscription_type\n",
       "0        1        Кира   22          Тюмень             ultra\n",
       "1        2   Станислав   31            Омск             ultra\n",
       "2        3     Алексей   20          Москва             ultra\n",
       "3        4  Константин   26  Ростов-на-Дону             ultra\n",
       "4        5       Адель   28            Омск             ultra\n",
       "5        6      Регина   25       Краснодар             ultra\n",
       "6        7       Игорь   23            Омск             ultra\n",
       "7        8        Юрий   23       Краснодар             ultra\n",
       "8        9          Ян   21       Пятигорск             ultra\n",
       "9       10     Валерий   18    Екатеринбург             ultra"
      ]
     },
     "metadata": {},
     "output_type": "display_data"
    },
    {
     "data": {
      "text/html": [
       "<div>\n",
       "<style scoped>\n",
       "    .dataframe tbody tr th:only-of-type {\n",
       "        vertical-align: middle;\n",
       "    }\n",
       "\n",
       "    .dataframe tbody tr th {\n",
       "        vertical-align: top;\n",
       "    }\n",
       "\n",
       "    .dataframe thead th {\n",
       "        text-align: right;\n",
       "    }\n",
       "</style>\n",
       "<table border=\"1\" class=\"dataframe\">\n",
       "  <thead>\n",
       "    <tr style=\"text-align: right;\">\n",
       "      <th></th>\n",
       "      <th>user_id</th>\n",
       "      <th>distance</th>\n",
       "      <th>duration</th>\n",
       "      <th>date</th>\n",
       "    </tr>\n",
       "  </thead>\n",
       "  <tbody>\n",
       "    <tr>\n",
       "      <th>0</th>\n",
       "      <td>1</td>\n",
       "      <td>4409.919140</td>\n",
       "      <td>25.599769</td>\n",
       "      <td>2021-01-01</td>\n",
       "    </tr>\n",
       "    <tr>\n",
       "      <th>1</th>\n",
       "      <td>1</td>\n",
       "      <td>2617.592153</td>\n",
       "      <td>15.816871</td>\n",
       "      <td>2021-01-18</td>\n",
       "    </tr>\n",
       "    <tr>\n",
       "      <th>2</th>\n",
       "      <td>1</td>\n",
       "      <td>754.159807</td>\n",
       "      <td>6.232113</td>\n",
       "      <td>2021-04-20</td>\n",
       "    </tr>\n",
       "    <tr>\n",
       "      <th>3</th>\n",
       "      <td>1</td>\n",
       "      <td>2694.783254</td>\n",
       "      <td>18.511000</td>\n",
       "      <td>2021-08-11</td>\n",
       "    </tr>\n",
       "    <tr>\n",
       "      <th>4</th>\n",
       "      <td>1</td>\n",
       "      <td>4028.687306</td>\n",
       "      <td>26.265803</td>\n",
       "      <td>2021-08-28</td>\n",
       "    </tr>\n",
       "    <tr>\n",
       "      <th>5</th>\n",
       "      <td>1</td>\n",
       "      <td>2770.890808</td>\n",
       "      <td>16.650138</td>\n",
       "      <td>2021-10-09</td>\n",
       "    </tr>\n",
       "    <tr>\n",
       "      <th>6</th>\n",
       "      <td>1</td>\n",
       "      <td>3039.020292</td>\n",
       "      <td>14.927879</td>\n",
       "      <td>2021-10-19</td>\n",
       "    </tr>\n",
       "    <tr>\n",
       "      <th>7</th>\n",
       "      <td>1</td>\n",
       "      <td>2842.118050</td>\n",
       "      <td>23.117468</td>\n",
       "      <td>2021-11-06</td>\n",
       "    </tr>\n",
       "    <tr>\n",
       "      <th>8</th>\n",
       "      <td>1</td>\n",
       "      <td>3412.690668</td>\n",
       "      <td>15.238072</td>\n",
       "      <td>2021-11-14</td>\n",
       "    </tr>\n",
       "    <tr>\n",
       "      <th>9</th>\n",
       "      <td>1</td>\n",
       "      <td>748.690645</td>\n",
       "      <td>15.041884</td>\n",
       "      <td>2021-11-22</td>\n",
       "    </tr>\n",
       "  </tbody>\n",
       "</table>\n",
       "</div>"
      ],
      "text/plain": [
       "   user_id     distance   duration        date\n",
       "0        1  4409.919140  25.599769  2021-01-01\n",
       "1        1  2617.592153  15.816871  2021-01-18\n",
       "2        1   754.159807   6.232113  2021-04-20\n",
       "3        1  2694.783254  18.511000  2021-08-11\n",
       "4        1  4028.687306  26.265803  2021-08-28\n",
       "5        1  2770.890808  16.650138  2021-10-09\n",
       "6        1  3039.020292  14.927879  2021-10-19\n",
       "7        1  2842.118050  23.117468  2021-11-06\n",
       "8        1  3412.690668  15.238072  2021-11-14\n",
       "9        1   748.690645  15.041884  2021-11-22"
      ]
     },
     "metadata": {},
     "output_type": "display_data"
    },
    {
     "data": {
      "text/html": [
       "<div>\n",
       "<style scoped>\n",
       "    .dataframe tbody tr th:only-of-type {\n",
       "        vertical-align: middle;\n",
       "    }\n",
       "\n",
       "    .dataframe tbody tr th {\n",
       "        vertical-align: top;\n",
       "    }\n",
       "\n",
       "    .dataframe thead th {\n",
       "        text-align: right;\n",
       "    }\n",
       "</style>\n",
       "<table border=\"1\" class=\"dataframe\">\n",
       "  <thead>\n",
       "    <tr style=\"text-align: right;\">\n",
       "      <th></th>\n",
       "      <th>subscription_type</th>\n",
       "      <th>minute_price</th>\n",
       "      <th>start_ride_price</th>\n",
       "      <th>subscription_fee</th>\n",
       "    </tr>\n",
       "  </thead>\n",
       "  <tbody>\n",
       "    <tr>\n",
       "      <th>0</th>\n",
       "      <td>free</td>\n",
       "      <td>8</td>\n",
       "      <td>50</td>\n",
       "      <td>0</td>\n",
       "    </tr>\n",
       "    <tr>\n",
       "      <th>1</th>\n",
       "      <td>ultra</td>\n",
       "      <td>6</td>\n",
       "      <td>0</td>\n",
       "      <td>199</td>\n",
       "    </tr>\n",
       "  </tbody>\n",
       "</table>\n",
       "</div>"
      ],
      "text/plain": [
       "  subscription_type  minute_price  start_ride_price  subscription_fee\n",
       "0              free             8                50                 0\n",
       "1             ultra             6                 0               199"
      ]
     },
     "metadata": {},
     "output_type": "display_data"
    }
   ],
   "source": [
    "display(users.head(10))\n",
    "display(rides.head(10))\n",
    "display(subscriptions.head(10))"
   ]
  },
  {
   "cell_type": "code",
   "execution_count": 4,
   "id": "646b41e9",
   "metadata": {},
   "outputs": [
    {
     "name": "stdout",
     "output_type": "stream",
     "text": [
      "<class 'pandas.core.frame.DataFrame'>\n",
      "RangeIndex: 1565 entries, 0 to 1564\n",
      "Data columns (total 5 columns):\n",
      " #   Column             Non-Null Count  Dtype \n",
      "---  ------             --------------  ----- \n",
      " 0   user_id            1565 non-null   int64 \n",
      " 1   name               1565 non-null   object\n",
      " 2   age                1565 non-null   int64 \n",
      " 3   city               1565 non-null   object\n",
      " 4   subscription_type  1565 non-null   object\n",
      "dtypes: int64(2), object(3)\n",
      "memory usage: 61.3+ KB\n"
     ]
    },
    {
     "data": {
      "text/plain": [
       "None"
      ]
     },
     "metadata": {},
     "output_type": "display_data"
    },
    {
     "name": "stdout",
     "output_type": "stream",
     "text": [
      "<class 'pandas.core.frame.DataFrame'>\n",
      "RangeIndex: 18068 entries, 0 to 18067\n",
      "Data columns (total 4 columns):\n",
      " #   Column    Non-Null Count  Dtype  \n",
      "---  ------    --------------  -----  \n",
      " 0   user_id   18068 non-null  int64  \n",
      " 1   distance  18068 non-null  float64\n",
      " 2   duration  18068 non-null  float64\n",
      " 3   date      18068 non-null  object \n",
      "dtypes: float64(2), int64(1), object(1)\n",
      "memory usage: 564.8+ KB\n"
     ]
    },
    {
     "data": {
      "text/plain": [
       "None"
      ]
     },
     "metadata": {},
     "output_type": "display_data"
    },
    {
     "name": "stdout",
     "output_type": "stream",
     "text": [
      "<class 'pandas.core.frame.DataFrame'>\n",
      "RangeIndex: 2 entries, 0 to 1\n",
      "Data columns (total 4 columns):\n",
      " #   Column             Non-Null Count  Dtype \n",
      "---  ------             --------------  ----- \n",
      " 0   subscription_type  2 non-null      object\n",
      " 1   minute_price       2 non-null      int64 \n",
      " 2   start_ride_price   2 non-null      int64 \n",
      " 3   subscription_fee   2 non-null      int64 \n",
      "dtypes: int64(3), object(1)\n",
      "memory usage: 192.0+ bytes\n"
     ]
    },
    {
     "data": {
      "text/plain": [
       "None"
      ]
     },
     "metadata": {},
     "output_type": "display_data"
    }
   ],
   "source": [
    "display(users.info())\n",
    "display(rides.info())\n",
    "display(subscriptions.info())"
   ]
  },
  {
   "cell_type": "markdown",
   "id": "e95ebca7",
   "metadata": {},
   "source": [
    "**ПРЕДОБРАБОТКА ДАННЫХ**"
   ]
  },
  {
   "cell_type": "code",
   "execution_count": 5,
   "id": "af6d202c",
   "metadata": {
    "scrolled": true
   },
   "outputs": [
    {
     "data": {
      "text/plain": [
       "user_id              0\n",
       "name                 0\n",
       "age                  0\n",
       "city                 0\n",
       "subscription_type    0\n",
       "dtype: int64"
      ]
     },
     "metadata": {},
     "output_type": "display_data"
    },
    {
     "data": {
      "text/plain": [
       "user_id      0\n",
       "distance     0\n",
       "duration     0\n",
       "date         0\n",
       "month_num    0\n",
       "dtype: int64"
      ]
     },
     "metadata": {},
     "output_type": "display_data"
    },
    {
     "data": {
      "text/plain": [
       "subscription_type    0\n",
       "minute_price         0\n",
       "start_ride_price     0\n",
       "subscription_fee     0\n",
       "dtype: int64"
      ]
     },
     "metadata": {},
     "output_type": "display_data"
    }
   ],
   "source": [
    "#Меняем тип данных\n",
    "rides['date'] = pd.to_datetime(rides['date'], format = '%Y-%m-%d')\n",
    "rides['month_num'] = rides['date'].dt.month\n",
    "#Ищем пропуски\n",
    "display(users.isna().sum())\n",
    "display(rides.isna().sum())\n",
    "display(subscriptions.isna().sum())"
   ]
  },
  {
   "cell_type": "markdown",
   "id": "b27c72af",
   "metadata": {},
   "source": [
    "**Пропуски** вау! ни одного пропуска, можем идти дальше"
   ]
  },
  {
   "cell_type": "code",
   "execution_count": 6,
   "id": "5975e4d4",
   "metadata": {},
   "outputs": [
    {
     "data": {
      "text/plain": [
       "user_id  name       age  city            subscription_type\n",
       "209      Андрей     23   Омск            ultra                2\n",
       "807      Александр  28   Екатеринбург    free                 2\n",
       "611      Владимир   28   Омск            ultra                2\n",
       "43       Стефания   22   Омск            ultra                2\n",
       "737      Мелания    27   Ростов-на-Дону  free                 2\n",
       "                                                             ..\n",
       "520      Анжелика   30   Екатеринбург    ultra                1\n",
       "519      Даниэль    22   Ростов-на-Дону  ultra                1\n",
       "518      Алиса      22   Ростов-на-Дону  ultra                1\n",
       "517      Олег       25   Краснодар       ultra                1\n",
       "1534     Альберт    25   Краснодар       free                 1\n",
       "Length: 1534, dtype: int64"
      ]
     },
     "metadata": {},
     "output_type": "display_data"
    },
    {
     "data": {
      "text/plain": [
       "user_id  distance     duration   date        month_num\n",
       "1        748.690645   15.041884  2021-11-22  11           1\n",
       "1105     3232.037291  19.120140  2021-02-24  2            1\n",
       "         4661.122393  21.159450  2021-03-25  3            1\n",
       "         4468.509613  12.937019  2021-11-28  11           1\n",
       "         4057.692285  21.695055  2021-06-05  6            1\n",
       "                                                         ..\n",
       "645      4040.109793  17.100274  2021-11-26  11           1\n",
       "646      2635.251399  11.081349  2021-09-06  9            1\n",
       "         2853.140708  23.699278  2021-01-28  1            1\n",
       "         3442.376310  22.753041  2021-03-17  3            1\n",
       "1534     4928.173852  22.560373  2021-09-13  9            1\n",
       "Length: 18068, dtype: int64"
      ]
     },
     "metadata": {},
     "output_type": "display_data"
    },
    {
     "data": {
      "text/plain": [
       "subscription_type  minute_price  start_ride_price  subscription_fee\n",
       "free               8             50                0                   1\n",
       "ultra              6             0                 199                 1\n",
       "dtype: int64"
      ]
     },
     "metadata": {},
     "output_type": "display_data"
    },
    {
     "data": {
      "text/plain": [
       "user_id  name       age  city            subscription_type\n",
       "1        Кира       22   Тюмень          ultra                1\n",
       "1020     Камилла    32   Москва          free                 1\n",
       "1029     Игорь      21   Краснодар       free                 1\n",
       "1028     Вадим      17   Сочи            free                 1\n",
       "1027     Мария      21   Сочи            free                 1\n",
       "                                                             ..\n",
       "510      Роман      24   Ростов-на-Дону  ultra                1\n",
       "509      Ян         29   Москва          ultra                1\n",
       "508      Станислав  15   Тюмень          ultra                1\n",
       "507      Эвелина    27   Пятигорск       ultra                1\n",
       "1534     Альберт    25   Краснодар       free                 1\n",
       "Length: 1534, dtype: int64"
      ]
     },
     "execution_count": 6,
     "metadata": {},
     "output_type": "execute_result"
    }
   ],
   "source": [
    "#Ищем дубликаты\n",
    "display(users.value_counts())\n",
    "display(rides.value_counts())\n",
    "display(subscriptions.value_counts())\n",
    "#Удаляем дубликаты из таблицы с пользователями\n",
    "users = users.drop_duplicates().reset_index(drop=True)\n",
    "users.value_counts()"
   ]
  },
  {
   "cell_type": "code",
   "execution_count": 7,
   "id": "1a61bdad",
   "metadata": {},
   "outputs": [
    {
     "data": {
      "text/plain": [
       "0"
      ]
     },
     "metadata": {},
     "output_type": "display_data"
    },
    {
     "data": {
      "text/plain": [
       "0"
      ]
     },
     "metadata": {},
     "output_type": "display_data"
    },
    {
     "data": {
      "text/plain": [
       "0"
      ]
     },
     "metadata": {},
     "output_type": "display_data"
    }
   ],
   "source": [
    "#Проверяем остались ли дубликаты\n",
    "display(users.duplicated().sum())\n",
    "display(rides.duplicated().sum())\n",
    "display(subscriptions.duplicated().sum())"
   ]
  },
  {
   "cell_type": "markdown",
   "id": "212593c7",
   "metadata": {},
   "source": [
    "**ИССЛЕДОВАТЕЛЬСКИЙ АНАЛИЗ ДАННЫХ**"
   ]
  },
  {
   "cell_type": "code",
   "execution_count": 8,
   "id": "e3a4274c",
   "metadata": {},
   "outputs": [
    {
     "data": {
      "text/plain": [
       "count          1534\n",
       "unique            8\n",
       "top       Пятигорск\n",
       "freq            219\n",
       "Name: city, dtype: object"
      ]
     },
     "metadata": {},
     "output_type": "display_data"
    },
    {
     "data": {
      "text/plain": [
       "Пятигорск         219\n",
       "Екатеринбург      204\n",
       "Ростов-на-Дону    198\n",
       "Краснодар         193\n",
       "Сочи              189\n",
       "Омск              183\n",
       "Тюмень            180\n",
       "Москва            168\n",
       "Name: city, dtype: int64"
      ]
     },
     "execution_count": 8,
     "metadata": {},
     "output_type": "execute_result"
    },
    {
     "data": {
      "image/png": "[encoded data removed]",
      "text/plain": [
       "<Figure size 720x360 with 1 Axes>"
      ]
     },
     "metadata": {
      "needs_background": "light"
     },
     "output_type": "display_data"
    }
   ],
   "source": [
    "#Исселдуем частоту встречаемости городов\n",
    "\n",
    "users['city'].hist(bins = 50, xrot=50, figsize=(10,5))\n",
    "plt.xlabel('Города', fontsize=16)\n",
    "plt.ylabel('Частота', fontsize=16)\n",
    "plt.title(r'Частота встречаемости городов')\n",
    "display(users['city'].describe())\n",
    "users['city'].value_counts()"
   ]
  },
  {
   "cell_type": "markdown",
   "id": "8a51a493",
   "metadata": {},
   "source": [
    "    По полученной гистограмме и описанию, можем сделать вывод, что Пятигорск стоит на первом месте по использованию сервиса проката."
   ]
  },
  {
   "cell_type": "code",
   "execution_count": 9,
   "id": "98cbe44e",
   "metadata": {},
   "outputs": [
    {
     "data": {
      "text/plain": [
       "free     835\n",
       "ultra    699\n",
       "Name: subscription_type, dtype: int64"
      ]
     },
     "execution_count": 9,
     "metadata": {},
     "output_type": "execute_result"
    },
    {
     "data": {
      "image/png": "[encoded data removed]",
      "text/plain": [
       "<Figure size 432x288 with 1 Axes>"
      ]
     },
     "metadata": {
      "needs_background": "light"
     },
     "output_type": "display_data"
    }
   ],
   "source": [
    "#Исселдуем соотношение пользователей с подпиской и без\n",
    "users['subscription_type'].hist()\n",
    "plt.xlabel('Подписка', fontsize=14)\n",
    "plt.ylabel('Пользователи', fontsize=14)\n",
    "plt.title(r'Соотношение пользователей с подпиской и без')\n",
    "users['subscription_type'].value_counts()"
   ]
  },
  {
   "cell_type": "markdown",
   "id": "1f34e24b",
   "metadata": {},
   "source": [
    "    Большая часть пользователей сервиса предпочитают пользоваться прокатом самокатов без подписки."
   ]
  },
  {
   "cell_type": "code",
   "execution_count": 10,
   "id": "ac6a8417",
   "metadata": {
    "scrolled": false
   },
   "outputs": [
    {
     "data": {
      "text/plain": [
       "count    1534.000000\n",
       "mean       24.903520\n",
       "std         4.572367\n",
       "min        12.000000\n",
       "25%        22.000000\n",
       "50%        25.000000\n",
       "75%        28.000000\n",
       "max        43.000000\n",
       "Name: age, dtype: float64"
      ]
     },
     "execution_count": 10,
     "metadata": {},
     "output_type": "execute_result"
    },
    {
     "data": {
      "image/png": "[encoded data removed]",
      "text/plain": [
       "<Figure size 432x288 with 1 Axes>"
      ]
     },
     "metadata": {
      "needs_background": "light"
     },
     "output_type": "display_data"
    }
   ],
   "source": [
    "#Исселдуем возраст пользователей\n",
    "users.plot(y='age', kind='hist', bins = 50, grid=True, range = (10,60), title = 'age')\n",
    "plt.xlabel('Возраст', fontsize=14)\n",
    "plt.ylabel('Пользователи', fontsize=14)\n",
    "plt.title(r'Возраст пользователей')\n",
    "users['age'].describe()"
   ]
  },
  {
   "cell_type": "markdown",
   "id": "54d4e0b0",
   "metadata": {},
   "source": [
    "    Активнее всего прокатом пользуются люди в возрасте от 20 до 30 лет. \n",
    "    Средний возраст пользователей - 24 года."
   ]
  },
  {
   "cell_type": "code",
   "execution_count": 11,
   "id": "0ae05fb0",
   "metadata": {
    "scrolled": false
   },
   "outputs": [
    {
     "data": {
      "text/plain": [
       "count    18068.000000\n",
       "mean         3.070660\n",
       "std          1.116831\n",
       "min          0.000856\n",
       "25%          2.543226\n",
       "50%          3.133610\n",
       "75%          3.776223\n",
       "max          7.211008\n",
       "Name: distance, dtype: float64"
      ]
     },
     "execution_count": 11,
     "metadata": {},
     "output_type": "execute_result"
    },
    {
     "data": {
      "image/png": "[encoded data removed]",
      "text/plain": [
       "<Figure size 432x288 with 1 Axes>"
      ]
     },
     "metadata": {
      "needs_background": "light"
     },
     "output_type": "display_data"
    }
   ],
   "source": [
    "#для удобства понимания перевожу метры в километры\n",
    "rides['distance'] = rides['distance'] / 1000\n",
    "#Исселдуем расстояние\n",
    "rides.plot(y = 'distance', kind = 'hist', bins = 50, grid=True, title='distance')\n",
    "plt.xlabel('Расстояние', fontsize=14)\n",
    "plt.ylabel('Пользователи', fontsize=14)\n",
    "plt.title(r'Расстояние за одну поездку')\n",
    "rides['distance'].describe()"
   ]
  },
  {
   "cell_type": "markdown",
   "id": "80d360de",
   "metadata": {},
   "source": [
    "    В среднем за одну поездку пользователь преодалевает дистанцую 3 км. Больше 4 км пользователи преодалевают все реже. "
   ]
  },
  {
   "cell_type": "code",
   "execution_count": 12,
   "id": "372a6274",
   "metadata": {},
   "outputs": [
    {
     "data": {
      "text/plain": [
       "count    18068.000000\n",
       "mean        17.805011\n",
       "std          6.091051\n",
       "min          0.500000\n",
       "25%         13.597563\n",
       "50%         17.678395\n",
       "75%         21.724800\n",
       "max         40.823963\n",
       "Name: duration, dtype: float64"
      ]
     },
     "execution_count": 12,
     "metadata": {},
     "output_type": "execute_result"
    },
    {
     "data": {
      "image/png": "[encoded data removed]",
      "text/plain": [
       "<Figure size 432x288 with 1 Axes>"
      ]
     },
     "metadata": {
      "needs_background": "light"
     },
     "output_type": "display_data"
    }
   ],
   "source": [
    "#Исселдуем продолжительность поездки\n",
    "rides.plot(y = 'duration', kind='hist', bins=50, grid=True, title='duration')\n",
    "plt.xlabel('Продолжительность поездки', fontsize=14)\n",
    "plt.ylabel('Пользователи', fontsize=14)\n",
    "plt.title(r'Продолжительность одной поездки')\n",
    "rides['duration'].describe()"
   ]
  },
  {
   "cell_type": "markdown",
   "id": "1c3e9e3a",
   "metadata": {},
   "source": [
    "    Наиболее часто пользователи совершают поездки длиною в 15-20 минут. Есть странный скачок на отметке 0, возможно у пользователей возникают какие-либо сложности с арендой, после чего они заканчивают поездку."
   ]
  },
  {
   "cell_type": "markdown",
   "id": "4ef51331",
   "metadata": {},
   "source": [
    "**ОБЪЕДИНЕНИЕ ДАННЫХ**"
   ]
  },
  {
   "cell_type": "code",
   "execution_count": 13,
   "id": "6bf288b5",
   "metadata": {
    "scrolled": false
   },
   "outputs": [
    {
     "name": "stdout",
     "output_type": "stream",
     "text": [
      "Размер таблицы о пользователях: (1534, 5)\n",
      "Размер таблицы о поездках: (18068, 5)\n",
      "Размер таблицы о подписках: (2, 4)\n",
      "Размер объединенной таблицы: (18068, 9)\n"
     ]
    },
    {
     "data": {
      "text/html": [
       "<div>\n",
       "<style scoped>\n",
       "    .dataframe tbody tr th:only-of-type {\n",
       "        vertical-align: middle;\n",
       "    }\n",
       "\n",
       "    .dataframe tbody tr th {\n",
       "        vertical-align: top;\n",
       "    }\n",
       "\n",
       "    .dataframe thead th {\n",
       "        text-align: right;\n",
       "    }\n",
       "</style>\n",
       "<table border=\"1\" class=\"dataframe\">\n",
       "  <thead>\n",
       "    <tr style=\"text-align: right;\">\n",
       "      <th></th>\n",
       "      <th>user_id</th>\n",
       "      <th>name</th>\n",
       "      <th>age</th>\n",
       "      <th>city</th>\n",
       "      <th>subscription_type</th>\n",
       "      <th>distance</th>\n",
       "      <th>duration</th>\n",
       "      <th>date</th>\n",
       "      <th>month_num</th>\n",
       "      <th>minute_price</th>\n",
       "      <th>start_ride_price</th>\n",
       "      <th>subscription_fee</th>\n",
       "    </tr>\n",
       "  </thead>\n",
       "  <tbody>\n",
       "    <tr>\n",
       "      <th>0</th>\n",
       "      <td>1</td>\n",
       "      <td>Кира</td>\n",
       "      <td>22</td>\n",
       "      <td>Тюмень</td>\n",
       "      <td>ultra</td>\n",
       "      <td>4.409919</td>\n",
       "      <td>25.599769</td>\n",
       "      <td>2021-01-01</td>\n",
       "      <td>1</td>\n",
       "      <td>6</td>\n",
       "      <td>0</td>\n",
       "      <td>199</td>\n",
       "    </tr>\n",
       "    <tr>\n",
       "      <th>1</th>\n",
       "      <td>1</td>\n",
       "      <td>Кира</td>\n",
       "      <td>22</td>\n",
       "      <td>Тюмень</td>\n",
       "      <td>ultra</td>\n",
       "      <td>2.617592</td>\n",
       "      <td>15.816871</td>\n",
       "      <td>2021-01-18</td>\n",
       "      <td>1</td>\n",
       "      <td>6</td>\n",
       "      <td>0</td>\n",
       "      <td>199</td>\n",
       "    </tr>\n",
       "    <tr>\n",
       "      <th>2</th>\n",
       "      <td>1</td>\n",
       "      <td>Кира</td>\n",
       "      <td>22</td>\n",
       "      <td>Тюмень</td>\n",
       "      <td>ultra</td>\n",
       "      <td>0.754160</td>\n",
       "      <td>6.232113</td>\n",
       "      <td>2021-04-20</td>\n",
       "      <td>4</td>\n",
       "      <td>6</td>\n",
       "      <td>0</td>\n",
       "      <td>199</td>\n",
       "    </tr>\n",
       "    <tr>\n",
       "      <th>3</th>\n",
       "      <td>1</td>\n",
       "      <td>Кира</td>\n",
       "      <td>22</td>\n",
       "      <td>Тюмень</td>\n",
       "      <td>ultra</td>\n",
       "      <td>2.694783</td>\n",
       "      <td>18.511000</td>\n",
       "      <td>2021-08-11</td>\n",
       "      <td>8</td>\n",
       "      <td>6</td>\n",
       "      <td>0</td>\n",
       "      <td>199</td>\n",
       "    </tr>\n",
       "    <tr>\n",
       "      <th>4</th>\n",
       "      <td>1</td>\n",
       "      <td>Кира</td>\n",
       "      <td>22</td>\n",
       "      <td>Тюмень</td>\n",
       "      <td>ultra</td>\n",
       "      <td>4.028687</td>\n",
       "      <td>26.265803</td>\n",
       "      <td>2021-08-28</td>\n",
       "      <td>8</td>\n",
       "      <td>6</td>\n",
       "      <td>0</td>\n",
       "      <td>199</td>\n",
       "    </tr>\n",
       "    <tr>\n",
       "      <th>...</th>\n",
       "      <td>...</td>\n",
       "      <td>...</td>\n",
       "      <td>...</td>\n",
       "      <td>...</td>\n",
       "      <td>...</td>\n",
       "      <td>...</td>\n",
       "      <td>...</td>\n",
       "      <td>...</td>\n",
       "      <td>...</td>\n",
       "      <td>...</td>\n",
       "      <td>...</td>\n",
       "      <td>...</td>\n",
       "    </tr>\n",
       "    <tr>\n",
       "      <th>18063</th>\n",
       "      <td>1534</td>\n",
       "      <td>Альберт</td>\n",
       "      <td>25</td>\n",
       "      <td>Краснодар</td>\n",
       "      <td>free</td>\n",
       "      <td>3.781098</td>\n",
       "      <td>19.822962</td>\n",
       "      <td>2021-11-04</td>\n",
       "      <td>11</td>\n",
       "      <td>8</td>\n",
       "      <td>50</td>\n",
       "      <td>0</td>\n",
       "    </tr>\n",
       "    <tr>\n",
       "      <th>18064</th>\n",
       "      <td>1534</td>\n",
       "      <td>Альберт</td>\n",
       "      <td>25</td>\n",
       "      <td>Краснодар</td>\n",
       "      <td>free</td>\n",
       "      <td>2.840423</td>\n",
       "      <td>21.409799</td>\n",
       "      <td>2021-11-16</td>\n",
       "      <td>11</td>\n",
       "      <td>8</td>\n",
       "      <td>50</td>\n",
       "      <td>0</td>\n",
       "    </tr>\n",
       "    <tr>\n",
       "      <th>18065</th>\n",
       "      <td>1534</td>\n",
       "      <td>Альберт</td>\n",
       "      <td>25</td>\n",
       "      <td>Краснодар</td>\n",
       "      <td>free</td>\n",
       "      <td>3.826186</td>\n",
       "      <td>18.435051</td>\n",
       "      <td>2021-11-18</td>\n",
       "      <td>11</td>\n",
       "      <td>8</td>\n",
       "      <td>50</td>\n",
       "      <td>0</td>\n",
       "    </tr>\n",
       "    <tr>\n",
       "      <th>18066</th>\n",
       "      <td>1534</td>\n",
       "      <td>Альберт</td>\n",
       "      <td>25</td>\n",
       "      <td>Краснодар</td>\n",
       "      <td>free</td>\n",
       "      <td>2.902309</td>\n",
       "      <td>16.674362</td>\n",
       "      <td>2021-11-27</td>\n",
       "      <td>11</td>\n",
       "      <td>8</td>\n",
       "      <td>50</td>\n",
       "      <td>0</td>\n",
       "    </tr>\n",
       "    <tr>\n",
       "      <th>18067</th>\n",
       "      <td>1534</td>\n",
       "      <td>Альберт</td>\n",
       "      <td>25</td>\n",
       "      <td>Краснодар</td>\n",
       "      <td>free</td>\n",
       "      <td>2.371711</td>\n",
       "      <td>15.893917</td>\n",
       "      <td>2021-12-29</td>\n",
       "      <td>12</td>\n",
       "      <td>8</td>\n",
       "      <td>50</td>\n",
       "      <td>0</td>\n",
       "    </tr>\n",
       "  </tbody>\n",
       "</table>\n",
       "<p>18068 rows × 12 columns</p>\n",
       "</div>"
      ],
      "text/plain": [
       "       user_id     name  age       city subscription_type  distance  \\\n",
       "0            1     Кира   22     Тюмень             ultra  4.409919   \n",
       "1            1     Кира   22     Тюмень             ultra  2.617592   \n",
       "2            1     Кира   22     Тюмень             ultra  0.754160   \n",
       "3            1     Кира   22     Тюмень             ultra  2.694783   \n",
       "4            1     Кира   22     Тюмень             ultra  4.028687   \n",
       "...        ...      ...  ...        ...               ...       ...   \n",
       "18063     1534  Альберт   25  Краснодар              free  3.781098   \n",
       "18064     1534  Альберт   25  Краснодар              free  2.840423   \n",
       "18065     1534  Альберт   25  Краснодар              free  3.826186   \n",
       "18066     1534  Альберт   25  Краснодар              free  2.902309   \n",
       "18067     1534  Альберт   25  Краснодар              free  2.371711   \n",
       "\n",
       "        duration       date  month_num  minute_price  start_ride_price  \\\n",
       "0      25.599769 2021-01-01          1             6                 0   \n",
       "1      15.816871 2021-01-18          1             6                 0   \n",
       "2       6.232113 2021-04-20          4             6                 0   \n",
       "3      18.511000 2021-08-11          8             6                 0   \n",
       "4      26.265803 2021-08-28          8             6                 0   \n",
       "...          ...        ...        ...           ...               ...   \n",
       "18063  19.822962 2021-11-04         11             8                50   \n",
       "18064  21.409799 2021-11-16         11             8                50   \n",
       "18065  18.435051 2021-11-18         11             8                50   \n",
       "18066  16.674362 2021-11-27         11             8                50   \n",
       "18067  15.893917 2021-12-29         12             8                50   \n",
       "\n",
       "       subscription_fee  \n",
       "0                   199  \n",
       "1                   199  \n",
       "2                   199  \n",
       "3                   199  \n",
       "4                   199  \n",
       "...                 ...  \n",
       "18063                 0  \n",
       "18064                 0  \n",
       "18065                 0  \n",
       "18066                 0  \n",
       "18067                 0  \n",
       "\n",
       "[18068 rows x 12 columns]"
      ]
     },
     "execution_count": 13,
     "metadata": {},
     "output_type": "execute_result"
    }
   ],
   "source": [
    "#Объединяем две таблицы методом merge\n",
    "print(f\"Размер таблицы о пользователях: {users.shape}\");\n",
    "print(f\"Размер таблицы о поездках: {rides.shape}\");\n",
    "print(f\"Размер таблицы о подписках: {subscriptions.shape}\");\n",
    "go_fast = pd.merge(users, rides, on = 'user_id', how = 'outer')\n",
    "go_fast_sub = go_fast.merge(subscriptions, on = 'subscription_type', how = 'outer')\n",
    "print(f\"Размер объединенной таблицы: {go_fast.shape}\")\n",
    "go_fast_sub"
   ]
  },
  {
   "cell_type": "code",
   "execution_count": 14,
   "id": "463cd4dd",
   "metadata": {},
   "outputs": [
    {
     "name": "stdout",
     "output_type": "stream",
     "text": [
      "Размер объединенной таблицы: (18068, 9)\n"
     ]
    }
   ],
   "source": [
    "print(f\"Размер объединенной таблицы: {go_fast.shape}\")"
   ]
  },
  {
   "cell_type": "code",
   "execution_count": 15,
   "id": "8e358402",
   "metadata": {
    "scrolled": false
   },
   "outputs": [
    {
     "data": {
      "text/html": [
       "<div>\n",
       "<style scoped>\n",
       "    .dataframe tbody tr th:only-of-type {\n",
       "        vertical-align: middle;\n",
       "    }\n",
       "\n",
       "    .dataframe tbody tr th {\n",
       "        vertical-align: top;\n",
       "    }\n",
       "\n",
       "    .dataframe thead th {\n",
       "        text-align: right;\n",
       "    }\n",
       "</style>\n",
       "<table border=\"1\" class=\"dataframe\">\n",
       "  <thead>\n",
       "    <tr style=\"text-align: right;\">\n",
       "      <th></th>\n",
       "      <th>user_id</th>\n",
       "      <th>name</th>\n",
       "      <th>age</th>\n",
       "      <th>city</th>\n",
       "      <th>subscription_type</th>\n",
       "      <th>distance</th>\n",
       "      <th>duration</th>\n",
       "      <th>date</th>\n",
       "      <th>month_num</th>\n",
       "      <th>minute_price</th>\n",
       "      <th>start_ride_price</th>\n",
       "      <th>subscription_fee</th>\n",
       "    </tr>\n",
       "  </thead>\n",
       "  <tbody>\n",
       "    <tr>\n",
       "      <th>6500</th>\n",
       "      <td>700</td>\n",
       "      <td>Айдар</td>\n",
       "      <td>22</td>\n",
       "      <td>Омск</td>\n",
       "      <td>free</td>\n",
       "      <td>2.515691</td>\n",
       "      <td>14.944286</td>\n",
       "      <td>2021-01-02</td>\n",
       "      <td>1</td>\n",
       "      <td>8</td>\n",
       "      <td>50</td>\n",
       "      <td>0</td>\n",
       "    </tr>\n",
       "    <tr>\n",
       "      <th>6501</th>\n",
       "      <td>700</td>\n",
       "      <td>Айдар</td>\n",
       "      <td>22</td>\n",
       "      <td>Омск</td>\n",
       "      <td>free</td>\n",
       "      <td>0.846933</td>\n",
       "      <td>16.234663</td>\n",
       "      <td>2021-02-01</td>\n",
       "      <td>2</td>\n",
       "      <td>8</td>\n",
       "      <td>50</td>\n",
       "      <td>0</td>\n",
       "    </tr>\n",
       "    <tr>\n",
       "      <th>6502</th>\n",
       "      <td>700</td>\n",
       "      <td>Айдар</td>\n",
       "      <td>22</td>\n",
       "      <td>Омск</td>\n",
       "      <td>free</td>\n",
       "      <td>4.004434</td>\n",
       "      <td>20.016628</td>\n",
       "      <td>2021-02-04</td>\n",
       "      <td>2</td>\n",
       "      <td>8</td>\n",
       "      <td>50</td>\n",
       "      <td>0</td>\n",
       "    </tr>\n",
       "    <tr>\n",
       "      <th>6503</th>\n",
       "      <td>700</td>\n",
       "      <td>Айдар</td>\n",
       "      <td>22</td>\n",
       "      <td>Омск</td>\n",
       "      <td>free</td>\n",
       "      <td>1.205911</td>\n",
       "      <td>9.782872</td>\n",
       "      <td>2021-02-10</td>\n",
       "      <td>2</td>\n",
       "      <td>8</td>\n",
       "      <td>50</td>\n",
       "      <td>0</td>\n",
       "    </tr>\n",
       "    <tr>\n",
       "      <th>6504</th>\n",
       "      <td>700</td>\n",
       "      <td>Айдар</td>\n",
       "      <td>22</td>\n",
       "      <td>Омск</td>\n",
       "      <td>free</td>\n",
       "      <td>3.047379</td>\n",
       "      <td>17.427673</td>\n",
       "      <td>2021-02-14</td>\n",
       "      <td>2</td>\n",
       "      <td>8</td>\n",
       "      <td>50</td>\n",
       "      <td>0</td>\n",
       "    </tr>\n",
       "    <tr>\n",
       "      <th>...</th>\n",
       "      <td>...</td>\n",
       "      <td>...</td>\n",
       "      <td>...</td>\n",
       "      <td>...</td>\n",
       "      <td>...</td>\n",
       "      <td>...</td>\n",
       "      <td>...</td>\n",
       "      <td>...</td>\n",
       "      <td>...</td>\n",
       "      <td>...</td>\n",
       "      <td>...</td>\n",
       "      <td>...</td>\n",
       "    </tr>\n",
       "    <tr>\n",
       "      <th>18063</th>\n",
       "      <td>1534</td>\n",
       "      <td>Альберт</td>\n",
       "      <td>25</td>\n",
       "      <td>Краснодар</td>\n",
       "      <td>free</td>\n",
       "      <td>3.781098</td>\n",
       "      <td>19.822962</td>\n",
       "      <td>2021-11-04</td>\n",
       "      <td>11</td>\n",
       "      <td>8</td>\n",
       "      <td>50</td>\n",
       "      <td>0</td>\n",
       "    </tr>\n",
       "    <tr>\n",
       "      <th>18064</th>\n",
       "      <td>1534</td>\n",
       "      <td>Альберт</td>\n",
       "      <td>25</td>\n",
       "      <td>Краснодар</td>\n",
       "      <td>free</td>\n",
       "      <td>2.840423</td>\n",
       "      <td>21.409799</td>\n",
       "      <td>2021-11-16</td>\n",
       "      <td>11</td>\n",
       "      <td>8</td>\n",
       "      <td>50</td>\n",
       "      <td>0</td>\n",
       "    </tr>\n",
       "    <tr>\n",
       "      <th>18065</th>\n",
       "      <td>1534</td>\n",
       "      <td>Альберт</td>\n",
       "      <td>25</td>\n",
       "      <td>Краснодар</td>\n",
       "      <td>free</td>\n",
       "      <td>3.826186</td>\n",
       "      <td>18.435051</td>\n",
       "      <td>2021-11-18</td>\n",
       "      <td>11</td>\n",
       "      <td>8</td>\n",
       "      <td>50</td>\n",
       "      <td>0</td>\n",
       "    </tr>\n",
       "    <tr>\n",
       "      <th>18066</th>\n",
       "      <td>1534</td>\n",
       "      <td>Альберт</td>\n",
       "      <td>25</td>\n",
       "      <td>Краснодар</td>\n",
       "      <td>free</td>\n",
       "      <td>2.902309</td>\n",
       "      <td>16.674362</td>\n",
       "      <td>2021-11-27</td>\n",
       "      <td>11</td>\n",
       "      <td>8</td>\n",
       "      <td>50</td>\n",
       "      <td>0</td>\n",
       "    </tr>\n",
       "    <tr>\n",
       "      <th>18067</th>\n",
       "      <td>1534</td>\n",
       "      <td>Альберт</td>\n",
       "      <td>25</td>\n",
       "      <td>Краснодар</td>\n",
       "      <td>free</td>\n",
       "      <td>2.371711</td>\n",
       "      <td>15.893917</td>\n",
       "      <td>2021-12-29</td>\n",
       "      <td>12</td>\n",
       "      <td>8</td>\n",
       "      <td>50</td>\n",
       "      <td>0</td>\n",
       "    </tr>\n",
       "  </tbody>\n",
       "</table>\n",
       "<p>11568 rows × 12 columns</p>\n",
       "</div>"
      ],
      "text/plain": [
       "       user_id     name  age       city subscription_type  distance  \\\n",
       "6500       700    Айдар   22       Омск              free  2.515691   \n",
       "6501       700    Айдар   22       Омск              free  0.846933   \n",
       "6502       700    Айдар   22       Омск              free  4.004434   \n",
       "6503       700    Айдар   22       Омск              free  1.205911   \n",
       "6504       700    Айдар   22       Омск              free  3.047379   \n",
       "...        ...      ...  ...        ...               ...       ...   \n",
       "18063     1534  Альберт   25  Краснодар              free  3.781098   \n",
       "18064     1534  Альберт   25  Краснодар              free  2.840423   \n",
       "18065     1534  Альберт   25  Краснодар              free  3.826186   \n",
       "18066     1534  Альберт   25  Краснодар              free  2.902309   \n",
       "18067     1534  Альберт   25  Краснодар              free  2.371711   \n",
       "\n",
       "        duration       date  month_num  minute_price  start_ride_price  \\\n",
       "6500   14.944286 2021-01-02          1             8                50   \n",
       "6501   16.234663 2021-02-01          2             8                50   \n",
       "6502   20.016628 2021-02-04          2             8                50   \n",
       "6503    9.782872 2021-02-10          2             8                50   \n",
       "6504   17.427673 2021-02-14          2             8                50   \n",
       "...          ...        ...        ...           ...               ...   \n",
       "18063  19.822962 2021-11-04         11             8                50   \n",
       "18064  21.409799 2021-11-16         11             8                50   \n",
       "18065  18.435051 2021-11-18         11             8                50   \n",
       "18066  16.674362 2021-11-27         11             8                50   \n",
       "18067  15.893917 2021-12-29         12             8                50   \n",
       "\n",
       "       subscription_fee  \n",
       "6500                  0  \n",
       "6501                  0  \n",
       "6502                  0  \n",
       "6503                  0  \n",
       "6504                  0  \n",
       "...                 ...  \n",
       "18063                 0  \n",
       "18064                 0  \n",
       "18065                 0  \n",
       "18066                 0  \n",
       "18067                 0  \n",
       "\n",
       "[11568 rows x 12 columns]"
      ]
     },
     "execution_count": 15,
     "metadata": {},
     "output_type": "execute_result"
    }
   ],
   "source": [
    "#Создаю таблитцу о пользователей не оформивших подписку\n",
    "go_fast_free = go_fast_sub[go_fast_sub['subscription_type']=='free']\n",
    "go_fast_free"
   ]
  },
  {
   "cell_type": "code",
   "execution_count": 16,
   "id": "76ad3142",
   "metadata": {},
   "outputs": [
    {
     "data": {
      "text/html": [
       "<div>\n",
       "<style scoped>\n",
       "    .dataframe tbody tr th:only-of-type {\n",
       "        vertical-align: middle;\n",
       "    }\n",
       "\n",
       "    .dataframe tbody tr th {\n",
       "        vertical-align: top;\n",
       "    }\n",
       "\n",
       "    .dataframe thead th {\n",
       "        text-align: right;\n",
       "    }\n",
       "</style>\n",
       "<table border=\"1\" class=\"dataframe\">\n",
       "  <thead>\n",
       "    <tr style=\"text-align: right;\">\n",
       "      <th></th>\n",
       "      <th>user_id</th>\n",
       "      <th>name</th>\n",
       "      <th>age</th>\n",
       "      <th>city</th>\n",
       "      <th>subscription_type</th>\n",
       "      <th>distance</th>\n",
       "      <th>duration</th>\n",
       "      <th>date</th>\n",
       "      <th>month_num</th>\n",
       "      <th>minute_price</th>\n",
       "      <th>start_ride_price</th>\n",
       "      <th>subscription_fee</th>\n",
       "    </tr>\n",
       "  </thead>\n",
       "  <tbody>\n",
       "    <tr>\n",
       "      <th>0</th>\n",
       "      <td>1</td>\n",
       "      <td>Кира</td>\n",
       "      <td>22</td>\n",
       "      <td>Тюмень</td>\n",
       "      <td>ultra</td>\n",
       "      <td>4.409919</td>\n",
       "      <td>25.599769</td>\n",
       "      <td>2021-01-01</td>\n",
       "      <td>1</td>\n",
       "      <td>6</td>\n",
       "      <td>0</td>\n",
       "      <td>199</td>\n",
       "    </tr>\n",
       "    <tr>\n",
       "      <th>1</th>\n",
       "      <td>1</td>\n",
       "      <td>Кира</td>\n",
       "      <td>22</td>\n",
       "      <td>Тюмень</td>\n",
       "      <td>ultra</td>\n",
       "      <td>2.617592</td>\n",
       "      <td>15.816871</td>\n",
       "      <td>2021-01-18</td>\n",
       "      <td>1</td>\n",
       "      <td>6</td>\n",
       "      <td>0</td>\n",
       "      <td>199</td>\n",
       "    </tr>\n",
       "    <tr>\n",
       "      <th>2</th>\n",
       "      <td>1</td>\n",
       "      <td>Кира</td>\n",
       "      <td>22</td>\n",
       "      <td>Тюмень</td>\n",
       "      <td>ultra</td>\n",
       "      <td>0.754160</td>\n",
       "      <td>6.232113</td>\n",
       "      <td>2021-04-20</td>\n",
       "      <td>4</td>\n",
       "      <td>6</td>\n",
       "      <td>0</td>\n",
       "      <td>199</td>\n",
       "    </tr>\n",
       "    <tr>\n",
       "      <th>3</th>\n",
       "      <td>1</td>\n",
       "      <td>Кира</td>\n",
       "      <td>22</td>\n",
       "      <td>Тюмень</td>\n",
       "      <td>ultra</td>\n",
       "      <td>2.694783</td>\n",
       "      <td>18.511000</td>\n",
       "      <td>2021-08-11</td>\n",
       "      <td>8</td>\n",
       "      <td>6</td>\n",
       "      <td>0</td>\n",
       "      <td>199</td>\n",
       "    </tr>\n",
       "    <tr>\n",
       "      <th>4</th>\n",
       "      <td>1</td>\n",
       "      <td>Кира</td>\n",
       "      <td>22</td>\n",
       "      <td>Тюмень</td>\n",
       "      <td>ultra</td>\n",
       "      <td>4.028687</td>\n",
       "      <td>26.265803</td>\n",
       "      <td>2021-08-28</td>\n",
       "      <td>8</td>\n",
       "      <td>6</td>\n",
       "      <td>0</td>\n",
       "      <td>199</td>\n",
       "    </tr>\n",
       "    <tr>\n",
       "      <th>...</th>\n",
       "      <td>...</td>\n",
       "      <td>...</td>\n",
       "      <td>...</td>\n",
       "      <td>...</td>\n",
       "      <td>...</td>\n",
       "      <td>...</td>\n",
       "      <td>...</td>\n",
       "      <td>...</td>\n",
       "      <td>...</td>\n",
       "      <td>...</td>\n",
       "      <td>...</td>\n",
       "      <td>...</td>\n",
       "    </tr>\n",
       "    <tr>\n",
       "      <th>6495</th>\n",
       "      <td>699</td>\n",
       "      <td>Оксана</td>\n",
       "      <td>22</td>\n",
       "      <td>Москва</td>\n",
       "      <td>ultra</td>\n",
       "      <td>3.973046</td>\n",
       "      <td>24.671163</td>\n",
       "      <td>2021-08-29</td>\n",
       "      <td>8</td>\n",
       "      <td>6</td>\n",
       "      <td>0</td>\n",
       "      <td>199</td>\n",
       "    </tr>\n",
       "    <tr>\n",
       "      <th>6496</th>\n",
       "      <td>699</td>\n",
       "      <td>Оксана</td>\n",
       "      <td>22</td>\n",
       "      <td>Москва</td>\n",
       "      <td>ultra</td>\n",
       "      <td>3.288703</td>\n",
       "      <td>15.892886</td>\n",
       "      <td>2021-09-12</td>\n",
       "      <td>9</td>\n",
       "      <td>6</td>\n",
       "      <td>0</td>\n",
       "      <td>199</td>\n",
       "    </tr>\n",
       "    <tr>\n",
       "      <th>6497</th>\n",
       "      <td>699</td>\n",
       "      <td>Оксана</td>\n",
       "      <td>22</td>\n",
       "      <td>Москва</td>\n",
       "      <td>ultra</td>\n",
       "      <td>3.076159</td>\n",
       "      <td>14.389525</td>\n",
       "      <td>2021-09-26</td>\n",
       "      <td>9</td>\n",
       "      <td>6</td>\n",
       "      <td>0</td>\n",
       "      <td>199</td>\n",
       "    </tr>\n",
       "    <tr>\n",
       "      <th>6498</th>\n",
       "      <td>699</td>\n",
       "      <td>Оксана</td>\n",
       "      <td>22</td>\n",
       "      <td>Москва</td>\n",
       "      <td>ultra</td>\n",
       "      <td>4.707846</td>\n",
       "      <td>15.839579</td>\n",
       "      <td>2021-10-17</td>\n",
       "      <td>10</td>\n",
       "      <td>6</td>\n",
       "      <td>0</td>\n",
       "      <td>199</td>\n",
       "    </tr>\n",
       "    <tr>\n",
       "      <th>6499</th>\n",
       "      <td>699</td>\n",
       "      <td>Оксана</td>\n",
       "      <td>22</td>\n",
       "      <td>Москва</td>\n",
       "      <td>ultra</td>\n",
       "      <td>3.202891</td>\n",
       "      <td>25.217345</td>\n",
       "      <td>2021-12-03</td>\n",
       "      <td>12</td>\n",
       "      <td>6</td>\n",
       "      <td>0</td>\n",
       "      <td>199</td>\n",
       "    </tr>\n",
       "  </tbody>\n",
       "</table>\n",
       "<p>6500 rows × 12 columns</p>\n",
       "</div>"
      ],
      "text/plain": [
       "      user_id    name  age    city subscription_type  distance   duration  \\\n",
       "0           1    Кира   22  Тюмень             ultra  4.409919  25.599769   \n",
       "1           1    Кира   22  Тюмень             ultra  2.617592  15.816871   \n",
       "2           1    Кира   22  Тюмень             ultra  0.754160   6.232113   \n",
       "3           1    Кира   22  Тюмень             ultra  2.694783  18.511000   \n",
       "4           1    Кира   22  Тюмень             ultra  4.028687  26.265803   \n",
       "...       ...     ...  ...     ...               ...       ...        ...   \n",
       "6495      699  Оксана   22  Москва             ultra  3.973046  24.671163   \n",
       "6496      699  Оксана   22  Москва             ultra  3.288703  15.892886   \n",
       "6497      699  Оксана   22  Москва             ultra  3.076159  14.389525   \n",
       "6498      699  Оксана   22  Москва             ultra  4.707846  15.839579   \n",
       "6499      699  Оксана   22  Москва             ultra  3.202891  25.217345   \n",
       "\n",
       "           date  month_num  minute_price  start_ride_price  subscription_fee  \n",
       "0    2021-01-01          1             6                 0               199  \n",
       "1    2021-01-18          1             6                 0               199  \n",
       "2    2021-04-20          4             6                 0               199  \n",
       "3    2021-08-11          8             6                 0               199  \n",
       "4    2021-08-28          8             6                 0               199  \n",
       "...         ...        ...           ...               ...               ...  \n",
       "6495 2021-08-29          8             6                 0               199  \n",
       "6496 2021-09-12          9             6                 0               199  \n",
       "6497 2021-09-26          9             6                 0               199  \n",
       "6498 2021-10-17         10             6                 0               199  \n",
       "6499 2021-12-03         12             6                 0               199  \n",
       "\n",
       "[6500 rows x 12 columns]"
      ]
     },
     "execution_count": 16,
     "metadata": {},
     "output_type": "execute_result"
    }
   ],
   "source": [
    "#Создаю таблицу о пользователях с подпиской\n",
    "go_fast_ultra = go_fast_sub[go_fast_sub['subscription_type']=='ultra']\n",
    "go_fast_ultra"
   ]
  },
  {
   "cell_type": "code",
   "execution_count": 17,
   "id": "47bc86c0",
   "metadata": {},
   "outputs": [
    {
     "data": {
      "text/plain": [
       "count    11568.000000\n",
       "mean         3.045495\n",
       "std          1.246174\n",
       "min          0.000856\n",
       "25%          2.366563\n",
       "50%          3.114648\n",
       "75%          3.905698\n",
       "max          7.211008\n",
       "Name: distance, dtype: float64"
      ]
     },
     "execution_count": 17,
     "metadata": {},
     "output_type": "execute_result"
    },
    {
     "data": {
      "image/png": "[encoded data removed]",
      "text/plain": [
       "<Figure size 432x288 with 1 Axes>"
      ]
     },
     "metadata": {
      "needs_background": "light"
     },
     "output_type": "display_data"
    }
   ],
   "source": [
    "go_fast_free.plot(y='distance', kind='hist', bins=50, grid=True, title='distance')\n",
    "plt.xlabel('Расстояние', fontsize=14)\n",
    "plt.ylabel('Пользователи', fontsize=14)\n",
    "plt.title(r'Расстояние за одну поездку')\n",
    "go_fast_free['distance'].describe()"
   ]
  },
  {
   "cell_type": "markdown",
   "id": "9cb002c6",
   "metadata": {},
   "source": [
    "    Чаще всего пользователи без подписки проезжают расстояние от 2 до 4 км. Очень редко больше 5 км."
   ]
  },
  {
   "cell_type": "code",
   "execution_count": 18,
   "id": "3da78f0b",
   "metadata": {},
   "outputs": [
    {
     "data": {
      "text/plain": [
       "count    11568.000000\n",
       "mean        17.390909\n",
       "std          6.326803\n",
       "min          0.500000\n",
       "25%         12.958437\n",
       "50%         17.326890\n",
       "75%         21.594071\n",
       "max         34.948498\n",
       "Name: duration, dtype: float64"
      ]
     },
     "execution_count": 18,
     "metadata": {},
     "output_type": "execute_result"
    },
    {
     "data": {
      "image/png": "[encoded data removed]",
      "text/plain": [
       "<Figure size 432x288 with 1 Axes>"
      ]
     },
     "metadata": {
      "needs_background": "light"
     },
     "output_type": "display_data"
    }
   ],
   "source": [
    "go_fast_free.plot(y='duration', kind='hist', bins=50, grid=True, title='duration')\n",
    "plt.xlabel('Продолжительность поездки', fontsize=12)\n",
    "plt.ylabel('Пользователи', fontsize=12)\n",
    "plt.title(r'Продолжительность поездки пользователей без подписки')\n",
    "go_fast_free['duration'].describe()"
   ]
  },
  {
   "cell_type": "markdown",
   "id": "fc084cef",
   "metadata": {},
   "source": [
    "    Наиболее часто пользователи проезжают 15-20 км. В среднем 17 км. Больше 25 км проезжают редко. Есть странный скачок около нуля, возможно пользователи сталкиваются с какими-либо проблемами при использовании, после чего завершают аренду."
   ]
  },
  {
   "cell_type": "code",
   "execution_count": 19,
   "id": "86c267a9",
   "metadata": {},
   "outputs": [
    {
     "data": {
      "text/plain": [
       "count    6500.000000\n",
       "mean        3.115445\n",
       "std         0.836895\n",
       "min         0.244210\n",
       "25%         2.785444\n",
       "50%         3.148637\n",
       "75%         3.560574\n",
       "max         5.699770\n",
       "Name: distance, dtype: float64"
      ]
     },
     "execution_count": 19,
     "metadata": {},
     "output_type": "execute_result"
    },
    {
     "data": {
      "image/png": "[encoded data removed]",
      "text/plain": [
       "<Figure size 432x288 with 1 Axes>"
      ]
     },
     "metadata": {
      "needs_background": "light"
     },
     "output_type": "display_data"
    }
   ],
   "source": [
    "go_fast_ultra.plot(y='distance', kind='hist', bins=50, grid=True, title='distance')\n",
    "plt.xlabel('Расстояние', fontsize=12)\n",
    "plt.ylabel('Пользователи', fontsize=12)\n",
    "plt.title(r'Расстояние поездки пользователей с подпиской')\n",
    "go_fast_ultra['distance'].describe()"
   ]
  },
  {
   "cell_type": "markdown",
   "id": "865275a8",
   "metadata": {},
   "source": [
    "    Среднее значение - 3 км. После 3 км, график идет на спад, скорее всего пользователи с подпиской берут самокат чаще и проезжают меньше, так как им не нужно платить за старт, поэтому они могут брать его несколько раз в день."
   ]
  },
  {
   "cell_type": "code",
   "execution_count": 20,
   "id": "ea25caf9",
   "metadata": {},
   "outputs": [
    {
     "data": {
      "text/plain": [
       "count    6500.000000\n",
       "mean       18.541985\n",
       "std         5.572048\n",
       "min         3.760353\n",
       "25%        14.524654\n",
       "50%        18.178153\n",
       "75%        21.884129\n",
       "max        40.823963\n",
       "Name: duration, dtype: float64"
      ]
     },
     "execution_count": 20,
     "metadata": {},
     "output_type": "execute_result"
    },
    {
     "data": {
      "image/png": "[encoded data removed]",
      "text/plain": [
       "<Figure size 432x288 with 1 Axes>"
      ]
     },
     "metadata": {
      "needs_background": "light"
     },
     "output_type": "display_data"
    }
   ],
   "source": [
    "go_fast_ultra.plot(y='duration', kind='hist', bins=50, grid=True, title='duration')\n",
    "plt.xlabel('Продолжительность поездки', fontsize=12)\n",
    "plt.ylabel('Пользователи', fontsize=12)\n",
    "plt.title(r'Продолжительность поездки пользователей с подпиской')\n",
    "go_fast_ultra['duration'].describe()"
   ]
  },
  {
   "cell_type": "markdown",
   "id": "0ca877d6",
   "metadata": {},
   "source": [
    "    Чаще всего продолжительность поездки 15-20 минут, в среднем - 18 минут, что не сильно отличается от продолжительности поездок пользователей без подписки."
   ]
  },
  {
   "cell_type": "markdown",
   "id": "402d620f",
   "metadata": {},
   "source": [
    "**ПОДСЧЕТ ВЫРУЧКИ**"
   ]
  },
  {
   "cell_type": "code",
   "execution_count": 21,
   "id": "53049e0a",
   "metadata": {},
   "outputs": [
    {
     "data": {
      "text/html": [
       "<div>\n",
       "<style scoped>\n",
       "    .dataframe tbody tr th:only-of-type {\n",
       "        vertical-align: middle;\n",
       "    }\n",
       "\n",
       "    .dataframe tbody tr th {\n",
       "        vertical-align: top;\n",
       "    }\n",
       "\n",
       "    .dataframe thead th {\n",
       "        text-align: right;\n",
       "    }\n",
       "</style>\n",
       "<table border=\"1\" class=\"dataframe\">\n",
       "  <thead>\n",
       "    <tr style=\"text-align: right;\">\n",
       "      <th></th>\n",
       "      <th></th>\n",
       "      <th>distance</th>\n",
       "      <th>duration</th>\n",
       "      <th>minute_price</th>\n",
       "      <th>ride</th>\n",
       "      <th>start_ride_price</th>\n",
       "      <th>subscription_fee</th>\n",
       "      <th>subscription_type</th>\n",
       "    </tr>\n",
       "    <tr>\n",
       "      <th>month_num</th>\n",
       "      <th>user_id</th>\n",
       "      <th></th>\n",
       "      <th></th>\n",
       "      <th></th>\n",
       "      <th></th>\n",
       "      <th></th>\n",
       "      <th></th>\n",
       "      <th></th>\n",
       "    </tr>\n",
       "  </thead>\n",
       "  <tbody>\n",
       "    <tr>\n",
       "      <th rowspan=\"10\" valign=\"top\">1</th>\n",
       "      <th>1</th>\n",
       "      <td>7.027511</td>\n",
       "      <td>42.0</td>\n",
       "      <td>6</td>\n",
       "      <td>2</td>\n",
       "      <td>0</td>\n",
       "      <td>199</td>\n",
       "      <td>ultra</td>\n",
       "    </tr>\n",
       "    <tr>\n",
       "      <th>3</th>\n",
       "      <td>3.061777</td>\n",
       "      <td>13.0</td>\n",
       "      <td>6</td>\n",
       "      <td>1</td>\n",
       "      <td>0</td>\n",
       "      <td>199</td>\n",
       "      <td>ultra</td>\n",
       "    </tr>\n",
       "    <tr>\n",
       "      <th>5</th>\n",
       "      <td>3.914647</td>\n",
       "      <td>13.0</td>\n",
       "      <td>6</td>\n",
       "      <td>1</td>\n",
       "      <td>0</td>\n",
       "      <td>199</td>\n",
       "      <td>ultra</td>\n",
       "    </tr>\n",
       "    <tr>\n",
       "      <th>7</th>\n",
       "      <td>6.478081</td>\n",
       "      <td>28.0</td>\n",
       "      <td>6</td>\n",
       "      <td>2</td>\n",
       "      <td>0</td>\n",
       "      <td>199</td>\n",
       "      <td>ultra</td>\n",
       "    </tr>\n",
       "    <tr>\n",
       "      <th>12</th>\n",
       "      <td>3.577151</td>\n",
       "      <td>33.0</td>\n",
       "      <td>6</td>\n",
       "      <td>1</td>\n",
       "      <td>0</td>\n",
       "      <td>199</td>\n",
       "      <td>ultra</td>\n",
       "    </tr>\n",
       "    <tr>\n",
       "      <th>13</th>\n",
       "      <td>6.687987</td>\n",
       "      <td>42.0</td>\n",
       "      <td>6</td>\n",
       "      <td>2</td>\n",
       "      <td>0</td>\n",
       "      <td>199</td>\n",
       "      <td>ultra</td>\n",
       "    </tr>\n",
       "    <tr>\n",
       "      <th>14</th>\n",
       "      <td>7.699644</td>\n",
       "      <td>35.0</td>\n",
       "      <td>6</td>\n",
       "      <td>2</td>\n",
       "      <td>0</td>\n",
       "      <td>199</td>\n",
       "      <td>ultra</td>\n",
       "    </tr>\n",
       "    <tr>\n",
       "      <th>15</th>\n",
       "      <td>4.187621</td>\n",
       "      <td>39.0</td>\n",
       "      <td>6</td>\n",
       "      <td>1</td>\n",
       "      <td>0</td>\n",
       "      <td>199</td>\n",
       "      <td>ultra</td>\n",
       "    </tr>\n",
       "    <tr>\n",
       "      <th>20</th>\n",
       "      <td>3.516719</td>\n",
       "      <td>29.0</td>\n",
       "      <td>6</td>\n",
       "      <td>1</td>\n",
       "      <td>0</td>\n",
       "      <td>199</td>\n",
       "      <td>ultra</td>\n",
       "    </tr>\n",
       "    <tr>\n",
       "      <th>22</th>\n",
       "      <td>3.058692</td>\n",
       "      <td>13.0</td>\n",
       "      <td>6</td>\n",
       "      <td>1</td>\n",
       "      <td>0</td>\n",
       "      <td>199</td>\n",
       "      <td>ultra</td>\n",
       "    </tr>\n",
       "  </tbody>\n",
       "</table>\n",
       "</div>"
      ],
      "text/plain": [
       "                   distance  duration  minute_price  ride  start_ride_price  \\\n",
       "month_num user_id                                                             \n",
       "1         1        7.027511      42.0             6     2                 0   \n",
       "          3        3.061777      13.0             6     1                 0   \n",
       "          5        3.914647      13.0             6     1                 0   \n",
       "          7        6.478081      28.0             6     2                 0   \n",
       "          12       3.577151      33.0             6     1                 0   \n",
       "          13       6.687987      42.0             6     2                 0   \n",
       "          14       7.699644      35.0             6     2                 0   \n",
       "          15       4.187621      39.0             6     1                 0   \n",
       "          20       3.516719      29.0             6     1                 0   \n",
       "          22       3.058692      13.0             6     1                 0   \n",
       "\n",
       "                   subscription_fee subscription_type  \n",
       "month_num user_id                                      \n",
       "1         1                     199             ultra  \n",
       "          3                     199             ultra  \n",
       "          5                     199             ultra  \n",
       "          7                     199             ultra  \n",
       "          12                    199             ultra  \n",
       "          13                    199             ultra  \n",
       "          14                    199             ultra  \n",
       "          15                    199             ultra  \n",
       "          20                    199             ultra  \n",
       "          22                    199             ultra  "
      ]
     },
     "execution_count": 21,
     "metadata": {},
     "output_type": "execute_result"
    }
   ],
   "source": [
    "go_fast_sub['duration'] = np.ceil(go_fast_sub['duration'])\n",
    "go_fast_agg = pd.pivot_table(go_fast_sub, index = ['month_num', 'user_id'], \n",
    "                             values = ['distance', 'duration', 'name', 'subscription_type', 'start_ride_price', 'minute_price', 'subscription_fee' ],\n",
    "                             aggfunc = {'distance': 'sum', 'duration': 'sum', 'name': 'count',  'start_ride_price': 'sum', 'minute_price': 'min','subscription_fee': 'min', 'subscription_type':'min'})\n",
    "go_fast_agg.rename(columns = {'name': 'ride'}, inplace = True)\n",
    "go_fast_agg.head(10)"
   ]
  },
  {
   "cell_type": "code",
   "execution_count": 22,
   "id": "80e38e21",
   "metadata": {},
   "outputs": [
    {
     "data": {
      "text/html": [
       "<div>\n",
       "<style scoped>\n",
       "    .dataframe tbody tr th:only-of-type {\n",
       "        vertical-align: middle;\n",
       "    }\n",
       "\n",
       "    .dataframe tbody tr th {\n",
       "        vertical-align: top;\n",
       "    }\n",
       "\n",
       "    .dataframe thead th {\n",
       "        text-align: right;\n",
       "    }\n",
       "</style>\n",
       "<table border=\"1\" class=\"dataframe\">\n",
       "  <thead>\n",
       "    <tr style=\"text-align: right;\">\n",
       "      <th></th>\n",
       "      <th>distance</th>\n",
       "      <th>duration</th>\n",
       "      <th>minute_price</th>\n",
       "      <th>ride</th>\n",
       "      <th>start_ride_price</th>\n",
       "      <th>subscription_fee</th>\n",
       "      <th>month_price</th>\n",
       "    </tr>\n",
       "  </thead>\n",
       "  <tbody>\n",
       "    <tr>\n",
       "      <th>count</th>\n",
       "      <td>11331.000000</td>\n",
       "      <td>11331.000000</td>\n",
       "      <td>11331.000000</td>\n",
       "      <td>11331.000000</td>\n",
       "      <td>11331.000000</td>\n",
       "      <td>11331.000000</td>\n",
       "      <td>11331.000000</td>\n",
       "    </tr>\n",
       "    <tr>\n",
       "      <th>mean</th>\n",
       "      <td>4.896363</td>\n",
       "      <td>29.186127</td>\n",
       "      <td>7.199894</td>\n",
       "      <td>1.594564</td>\n",
       "      <td>51.045804</td>\n",
       "      <td>79.610537</td>\n",
       "      <td>402.139352</td>\n",
       "    </tr>\n",
       "    <tr>\n",
       "      <th>std</th>\n",
       "      <td>2.911517</td>\n",
       "      <td>16.752464</td>\n",
       "      <td>0.979861</td>\n",
       "      <td>0.831604</td>\n",
       "      <td>54.209482</td>\n",
       "      <td>97.496144</td>\n",
       "      <td>274.734824</td>\n",
       "    </tr>\n",
       "    <tr>\n",
       "      <th>min</th>\n",
       "      <td>0.002571</td>\n",
       "      <td>1.000000</td>\n",
       "      <td>6.000000</td>\n",
       "      <td>1.000000</td>\n",
       "      <td>0.000000</td>\n",
       "      <td>0.000000</td>\n",
       "      <td>58.000000</td>\n",
       "    </tr>\n",
       "    <tr>\n",
       "      <th>25%</th>\n",
       "      <td>2.972202</td>\n",
       "      <td>17.000000</td>\n",
       "      <td>6.000000</td>\n",
       "      <td>1.000000</td>\n",
       "      <td>0.000000</td>\n",
       "      <td>0.000000</td>\n",
       "      <td>234.000000</td>\n",
       "    </tr>\n",
       "    <tr>\n",
       "      <th>50%</th>\n",
       "      <td>3.988724</td>\n",
       "      <td>24.000000</td>\n",
       "      <td>8.000000</td>\n",
       "      <td>1.000000</td>\n",
       "      <td>50.000000</td>\n",
       "      <td>0.000000</td>\n",
       "      <td>331.000000</td>\n",
       "    </tr>\n",
       "    <tr>\n",
       "      <th>75%</th>\n",
       "      <td>6.421376</td>\n",
       "      <td>38.000000</td>\n",
       "      <td>8.000000</td>\n",
       "      <td>2.000000</td>\n",
       "      <td>100.000000</td>\n",
       "      <td>199.000000</td>\n",
       "      <td>472.000000</td>\n",
       "    </tr>\n",
       "    <tr>\n",
       "      <th>max</th>\n",
       "      <td>23.429488</td>\n",
       "      <td>143.000000</td>\n",
       "      <td>8.000000</td>\n",
       "      <td>7.000000</td>\n",
       "      <td>350.000000</td>\n",
       "      <td>199.000000</td>\n",
       "      <td>3482.000000</td>\n",
       "    </tr>\n",
       "  </tbody>\n",
       "</table>\n",
       "</div>"
      ],
      "text/plain": [
       "           distance      duration  minute_price          ride  \\\n",
       "count  11331.000000  11331.000000  11331.000000  11331.000000   \n",
       "mean       4.896363     29.186127      7.199894      1.594564   \n",
       "std        2.911517     16.752464      0.979861      0.831604   \n",
       "min        0.002571      1.000000      6.000000      1.000000   \n",
       "25%        2.972202     17.000000      6.000000      1.000000   \n",
       "50%        3.988724     24.000000      8.000000      1.000000   \n",
       "75%        6.421376     38.000000      8.000000      2.000000   \n",
       "max       23.429488    143.000000      8.000000      7.000000   \n",
       "\n",
       "       start_ride_price  subscription_fee   month_price  \n",
       "count      11331.000000      11331.000000  11331.000000  \n",
       "mean          51.045804         79.610537    402.139352  \n",
       "std           54.209482         97.496144    274.734824  \n",
       "min            0.000000          0.000000     58.000000  \n",
       "25%            0.000000          0.000000    234.000000  \n",
       "50%           50.000000          0.000000    331.000000  \n",
       "75%          100.000000        199.000000    472.000000  \n",
       "max          350.000000        199.000000   3482.000000  "
      ]
     },
     "metadata": {},
     "output_type": "display_data"
    },
    {
     "data": {
      "text/html": [
       "<div>\n",
       "<style scoped>\n",
       "    .dataframe tbody tr th:only-of-type {\n",
       "        vertical-align: middle;\n",
       "    }\n",
       "\n",
       "    .dataframe tbody tr th {\n",
       "        vertical-align: top;\n",
       "    }\n",
       "\n",
       "    .dataframe thead th {\n",
       "        text-align: right;\n",
       "    }\n",
       "</style>\n",
       "<table border=\"1\" class=\"dataframe\">\n",
       "  <thead>\n",
       "    <tr style=\"text-align: right;\">\n",
       "      <th></th>\n",
       "      <th></th>\n",
       "      <th>distance</th>\n",
       "      <th>duration</th>\n",
       "      <th>minute_price</th>\n",
       "      <th>ride</th>\n",
       "      <th>start_ride_price</th>\n",
       "      <th>subscription_fee</th>\n",
       "      <th>subscription_type</th>\n",
       "      <th>month_price</th>\n",
       "    </tr>\n",
       "    <tr>\n",
       "      <th>month_num</th>\n",
       "      <th>user_id</th>\n",
       "      <th></th>\n",
       "      <th></th>\n",
       "      <th></th>\n",
       "      <th></th>\n",
       "      <th></th>\n",
       "      <th></th>\n",
       "      <th></th>\n",
       "      <th></th>\n",
       "    </tr>\n",
       "  </thead>\n",
       "  <tbody>\n",
       "    <tr>\n",
       "      <th rowspan=\"5\" valign=\"top\">1</th>\n",
       "      <th>1</th>\n",
       "      <td>7.027511</td>\n",
       "      <td>42.0</td>\n",
       "      <td>6</td>\n",
       "      <td>2</td>\n",
       "      <td>0</td>\n",
       "      <td>199</td>\n",
       "      <td>ultra</td>\n",
       "      <td>451.0</td>\n",
       "    </tr>\n",
       "    <tr>\n",
       "      <th>3</th>\n",
       "      <td>3.061777</td>\n",
       "      <td>13.0</td>\n",
       "      <td>6</td>\n",
       "      <td>1</td>\n",
       "      <td>0</td>\n",
       "      <td>199</td>\n",
       "      <td>ultra</td>\n",
       "      <td>277.0</td>\n",
       "    </tr>\n",
       "    <tr>\n",
       "      <th>5</th>\n",
       "      <td>3.914647</td>\n",
       "      <td>13.0</td>\n",
       "      <td>6</td>\n",
       "      <td>1</td>\n",
       "      <td>0</td>\n",
       "      <td>199</td>\n",
       "      <td>ultra</td>\n",
       "      <td>277.0</td>\n",
       "    </tr>\n",
       "    <tr>\n",
       "      <th>7</th>\n",
       "      <td>6.478081</td>\n",
       "      <td>28.0</td>\n",
       "      <td>6</td>\n",
       "      <td>2</td>\n",
       "      <td>0</td>\n",
       "      <td>199</td>\n",
       "      <td>ultra</td>\n",
       "      <td>367.0</td>\n",
       "    </tr>\n",
       "    <tr>\n",
       "      <th>12</th>\n",
       "      <td>3.577151</td>\n",
       "      <td>33.0</td>\n",
       "      <td>6</td>\n",
       "      <td>1</td>\n",
       "      <td>0</td>\n",
       "      <td>199</td>\n",
       "      <td>ultra</td>\n",
       "      <td>397.0</td>\n",
       "    </tr>\n",
       "    <tr>\n",
       "      <th>...</th>\n",
       "      <th>...</th>\n",
       "      <td>...</td>\n",
       "      <td>...</td>\n",
       "      <td>...</td>\n",
       "      <td>...</td>\n",
       "      <td>...</td>\n",
       "      <td>...</td>\n",
       "      <td>...</td>\n",
       "      <td>...</td>\n",
       "    </tr>\n",
       "    <tr>\n",
       "      <th rowspan=\"5\" valign=\"top\">12</th>\n",
       "      <th>1525</th>\n",
       "      <td>4.597854</td>\n",
       "      <td>34.0</td>\n",
       "      <td>8</td>\n",
       "      <td>1</td>\n",
       "      <td>50</td>\n",
       "      <td>0</td>\n",
       "      <td>free</td>\n",
       "      <td>322.0</td>\n",
       "    </tr>\n",
       "    <tr>\n",
       "      <th>1526</th>\n",
       "      <td>3.644122</td>\n",
       "      <td>23.0</td>\n",
       "      <td>8</td>\n",
       "      <td>1</td>\n",
       "      <td>50</td>\n",
       "      <td>0</td>\n",
       "      <td>free</td>\n",
       "      <td>234.0</td>\n",
       "    </tr>\n",
       "    <tr>\n",
       "      <th>1528</th>\n",
       "      <td>3.998569</td>\n",
       "      <td>11.0</td>\n",
       "      <td>8</td>\n",
       "      <td>1</td>\n",
       "      <td>50</td>\n",
       "      <td>0</td>\n",
       "      <td>free</td>\n",
       "      <td>138.0</td>\n",
       "    </tr>\n",
       "    <tr>\n",
       "      <th>1532</th>\n",
       "      <td>6.111890</td>\n",
       "      <td>42.0</td>\n",
       "      <td>8</td>\n",
       "      <td>2</td>\n",
       "      <td>100</td>\n",
       "      <td>0</td>\n",
       "      <td>free</td>\n",
       "      <td>536.0</td>\n",
       "    </tr>\n",
       "    <tr>\n",
       "      <th>1534</th>\n",
       "      <td>2.371711</td>\n",
       "      <td>16.0</td>\n",
       "      <td>8</td>\n",
       "      <td>1</td>\n",
       "      <td>50</td>\n",
       "      <td>0</td>\n",
       "      <td>free</td>\n",
       "      <td>178.0</td>\n",
       "    </tr>\n",
       "  </tbody>\n",
       "</table>\n",
       "<p>11331 rows × 8 columns</p>\n",
       "</div>"
      ],
      "text/plain": [
       "                   distance  duration  minute_price  ride  start_ride_price  \\\n",
       "month_num user_id                                                             \n",
       "1         1        7.027511      42.0             6     2                 0   \n",
       "          3        3.061777      13.0             6     1                 0   \n",
       "          5        3.914647      13.0             6     1                 0   \n",
       "          7        6.478081      28.0             6     2                 0   \n",
       "          12       3.577151      33.0             6     1                 0   \n",
       "...                     ...       ...           ...   ...               ...   \n",
       "12        1525     4.597854      34.0             8     1                50   \n",
       "          1526     3.644122      23.0             8     1                50   \n",
       "          1528     3.998569      11.0             8     1                50   \n",
       "          1532     6.111890      42.0             8     2               100   \n",
       "          1534     2.371711      16.0             8     1                50   \n",
       "\n",
       "                   subscription_fee subscription_type  month_price  \n",
       "month_num user_id                                                   \n",
       "1         1                     199             ultra        451.0  \n",
       "          3                     199             ultra        277.0  \n",
       "          5                     199             ultra        277.0  \n",
       "          7                     199             ultra        367.0  \n",
       "          12                    199             ultra        397.0  \n",
       "...                             ...               ...          ...  \n",
       "12        1525                    0              free        322.0  \n",
       "          1526                    0              free        234.0  \n",
       "          1528                    0              free        138.0  \n",
       "          1532                    0              free        536.0  \n",
       "          1534                    0              free        178.0  \n",
       "\n",
       "[11331 rows x 8 columns]"
      ]
     },
     "metadata": {},
     "output_type": "display_data"
    }
   ],
   "source": [
    "\n",
    "go_fast_agg['month_price'] = ((go_fast_agg['start_ride_price'] * go_fast_agg['ride']) + go_fast_agg['minute_price'] * go_fast_agg['duration']) + go_fast_agg['subscription_fee']\n",
    "\n",
    "display(go_fast_agg.describe())\n",
    "display(go_fast_agg)"
   ]
  },
  {
   "cell_type": "markdown",
   "id": "41545ac0",
   "metadata": {},
   "source": [
    "**ПРОВЕРКА ГИПОТЕЗ**"
   ]
  },
  {
   "cell_type": "markdown",
   "id": "f117675c",
   "metadata": {},
   "source": [
    "**Нулевая гипотеза:** Продолжительность поездок пользователей с подпиской равно продолжительности поездок пользователей без подписки.\n",
    "\n",
    "**Альтернативная гипотеза:** Продолжительность поездок с подпиской больше, чем без подписки"
   ]
  },
  {
   "cell_type": "code",
   "execution_count": 23,
   "id": "23ea867b",
   "metadata": {},
   "outputs": [
    {
     "name": "stdout",
     "output_type": "stream",
     "text": [
      "p-значение: 1.2804098316645618e-34\n",
      "Отвергаем нулевую гипотезу\n"
     ]
    }
   ],
   "source": [
    "alpha = 0.05\n",
    "results = st.ttest_ind(go_fast_ultra['duration'], go_fast_free['duration'], alternative = 'greater')\n",
    "print('p-значение:', results.pvalue)\n",
    "if (results.pvalue < alpha):\n",
    "    print('Отвергаем нулевую гипотезу')\n",
    "else:\n",
    "    print('Не отвергаем нулевую гипотезу') "
   ]
  },
  {
   "cell_type": "markdown",
   "id": "31d333c0",
   "metadata": {},
   "source": [
    "\n",
    "    Отвергаем нулевую гипотезу. Действительно продолжительность поездок с подпиской больше, чем без нее."
   ]
  },
  {
   "cell_type": "markdown",
   "id": "a606a9fd",
   "metadata": {},
   "source": [
    "\n",
    "**Нулевая гипотеза** Расстояние за одну поездку пользователей с подпиской равно 3130 метров.\n",
    "\n",
    "**Альтернативная гипотеза** Расстояние за одну поездку пользователей с подпиской больше 3130 метров.\n"
   ]
  },
  {
   "cell_type": "code",
   "execution_count": 24,
   "id": "c574a91b",
   "metadata": {},
   "outputs": [
    {
     "name": "stdout",
     "output_type": "stream",
     "text": [
      "Не отвергаем нулевую гипотезу\n",
      "p-значение: 1.0\n"
     ]
    }
   ],
   "source": [
    "distance_ultra = go_fast_ultra['distance']\n",
    "distance_value = 3130\n",
    "alpha = 0.05\n",
    "results_1 = st.ttest_1samp(distance_ultra, distance_value, alternative = 'greater')\n",
    "if (results_1.pvalue < alpha):\n",
    "    print('Отвергаем нулевую гипотезу')\n",
    "else:\n",
    "    print('Не отвергаем нулевую гипотезу') \n",
    "print('p-значение:', results_1.pvalue)"
   ]
  },
  {
   "cell_type": "markdown",
   "id": "170c0635",
   "metadata": {},
   "source": [
    "    Мы не можем отвергать нулевую гипотезу, поэтому можем сделать вывод, что дальность поездки пользователей с подпиской равна 3130 мтеров."
   ]
  },
  {
   "cell_type": "markdown",
   "id": "d506518e",
   "metadata": {},
   "source": [
    " \n",
    "\n",
    "**Нулевая гипотеза** Помесячная выручка от пользователей с подпиской равна помесячной выручке пользователей без нее.\n",
    "\n",
    "**Альтернативная гипотеза** Помесячная выручка от пользователей с подпиской по месяцам выше, чем выручка от пользователей без подписки."
   ]
  },
  {
   "cell_type": "code",
   "execution_count": 31,
   "id": "28a28297",
   "metadata": {},
   "outputs": [
    {
     "name": "stdout",
     "output_type": "stream",
     "text": [
      "Не отвергаем нулевую гипотезу\n",
      "p-значение: 1.0\n"
     ]
    }
   ],
   "source": [
    "ultra = go_fast_agg[go_fast_agg['subscription_type'] == 'ultra']\n",
    "free = go_fast_agg[go_fast_agg['subscription_type'] == 'free']\n",
    "alpha = 0.05\n",
    "results_2 = st.ttest_ind(ultra['month_price'], free['month_price'], alternative = 'greater')\n",
    "if results_2.pvalue < alpha:\n",
    "    print('Отвергаем нулевую гипотезу')\n",
    "else:\n",
    "    print('Не отвергаем нулевую гипотезу') \n",
    "print('p-значение:', results_2.pvalue)"
   ]
  },
  {
   "cell_type": "markdown",
   "id": "2a840fd7",
   "metadata": {},
   "source": [
    "    Нулевую гипотезу не отвергаем. Действительно, помесячная выручка от пользователей с подпиской равна помесячной выручке пользователей без нее."
   ]
  },
  {
   "cell_type": "markdown",
   "id": "673ab0f3",
   "metadata": {},
   "source": [
    "\n",
    "\n",
    "**Нулевая гипотеза** Число обращений в техподдержку осталось прежним.\n",
    "\n",
    "**Альтернативная гипотеза** С обновлением сервера число в техподдержку сократилось.\n",
    "\n",
    "**Вывод** Это односторонняя гипотеза, так как ожидается изменения в одну сторону. Здесь понадобиться Т-тест со сравнением двух зависимых выборок. st.ttest_ind."
   ]
  },
  {
   "cell_type": "markdown",
   "id": "1294a0c1",
   "metadata": {},
   "source": [
    "**ОБЩИЙ ВЫВОД**\n",
    "\n",
    "\n",
    "**Предобработка данных** \n",
    "\n",
    "    -Проверила наличие пропусков, их не обнаружилось\n",
    "\n",
    "    -Проверила наличие дубликатов - удалила явные дубликаты\n",
    "\n",
    "    -Поменяла тип данных, где это требовалось\n",
    "\n",
    "    -Создала столбец с номером месяца\n",
    "\n",
    "**Исследовательский анализ** \n",
    "\n",
    "Описала и визуализировала общую информацию о пользователях и поездках такую как:\n",
    "\n",
    "    -Частота встречаемости городов\n",
    "\n",
    "    -Соотношение пользователей с подпиской и без подписки\n",
    "\n",
    "    -Возраст пользователей\n",
    "\n",
    "    -Расстояние, которое пользователь преодолел за одну поездку\n",
    "\n",
    "    -Продолжительность поездок\n",
    "\n",
    "**Объединение данных**\n",
    "\n",
    "    -Объединила данные о пользователях, поездках и подписках в один датафрейм методом merge().\n",
    "\n",
    "    -Создала ещё два датафрейма из датафрейма:\n",
    "    c данными о пользователях без подписки;\n",
    "    с данными о пользователях с подпиской.\n",
    "    -Визуализировала информацию о расстоянии и времени поездок для пользователей обеих категорий.\n",
    "\n",
    "**Проверка гипотез**\n",
    "\n",
    "    Проверила три гипотезы, где выявила, что :\n",
    "\n",
    "    -Продолжительность поездок у пользователей с подпиской больше, чем у пользователей без подписки.\n",
    "\n",
    "    -Расстояние за одну поездку пользователей с подпиской в среднем 3130 метров.\n",
    "\n",
    "    -Помесячная выручка от пользователей с подпиской равна помесячной выручке пользователей без нее.\n",
    "\n",
    "\n",
    "**ВЫВОД**\n",
    "\n",
    "    Из исследования можем сделать следующие выводы:\n",
    "    \n",
    "    - пользователей без подписки больше на 20 процентов, чем пользователей с подпиской, разница небольшая, соотвественно множество людей находят для себя условия подписки выгодными.\n",
    "    \n",
    "    - Больше помесячной выручки приходится от пользователей без подписки, что можно объяснить ценой за старт за каждую поездку - 50р. \n",
    "    - Из всего списка городов по использованию проката -  Москва на последнем месте. Возможно, это по причине наличия множества других сервисов самокатов. Но Москва большой город, можно начать развиваться и там,  вовлечь больше пользователей, возможно путем промокодов, либо скидкой на стартовую стоимость.\n",
    "\n",
    "\n"
   ]
  }
 ],
 "metadata": {
  "ExecuteTimeLog": [
   {
    "duration": 65,
    "start_time": "2023-07-11T07:28:39.192Z"
   },
   {
    "duration": 440,
    "start_time": "2023-07-11T07:28:46.573Z"
   },
   {
    "duration": 315,
    "start_time": "2023-07-11T07:28:48.579Z"
   },
   {
    "duration": 92,
    "start_time": "2023-07-11T07:30:21.293Z"
   },
   {
    "duration": 110,
    "start_time": "2023-07-11T07:31:01.893Z"
   },
   {
    "duration": 133,
    "start_time": "2023-07-11T07:31:07.074Z"
   },
   {
    "duration": 110,
    "start_time": "2023-07-11T07:32:09.514Z"
   },
   {
    "duration": 30,
    "start_time": "2023-07-11T07:41:13.553Z"
   },
   {
    "duration": 84,
    "start_time": "2023-07-11T07:41:45.197Z"
   },
   {
    "duration": 61,
    "start_time": "2023-07-11T08:18:09.152Z"
   },
   {
    "duration": 39,
    "start_time": "2023-07-11T08:19:39.887Z"
   },
   {
    "duration": 68,
    "start_time": "2023-07-11T08:20:24.521Z"
   },
   {
    "duration": 33,
    "start_time": "2023-07-11T08:23:06.409Z"
   },
   {
    "duration": 91,
    "start_time": "2023-07-11T08:23:28.694Z"
   },
   {
    "duration": 48,
    "start_time": "2023-07-11T08:36:09.759Z"
   },
   {
    "duration": 123,
    "start_time": "2023-07-11T08:37:37.269Z"
   },
   {
    "duration": 114,
    "start_time": "2023-07-11T08:38:29.799Z"
   },
   {
    "duration": 47,
    "start_time": "2023-07-11T08:38:40.446Z"
   },
   {
    "duration": 51,
    "start_time": "2023-07-11T08:38:58.528Z"
   },
   {
    "duration": 52,
    "start_time": "2023-07-11T08:40:24.398Z"
   },
   {
    "duration": 55,
    "start_time": "2023-07-11T08:41:05.802Z"
   },
   {
    "duration": 57,
    "start_time": "2023-07-11T08:41:47.617Z"
   },
   {
    "duration": 415,
    "start_time": "2023-07-11T08:41:51.656Z"
   },
   {
    "duration": 120,
    "start_time": "2023-07-11T08:41:56.313Z"
   },
   {
    "duration": 71,
    "start_time": "2023-07-11T08:42:33.870Z"
   },
   {
    "duration": 127,
    "start_time": "2023-07-11T08:44:36.313Z"
   },
   {
    "duration": 68,
    "start_time": "2023-07-11T08:52:08.186Z"
   },
   {
    "duration": 25,
    "start_time": "2023-07-11T08:52:57.480Z"
   },
   {
    "duration": 53,
    "start_time": "2023-07-11T08:53:01.472Z"
   },
   {
    "duration": 73,
    "start_time": "2023-07-11T08:55:22.335Z"
   },
   {
    "duration": 393,
    "start_time": "2023-07-11T08:56:43.184Z"
   },
   {
    "duration": 492,
    "start_time": "2023-07-11T08:57:20.673Z"
   },
   {
    "duration": 167,
    "start_time": "2023-07-11T08:57:23.542Z"
   },
   {
    "duration": 30,
    "start_time": "2023-07-11T08:57:29.172Z"
   },
   {
    "duration": 165,
    "start_time": "2023-07-11T08:57:31.340Z"
   },
   {
    "duration": 252,
    "start_time": "2023-07-11T08:57:35.717Z"
   },
   {
    "duration": 296,
    "start_time": "2023-07-11T08:58:45.582Z"
   },
   {
    "duration": 244,
    "start_time": "2023-07-11T08:59:41.876Z"
   },
   {
    "duration": 246,
    "start_time": "2023-07-11T09:01:20.324Z"
   },
   {
    "duration": 139,
    "start_time": "2023-07-11T09:09:35.803Z"
   },
   {
    "duration": 240,
    "start_time": "2023-07-11T09:09:47.610Z"
   },
   {
    "duration": 221,
    "start_time": "2023-07-11T09:10:02.955Z"
   },
   {
    "duration": 187,
    "start_time": "2023-07-11T09:11:34.115Z"
   },
   {
    "duration": 221,
    "start_time": "2023-07-11T09:11:42.483Z"
   },
   {
    "duration": 265,
    "start_time": "2023-07-11T09:11:51.279Z"
   },
   {
    "duration": 1592,
    "start_time": "2023-07-11T09:11:59.735Z"
   },
   {
    "duration": 218,
    "start_time": "2023-07-11T09:12:08.422Z"
   },
   {
    "duration": 226,
    "start_time": "2023-07-11T09:14:35.085Z"
   },
   {
    "duration": 226,
    "start_time": "2023-07-11T09:14:49.542Z"
   },
   {
    "duration": 213,
    "start_time": "2023-07-11T09:15:31.156Z"
   },
   {
    "duration": 272,
    "start_time": "2023-07-11T09:20:03.123Z"
   },
   {
    "duration": 125,
    "start_time": "2023-07-11T09:21:23.510Z"
   },
   {
    "duration": 155,
    "start_time": "2023-07-11T09:21:38.024Z"
   },
   {
    "duration": 121,
    "start_time": "2023-07-11T09:21:42.346Z"
   },
   {
    "duration": 145,
    "start_time": "2023-07-11T09:21:48.271Z"
   },
   {
    "duration": 131,
    "start_time": "2023-07-11T09:22:30.133Z"
   },
   {
    "duration": 253,
    "start_time": "2023-07-11T09:25:21.837Z"
   },
   {
    "duration": 14,
    "start_time": "2023-07-11T09:26:04.757Z"
   },
   {
    "duration": 215,
    "start_time": "2023-07-11T09:26:18.809Z"
   },
   {
    "duration": 232,
    "start_time": "2023-07-11T09:27:02.206Z"
   },
   {
    "duration": 343,
    "start_time": "2023-07-11T09:27:09.004Z"
   },
   {
    "duration": 279,
    "start_time": "2023-07-11T09:27:49.104Z"
   },
   {
    "duration": 382,
    "start_time": "2023-07-11T09:28:18.954Z"
   },
   {
    "duration": 266,
    "start_time": "2023-07-11T09:32:34.616Z"
   },
   {
    "duration": 303,
    "start_time": "2023-07-11T09:33:05.903Z"
   },
   {
    "duration": 259,
    "start_time": "2023-07-11T09:46:37.507Z"
   },
   {
    "duration": 60,
    "start_time": "2023-07-11T11:17:02.707Z"
   },
   {
    "duration": 448,
    "start_time": "2023-07-11T11:17:13.122Z"
   },
   {
    "duration": 227,
    "start_time": "2023-07-11T11:17:15.751Z"
   },
   {
    "duration": 18,
    "start_time": "2023-07-11T11:17:20.552Z"
   },
   {
    "duration": 80,
    "start_time": "2023-07-11T11:17:22.795Z"
   },
   {
    "duration": 485,
    "start_time": "2023-07-11T11:17:26.802Z"
   },
   {
    "duration": 112,
    "start_time": "2023-07-11T11:17:30.999Z"
   },
   {
    "duration": 275,
    "start_time": "2023-07-11T11:17:36.214Z"
   },
   {
    "duration": 215,
    "start_time": "2023-07-11T11:17:40.480Z"
   },
   {
    "duration": 231,
    "start_time": "2023-07-11T11:19:08.443Z"
   },
   {
    "duration": 224,
    "start_time": "2023-07-11T11:19:27.385Z"
   },
   {
    "duration": 26,
    "start_time": "2023-07-11T11:20:29.815Z"
   },
   {
    "duration": 232,
    "start_time": "2023-07-11T11:20:52.111Z"
   },
   {
    "duration": 228,
    "start_time": "2023-07-11T11:21:24.953Z"
   },
   {
    "duration": 24,
    "start_time": "2023-07-11T11:37:29.698Z"
   },
   {
    "duration": 24,
    "start_time": "2023-07-11T11:38:11.703Z"
   },
   {
    "duration": 11,
    "start_time": "2023-07-11T11:40:58.344Z"
   },
   {
    "duration": 47,
    "start_time": "2023-07-11T11:43:11.994Z"
   },
   {
    "duration": 92,
    "start_time": "2023-07-11T11:43:18.969Z"
   },
   {
    "duration": 39,
    "start_time": "2023-07-11T11:46:58.895Z"
   },
   {
    "duration": 12,
    "start_time": "2023-07-11T11:49:18.036Z"
   },
   {
    "duration": 27,
    "start_time": "2023-07-11T11:49:25.268Z"
   },
   {
    "duration": 28,
    "start_time": "2023-07-11T11:50:06.506Z"
   },
   {
    "duration": 32,
    "start_time": "2023-07-11T11:50:13.697Z"
   },
   {
    "duration": 8,
    "start_time": "2023-07-11T11:56:47.062Z"
   },
   {
    "duration": 19,
    "start_time": "2023-07-11T11:56:56.539Z"
   },
   {
    "duration": 19,
    "start_time": "2023-07-11T11:57:34.459Z"
   },
   {
    "duration": 301,
    "start_time": "2023-07-11T12:00:48.561Z"
   },
   {
    "duration": 244,
    "start_time": "2023-07-11T12:02:21.666Z"
   },
   {
    "duration": 249,
    "start_time": "2023-07-11T12:05:05.324Z"
   },
   {
    "duration": 228,
    "start_time": "2023-07-11T12:05:25.866Z"
   },
   {
    "duration": 220,
    "start_time": "2023-07-11T12:06:03.217Z"
   },
   {
    "duration": 3,
    "start_time": "2023-07-11T12:34:55.494Z"
   },
   {
    "duration": 14,
    "start_time": "2023-07-11T13:25:44.775Z"
   },
   {
    "duration": 19,
    "start_time": "2023-07-11T13:26:34.746Z"
   },
   {
    "duration": 23,
    "start_time": "2023-07-11T13:27:37.632Z"
   },
   {
    "duration": 8,
    "start_time": "2023-07-12T13:05:10.829Z"
   },
   {
    "duration": 45,
    "start_time": "2023-07-12T13:05:16.762Z"
   },
   {
    "duration": 479,
    "start_time": "2023-07-12T13:05:26.666Z"
   },
   {
    "duration": 240,
    "start_time": "2023-07-12T13:05:28.905Z"
   },
   {
    "duration": 20,
    "start_time": "2023-07-12T13:05:33.064Z"
   },
   {
    "duration": 82,
    "start_time": "2023-07-12T13:05:34.860Z"
   },
   {
    "duration": 497,
    "start_time": "2023-07-12T13:05:38.705Z"
   },
   {
    "duration": 104,
    "start_time": "2023-07-12T13:05:45.097Z"
   },
   {
    "duration": 322,
    "start_time": "2023-07-12T13:05:54.029Z"
   },
   {
    "duration": 264,
    "start_time": "2023-07-12T13:05:57.628Z"
   },
   {
    "duration": 232,
    "start_time": "2023-07-12T13:06:00.418Z"
   },
   {
    "duration": 33,
    "start_time": "2023-07-12T13:06:03.269Z"
   },
   {
    "duration": 19,
    "start_time": "2023-07-12T13:06:05.962Z"
   },
   {
    "duration": 17,
    "start_time": "2023-07-12T13:06:08.757Z"
   },
   {
    "duration": 228,
    "start_time": "2023-07-12T13:06:12.357Z"
   },
   {
    "duration": 225,
    "start_time": "2023-07-12T13:06:15.501Z"
   },
   {
    "duration": 208,
    "start_time": "2023-07-12T13:06:18.709Z"
   },
   {
    "duration": 254,
    "start_time": "2023-07-12T13:06:21.718Z"
   },
   {
    "duration": 25,
    "start_time": "2023-07-12T13:07:28.953Z"
   },
   {
    "duration": 47,
    "start_time": "2023-07-12T13:08:25.663Z"
   },
   {
    "duration": 14,
    "start_time": "2023-07-12T13:09:41.194Z"
   },
   {
    "duration": 6,
    "start_time": "2023-07-12T13:18:09.366Z"
   },
   {
    "duration": 26,
    "start_time": "2023-07-12T13:18:24.475Z"
   },
   {
    "duration": 121,
    "start_time": "2023-07-12T13:19:20.567Z"
   },
   {
    "duration": 3,
    "start_time": "2023-07-12T13:20:13.781Z"
   },
   {
    "duration": 38,
    "start_time": "2023-07-12T13:20:18.763Z"
   },
   {
    "duration": 37,
    "start_time": "2023-07-12T13:21:34.387Z"
   },
   {
    "duration": 34,
    "start_time": "2023-07-12T13:22:17.695Z"
   },
   {
    "duration": 51,
    "start_time": "2023-07-12T13:23:35.408Z"
   },
   {
    "duration": 46,
    "start_time": "2023-07-12T13:23:52.382Z"
   },
   {
    "duration": 488,
    "start_time": "2023-07-13T06:43:22.453Z"
   },
   {
    "duration": 343,
    "start_time": "2023-07-13T06:43:24.727Z"
   },
   {
    "duration": 20,
    "start_time": "2023-07-13T06:43:29.721Z"
   },
   {
    "duration": 95,
    "start_time": "2023-07-13T06:43:35.892Z"
   },
   {
    "duration": 517,
    "start_time": "2023-07-13T06:43:41.291Z"
   },
   {
    "duration": 115,
    "start_time": "2023-07-13T06:43:45.769Z"
   },
   {
    "duration": 315,
    "start_time": "2023-07-13T06:43:50.322Z"
   },
   {
    "duration": 283,
    "start_time": "2023-07-13T06:43:53.996Z"
   },
   {
    "duration": 230,
    "start_time": "2023-07-13T06:43:57.615Z"
   },
   {
    "duration": 31,
    "start_time": "2023-07-13T06:44:03.435Z"
   },
   {
    "duration": 24,
    "start_time": "2023-07-13T06:44:07.801Z"
   },
   {
    "duration": 21,
    "start_time": "2023-07-13T06:44:11.336Z"
   },
   {
    "duration": 224,
    "start_time": "2023-07-13T06:44:14.792Z"
   },
   {
    "duration": 230,
    "start_time": "2023-07-13T06:44:18.356Z"
   },
   {
    "duration": 213,
    "start_time": "2023-07-13T06:44:21.471Z"
   },
   {
    "duration": 263,
    "start_time": "2023-07-13T06:44:24.630Z"
   },
   {
    "duration": 26,
    "start_time": "2023-07-13T06:44:29.211Z"
   },
   {
    "duration": 146,
    "start_time": "2023-07-13T06:44:31.828Z"
   },
   {
    "duration": 462,
    "start_time": "2023-07-13T07:02:02.817Z"
   },
   {
    "duration": 9,
    "start_time": "2023-07-13T07:17:03.249Z"
   },
   {
    "duration": 9,
    "start_time": "2023-07-13T07:20:24.056Z"
   },
   {
    "duration": 8,
    "start_time": "2023-07-13T07:20:33.125Z"
   },
   {
    "duration": 5,
    "start_time": "2023-07-13T07:45:36.817Z"
   },
   {
    "duration": 5,
    "start_time": "2023-07-13T07:46:23.956Z"
   },
   {
    "duration": 8,
    "start_time": "2023-07-13T07:46:48.067Z"
   },
   {
    "duration": 8,
    "start_time": "2023-07-13T07:47:05.787Z"
   },
   {
    "duration": 110,
    "start_time": "2023-07-13T07:58:44.421Z"
   },
   {
    "duration": 19,
    "start_time": "2023-07-13T07:59:57.900Z"
   },
   {
    "duration": 18,
    "start_time": "2023-07-13T08:00:27.700Z"
   },
   {
    "duration": 15,
    "start_time": "2023-07-13T08:01:23.624Z"
   },
   {
    "duration": 16,
    "start_time": "2023-07-13T08:01:26.524Z"
   },
   {
    "duration": 875,
    "start_time": "2023-07-13T08:01:48.497Z"
   },
   {
    "duration": 118,
    "start_time": "2023-07-13T08:01:51.630Z"
   },
   {
    "duration": 21,
    "start_time": "2023-07-13T08:01:56.352Z"
   },
   {
    "duration": 50,
    "start_time": "2023-07-13T08:01:58.425Z"
   },
   {
    "duration": 411,
    "start_time": "2023-07-13T08:02:03.057Z"
   },
   {
    "duration": 120,
    "start_time": "2023-07-13T08:02:07.030Z"
   },
   {
    "duration": 235,
    "start_time": "2023-07-13T08:02:09.035Z"
   },
   {
    "duration": 238,
    "start_time": "2023-07-13T08:02:11.689Z"
   },
   {
    "duration": 288,
    "start_time": "2023-07-13T08:02:13.869Z"
   },
   {
    "duration": 34,
    "start_time": "2023-07-13T08:02:20.120Z"
   },
   {
    "duration": 24,
    "start_time": "2023-07-13T08:02:21.632Z"
   },
   {
    "duration": 24,
    "start_time": "2023-07-13T08:02:22.853Z"
   },
   {
    "duration": 259,
    "start_time": "2023-07-13T08:02:23.824Z"
   },
   {
    "duration": 311,
    "start_time": "2023-07-13T08:02:24.990Z"
   },
   {
    "duration": 227,
    "start_time": "2023-07-13T08:02:26.822Z"
   },
   {
    "duration": 237,
    "start_time": "2023-07-13T08:02:28.560Z"
   },
   {
    "duration": 24,
    "start_time": "2023-07-13T08:02:36.635Z"
   },
   {
    "duration": 51,
    "start_time": "2023-07-13T08:02:38.325Z"
   },
   {
    "duration": 7,
    "start_time": "2023-07-13T08:02:43.360Z"
   },
   {
    "duration": 8,
    "start_time": "2023-07-13T08:02:45.499Z"
   },
   {
    "duration": 104,
    "start_time": "2023-07-13T08:02:49.740Z"
   },
   {
    "duration": 15,
    "start_time": "2023-07-13T08:04:06.606Z"
   },
   {
    "duration": 1252,
    "start_time": "2023-07-13T08:06:49.170Z"
   },
   {
    "duration": 31,
    "start_time": "2023-07-13T08:09:23.940Z"
   },
   {
    "duration": 1124,
    "start_time": "2023-07-13T08:09:33.697Z"
   },
   {
    "duration": 56,
    "start_time": "2023-07-13T08:09:49.115Z"
   },
   {
    "duration": 20,
    "start_time": "2023-07-13T08:09:58.532Z"
   },
   {
    "duration": 1242,
    "start_time": "2023-07-13T08:30:29.364Z"
   },
   {
    "duration": 18,
    "start_time": "2023-07-13T08:31:20.650Z"
   },
   {
    "duration": 21,
    "start_time": "2023-07-13T09:37:02.636Z"
   },
   {
    "duration": 145,
    "start_time": "2023-07-13T09:38:43.668Z"
   },
   {
    "duration": 334,
    "start_time": "2023-07-13T09:38:54.790Z"
   },
   {
    "duration": 950,
    "start_time": "2023-07-13T09:52:49.822Z"
   },
   {
    "duration": 116,
    "start_time": "2023-07-13T09:52:50.775Z"
   },
   {
    "duration": 19,
    "start_time": "2023-07-13T09:52:50.893Z"
   },
   {
    "duration": 79,
    "start_time": "2023-07-13T09:52:50.914Z"
   },
   {
    "duration": 422,
    "start_time": "2023-07-13T09:52:50.995Z"
   },
   {
    "duration": 129,
    "start_time": "2023-07-13T09:52:51.418Z"
   },
   {
    "duration": 231,
    "start_time": "2023-07-13T09:52:51.558Z"
   },
   {
    "duration": 235,
    "start_time": "2023-07-13T09:52:51.791Z"
   },
   {
    "duration": 241,
    "start_time": "2023-07-13T09:52:52.029Z"
   },
   {
    "duration": 31,
    "start_time": "2023-07-13T09:52:52.272Z"
   },
   {
    "duration": 20,
    "start_time": "2023-07-13T09:52:52.305Z"
   },
   {
    "duration": 44,
    "start_time": "2023-07-13T09:52:52.327Z"
   },
   {
    "duration": 237,
    "start_time": "2023-07-13T09:52:52.373Z"
   },
   {
    "duration": 305,
    "start_time": "2023-07-13T09:52:52.613Z"
   },
   {
    "duration": 235,
    "start_time": "2023-07-13T09:52:52.919Z"
   },
   {
    "duration": 243,
    "start_time": "2023-07-13T09:52:53.159Z"
   },
   {
    "duration": 31,
    "start_time": "2023-07-13T09:52:53.404Z"
   },
   {
    "duration": 62,
    "start_time": "2023-07-13T09:52:53.437Z"
   },
   {
    "duration": 7,
    "start_time": "2023-07-13T09:52:53.501Z"
   },
   {
    "duration": 6,
    "start_time": "2023-07-13T09:52:53.510Z"
   },
   {
    "duration": 46,
    "start_time": "2023-07-13T09:52:53.518Z"
   },
   {
    "duration": 918,
    "start_time": "2023-07-13T10:47:49.107Z"
   },
   {
    "duration": 265,
    "start_time": "2023-07-13T10:47:50.027Z"
   },
   {
    "duration": 27,
    "start_time": "2023-07-13T10:47:50.294Z"
   },
   {
    "duration": 51,
    "start_time": "2023-07-13T10:47:50.323Z"
   },
   {
    "duration": 490,
    "start_time": "2023-07-13T10:47:50.401Z"
   },
   {
    "duration": 146,
    "start_time": "2023-07-13T10:47:50.893Z"
   },
   {
    "duration": 262,
    "start_time": "2023-07-13T10:47:51.041Z"
   },
   {
    "duration": 252,
    "start_time": "2023-07-13T10:47:51.304Z"
   },
   {
    "duration": 260,
    "start_time": "2023-07-13T10:47:51.558Z"
   },
   {
    "duration": 46,
    "start_time": "2023-07-13T10:47:51.819Z"
   },
   {
    "duration": 40,
    "start_time": "2023-07-13T10:47:51.867Z"
   },
   {
    "duration": 21,
    "start_time": "2023-07-13T10:47:51.909Z"
   },
   {
    "duration": 254,
    "start_time": "2023-07-13T10:47:51.931Z"
   },
   {
    "duration": 326,
    "start_time": "2023-07-13T10:47:52.187Z"
   },
   {
    "duration": 229,
    "start_time": "2023-07-13T10:47:52.514Z"
   },
   {
    "duration": 267,
    "start_time": "2023-07-13T10:47:52.745Z"
   },
   {
    "duration": 31,
    "start_time": "2023-07-13T10:47:53.014Z"
   },
   {
    "duration": 72,
    "start_time": "2023-07-13T10:47:53.048Z"
   },
   {
    "duration": 10,
    "start_time": "2023-07-13T10:47:53.122Z"
   },
   {
    "duration": 13,
    "start_time": "2023-07-13T10:47:53.134Z"
   },
   {
    "duration": 58,
    "start_time": "2023-07-13T10:47:53.150Z"
   },
   {
    "duration": 989,
    "start_time": "2023-07-13T11:31:06.748Z"
   },
   {
    "duration": 203,
    "start_time": "2023-07-13T11:31:09.815Z"
   },
   {
    "duration": 29,
    "start_time": "2023-07-13T11:31:12.332Z"
   },
   {
    "duration": 44,
    "start_time": "2023-07-13T11:31:15.658Z"
   },
   {
    "duration": 535,
    "start_time": "2023-07-13T11:40:53.627Z"
   },
   {
    "duration": 258,
    "start_time": "2023-07-13T11:41:55.135Z"
   },
   {
    "duration": 150,
    "start_time": "2023-07-13T11:42:23.067Z"
   },
   {
    "duration": 212,
    "start_time": "2023-07-13T11:42:30.229Z"
   },
   {
    "duration": 268,
    "start_time": "2023-07-13T11:43:00.718Z"
   },
   {
    "duration": 198,
    "start_time": "2023-07-13T11:43:15.425Z"
   },
   {
    "duration": 25,
    "start_time": "2023-07-13T11:44:00.301Z"
   },
   {
    "duration": 39,
    "start_time": "2023-07-13T11:44:37.854Z"
   },
   {
    "duration": 932,
    "start_time": "2023-07-14T08:21:15.096Z"
   },
   {
    "duration": 195,
    "start_time": "2023-07-14T08:21:26.713Z"
   },
   {
    "duration": 26,
    "start_time": "2023-07-14T08:21:29.030Z"
   },
   {
    "duration": 42,
    "start_time": "2023-07-14T08:21:34.756Z"
   },
   {
    "duration": 18,
    "start_time": "2023-07-14T08:21:47.519Z"
   },
   {
    "duration": 44,
    "start_time": "2023-07-14T08:21:56.728Z"
   },
   {
    "duration": 82,
    "start_time": "2023-07-14T08:22:50.072Z"
   },
   {
    "duration": 7,
    "start_time": "2023-07-14T08:23:18.051Z"
   },
   {
    "duration": 12,
    "start_time": "2023-07-14T08:23:26.608Z"
   },
   {
    "duration": 13,
    "start_time": "2023-07-14T08:23:45.471Z"
   },
   {
    "duration": 12,
    "start_time": "2023-07-14T08:24:32.976Z"
   },
   {
    "duration": 8,
    "start_time": "2023-07-14T08:24:44.133Z"
   },
   {
    "duration": 10,
    "start_time": "2023-07-14T08:25:08.496Z"
   },
   {
    "duration": 19,
    "start_time": "2023-07-14T08:25:27.365Z"
   },
   {
    "duration": 14,
    "start_time": "2023-07-14T08:25:37.335Z"
   },
   {
    "duration": 21,
    "start_time": "2023-07-14T08:26:08.265Z"
   },
   {
    "duration": 215,
    "start_time": "2023-07-14T08:27:56.003Z"
   },
   {
    "duration": 212,
    "start_time": "2023-07-14T08:28:00.285Z"
   },
   {
    "duration": 66,
    "start_time": "2023-07-14T08:35:24.887Z"
   },
   {
    "duration": 18,
    "start_time": "2023-07-14T08:35:28.750Z"
   },
   {
    "duration": 174,
    "start_time": "2023-07-14T08:35:40.043Z"
   },
   {
    "duration": 15,
    "start_time": "2023-07-14T08:35:42.572Z"
   },
   {
    "duration": 66,
    "start_time": "2023-07-14T08:35:48.059Z"
   },
   {
    "duration": 16,
    "start_time": "2023-07-14T08:35:50.709Z"
   },
   {
    "duration": 359,
    "start_time": "2023-07-14T08:37:12.018Z"
   },
   {
    "duration": 192,
    "start_time": "2023-07-14T08:38:11.015Z"
   },
   {
    "duration": 167,
    "start_time": "2023-07-14T08:39:35.760Z"
   },
   {
    "duration": 169,
    "start_time": "2023-07-14T08:40:09.476Z"
   },
   {
    "duration": 171,
    "start_time": "2023-07-14T08:40:17.077Z"
   },
   {
    "duration": 179,
    "start_time": "2023-07-14T08:40:32.005Z"
   },
   {
    "duration": 199,
    "start_time": "2023-07-14T08:44:10.226Z"
   },
   {
    "duration": 206,
    "start_time": "2023-07-14T08:44:16.605Z"
   },
   {
    "duration": 208,
    "start_time": "2023-07-14T08:44:25.609Z"
   },
   {
    "duration": 329,
    "start_time": "2023-07-14T08:45:00.154Z"
   },
   {
    "duration": 201,
    "start_time": "2023-07-14T08:45:09.153Z"
   },
   {
    "duration": 225,
    "start_time": "2023-07-14T08:45:53.147Z"
   },
   {
    "duration": 227,
    "start_time": "2023-07-14T08:46:00.909Z"
   },
   {
    "duration": 209,
    "start_time": "2023-07-14T08:46:07.992Z"
   },
   {
    "duration": 227,
    "start_time": "2023-07-14T08:46:37.978Z"
   },
   {
    "duration": 229,
    "start_time": "2023-07-14T08:46:48.033Z"
   },
   {
    "duration": 252,
    "start_time": "2023-07-14T08:46:58.089Z"
   },
   {
    "duration": 17,
    "start_time": "2023-07-14T08:50:54.625Z"
   },
   {
    "duration": 137,
    "start_time": "2023-07-14T08:51:06.299Z"
   },
   {
    "duration": 10,
    "start_time": "2023-07-14T08:51:16.684Z"
   },
   {
    "duration": 262,
    "start_time": "2023-07-14T08:51:25.313Z"
   },
   {
    "duration": 230,
    "start_time": "2023-07-14T08:53:30.164Z"
   },
   {
    "duration": 39,
    "start_time": "2023-07-14T08:54:45.828Z"
   },
   {
    "duration": 21,
    "start_time": "2023-07-14T08:55:03.157Z"
   },
   {
    "duration": 29,
    "start_time": "2023-07-14T08:55:14.031Z"
   },
   {
    "duration": 342,
    "start_time": "2023-07-14T08:55:53.951Z"
   },
   {
    "duration": 205,
    "start_time": "2023-07-14T08:56:04.461Z"
   },
   {
    "duration": 3,
    "start_time": "2023-07-14T08:57:10.007Z"
   },
   {
    "duration": 214,
    "start_time": "2023-07-14T08:57:18.283Z"
   },
   {
    "duration": 16,
    "start_time": "2023-07-14T08:57:33.702Z"
   },
   {
    "duration": 253,
    "start_time": "2023-07-14T08:57:47.645Z"
   },
   {
    "duration": 215,
    "start_time": "2023-07-14T08:58:18.053Z"
   },
   {
    "duration": 235,
    "start_time": "2023-07-14T08:58:31.838Z"
   },
   {
    "duration": 294,
    "start_time": "2023-07-14T08:59:14.598Z"
   },
   {
    "duration": 137,
    "start_time": "2023-07-14T09:00:33.159Z"
   },
   {
    "duration": 237,
    "start_time": "2023-07-14T09:01:11.274Z"
   },
   {
    "duration": 145,
    "start_time": "2023-07-14T09:01:19.925Z"
   },
   {
    "duration": 431,
    "start_time": "2023-07-14T09:02:03.273Z"
   },
   {
    "duration": 318,
    "start_time": "2023-07-14T09:02:36.367Z"
   },
   {
    "duration": 10,
    "start_time": "2023-07-14T09:02:56.200Z"
   },
   {
    "duration": 45,
    "start_time": "2023-07-14T09:03:38.227Z"
   },
   {
    "duration": 19,
    "start_time": "2023-07-14T09:03:40.991Z"
   },
   {
    "duration": 20,
    "start_time": "2023-07-14T09:03:41.972Z"
   },
   {
    "duration": 260,
    "start_time": "2023-07-14T09:03:44.864Z"
   },
   {
    "duration": 247,
    "start_time": "2023-07-14T09:04:25.556Z"
   },
   {
    "duration": 236,
    "start_time": "2023-07-14T09:04:39.061Z"
   },
   {
    "duration": 268,
    "start_time": "2023-07-14T09:04:53.879Z"
   },
   {
    "duration": 329,
    "start_time": "2023-07-14T09:06:49.394Z"
   },
   {
    "duration": 143,
    "start_time": "2023-07-14T09:07:21.841Z"
   },
   {
    "duration": 250,
    "start_time": "2023-07-14T09:07:42.150Z"
   },
   {
    "duration": 262,
    "start_time": "2023-07-14T09:08:19.229Z"
   },
   {
    "duration": 296,
    "start_time": "2023-07-14T09:08:37.523Z"
   },
   {
    "duration": 249,
    "start_time": "2023-07-14T09:09:06.444Z"
   },
   {
    "duration": 244,
    "start_time": "2023-07-14T09:09:46.096Z"
   },
   {
    "duration": 348,
    "start_time": "2023-07-14T09:09:58.861Z"
   },
   {
    "duration": 302,
    "start_time": "2023-07-14T09:10:14.491Z"
   },
   {
    "duration": 248,
    "start_time": "2023-07-14T09:10:50.974Z"
   },
   {
    "duration": 253,
    "start_time": "2023-07-14T09:11:09.639Z"
   },
   {
    "duration": 1659,
    "start_time": "2023-07-14T10:28:33.780Z"
   },
   {
    "duration": 214,
    "start_time": "2023-07-14T10:28:38.566Z"
   },
   {
    "duration": 35,
    "start_time": "2023-07-14T10:28:39.945Z"
   },
   {
    "duration": 36,
    "start_time": "2023-07-14T10:28:41.419Z"
   },
   {
    "duration": 30,
    "start_time": "2023-07-14T10:28:48.264Z"
   },
   {
    "duration": 58,
    "start_time": "2023-07-14T10:28:52.024Z"
   },
   {
    "duration": 31,
    "start_time": "2023-07-14T10:28:58.385Z"
   },
   {
    "duration": 294,
    "start_time": "2023-07-14T10:31:23.459Z"
   },
   {
    "duration": 176,
    "start_time": "2023-07-14T10:32:29.077Z"
   },
   {
    "duration": 284,
    "start_time": "2023-07-14T10:32:47.643Z"
   },
   {
    "duration": 171,
    "start_time": "2023-07-14T10:32:51.496Z"
   },
   {
    "duration": 324,
    "start_time": "2023-07-14T10:32:54.131Z"
   },
   {
    "duration": 300,
    "start_time": "2023-07-14T10:33:01.554Z"
   },
   {
    "duration": 13,
    "start_time": "2023-07-14T10:33:04.799Z"
   },
   {
    "duration": 52,
    "start_time": "2023-07-14T10:33:28.473Z"
   },
   {
    "duration": 48,
    "start_time": "2023-07-14T10:33:41.658Z"
   },
   {
    "duration": 39,
    "start_time": "2023-07-14T10:36:17.754Z"
   },
   {
    "duration": 52,
    "start_time": "2023-07-14T10:37:11.469Z"
   },
   {
    "duration": 58,
    "start_time": "2023-07-14T10:39:58.055Z"
   },
   {
    "duration": 106,
    "start_time": "2023-07-14T10:40:28.570Z"
   },
   {
    "duration": 46,
    "start_time": "2023-07-14T10:40:35.826Z"
   },
   {
    "duration": 52,
    "start_time": "2023-07-14T10:41:08.007Z"
   },
   {
    "duration": 96,
    "start_time": "2023-07-14T10:41:21.551Z"
   },
   {
    "duration": 130,
    "start_time": "2023-07-14T10:41:33.881Z"
   },
   {
    "duration": 314,
    "start_time": "2023-07-14T10:41:42.748Z"
   },
   {
    "duration": 127,
    "start_time": "2023-07-14T10:41:54.514Z"
   },
   {
    "duration": 41,
    "start_time": "2023-07-14T10:42:04.204Z"
   },
   {
    "duration": 50,
    "start_time": "2023-07-14T10:42:33.534Z"
   },
   {
    "duration": 53,
    "start_time": "2023-07-14T10:43:14.965Z"
   },
   {
    "duration": 54,
    "start_time": "2023-07-14T10:43:30.846Z"
   },
   {
    "duration": 283,
    "start_time": "2023-07-14T10:44:04.354Z"
   },
   {
    "duration": 60,
    "start_time": "2023-07-14T10:44:14.683Z"
   },
   {
    "duration": 134,
    "start_time": "2023-07-14T10:44:22.333Z"
   },
   {
    "duration": 60,
    "start_time": "2023-07-14T10:44:30.416Z"
   },
   {
    "duration": 49,
    "start_time": "2023-07-14T10:45:02.158Z"
   },
   {
    "duration": 59,
    "start_time": "2023-07-14T10:46:31.891Z"
   },
   {
    "duration": 54,
    "start_time": "2023-07-14T10:46:39.512Z"
   },
   {
    "duration": 54,
    "start_time": "2023-07-14T10:47:31.562Z"
   },
   {
    "duration": 149,
    "start_time": "2023-07-14T10:49:39.623Z"
   },
   {
    "duration": 24,
    "start_time": "2023-07-14T10:49:58.993Z"
   },
   {
    "duration": 31,
    "start_time": "2023-07-14T10:50:01.869Z"
   },
   {
    "duration": 279,
    "start_time": "2023-07-14T10:50:05.190Z"
   },
   {
    "duration": 438,
    "start_time": "2023-07-14T10:50:08.097Z"
   },
   {
    "duration": 244,
    "start_time": "2023-07-14T10:50:11.427Z"
   },
   {
    "duration": 271,
    "start_time": "2023-07-14T10:50:18.038Z"
   },
   {
    "duration": 32,
    "start_time": "2023-07-14T10:57:46.840Z"
   },
   {
    "duration": 3275,
    "start_time": "2023-07-14T11:01:02.712Z"
   },
   {
    "duration": 54,
    "start_time": "2023-07-14T11:06:08.763Z"
   },
   {
    "duration": 27,
    "start_time": "2023-07-14T11:09:19.354Z"
   },
   {
    "duration": 56,
    "start_time": "2023-07-14T11:09:24.540Z"
   },
   {
    "duration": 72,
    "start_time": "2023-07-14T11:10:11.822Z"
   },
   {
    "duration": 59,
    "start_time": "2023-07-14T11:15:32.359Z"
   },
   {
    "duration": 58,
    "start_time": "2023-07-14T11:15:38.520Z"
   },
   {
    "duration": 126,
    "start_time": "2023-07-14T11:16:05.527Z"
   },
   {
    "duration": 263,
    "start_time": "2023-07-14T11:16:12.780Z"
   },
   {
    "duration": 3352,
    "start_time": "2023-07-14T11:17:27.279Z"
   },
   {
    "duration": 3224,
    "start_time": "2023-07-14T11:17:30.919Z"
   },
   {
    "duration": 123,
    "start_time": "2023-07-14T11:17:57.065Z"
   },
   {
    "duration": 70,
    "start_time": "2023-07-14T11:18:12.411Z"
   },
   {
    "duration": 1415,
    "start_time": "2023-07-14T11:18:20.689Z"
   },
   {
    "duration": 197,
    "start_time": "2023-07-14T11:18:23.499Z"
   },
   {
    "duration": 31,
    "start_time": "2023-07-14T11:18:24.927Z"
   },
   {
    "duration": 24,
    "start_time": "2023-07-14T11:18:28.995Z"
   },
   {
    "duration": 67,
    "start_time": "2023-07-14T11:18:33.169Z"
   },
   {
    "duration": 27,
    "start_time": "2023-07-14T11:18:38.446Z"
   },
   {
    "duration": 256,
    "start_time": "2023-07-14T11:18:43.178Z"
   },
   {
    "duration": 215,
    "start_time": "2023-07-14T11:18:46.335Z"
   },
   {
    "duration": 372,
    "start_time": "2023-07-14T11:18:49.568Z"
   },
   {
    "duration": 275,
    "start_time": "2023-07-14T11:18:53.331Z"
   },
   {
    "duration": 375,
    "start_time": "2023-07-14T11:18:57.224Z"
   },
   {
    "duration": 40,
    "start_time": "2023-07-14T11:19:02.476Z"
   },
   {
    "duration": 31,
    "start_time": "2023-07-14T11:19:35.675Z"
   },
   {
    "duration": 29,
    "start_time": "2023-07-14T11:19:37.919Z"
   },
   {
    "duration": 318,
    "start_time": "2023-07-14T11:19:40.929Z"
   },
   {
    "duration": 485,
    "start_time": "2023-07-14T11:19:43.199Z"
   },
   {
    "duration": 363,
    "start_time": "2023-07-14T11:19:46.267Z"
   },
   {
    "duration": 322,
    "start_time": "2023-07-14T11:19:49.191Z"
   },
   {
    "duration": 34,
    "start_time": "2023-07-14T11:19:52.987Z"
   },
   {
    "duration": 49,
    "start_time": "2023-07-14T11:20:33.179Z"
   },
   {
    "duration": 1154,
    "start_time": "2023-07-14T11:20:50.970Z"
   },
   {
    "duration": 192,
    "start_time": "2023-07-14T11:20:52.126Z"
   },
   {
    "duration": 30,
    "start_time": "2023-07-14T11:20:52.320Z"
   },
   {
    "duration": 37,
    "start_time": "2023-07-14T11:20:52.352Z"
   },
   {
    "duration": 20,
    "start_time": "2023-07-14T11:20:52.391Z"
   },
   {
    "duration": 85,
    "start_time": "2023-07-14T11:20:52.413Z"
   },
   {
    "duration": 27,
    "start_time": "2023-07-14T11:20:52.500Z"
   },
   {
    "duration": 280,
    "start_time": "2023-07-14T11:20:52.552Z"
   },
   {
    "duration": 154,
    "start_time": "2023-07-14T11:20:52.834Z"
   },
   {
    "duration": 301,
    "start_time": "2023-07-14T11:20:52.992Z"
   },
   {
    "duration": 261,
    "start_time": "2023-07-14T11:20:53.295Z"
   },
   {
    "duration": 303,
    "start_time": "2023-07-14T11:20:53.558Z"
   },
   {
    "duration": 54,
    "start_time": "2023-07-14T11:20:53.863Z"
   },
   {
    "duration": 48,
    "start_time": "2023-07-14T11:20:53.919Z"
   },
   {
    "duration": 28,
    "start_time": "2023-07-14T11:20:53.968Z"
   },
   {
    "duration": 311,
    "start_time": "2023-07-14T11:20:53.999Z"
   },
   {
    "duration": 376,
    "start_time": "2023-07-14T11:20:54.312Z"
   },
   {
    "duration": 251,
    "start_time": "2023-07-14T11:20:54.691Z"
   },
   {
    "duration": 354,
    "start_time": "2023-07-14T11:20:54.944Z"
   },
   {
    "duration": 41,
    "start_time": "2023-07-14T11:20:55.300Z"
   },
   {
    "duration": 50,
    "start_time": "2023-07-14T11:25:29.576Z"
   },
   {
    "duration": 10,
    "start_time": "2023-07-14T11:25:38.380Z"
   },
   {
    "duration": 8,
    "start_time": "2023-07-14T11:25:39.829Z"
   },
   {
    "duration": 1268,
    "start_time": "2023-07-14T11:25:48.588Z"
   },
   {
    "duration": 91,
    "start_time": "2023-07-14T11:25:59.728Z"
   },
   {
    "duration": 13,
    "start_time": "2023-07-14T11:26:15.198Z"
   },
   {
    "duration": 192,
    "start_time": "2023-07-14T11:26:26.464Z"
   },
   {
    "duration": 30,
    "start_time": "2023-07-14T11:26:34.253Z"
   },
   {
    "duration": 68,
    "start_time": "2023-07-14T11:26:38.661Z"
   },
   {
    "duration": 58,
    "start_time": "2023-07-14T11:26:53.253Z"
   },
   {
    "duration": 23,
    "start_time": "2023-07-14T11:26:56.387Z"
   },
   {
    "duration": 21,
    "start_time": "2023-07-14T11:26:59.804Z"
   },
   {
    "duration": 26,
    "start_time": "2023-07-14T11:27:07.696Z"
   },
   {
    "duration": 77,
    "start_time": "2023-07-14T11:32:09.302Z"
   },
   {
    "duration": 1244,
    "start_time": "2023-07-14T11:32:32.658Z"
   },
   {
    "duration": 189,
    "start_time": "2023-07-14T11:32:35.669Z"
   },
   {
    "duration": 34,
    "start_time": "2023-07-14T11:32:40.833Z"
   },
   {
    "duration": 53,
    "start_time": "2023-07-14T11:32:45.383Z"
   },
   {
    "duration": 52,
    "start_time": "2023-07-14T11:32:56.878Z"
   },
   {
    "duration": 24,
    "start_time": "2023-07-14T11:33:01.234Z"
   },
   {
    "duration": 36,
    "start_time": "2023-07-14T11:33:02.246Z"
   },
   {
    "duration": 21,
    "start_time": "2023-07-14T11:33:09.765Z"
   },
   {
    "duration": 22,
    "start_time": "2023-07-14T11:33:12.479Z"
   },
   {
    "duration": 37,
    "start_time": "2023-07-14T11:33:21.754Z"
   },
   {
    "duration": 55,
    "start_time": "2023-07-14T11:33:23.767Z"
   },
   {
    "duration": 86,
    "start_time": "2023-07-14T11:34:06.836Z"
   },
   {
    "duration": 54,
    "start_time": "2023-07-14T11:35:02.126Z"
   },
   {
    "duration": 1354,
    "start_time": "2023-07-15T06:26:12.449Z"
   },
   {
    "duration": 295,
    "start_time": "2023-07-15T06:26:16.844Z"
   },
   {
    "duration": 25,
    "start_time": "2023-07-15T06:26:18.343Z"
   },
   {
    "duration": 20,
    "start_time": "2023-07-15T06:26:23.325Z"
   },
   {
    "duration": 52,
    "start_time": "2023-07-15T06:26:31.991Z"
   },
   {
    "duration": 18,
    "start_time": "2023-07-15T06:26:36.952Z"
   },
   {
    "duration": 275,
    "start_time": "2023-07-15T06:26:53.880Z"
   },
   {
    "duration": 142,
    "start_time": "2023-07-15T06:26:58.591Z"
   },
   {
    "duration": 268,
    "start_time": "2023-07-15T06:27:02.352Z"
   },
   {
    "duration": 230,
    "start_time": "2023-07-15T06:27:06.496Z"
   },
   {
    "duration": 234,
    "start_time": "2023-07-15T06:27:10.680Z"
   },
   {
    "duration": 41,
    "start_time": "2023-07-15T06:27:15.980Z"
   },
   {
    "duration": 23,
    "start_time": "2023-07-15T06:27:27.316Z"
   },
   {
    "duration": 21,
    "start_time": "2023-07-15T06:27:31.026Z"
   },
   {
    "duration": 287,
    "start_time": "2023-07-15T06:27:34.115Z"
   },
   {
    "duration": 333,
    "start_time": "2023-07-15T06:27:37.672Z"
   },
   {
    "duration": 252,
    "start_time": "2023-07-15T06:27:41.009Z"
   },
   {
    "duration": 249,
    "start_time": "2023-07-15T06:27:44.814Z"
   },
   {
    "duration": 43,
    "start_time": "2023-07-15T06:30:12.308Z"
   },
   {
    "duration": 80,
    "start_time": "2023-07-15T06:30:30.126Z"
   },
   {
    "duration": 36,
    "start_time": "2023-07-15T06:31:48.540Z"
   },
   {
    "duration": 103,
    "start_time": "2023-07-15T06:32:11.533Z"
   },
   {
    "duration": 11,
    "start_time": "2023-07-15T06:32:44.570Z"
   },
   {
    "duration": 23,
    "start_time": "2023-07-15T06:50:15.727Z"
   },
   {
    "duration": 69,
    "start_time": "2023-07-15T06:53:49.821Z"
   },
   {
    "duration": 4363,
    "start_time": "2023-07-15T06:54:53.123Z"
   },
   {
    "duration": 70,
    "start_time": "2023-07-15T06:55:49.885Z"
   },
   {
    "duration": 36,
    "start_time": "2023-07-15T07:00:39.310Z"
   },
   {
    "duration": 24,
    "start_time": "2023-07-15T07:15:47.695Z"
   },
   {
    "duration": 26,
    "start_time": "2023-07-15T07:16:19.640Z"
   },
   {
    "duration": 25,
    "start_time": "2023-07-15T07:18:06.882Z"
   },
   {
    "duration": 21,
    "start_time": "2023-07-15T07:19:37.570Z"
   },
   {
    "duration": 27,
    "start_time": "2023-07-15T07:27:26.441Z"
   },
   {
    "duration": 26,
    "start_time": "2023-07-15T07:28:07.268Z"
   },
   {
    "duration": 27,
    "start_time": "2023-07-15T07:30:03.539Z"
   },
   {
    "duration": 38,
    "start_time": "2023-07-15T07:30:10.495Z"
   },
   {
    "duration": 32,
    "start_time": "2023-07-15T07:33:07.984Z"
   },
   {
    "duration": 44,
    "start_time": "2023-07-15T07:33:42.069Z"
   },
   {
    "duration": 723,
    "start_time": "2023-07-15T07:49:45.657Z"
   },
   {
    "duration": 230,
    "start_time": "2023-07-15T07:50:24.545Z"
   },
   {
    "duration": 314,
    "start_time": "2023-07-15T07:50:53.994Z"
   },
   {
    "duration": 915,
    "start_time": "2023-07-15T07:51:39.928Z"
   },
   {
    "duration": 209,
    "start_time": "2023-07-15T07:51:49.666Z"
   },
   {
    "duration": 69,
    "start_time": "2023-07-15T07:55:13.472Z"
   },
   {
    "duration": 9,
    "start_time": "2023-07-15T07:55:17.685Z"
   },
   {
    "duration": 12,
    "start_time": "2023-07-15T07:55:23.117Z"
   },
   {
    "duration": 11,
    "start_time": "2023-07-15T07:55:38.484Z"
   },
   {
    "duration": 10,
    "start_time": "2023-07-15T08:02:40.867Z"
   },
   {
    "duration": 10,
    "start_time": "2023-07-15T08:03:24.594Z"
   },
   {
    "duration": 10,
    "start_time": "2023-07-15T08:05:38.679Z"
   },
   {
    "duration": 11,
    "start_time": "2023-07-15T08:06:29.454Z"
   },
   {
    "duration": 14,
    "start_time": "2023-07-15T08:06:40.076Z"
   },
   {
    "duration": 12,
    "start_time": "2023-07-15T08:10:36.365Z"
   },
   {
    "duration": 24,
    "start_time": "2023-07-15T08:35:23.342Z"
   },
   {
    "duration": 24,
    "start_time": "2023-07-15T08:35:49.619Z"
   },
   {
    "duration": 12,
    "start_time": "2023-07-15T08:46:07.631Z"
   },
   {
    "duration": 12,
    "start_time": "2023-07-15T08:50:47.162Z"
   },
   {
    "duration": 109,
    "start_time": "2023-07-15T08:50:59.127Z"
   },
   {
    "duration": 19,
    "start_time": "2023-07-15T08:51:47.620Z"
   },
   {
    "duration": 12,
    "start_time": "2023-07-15T08:52:14.445Z"
   },
   {
    "duration": 1171,
    "start_time": "2023-07-15T11:38:54.997Z"
   },
   {
    "duration": 75,
    "start_time": "2023-07-15T11:38:56.170Z"
   },
   {
    "duration": 27,
    "start_time": "2023-07-15T11:38:56.247Z"
   },
   {
    "duration": 33,
    "start_time": "2023-07-15T11:38:56.276Z"
   },
   {
    "duration": 19,
    "start_time": "2023-07-15T11:38:56.311Z"
   },
   {
    "duration": 80,
    "start_time": "2023-07-15T11:38:56.331Z"
   },
   {
    "duration": 13,
    "start_time": "2023-07-15T11:38:56.413Z"
   },
   {
    "duration": 261,
    "start_time": "2023-07-15T11:38:56.428Z"
   },
   {
    "duration": 142,
    "start_time": "2023-07-15T11:38:56.691Z"
   },
   {
    "duration": 255,
    "start_time": "2023-07-15T11:38:56.836Z"
   },
   {
    "duration": 268,
    "start_time": "2023-07-15T11:38:57.093Z"
   },
   {
    "duration": 265,
    "start_time": "2023-07-15T11:38:57.362Z"
   },
   {
    "duration": 53,
    "start_time": "2023-07-15T11:38:57.629Z"
   },
   {
    "duration": 24,
    "start_time": "2023-07-15T11:38:57.684Z"
   },
   {
    "duration": 20,
    "start_time": "2023-07-15T11:38:57.709Z"
   },
   {
    "duration": 291,
    "start_time": "2023-07-15T11:38:57.731Z"
   },
   {
    "duration": 334,
    "start_time": "2023-07-15T11:38:58.024Z"
   },
   {
    "duration": 258,
    "start_time": "2023-07-15T11:38:58.367Z"
   },
   {
    "duration": 286,
    "start_time": "2023-07-15T11:38:58.628Z"
   },
   {
    "duration": 869,
    "start_time": "2023-07-15T11:38:58.917Z"
   },
   {
    "duration": 50,
    "start_time": "2023-07-15T11:38:59.788Z"
   },
   {
    "duration": 8,
    "start_time": "2023-07-15T11:38:59.840Z"
   },
   {
    "duration": 9,
    "start_time": "2023-07-15T11:38:59.867Z"
   },
   {
    "duration": 22,
    "start_time": "2023-07-15T11:38:59.878Z"
   },
   {
    "duration": 5,
    "start_time": "2023-07-15T11:40:54.060Z"
   },
   {
    "duration": 8,
    "start_time": "2023-07-15T11:45:22.657Z"
   },
   {
    "duration": 52,
    "start_time": "2023-07-15T12:03:58.341Z"
   },
   {
    "duration": 1375,
    "start_time": "2023-07-15T12:04:15.920Z"
   },
   {
    "duration": 199,
    "start_time": "2023-07-15T12:04:22.668Z"
   },
   {
    "duration": 27,
    "start_time": "2023-07-15T12:04:32.506Z"
   },
   {
    "duration": 21,
    "start_time": "2023-07-15T12:04:37.697Z"
   },
   {
    "duration": 52,
    "start_time": "2023-07-15T12:04:40.749Z"
   },
   {
    "duration": 15,
    "start_time": "2023-07-15T12:04:43.352Z"
   },
   {
    "duration": 234,
    "start_time": "2023-07-15T12:04:46.083Z"
   },
   {
    "duration": 144,
    "start_time": "2023-07-15T12:04:51.516Z"
   },
   {
    "duration": 248,
    "start_time": "2023-07-15T12:04:57.060Z"
   },
   {
    "duration": 265,
    "start_time": "2023-07-15T12:05:00.901Z"
   },
   {
    "duration": 247,
    "start_time": "2023-07-15T12:05:04.755Z"
   },
   {
    "duration": 39,
    "start_time": "2023-07-15T12:05:08.354Z"
   },
   {
    "duration": 35,
    "start_time": "2023-07-15T12:06:12.906Z"
   },
   {
    "duration": 25,
    "start_time": "2023-07-15T12:06:18.140Z"
   },
   {
    "duration": 23,
    "start_time": "2023-07-15T12:06:20.314Z"
   },
   {
    "duration": 342,
    "start_time": "2023-07-15T12:06:23.279Z"
   },
   {
    "duration": 247,
    "start_time": "2023-07-15T12:06:26.776Z"
   },
   {
    "duration": 235,
    "start_time": "2023-07-15T12:06:29.797Z"
   },
   {
    "duration": 270,
    "start_time": "2023-07-15T12:06:32.532Z"
   },
   {
    "duration": 904,
    "start_time": "2023-07-15T12:06:36.332Z"
   },
   {
    "duration": 52,
    "start_time": "2023-07-15T12:06:59.611Z"
   },
   {
    "duration": 875,
    "start_time": "2023-07-15T12:07:48.902Z"
   },
   {
    "duration": 960,
    "start_time": "2023-07-15T12:08:02.209Z"
   },
   {
    "duration": 51,
    "start_time": "2023-07-15T12:08:03.773Z"
   },
   {
    "duration": 8,
    "start_time": "2023-07-15T12:08:14.190Z"
   },
   {
    "duration": 8,
    "start_time": "2023-07-15T12:08:18.302Z"
   },
   {
    "duration": 12,
    "start_time": "2023-07-15T12:08:22.107Z"
   },
   {
    "duration": 12,
    "start_time": "2023-07-15T12:10:02.574Z"
   },
   {
    "duration": 8,
    "start_time": "2023-07-15T12:10:26.334Z"
   },
   {
    "duration": 8,
    "start_time": "2023-07-15T12:10:31.314Z"
   },
   {
    "duration": 12,
    "start_time": "2023-07-15T12:10:37.875Z"
   },
   {
    "duration": 9,
    "start_time": "2023-07-15T12:11:05.334Z"
   },
   {
    "duration": 6,
    "start_time": "2023-07-15T12:11:13.487Z"
   },
   {
    "duration": 6,
    "start_time": "2023-07-15T12:11:22.370Z"
   },
   {
    "duration": 12,
    "start_time": "2023-07-15T12:11:41.244Z"
   },
   {
    "duration": 10,
    "start_time": "2023-07-15T12:12:14.618Z"
   },
   {
    "duration": 9,
    "start_time": "2023-07-15T12:12:20.039Z"
   },
   {
    "duration": 50,
    "start_time": "2023-07-15T12:15:49.122Z"
   },
   {
    "duration": 12,
    "start_time": "2023-07-15T12:19:33.036Z"
   },
   {
    "duration": 13,
    "start_time": "2023-07-15T12:19:40.419Z"
   },
   {
    "duration": 9,
    "start_time": "2023-07-15T12:19:46.436Z"
   },
   {
    "duration": 242,
    "start_time": "2023-07-15T12:25:11.986Z"
   },
   {
    "duration": 277,
    "start_time": "2023-07-15T12:25:21.337Z"
   },
   {
    "duration": 229,
    "start_time": "2023-07-15T12:25:28.456Z"
   },
   {
    "duration": 335,
    "start_time": "2023-07-15T12:25:50.165Z"
   },
   {
    "duration": 223,
    "start_time": "2023-07-15T12:29:46.677Z"
   },
   {
    "duration": 68,
    "start_time": "2023-07-15T12:30:11.159Z"
   },
   {
    "duration": 198,
    "start_time": "2023-07-15T12:30:55.148Z"
   },
   {
    "duration": 73,
    "start_time": "2023-07-15T12:33:14.444Z"
   },
   {
    "duration": 228,
    "start_time": "2023-07-15T12:33:20.680Z"
   },
   {
    "duration": 1030,
    "start_time": "2023-07-16T00:02:36.742Z"
   },
   {
    "duration": 66,
    "start_time": "2023-07-16T00:02:37.774Z"
   },
   {
    "duration": 24,
    "start_time": "2023-07-16T00:02:37.841Z"
   },
   {
    "duration": 28,
    "start_time": "2023-07-16T00:02:37.867Z"
   },
   {
    "duration": 33,
    "start_time": "2023-07-16T00:02:37.896Z"
   },
   {
    "duration": 41,
    "start_time": "2023-07-16T00:02:37.930Z"
   },
   {
    "duration": 11,
    "start_time": "2023-07-16T00:02:37.972Z"
   },
   {
    "duration": 238,
    "start_time": "2023-07-16T00:02:37.985Z"
   },
   {
    "duration": 134,
    "start_time": "2023-07-16T00:02:38.224Z"
   },
   {
    "duration": 229,
    "start_time": "2023-07-16T00:02:38.360Z"
   },
   {
    "duration": 261,
    "start_time": "2023-07-16T00:02:38.591Z"
   },
   {
    "duration": 223,
    "start_time": "2023-07-16T00:02:38.853Z"
   },
   {
    "duration": 31,
    "start_time": "2023-07-16T00:02:39.077Z"
   },
   {
    "duration": 3,
    "start_time": "2023-07-16T00:02:39.121Z"
   },
   {
    "duration": 23,
    "start_time": "2023-07-16T00:02:39.126Z"
   },
   {
    "duration": 19,
    "start_time": "2023-07-16T00:02:39.151Z"
   },
   {
    "duration": 309,
    "start_time": "2023-07-16T00:02:39.171Z"
   },
   {
    "duration": 216,
    "start_time": "2023-07-16T00:02:39.481Z"
   },
   {
    "duration": 212,
    "start_time": "2023-07-16T00:02:39.698Z"
   },
   {
    "duration": 232,
    "start_time": "2023-07-16T00:02:39.911Z"
   },
   {
    "duration": 776,
    "start_time": "2023-07-16T00:02:40.145Z"
   },
   {
    "duration": 44,
    "start_time": "2023-07-16T00:02:40.923Z"
   },
   {
    "duration": 6,
    "start_time": "2023-07-16T00:02:40.969Z"
   },
   {
    "duration": 7,
    "start_time": "2023-07-16T00:02:40.977Z"
   },
   {
    "duration": 35,
    "start_time": "2023-07-16T00:02:40.986Z"
   },
   {
    "duration": 8,
    "start_time": "2023-07-16T00:02:43.919Z"
   },
   {
    "duration": 20,
    "start_time": "2023-07-16T00:03:04.932Z"
   },
   {
    "duration": 19,
    "start_time": "2023-07-16T00:03:12.253Z"
   },
   {
    "duration": 12,
    "start_time": "2023-07-16T00:03:43.162Z"
   },
   {
    "duration": 11,
    "start_time": "2023-07-16T00:03:59.702Z"
   },
   {
    "duration": 8,
    "start_time": "2023-07-16T00:04:08.761Z"
   }
  ],
  "kernelspec": {
   "display_name": "Python 3 (ipykernel)",
   "language": "python",
   "name": "python3"
  },
  "language_info": {
   "codemirror_mode": {
    "name": "ipython",
    "version": 3
   },
   "file_extension": ".py",
   "mimetype": "text/x-python",
   "name": "python",
   "nbconvert_exporter": "python",
   "pygments_lexer": "ipython3",
   "version": "3.10.9"
  },
  "toc": {
   "base_numbering": 1,
   "nav_menu": {},
   "number_sections": true,
   "sideBar": true,
   "skip_h1_title": true,
   "title_cell": "Table of Contents",
   "title_sidebar": "Contents",
   "toc_cell": false,
   "toc_position": {},
   "toc_section_display": true,
   "toc_window_display": true
  }
 },
 "nbformat": 4,
 "nbformat_minor": 5
}
